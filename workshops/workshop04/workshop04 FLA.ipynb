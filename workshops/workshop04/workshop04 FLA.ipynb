{
 "cells": [
  {
   "attachments": {},
   "cell_type": "markdown",
   "metadata": {},
   "source": [
    "# Exercise 1: Static portfolio choice problem\n",
    "\n",
    "Consider a portfolio choice problem where an investor chooses the fraction $\\alpha$ to invest in a risky asset in order to maximize expected utility,\n",
    "\n",
    "$$\n",
    "\\max_{\\alpha \\in [0, 1]} \\mathbb{E}_t\\left[u(W_{t+1})\\right]\n",
    "$$\n",
    "\n",
    "Assume that the investor consumes all of next-period's wealth $W_{t+1}$ which is given by\n",
    "\n",
    "$$\n",
    "W_{t+1} = \\underbrace{R_{t+1} \\alpha W_t}_{\\text{Return on risky asset}}\n",
    "+ \\underbrace{R_f (1-\\alpha) W_t}_{\\text{Return on risk-free asset}}\n",
    "$$\n",
    "\n",
    "where $W_t$ is the initial investable wealth in period $t$, $R_{t+1}$ is the gross return on the risky investment and $R_f$ is the risk-free return on the fraction of the portfolio which is invested a risk-free asset (e.g., a bank deposit).\n",
    "The utility function $u(\\bullet)$ has a constant relative risk aversion (CRRA) form and is given by\n",
    "\n",
    "$$\n",
    "u(W) = \\begin{cases}\n",
    "\\frac{W^{1-\\gamma}}{1-\\gamma} & \\text{if } \\gamma \\neq 1 \\\\\n",
    "\\log(W) & \\text{if } \\gamma = 1\n",
    "\\end{cases}\n",
    "$$\n",
    "\n",
    "where $\\gamma$ is a parameter governing the investor's risk aversion.\n",
    "\n",
    "For simplicity, let the gross risk-free return be $R_f = 1$.\n",
    "Finally, assume that the risky return can take on two realizations, high and low, with equal probability,\n",
    "\n",
    "$$\n",
    "R_{t+1} = \\begin{cases}\n",
    "1 + \\mu + \\epsilon & \\text{with probability } \\frac{1}{2} \\\\\n",
    "1 + \\mu - \\epsilon & \\text{with probability } \\frac{1}{2} \\\\\n",
    "\\end{cases}\n",
    "$$\n",
    "\n",
    "where $\\mu > 0$ is the risk premium and $\\epsilon > 0$ parametrizes the volatility of risky returns.\n"
   ]
  },
  {
   "cell_type": "markdown",
   "metadata": {},
   "source": [
    "In this exercise, you are asked to compute the optimal risky share and investigate how it depends on initial wealth.\n",
    "Unless stated otherwise, assume that the problem is parametrized with $W=1$, $\\gamma = 2$, $\\mu = 0.04$, and $\\epsilon=0.2$.\n",
    "\n",
    "1. Compute the expected risky return, the risk premium $\\mathbb{E}[R_{t+1}] - R_f$, and the Sharpe ratio for the risky asset.\n",
    "\n",
    "   _Hint:_ The Sharpe ratio is defined as $(\\mathbb{E}[R_{t+1}] - R_f)/\\sigma_R$ where $\\sigma_R$ is the standard deviation of risky returns.\n",
    "\n",
    "2. Write a Python function that takes as arguments the risky share $\\alpha$, the initial wealth $W_t$, and the parameters $\\mu$, $\\epsilon$ and $\\gamma$,\n",
    "   and returns the expected utility associated with the given values.\n",
    "   Your function signature should look like this:\n",
    "\n",
    "   ```python\n",
    "   def expected_util(alpha, W, mu, epsilon, gamma):\n",
    "       \"\"\"\n",
    "       Return the expected utility of investing a share alpha into\n",
    "       the risky asset for given parameters.\n",
    "\n",
    "       Parameters\n",
    "       ----------\n",
    "       alpha: float or array\n",
    "           Risky share\n",
    "       W : float\n",
    "           Initial wealth\n",
    "       mu : float\n",
    "           Equity premium\n",
    "       epsilon : float\n",
    "           Variance of risky returns\n",
    "       gamma : float\n",
    "           Relative risk aversion\n",
    "\n",
    "       Returns\n",
    "       -------\n",
    "       float or array\n",
    "           Expected utility associated with choice alpha.\n",
    "       \"\"\"\n",
    "   ```\n",
    "\n",
    "   Make sure that your function works correctly for both $\\gamma = 1$ and $\\gamma \\neq 1$. Moreover, the function should allow for the arguments $\\alpha$ and $W$ to be passed as both scalar values as well as NumPy arrays!\n",
    "\n",
    "3. Using the function you wrote, evaluate the expected utility on a grid of risky shares $\\alpha$ with 1001 points\n",
    "   which are uniformly spaced on the interval $[0, 1]$.\n",
    "\n",
    "   Plot this expected utility against the risky share. Label both axes and add a legend to your plot.\n",
    "\n",
    "4. In the previous question, you plotted the expected against _all_ possible risky share choices.\n",
    "   Using grid search, find the optimal risky share and the associated expected utility.\n",
    "\n",
    "   Augment the plot you created earlier and add a vertical dashed line to indicate the optimal risky share.\n",
    "\n",
    "   _Hint:_ You can use [`np.argmax()`](https://numpy.org/doc/stable/reference/generated/numpy.argmax.html) for to locate the utility-maximizing risky share.\n",
    "\n",
    "   _Hint:_ Use [`axvline()`](https://matplotlib.org/stable/api/_as_gen/matplotlib.pyplot.axvline.html) to add a vertical line.\n",
    "\n",
    "5. Now consider a set of 100 initial wealth levels $W_t$ which are uniformly spaced over the interval $[1, 10]$.\n",
    "\n",
    "   - Write a loop that computes the optimal risky share for each of these wealth levels. Use the same values for the remaining parameters as above.\n",
    "   - Plot the optimal risky share against the grid of initial wealth levels. Set the $y$-axis\n",
    "     limits to $(0, 1)$ to better visualize the result and explain your findings.\n"
   ]
  },
  {
   "cell_type": "markdown",
   "metadata": {},
   "source": [
    "### Part 1\n"
   ]
  },
  {
   "cell_type": "code",
   "execution_count": 4,
   "metadata": {},
   "outputs": [],
   "source": [
    "# Model parameters\n",
    "W = 1.0  # Initial wealth\n",
    "gamma = 2.0  # Relative risk aversion\n",
    "mu = 0.04  # Risk premium\n",
    "epsilon = 0.2  # Standard deviation of risky return\n",
    "Rf = 1.0  # Gross risk-free return"
   ]
  },
  {
   "cell_type": "code",
   "execution_count": 5,
   "metadata": {},
   "outputs": [
    {
     "name": "stdout",
     "output_type": "stream",
     "text": [
      "Expected return:            1.0400\n",
      "Risk premium:               0.0400\n",
      "Variance of risky returns:  0.0400\n",
      "Std. dev. of risky returns: 0.2000\n",
      "Sharpe ratio:               0.2000\n"
     ]
    }
   ],
   "source": [
    "import numpy as np\n",
    "\n",
    "# Probabilities of risky return\n",
    "probs = np.array([0.5, 0.5])\n",
    "\n",
    "# Risky return realizations\n",
    "returns = np.array([1 + mu + epsilon, 1 + mu - epsilon])\n",
    "\n",
    "# Expected risky return\n",
    "ER = (\n",
    "    probs @ returns\n",
    ")  # the @ operator is the dot product of two arrays # (1+mu+epsilon)*0.5 + (1+mu-epsilon)*0.5\n",
    "# Alternatively, we can compute expected returns as\n",
    "# ER = np.sum(probs * returns)\n",
    "\n",
    "# Variance of expected returns: Var(R) = E[R^2] - E[R]^2\n",
    "ER2 = probs @ returns**2\n",
    "# Variance from formula above\n",
    "VarR = ER2 - ER**2\n",
    "\n",
    "# Standard deviation of risky return\n",
    "sigma = np.sqrt(VarR)\n",
    "\n",
    "# Sharpe ratio\n",
    "sharpe = (ER - Rf) / sigma\n",
    "\n",
    "print(f\"Expected return:            {ER:.4f}\")\n",
    "print(f\"Risk premium:               {ER - Rf:.4f}\")\n",
    "print(f\"Variance of risky returns:  {VarR:.4f}\")\n",
    "print(f\"Std. dev. of risky returns: {sigma:.4f}\")\n",
    "print(f\"Sharpe ratio:               {sharpe:.4f}\")"
   ]
  },
  {
   "cell_type": "markdown",
   "metadata": {},
   "source": [
    "### Part 2\n"
   ]
  },
  {
   "cell_type": "code",
   "execution_count": 6,
   "metadata": {},
   "outputs": [],
   "source": [
    "def util(cons, gamma):\n",
    "    \"\"\"\n",
    "    Calculate CRRA utility for given on consumption and risk aversion parameter.\n",
    "\n",
    "    Parameters\n",
    "    ----------\n",
    "    cons : float or array-like\n",
    "        Consumption value(s).\n",
    "    gamma : float\n",
    "        Risk aversion parameter.\n",
    "\n",
    "    Returns\n",
    "    -------\n",
    "    u : float or array-like\n",
    "        Calculated utility value(s).\n",
    "    \"\"\"\n",
    "\n",
    "    if gamma == 1:\n",
    "        u = np.log(cons)\n",
    "    else:\n",
    "        u = cons ** (1 - gamma) / (1 - gamma)\n",
    "\n",
    "    return u"
   ]
  },
  {
   "cell_type": "code",
   "execution_count": 9,
   "metadata": {},
   "outputs": [],
   "source": [
    "import numpy as np\n",
    "\n",
    "\n",
    "def expected_util(alpha, W, mu, epsilon, gamma):\n",
    "    \"\"\"\n",
    "    Return the expected utility of investing a share alpha into\n",
    "    the risky asset for given parameters.\n",
    "\n",
    "    Parameters\n",
    "    ----------\n",
    "    alpha: float or array\n",
    "        Risky share\n",
    "    W : float\n",
    "        Initial wealth\n",
    "    mu : float\n",
    "        Equity premium\n",
    "    epsilon : float\n",
    "        Variance of risky returns\n",
    "    gamma : float\n",
    "        Relative risk aversion\n",
    "\n",
    "    Returns\n",
    "    -------\n",
    "    float or array\n",
    "        Expected utility associated with choice alpha.\n",
    "    \"\"\"\n",
    "\n",
    "    # Risk-free return\n",
    "    Rf = 1.0\n",
    "\n",
    "    # Low risky return next period\n",
    "    W_lo = (\n",
    "        (1.0 + mu - epsilon) * alpha + Rf * (1.0 - alpha)\n",
    "    ) * W  # W is facotorized out\n",
    "\n",
    "    # High risky return next period\n",
    "    W_hi = (\n",
    "        (1.0 + mu + epsilon) * alpha + Rf * (1.0 - alpha)\n",
    "    ) * W  # W is facotorized out\n",
    "\n",
    "    # Calculate utility levels for low and high realizations\n",
    "    u_lo = util(W_lo, gamma)\n",
    "    u_hi = util(W_hi, gamma)\n",
    "\n",
    "    # Expected utility: weighted mean of low and high realizations\n",
    "    eu = 0.5 * u_lo + 0.5 * u_hi\n",
    "\n",
    "    return eu"
   ]
  },
  {
   "cell_type": "markdown",
   "metadata": {},
   "source": [
    "### Part 3\n"
   ]
  },
  {
   "cell_type": "code",
   "execution_count": 10,
   "metadata": {},
   "outputs": [
    {
     "data": {
      "text/plain": [
       "<matplotlib.legend.Legend at 0x2df6a16f6b0>"
      ]
     },
     "execution_count": 10,
     "metadata": {},
     "output_type": "execute_result"
    },
    {
     "data": {
      "image/png": "[encoded data removed]",
      "text/plain": [
       "<Figure size 640x480 with 1 Axes>"
      ]
     },
     "metadata": {},
     "output_type": "display_data"
    }
   ],
   "source": [
    "# Number of candidate grid points\n",
    "N = 1001\n",
    "\n",
    "# Grid of risky shares (alpha) for which to compute & plot expected utility\n",
    "alpha = np.linspace(0.0, 1.0, N)\n",
    "\n",
    "# Compute expected utility for all alphas on grid\n",
    "Eu = expected_util(alpha, W, mu, epsilon, gamma)\n",
    "\n",
    "# Plot expected utility against grid of risky shares\n",
    "\n",
    "import matplotlib.pyplot as plt\n",
    "\n",
    "plt.plot(alpha, Eu, c=\"steelblue\", lw=2.0, label=\"Expected utility\")\n",
    "plt.xlabel(r\"Risky share $\\alpha$\")\n",
    "plt.ylabel(\"Expected utility\")\n",
    "plt.legend()"
   ]
  },
  {
   "cell_type": "markdown",
   "metadata": {},
   "source": [
    "### Part 4\n"
   ]
  },
  {
   "cell_type": "code",
   "execution_count": 12,
   "metadata": {},
   "outputs": [
    {
     "name": "stdout",
     "output_type": "stream",
     "text": [
      "The optimal risky share is 0.516 with expected utility -0.989897957116286\n"
     ]
    }
   ],
   "source": [
    "# Find the index of the utility-maximizing risky share\n",
    "imax = np.argmax(Eu)\n",
    "\n",
    "# Retrieve the optimal risky share and the expected utility\n",
    "share_opt = alpha[imax]\n",
    "u_max = Eu[imax]\n",
    "\n",
    "print(f\"The optimal risky share is {share_opt} with expected utility {u_max}\")"
   ]
  },
  {
   "cell_type": "code",
   "execution_count": 14,
   "metadata": {},
   "outputs": [
    {
     "data": {
      "text/plain": [
       "<matplotlib.lines.Line2D at 0x2df6ac2da90>"
      ]
     },
     "execution_count": 14,
     "metadata": {},
     "output_type": "execute_result"
    },
    {
     "data": {
      "image/png": "[encoded data removed]",
      "text/plain": [
       "<Figure size 640x480 with 1 Axes>"
      ]
     },
     "metadata": {},
     "output_type": "display_data"
    }
   ],
   "source": [
    "# Modify earlier plot to include a vertical line indicating the optimum\n",
    "\n",
    "plt.plot(alpha, Eu, c=\"steelblue\", lw=2.0, label=\"Expected utility\")\n",
    "plt.xlabel(r\"Risky share $\\alpha$\")\n",
    "plt.ylabel(\"Expected utility\")\n",
    "plt.legend()\n",
    "\n",
    "# Create ticks only at the min, max and optimal risky share\n",
    "plt.xticks([0.0, share_opt, 1.0], [\"0\", rf\"$\\alpha^*$={share_opt:.3f}\", \"1\"])\n",
    "\n",
    "# Add vertical line\n",
    "plt.axvline(share_opt, color=\"black\", ls=\"--\", lw=0.5)"
   ]
  },
  {
   "cell_type": "markdown",
   "metadata": {},
   "source": [
    "### Part 5\n"
   ]
  },
  {
   "cell_type": "code",
   "execution_count": 15,
   "metadata": {},
   "outputs": [],
   "source": [
    "# Wealth levels for which to compute risky share\n",
    "W = np.linspace(1.0, 10.0, 100)\n",
    "\n",
    "# Array to store optimal risky shares for each wealth level\n",
    "share_opt = np.empty_like(W)\n",
    "\n",
    "for i, Wi in enumerate(W):\n",
    "\n",
    "    # Evaluate expected utility for all candidate risky shares\n",
    "    Eu = expected_util(alpha, Wi, mu, epsilon, gamma)\n",
    "\n",
    "    # Locate optimal choice for i-th wealth level\n",
    "    imax = np.argmax(Eu)\n",
    "\n",
    "    # Optimal share for i-th wealth level\n",
    "    share_opt_i = alpha[imax]\n",
    "\n",
    "    # Store optimal risky share for i-th wealth level\n",
    "    share_opt[i] = share_opt_i"
   ]
  },
  {
   "cell_type": "code",
   "execution_count": 16,
   "metadata": {},
   "outputs": [
    {
     "data": {
      "text/plain": [
       "<matplotlib.legend.Legend at 0x2df6ac856d0>"
      ]
     },
     "execution_count": 16,
     "metadata": {},
     "output_type": "execute_result"
    },
    {
     "data": {
      "image/png": "[encoded data removed]",
      "text/plain": [
       "<Figure size 640x480 with 1 Axes>"
      ]
     },
     "metadata": {},
     "output_type": "display_data"
    }
   ],
   "source": [
    "plt.plot(W, share_opt, c=\"steelblue\", lw=2.0, label=\"Optimal risky share\")\n",
    "plt.xlabel(\"Initial wealth $W_t$\")\n",
    "plt.ylabel(r\"Optimal risky share $\\alpha$\")\n",
    "plt.ylim((0.0, 1.1))\n",
    "plt.legend()"
   ]
  },
  {
   "cell_type": "markdown",
   "metadata": {},
   "source": [
    "# Exercise 2: Computing the mean for increasing sample sizes\n",
    "\n",
    "In this exercise, you are asked to investigate how the mean of a simulated sample depends on the sample size.\n",
    "\n",
    "Consider a set of random draws with samples sizes of\n",
    "5, 10, 50, 100, 500, 1000, 5000, 10000, and 100000.\n",
    "\n",
    "1. For each sample size, draw a\n",
    "   [normally-distributed](<[`normal()`](https://numpy.org/doc/stable/reference/random/generated/numpy.random.RandomState.normal.html)>)\n",
    "   sample with mean $\\mu = 1$\n",
    "   and standard deviation $\\sigma=1$. Use a seed of 678 and make\n",
    "   sure to reset the seed for each sample size.\n",
    "\n",
    "2. For each sample size, compute the sample mean using\n",
    "   [`np.mean()`](https://numpy.org/doc/stable/reference/generated/numpy.mean.html).\n",
    "   Print a list of sample sizes and sample means.\n",
    "\n",
    "3. Plot the means you computed against the sample size on the $x$-axis. You should use\n",
    "   a log-scale for the $x$-axis and a marker symbol `'o'` to make the graph\n",
    "   easier to read. Add a dashed horizontal to indicate the true mean,\n",
    "   and label both axes.\n",
    "\n",
    "   _Hint:_ You can set the axis scale using\n",
    "   [`xscale()`](https://matplotlib.org/stable/api/_as_gen/matplotlib.pyplot.xscale.html).\n",
    "\n",
    "   _Hint:_ You can add a horizontal line with\n",
    "   [`axhline()`](https://matplotlib.org/stable/api/_as_gen/matplotlib.pyplot.axhline.html).\n"
   ]
  },
  {
   "cell_type": "markdown",
   "metadata": {},
   "source": [
    "# Exercise 3: Ordinary Least Squares (OLS)\n",
    "\n",
    "In this exercise, you are asked to draw a sample from a bivariate normal distribution (i.e., a multivariate normal distribution where the number of dimensions is 2) and estimate a linear relationship using Ordinary Least Squares (OLS).\n",
    "\n",
    "Consider the liner model\n",
    "\n",
    "$$\n",
    "y_i = \\alpha + \\beta x_i + \\epsilon_i\n",
    "$$\n",
    "\n",
    "where $x$ is the explanatory (or exogenous, or independent) variable and $y$ is the outcome (or dependent) variable.\n",
    "The relationship is imperfect, so for each observation $i$ there is an additive error term $\\epsilon_i$.\n",
    "\n",
    "1.  Assume that $(x,y)$ are drawn from a bivariate normal distribution,\n",
    "\n",
    "    $$\n",
    "    (x, y) \\stackrel{\\text{iid}}{\\sim} \\mathcal{N}(\\bm{\\mu}, \\bm{\\Sigma})\n",
    "    $$\n",
    "\n",
    "    with\n",
    "\n",
    "    $$\n",
    "    \\bm{\\mu} = \\begin{bmatrix} \\mu_x \\\\ \\mu_y\\end{bmatrix}, \\qquad\n",
    "    \\bm{\\Sigma} =\\begin{bmatrix} \\sigma_x^2 & \\rho \\sigma_x \\sigma_y \\\\ \\rho\\sigma_x\\sigma_y & \\sigma_y^2\\end{bmatrix}\n",
    "    $$\n",
    "\n",
    "    where $\\bm{\\mu}$ is the vector of means, $\\bm\\Sigma$ is the variance-covariance (VCV) matrix,\n",
    "    $\\sigma_x$ and $\\sigma_y$ are the standard deviations for $x$ and $y$, respectively, and\n",
    "    $\\rho$ is the correlation between $x$ and $y$.\n",
    "\n",
    "    For this exercise, let $\\mu_x = 0$, $\\mu_y = 1$, $\\sigma_x = 0.1$, $\\sigma_y = 0.5$, and $\\rho = 0.7$.\n",
    "\n",
    "    Compute and report the VCV implied by these parameters.\n",
    "\n",
    "2.  Use the variance-covariance matrix and the vector of means to draw $N=200$ observations of\n",
    "    $(x, y)$ from a bivariate normal distribution. Use a seed of `123`.\n",
    "\n",
    "    Create a scatter plot with $x$ and the $x$-axis to visualize the sample.\n",
    "\n",
    "    _Hint:_ The bivariate normal is just a special case of the multivariate normal distribution,\n",
    "    so you can use\n",
    "    [multivariate_normal()](https://numpy.org/doc/stable/reference/random/generated/numpy.random.multivariate_normal.html)\n",
    "    for this task.\n",
    "\n",
    "3.  Since this linear model has only one explanatory variable, the estimate of $\\beta$ denoted\n",
    "    by $\\widehat{\\beta}$ is given by the formula\n",
    "\n",
    "    $$\n",
    "    \\widehat{\\beta} = \\frac{\\widehat{\\text{Cov}}(x, y)}{\\widehat{\\text{Var}}(x)}\n",
    "    $$\n",
    "\n",
    "    where $\\widehat{\\text{Cov}}(x,y)$ is the sample covariance of between $x$ and $y$,\n",
    "    and $\\widehat{\\text{Var}}(x)$ is the sample variance of $x$.\n",
    "\n",
    "    With $\\widehat{\\beta}$ in hand, the estimate for the intercept $\\alpha$ is given by the formula\n",
    "\n",
    "    $$\n",
    "    \\widehat{\\alpha} = \\overline{y} - \\widehat{\\beta} \\overline{x}\n",
    "    $$\n",
    "\n",
    "    where $\\overline{y}$ and $\\overline{x}$ are the sample means of $y$ and $x$, respectively.\n",
    "\n",
    "    Use the above formulas to compute the OLS estimate for $(\\widehat{\\alpha}, \\widehat{\\beta})$\n",
    "    for the sample you have drawn.\n",
    "\n",
    "    _Hint:_ Use the functions\n",
    "    [np.mean()](https://numpy.org/doc/stable/reference/generated/numpy.mean.html),\n",
    "    [np.var()](https://numpy.org/doc/stable/reference/generated/numpy.var.html),\n",
    "    and\n",
    "    [np.cov()](https://numpy.org/doc/stable/reference/generated/numpy.cov.html)\n",
    "    to compute the sample mean, variance, and covariance.\n",
    "\n",
    "4.  Augment the scatter plot you created earlier and add the regression line\n",
    "    using the estimates $(\\widehat{\\alpha}, \\widehat{\\beta})$.\n",
    "    This regression line passes through the coordinate $(0, \\widehat{\\alpha})$\n",
    "    and has a slope given by $\\widehat{\\beta}$.\n",
    "\n",
    "    _Hint:_ Use the function\n",
    "    [axline()](https://matplotlib.org/stable/api/_as_gen/matplotlib.pyplot.axline.html)\n",
    "    to add a straight line to a plot.\n",
    "\n",
    "5.  Since you know the parameters of the true model, you can compare the\n",
    "    estimate $\\widehat{\\beta}$ to the true value $\\beta$.\n",
    "\n",
    "    For this model, the true $\\beta$ is given by the formula\n",
    "\n",
    "    $$\n",
    "    \\beta = \\frac{\\rho \\sigma_x \\sigma_y}{\\sigma_x^2}\n",
    "    $$\n",
    "\n",
    "    Compute this true $\\beta$ and compare it to your estimate $\\widehat{\\beta}$.\n"
   ]
  }
 ],
 "metadata": {
  "kernelspec": {
   "display_name": "FIE463",
   "language": "python",
   "name": "python3"
  },
  "language_info": {
   "codemirror_mode": {
    "name": "ipython",
    "version": 3
   },
   "file_extension": ".py",
   "mimetype": "text/x-python",
   "name": "python",
   "nbconvert_exporter": "python",
   "pygments_lexer": "ipython3",
   "version": "3.12.8"
  },
  "orig_nbformat": 4
 },
 "nbformat": 4,
 "nbformat_minor": 2
}
