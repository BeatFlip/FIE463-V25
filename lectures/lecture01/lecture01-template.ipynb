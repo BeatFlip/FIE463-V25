{
 "cells": [
  {
   "attachments": {},
   "cell_type": "markdown",
   "metadata": {
    "collapsed": true
   },
   "source": [
    "# Language and NumPy basics\n",
    "\n",
    "***\n",
    "## Basic syntax\n",
    "\n",
    "-   Everything after a `#` character (until the end of the line) is a comment and will be ignored.\n",
    "-   Variables are created using the assignment operator `=`.\n",
    "-   Variable names are case sensitive.\n",
    "-   Whitespace characters matter (unlike in most languages)!\n",
    "-   Python uses indentation (usually 4 spaces) to group statements,\n",
    "    for example loop bodies, functions, etc.\n",
    "-   You can use the `print()` function to inspect almost any object."
   ]
  },
  {
   "attachments": {},
   "cell_type": "markdown",
   "metadata": {
    "pycharm": {
     "name": "#%% md\n"
    }
   },
   "source": [
    "***\n",
    "## Built-in data types\n",
    "\n",
    "Pythons is a dynamically-typed language:\n",
    "\n",
    "-   No need to declare a variable or its type\n",
    "-   You can inspect a variable's type using the built-in `type()` function\n",
    "\n",
    "**Basic types**\n",
    "\n",
    "- integers (`int`)\n",
    "- floating-point numbers (`float`)\n",
    "- boolean (`bool`)\n",
    "- strings (`str`)\n",
    "\n",
    "**Containers (or collections)**\n",
    "\n",
    "- tuples (`tuple`)\n",
    "- lists (`list`)\n",
    "- dictionaries (`dict`)"
   ]
  },
  {
   "attachments": {},
   "cell_type": "markdown",
   "metadata": {
    "pycharm": {
     "name": "#%% md\n"
    }
   },
   "source": [
    "***\n",
    "### Numerical data types\n",
    "\n",
    "#### Integers and floats\n",
    "\n",
    "- **Integers:** created from literal values *without* decimal dot\n",
    "- **Floats:** created from literal values *with* decimal dot or scientific notation (e.g., $5 \\times 10^{-8}$ is written as `5e-8`)\n",
    "- Optional _ as thousands separator"
   ]
  },
  {
   "cell_type": "markdown",
   "metadata": {},
   "source": [
    "#### Booleans\n",
    "\n",
    "- Created using the keywords `True` and `False`"
   ]
  },
  {
   "cell_type": "markdown",
   "metadata": {},
   "source": [
    "<div class=\"alert alert-info\">\n",
    "<h3> Your turn</h3>\n",
    "Floating-point numbers cannot represent real numbers with arbitrary precision. This can lead to surprising results:\n",
    "<ol>\n",
    "    <li>Define the floating-point number <tt>x</tt> with value <tt>1/3</tt>.</li>\n",
    "    <li>Add <tt>x</tt> three times (<tt>x + x + x</tt>) and print the result.</li>\n",
    "    <li>Add <tt>x</tt> six times and print the result.</li>\n",
    "    <li>Rewrite the above expression as <tt>(x + x + x) + (x + x + x)</tt> and print the result.</li>\n",
    "    <li>Add the floating-point numbers <tt>1.0</tt> and <tt>10<sup>-15</sup></tt> and print the result.\n",
    "    What happens if you add <tt>1.0</tt> and <tt>10<sup>-16</sup></tt> instead?</li>\n",
    "</ol>\n",
    "</div>"
   ]
  },
  {
   "attachments": {},
   "cell_type": "markdown",
   "metadata": {
    "collapsed": false,
    "pycharm": {
     "name": "#%% md\n"
    }
   },
   "source": [
    "***\n",
    "### Strings\n",
    "\n",
    "- The string (`str`) data type is used to store text\n",
    "- Enclosed in either `'` or `\"`"
   ]
  },
  {
   "cell_type": "markdown",
   "metadata": {},
   "source": [
    "#### Sting operations\n",
    "\n",
    "- Can be concatenated with `+`\n",
    "- Can be duplicated with `*`"
   ]
  },
  {
   "cell_type": "markdown",
   "metadata": {},
   "source": [
    "#### Formatting with f-strings"
   ]
  },
  {
   "cell_type": "markdown",
   "metadata": {},
   "source": [
    "<div class=\"alert alert-info\">\n",
    "<h3> Your turn</h3>\n",
    "Continuing our experiments with floating-point numbers, perform the following tasks:\n",
    "<ol>\n",
    "    <li>Define the floating-point number <tt>x</tt> with value <tt>1/3</tt>, \n",
    "        and use an f-string to print it with 20 decimal digits.</li>\n",
    "    <li>Define the floating-point number <tt>x</tt> with value <tt>0.1</tt>, \n",
    "        and use an f-string to print it with 20 decimal digits.</li>\n",
    "</ol>\n",
    "\n",
    "As you can see, problems not only arise if a real number has infinitely many \n",
    "decimal digits (like 1/3), but also if it cannot be exactly represented as a binary number (base-2).\n",
    "</div>"
   ]
  },
  {
   "attachments": {},
   "cell_type": "markdown",
   "metadata": {
    "pycharm": {
     "name": "#%% md\n"
    }
   },
   "source": [
    "***\n",
    "### Tuples\n",
    "\n",
    "- *ordered, immutable collection* of items which can\n",
    "have different data types\n",
    "- Created using `,`\n",
    "- Optionally enclosed in `()`\n",
    "- Elements are accessed using `[]`\n",
    "- Index is 0-based\n",
    "- Built-in `len()` function returns number of items"
   ]
  },
  {
   "attachments": {},
   "cell_type": "markdown",
   "metadata": {
    "pycharm": {
     "name": "#%% md\n"
    }
   },
   "source": [
    "***\n",
    "### Lists\n",
    "\n",
    "- Like tuples, but can be modified (*mutable*)\n",
    "- Can use methods to modify lists: `append()`, `insert()`, ..."
   ]
  },
  {
   "cell_type": "markdown",
   "metadata": {},
   "source": [
    "<div class=\"alert alert-info\">\n",
    "<h3> Your turn</h3>\n",
    "Perform the following tasks to practice working with lists:\n",
    "<ol>\n",
    "    <li>Define a tuple containing a single value <tt>'a'</tt>.</li>\n",
    "    <li>Convert the tuple to a list using the <a href=\"https://www.w3schools.com/python/ref_func_list.asp\"><tt>list()</tt></a> function.</li>\n",
    "    <li>Append the items <tt>'b'</tt> and <tt>'c'</tt> using the <a href=\"https://www.w3schools.com/python/ref_list_append.asp\"><tt>append()</tt></a> method.</li>\n",
    "    <li>Select the last element of the list. Determine the index of this last element using \n",
    "    the <tt>len()</tt> function.</li>\n",
    "</ol>\n",
    "</div>"
   ]
  },
  {
   "attachments": {},
   "cell_type": "markdown",
   "metadata": {
    "pycharm": {
     "name": "#%% md\n"
    }
   },
   "source": [
    "***\n",
    "### Dictionaries\n",
    "\n",
    "- Map keys to values (keys don't have to be integers, unlike tuples, lists,...)\n",
    "- Can be created using `{key: value}` syntax\n",
    "- Alternatively created using `dict()`\n",
    "- Elements are accessed using `[key]` \n",
    "- Methods `.keys()` and `.values()` return keys and values in dictionary"
   ]
  },
  {
   "attachments": {},
   "cell_type": "markdown",
   "metadata": {
    "pycharm": {
     "name": "#%% md\n"
    }
   },
   "source": [
    "***\n",
    "## NumPy arrays\n",
    "\n",
    "\n",
    "-   Data type to efficiently store numeric data\n",
    "-   NumPy is *not* part of the core Python project\n",
    "-   Must be imported prior to use: `import numpy as np`"
   ]
  },
  {
   "attachments": {},
   "cell_type": "markdown",
   "metadata": {
    "pycharm": {
     "name": "#%% md\n"
    }
   },
   "source": [
    "### Creating arrays"
   ]
  },
  {
   "cell_type": "markdown",
   "metadata": {},
   "source": [
    "#### Creating arrays from other Python objects\n",
    "\n",
    "- Can be created from other sequence objects such as tuples or lists using [`np.array()`](https://numpy.org/doc/stable/reference/generated/numpy.array.html)"
   ]
  },
  {
   "cell_type": "markdown",
   "metadata": {},
   "source": [
    "#### Array creation routines\n",
    "\n",
    "Functions to create arrays from scratch:\n",
    "\n",
    "-   [`np.zeros()`](https://numpy.org/doc/stable/reference/generated/numpy.zeros.html) \n",
    "    creates an array of a given shape and initializes it\n",
    "    to zeros.\n",
    "-   [`np.ones()`](https://numpy.org/doc/stable/reference/generated/numpy.ones.html) \n",
    "    creates an array of a given shape and initializes it\n",
    "    to ones.\n",
    "-   [`np.arange(start,stop,step)`](https://numpy.org/doc/stable/reference/generated/numpy.arange.html) \n",
    "    creates an array with evenly spaced\n",
    "    elements over the range $[start,stop)$.\n",
    "    -   `start` and `step` can be omitted and then default to `start=0` and `step=1`.\n",
    "    -   Note that the number `stop` is never included in\n",
    "        the resulting array!\n",
    "-   [`np.linspace(start,stop,num)`](https://numpy.org/doc/stable/reference/generated/numpy.linspace.html) \n",
    "    returns a vector of `num` elements\n",
    "    which are evenly spaced over the interval $[start,stop]$.\n",
    "\n",
    "There are many more array creation functions for more exotic use-cases,\n",
    "see the NumPy  [documentation](https://numpy.org/doc/stable/reference/routines.array-creation.html)\n",
    "for details."
   ]
  },
  {
   "cell_type": "markdown",
   "metadata": {},
   "source": [
    "<div class=\"alert alert-info\">\n",
    "<h3> Your turn</h3>\n",
    "Lists and NumPy arrays behave differently in potentially unexpected ways. \n",
    "Perform the following tasks and inspect the result for both list and array arguments.\n",
    "<ol>\n",
    "    <li>Create two variables, a list and a NumPy array, both containing the elements <tt>[1, 2, 3]</tt>.</li>\n",
    "    <li>Multiply the list and the array by 2.</li>\n",
    "    <li>Add <tt>[4]</tt> to both the list and the array.</li>\n",
    "    <li>Add <tt>4</tt> to both the list and the array. Does this work?</li>\n",
    "</ol>\n",
    "</div>"
   ]
  },
  {
   "attachments": {},
   "cell_type": "markdown",
   "metadata": {
    "pycharm": {
     "name": "#%% md\n"
    }
   },
   "source": [
    "### Reshaping arrays\n",
    "\n",
    "- The `reshape()` method reshape array to some other (conformable) shape\n",
    "- Can be used to create lower- or higher-dimensional arrays\n",
    "- One dimension in shape can be omitted using `-1`"
   ]
  },
  {
   "attachments": {},
   "cell_type": "markdown",
   "metadata": {
    "pycharm": {
     "name": "#%% md\n"
    }
   },
   "source": [
    "***\n",
    "### Indexing\n",
    "\n",
    "#### Single element indexing\n",
    "\n",
    "-   NumPy arrays use 0-based indices\n",
    "-   Unlike lists or tuples, NumPy arrays support multi-dimensional\n",
    "    indexing\n",
    "-   Use `arr[i, j]`, *not* `arr[i][j]`"
   ]
  },
  {
   "attachments": {},
   "cell_type": "markdown",
   "metadata": {
    "pycharm": {
     "name": "#%% md\n"
    }
   },
   "source": [
    "#### Index slices\n",
    "\n",
    "- Slicing with `start:stop:step` syntax retrieves ranges of elements.\n",
    "\n",
    "*Rules:*\n",
    "\n",
    "-   all tokens in `start:stop:step` are optional, with\n",
    "    the obvious default values.\n",
    "    We could therefore write `::` to include all indices,\n",
    "    which is the same as `:`\n",
    "- The end value is *not* included. Writing\n",
    "  `vec[0:n]` does not include element with index $n$!\n",
    "- Any of the elements of `start:stop:step` can be negative.\n",
    "    - If `start` or `stop` are negative, elements are counted\n",
    "        from the end of the array:\n",
    "        `vec[:-1]` retrieves the whole vector except for the last element.\n",
    "    - If `step` is negative, the order of elements is reversed."
   ]
  },
  {
   "cell_type": "markdown",
   "metadata": {},
   "source": [
    "<div class=\"alert alert-info\">\n",
    "<h3> Your turn</h3>\n",
    "Perform the following tasks to practice working with NumPy arrays:\n",
    "<ol>\n",
    "    <li>Create a NumPy array containing the sequence from 5 to 100 (inclusive).</li>\n",
    "    <li>Select and print every 5th element from the array.</li>\n",
    "    <li>Select the last element in two different ways without hardcoding the index.\n",
    "    <br/><it>Hint:</it> The function <tt>len()</tt> also works for NumPy arrays.</li>\n",
    "</ol>\n",
    "</div>"
   ]
  },
  {
   "attachments": {},
   "cell_type": "markdown",
   "metadata": {
    "pycharm": {
     "name": "#%% md\n"
    }
   },
   "source": [
    "***\n",
    "### Numerical data types (advanced)\n",
    "\n",
    "- Most array creation routines support `dtype` argument to specify data type\n",
    "- Valid values: `int`, `float`, `np.float64`, `np.float32`, `np.int64`, `np.int32`, ...\n",
    "- Use data type that is appropriate for the task!"
   ]
  }
 ],
 "metadata": {
  "kernelspec": {
   "display_name": "FIE463",
   "language": "python",
   "name": "python3"
  },
  "language_info": {
   "codemirror_mode": {
    "name": "ipython",
    "version": 3
   },
   "file_extension": ".py",
   "mimetype": "text/x-python",
   "name": "python",
   "nbconvert_exporter": "python",
   "pygments_lexer": "ipython3",
   "version": "3.12.8"
  }
 },
 "nbformat": 4,
 "nbformat_minor": 1
}
