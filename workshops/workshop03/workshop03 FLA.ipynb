{
 "cells": [
  {
   "cell_type": "markdown",
   "metadata": {
    "vscode": {
     "languageId": "plaintext"
    }
   },
   "source": [
    "# Exercise 1: Standard deviation of a sequence of numbers\n",
    "\n",
    "The standard deviation $\\sigma$ characterizes the dispersion of a sequence of data $(x_1, x_2, \\dots, x_N)$ around its mean $\\overline{x}$.\n",
    "It is computed as the square root of the variance $\\sigma^2$, defined as\n",
    "\n",
    "$$\n",
    "\\begin{aligned}\n",
    "\\sigma^2 = \\frac{1}{N} \\sum_{i=1}^N \\Bigl(x_i - \\overline{x}\\Bigr)^2\n",
    "\\end{aligned}\n",
    "$$\n",
    "\n",
    "where $N$ is the number of elements (we ignore the degrees-of-freedom correction),\n",
    "and the mean $\\overline{x}$ is defined as\n",
    "\n",
    "$$\n",
    "\\overline{x} = \\frac{1}{N}\\sum_{i=1}^N x_i\n",
    "$$\n",
    "\n",
    "The above formula for the variance can be rewritten as\n",
    "\n",
    "$$\n",
    "\\sigma^2 = \\left(\\frac{1}{N}\\sum_{i=1}^N x_i^2 \\right)\n",
    "     - \\overline{x}^2\n",
    "$$\n",
    "\n",
    "This suggests the following algorithm to compute the standard deviation:\n",
    "\n",
    "1. Compute the mean $\\overline{x} = \\frac{1}{N}\\sum_{i=1}^N x_i$\n",
    "2. Compute the mean of squares $S = \\frac{1}{N}\\sum_{i=1}^N x_i^2$\n",
    "3. Compute the variance $\\sigma^2 = S - \\overline{x}^2$\n",
    "4. Compute the standard deviation $\\sigma = \\sqrt{\\sigma^2}$\n",
    "\n",
    "In this exercise, you are asked to implement the above algorithm and compare your function with\n",
    "NumPy's implementation\n",
    "[`np.std()`](https://numpy.org/doc/stable/reference/generated/numpy.std.html).\n",
    "\n",
    "1. Create a module `my_stats.py` and add the function\n",
    "\n",
    "   ```python\n",
    "   def my_std(x):\n",
    "        \"\"\"\n",
    "        Compute and return the standard deviation of the sequence x.\n",
    "        \"\"\"\n",
    "   ```\n",
    "\n",
    "   which implements the above algorithm to compute the standard deviation\n",
    "   of a given sequence `x` (this could be a tuple, list, array, etc.).\n",
    "   Your implementation should _only use\n",
    "   built-in functions_ such as `len()`, `sum()`, and `sqrt()` from the `math` module.\n",
    "\n",
    "2. Import this function into the Jupyter notebook. Using an array\n",
    "   of 11 elements which are uniformly spaced on the interval $[0, 10]$,\n",
    "   confirm that your function returns the same value as\n",
    "   [`np.std()`](https://numpy.org/doc/stable/reference/generated/numpy.std.html).\n",
    "3. Benchmark your implementation against\n",
    "   [`np.std()`](https://numpy.org/doc/stable/reference/generated/numpy.std.html)\n",
    "   for three different arrays with 11, 101, and 10001 elements which\n",
    "   are uniformly spaced on the interval $[0, 10]$.\n",
    "\n",
    "   _Hint:_ Use the cell magic\n",
    "   [`%timeit`](https://ipython.readthedocs.io/en/stable/interactive/magics.html#magic-timeit)\n",
    "   to time the execution of a statement.\n"
   ]
  },
  {
   "cell_type": "code",
   "execution_count": 93,
   "metadata": {},
   "outputs": [
    {
     "name": "stdout",
     "output_type": "stream",
     "text": [
      "3.1622776601683795\n",
      "3.1622776601683795\n"
     ]
    },
    {
     "data": {
      "text/plain": [
       "np.True_"
      ]
     },
     "execution_count": 93,
     "metadata": {},
     "output_type": "execute_result"
    }
   ],
   "source": [
    "# Import my_stats module\n",
    "import my_stats as ms\n",
    "\n",
    "from my_stats import my_std\n",
    "\n",
    "# Array of 11 elements uniformly distributed between 0 and 10 (not random)\n",
    "import numpy as np\n",
    "\n",
    "data = np.linspace(0, 10, 11)\n",
    "\n",
    "# If data was random:\n",
    "random = np.random.uniform(0, 10, 11)\n",
    "\n",
    "# Use the function my_std to calculate the standard deviation of the data\n",
    "print(ms.my_std(data))\n",
    "\n",
    "# Use np.std to calculate the standard deviation of the data (to compare the results)\n",
    "print(np.std(data))\n",
    "\n",
    "# Check if the results are the same\n",
    "round(np.std(data), 10) == round(ms.my_std(data), 10)"
   ]
  },
  {
   "cell_type": "code",
   "execution_count": 72,
   "metadata": {},
   "outputs": [
    {
     "name": "stdout",
     "output_type": "stream",
     "text": [
      "Implentation with n =  11\n",
      "2.95 μs ± 53 ns per loop (mean ± std. dev. of 7 runs, 100,000 loops each)\n",
      "Implentation with n =  101\n",
      "12.1 μs ± 109 ns per loop (mean ± std. dev. of 7 runs, 100,000 loops each)\n",
      "Implentation with n =  10001\n",
      "1.01 ms ± 9.47 μs per loop (mean ± std. dev. of 7 runs, 1,000 loops each)\n"
     ]
    }
   ],
   "source": [
    "# Benchmark the time of the function my_std\n",
    "N = [11,101,10001]\n",
    "\n",
    "for n in N:\n",
    "    data = np.linspace(0, 10, n)\n",
    "    print(\"Implentation with n = \", n)\n",
    "    %timeit ms.my_std(data)\n"
   ]
  },
  {
   "cell_type": "code",
   "execution_count": 68,
   "metadata": {},
   "outputs": [
    {
     "name": "stdout",
     "output_type": "stream",
     "text": [
      "Implentation with n =  11\n",
      "10.8 μs ± 119 ns per loop (mean ± std. dev. of 7 runs, 100,000 loops each)\n",
      "Implentation with n =  101\n",
      "10.6 μs ± 110 ns per loop (mean ± std. dev. of 7 runs, 100,000 loops each)\n",
      "Implentation with n =  10001\n",
      "18.2 μs ± 139 ns per loop (mean ± std. dev. of 7 runs, 100,000 loops each)\n"
     ]
    }
   ],
   "source": [
    "# Benchmark the time of the function my_std\n",
    "N = [11,101,10001]\n",
    "\n",
    "for n in N:\n",
    "    data = np.linspace(0, 10, n)\n",
    "    print(\"Implentation with n = \", n)\n",
    "    %timeit np.std(data)\n"
   ]
  },
  {
   "cell_type": "markdown",
   "metadata": {},
   "source": [
    "# Exercise 2: Locating maximum values\n",
    "\n",
    "In this exercise, you are asked to write a function that returns the position of the largest element from a given sequence (list, tuple, array, etc.).\n",
    "\n",
    "1. Write a function `my_argmax()` that takes as argument a sequence and returns the (first) index\n",
    "   where the maximum value is located. Only use built-in functionality in your implementation (no NumPy).\n",
    "2. Create an array with 101 values constructed using the sine function,\n",
    "\n",
    "   ```python\n",
    "   arr = np.sin(np.linspace(0.0, np.pi, 101))\n",
    "   ```\n",
    "\n",
    "   and use it to test your function.\n",
    "\n",
    "3. Compare the result returned by your function to NumPy's implementation\n",
    "   [`np.argmax()`](https://numpy.org/doc/stable/reference/generated/numpy.argmax.html).\n"
   ]
  },
  {
   "cell_type": "code",
   "execution_count": 2,
   "metadata": {},
   "outputs": [
    {
     "name": "stdout",
     "output_type": "stream",
     "text": [
      "50\n",
      "50\n"
     ]
    }
   ],
   "source": [
    "# Import the my_argmax function from my_stats\n",
    "from my_stats import my_argmax\n",
    "\n",
    "# Create an array with 101 values constructed using the sine function\n",
    "import numpy as np\n",
    "\n",
    "arr = np.sin(np.linspace(0.0, np.pi, 101))\n",
    "\n",
    "# Use the function my_argmax to find the index of the maximum value of the array\n",
    "print(my_argmax(arr))\n",
    "\n",
    "\n",
    "# Compare to np.argmax\n",
    "print(np.argmax(arr))"
   ]
  },
  {
   "cell_type": "markdown",
   "metadata": {},
   "source": [
    "# Exercise 3: Two-period consumption-savings problem\n",
    "\n",
    "This exercise asks you to find the utility-maximizing consumption levels\n",
    "using grid search, an algorithm that evaluates all possible\n",
    "alternatives from a given set (the \"grid\") to locate the maximum.\n",
    "\n",
    "Consider the following standard consumption-savings problem over\n",
    "two periods with lifetime utility $U(c_1, c_2)$ given by\n",
    "\n",
    "$$\n",
    "\\begin{aligned}\n",
    "\\max_{c_1,~c_2} \\quad & U(c_1, c_2) = u(c_1) + \\beta u(c_2) \\\\\n",
    "\\text{s.t.} \\quad c_1 &+ \\frac{c_2}{1+r} = w \\\\\n",
    "    c_1 &\\geq 0, ~ c_2 \\geq 0\n",
    "\\end{aligned}\n",
    "$$\n",
    "\n",
    "where $\\beta$ is the discount factor,\n",
    "$r$ is the interest rate,\n",
    "$w$ is initial wealth, $(c_1,c_2)$ is the optimal consumption allocation\n",
    "to be determined.\n",
    "The second line is the budget constraint which ensures that the chosen\n",
    "consumption bundle $(c_1, c_2)$ is feasible.\n",
    "The per-period CRRA utility function $u(c)$ is given by\n",
    "\n",
    "$$\n",
    "u(c) = \\begin{cases}\n",
    "    \\frac{c^{1-\\gamma}}{1-\\gamma} & \\text{if } \\gamma \\neq 1 \\\\\n",
    "    \\log(c) & \\text{if } \\gamma = 1\n",
    "    \\end{cases}\n",
    "$$\n",
    "\n",
    "where $\\gamma$ is the coefficient of relative risk aversion (RRA) and\n",
    "$\\log(\\bullet)$ denotes the natural logarithm.\n",
    "\n",
    "1. Write a function `util(c, gamma)` which evaluates the per-period utility\n",
    "   $u(c)$ for a given consumption level $c$ and the parameter $\\gamma$.\n",
    "   Make sure to take into account the log case!\n",
    "\n",
    "   _Hint:_ You can use the [`np.log()`](https://numpy.org/doc/stable/reference/generated/numpy.log.html)\n",
    "   function from NumPy to compute the natural logarithm.\n",
    "\n",
    "2. Write a function `util_life(c_1, c_2, beta, gamma)` which uses `util()` from above to compute\n",
    "   the lifetime utility $U(c_1, c_2)$ for given consumption levels $(c_1, c_2)$\n",
    "   and parameters.\n",
    "3. Assume that $r=0.04$, $\\beta=0.96$, $\\gamma=1$, and $w=1$.\n",
    "\n",
    "   - Create a candidate array (grid) of period-1 consumption levels with 100 grid points with\n",
    "     are uniformly spaced on the on the interval $[\\epsilon, w-\\epsilon]$\n",
    "     where $\\epsilon = 10^{-5}$.\n",
    "\n",
    "     Note that we enforce a minimum consuption level $\\epsilon$, as zero consumption\n",
    "     yields $-\\infty$ utility for the given preferences which can never be optimal.\n",
    "\n",
    "   - Compute the implied array of period-2 consumption levels from the budget constraint.\n",
    "   - Given these candidate consumption levels, use the function `util_life()` you\n",
    "     wrote earlier to evaluate lifetime utility for each bundle of consumption levels $(c_1, c_2)$.\n",
    "\n",
    "4. Use the function\n",
    "   [`np.argmax()`](https://numpy.org/doc/stable/reference/generated/numpy.argmax.html)\n",
    "   to locale the index at which lifetime utility is maximized.\n",
    "   Print the maximizing consumption levels $(c_1, c_2)$ as well as the\n",
    "   associated maximized utility level.\n"
   ]
  },
  {
   "cell_type": "code",
   "execution_count": 8,
   "metadata": {},
   "outputs": [],
   "source": [
    "# Import numpy as np\n",
    "import numpy as np"
   ]
  },
  {
   "cell_type": "code",
   "execution_count": 9,
   "metadata": {},
   "outputs": [],
   "source": [
    "# Function to calculate the calculate the per period utility u(c): CRRA utility function\n",
    "def u(c, gamma):\n",
    "    \"\"\"\n",
    "    CRRA utility function\n",
    "\n",
    "    ----------\n",
    "    c : float\n",
    "        Consumption\n",
    "    gamma : float\n",
    "        Risk aversion coefficient\n",
    "    Returns\n",
    "    -------\n",
    "    float\n",
    "        Utility\n",
    "    \"\"\"\n",
    "    if gamma == 1:  # If gamma is equal to 1\n",
    "        return np.log(c)\n",
    "    else:\n",
    "        return c ** (1 - gamma) / (1 - gamma)  # Return the CRRA utility function"
   ]
  },
  {
   "cell_type": "code",
   "execution_count": 10,
   "metadata": {},
   "outputs": [],
   "source": [
    "# Compute lifetime utility for a given consumption path (c_1, c_2)\n",
    "def lifetime_utility(c1, c2, beta, gamma):\n",
    "    \"\"\"\n",
    "    Compute lifetime utility for given consumption levels c1 and c2.\n",
    "\n",
    "    Parameters\n",
    "    ----------\n",
    "    c1 : float or np.ndarray\n",
    "        Consumption in period 1.\n",
    "    c2 : float or np.ndarray\n",
    "        Consumption in period 2.\n",
    "    beta : float\n",
    "        Discount factor.\n",
    "    gamma : float\n",
    "        Risk aversion coefficient.\n",
    "\n",
    "    Returns\n",
    "    -------\n",
    "    float or np.ndarray\n",
    "        Lifetime utility.\n",
    "    \"\"\"\n",
    "    # Calculate the lifetime utility\n",
    "    return u(c1, gamma) + beta * u(c2, gamma)"
   ]
  },
  {
   "cell_type": "code",
   "execution_count": 12,
   "metadata": {},
   "outputs": [],
   "source": [
    "# Define the parameters\n",
    "r = 0.04  # Interest rate\n",
    "beta = 0.96  # Discount factor\n",
    "gamma = 1  # CRRA coefficient\n",
    "w = 1  # Initial wealth\n",
    "\n",
    "# Candidate array for period 1 consumption with 100 grid points [epsilon, w - epsilon]\n",
    "epsilon = 10e-5\n",
    "c1 = np.linspace(epsilon, w - epsilon, 100)\n",
    "\n",
    "# Compute the implied array for period 2 consumption levels from the budget constraint\n",
    "c2 = (1 + r) * (w - c1)\n",
    "\n",
    "# Evaluate the lifetime utility\n",
    "lifetime_utility_values = lifetime_utility(c1, c2, beta, gamma)"
   ]
  },
  {
   "cell_type": "code",
   "execution_count": 15,
   "metadata": {},
   "outputs": [
    {
     "name": "stdout",
     "output_type": "stream",
     "text": [
      "Optimal consumption pair: c1 = 0.515, c2 = 0.504\n",
      "Lifetime utility: -1.32060e+00\n"
     ]
    }
   ],
   "source": [
    "# Use np.argmax to locate the index at which the lifetime utility is maximized\n",
    "idx = np.argmax(lifetime_utility_values)\n",
    "\n",
    "# Print the optimal consumption pair\n",
    "print(f\"Optimal consumption pair: c1 = {c1[idx]:.3f}, c2 = {c2[idx]:.3f}\")\n",
    "\n",
    "# Print the associated lifetime utility\n",
    "print(f\"Lifetime utility: {lifetime_utility_values[idx]:.5e}\")"
   ]
  }
 ],
 "metadata": {
  "kernelspec": {
   "display_name": "FIE463",
   "language": "python",
   "name": "python3"
  },
  "language_info": {
   "codemirror_mode": {
    "name": "ipython",
    "version": 3
   },
   "file_extension": ".py",
   "mimetype": "text/x-python",
   "name": "python",
   "nbconvert_exporter": "python",
   "pygments_lexer": "ipython3",
   "version": "3.12.8"
  }
 },
 "nbformat": 4,
 "nbformat_minor": 2
}
