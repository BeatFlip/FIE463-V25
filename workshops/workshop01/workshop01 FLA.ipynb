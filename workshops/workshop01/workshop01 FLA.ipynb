{
 "cells": [
  {
   "cell_type": "markdown",
   "metadata": {},
   "source": [
    "# Type conversions\n",
    "\n",
    "In the lecture, we discussed the basic built-in data types: integers, floating-point numbers, booleans, and strings. Python allows us to convert one type to another using the following functions:\n",
    "\n",
    "- [`int()`](https://docs.python.org/3/library/functions.html#int) converts its argument to an integer.\n",
    "- [`float()`](https://docs.python.org/3/library/functions.html#float) converts its argument to a floating-point number.\n",
    "- [`bool()`](https://docs.python.org/3/library/functions.html#bool) converts its argument to a boolean.\n",
    "- [`str()`](https://docs.python.org/3/library/stdtypes.html#str) converts its argument to a string.\n",
    "\n",
    "These conversions mostly work in an intuitive fashion, with some exceptions.\n",
    "\n",
    "1.  Define a string variable `s` with the value `'1.1'`. Convert this variable to integer, float, and boolean.\n",
    "2.  Define the string variables `s1`, `s2`, and `s3` with values `'True'`, `'False'`, and `''` (empty string), respectively. Convert each of these to boolean. Can you guess the conversion rule?\n",
    "3.  Define a floating-point variable `x` with the value `0.9`. Convert this variable to integer, boolean, and string.\n",
    "4.  Define the integer variables `i1` and `i2` with values `0` and `2`, respectively. Convert each of these variables to boolean.\n",
    "5.  Define the boolean variables `b1` and `b2` with values `True` and `False`, respectively. Convert each of them to integer.\n",
    "6.  NumPy arrays cannot be converted using `int()`, `float()`, etc. Instead, we have to use the\n",
    "    method [`astype()`](https://numpy.org/doc/stable/reference/generated/numpy.ndarray.astype.html)\n",
    "    and pass the desired data type (e.g., `int`, `float`, `bool`) as an argument.\n",
    "    Create a NumPy array called `arr` with elements `[0.0, 0.5, 1.0]` and convert it to integer\n",
    "    and boolean type.\n"
   ]
  },
  {
   "cell_type": "code",
   "execution_count": 1,
   "metadata": {},
   "outputs": [
    {
     "name": "stdout",
     "output_type": "stream",
     "text": [
      "1\n"
     ]
    }
   ],
   "source": [
    "# 1. Define a string s with the value '1.1'. Converts its argument to an integer\n",
    "\n",
    "s = \"1.1\"\n",
    "print(int(float(s)))"
   ]
  },
  {
   "cell_type": "code",
   "execution_count": 2,
   "metadata": {},
   "outputs": [
    {
     "name": "stdout",
     "output_type": "stream",
     "text": [
      "True\n",
      "True\n",
      "False\n"
     ]
    }
   ],
   "source": [
    "# 2. Define the string variables, s1,s2, and s3 with values'True','False', and''(empty string),respectively.\n",
    "# Convert each of these to boolean. Can you guess the conversion rule?\n",
    "\n",
    "s1 = \"True\"\n",
    "s2 = \"False\"\n",
    "s3 = \"\"\n",
    "\n",
    "# Coverting to boolean\n",
    "print(bool(s1))\n",
    "print(bool(s2))\n",
    "print(bool(s3))\n",
    "\n",
    "# The conversion rule is that any non-empty string is converted to True and empty string is converted to False"
   ]
  },
  {
   "cell_type": "code",
   "execution_count": 3,
   "metadata": {},
   "outputs": [
    {
     "name": "stdout",
     "output_type": "stream",
     "text": [
      "0\n",
      "True\n",
      "0.9\n"
     ]
    }
   ],
   "source": [
    "# 3. Define a floating-point variable x with the value 0.9. Convert this variable to integer, boolean,and string.\n",
    "\n",
    "x = 0.9\n",
    "\n",
    "# Converting to integer\n",
    "print(int(x))\n",
    "\n",
    "# Converting to boolean\n",
    "print(bool(x))\n",
    "\n",
    "# Converting to string\n",
    "print(str(x))"
   ]
  },
  {
   "cell_type": "code",
   "execution_count": 4,
   "metadata": {},
   "outputs": [
    {
     "name": "stdout",
     "output_type": "stream",
     "text": [
      "False\n",
      "True\n"
     ]
    }
   ],
   "source": [
    "# 4. Define the integer variables i1 and i2 with values 0 and 2 , respectively. Convert each of these variables to boolean.\n",
    "\n",
    "i1 = 0\n",
    "i2 = 2\n",
    "\n",
    "# Converting to boolean\n",
    "print(bool(i1))  # 0 is converted to False\n",
    "print(bool(i2))  # Any non-zero integer is converted to True"
   ]
  },
  {
   "cell_type": "code",
   "execution_count": 5,
   "metadata": {},
   "outputs": [
    {
     "name": "stdout",
     "output_type": "stream",
     "text": [
      "1\n",
      "0\n"
     ]
    }
   ],
   "source": [
    "# 5. Define the boolean variables b1 and b2 with values True and False, respectively. Convert each of them to integer.\n",
    "\n",
    "b1 = True\n",
    "b2 = False\n",
    "\n",
    "# Converting to integer\n",
    "print(int(b1))  # True is converted to 1\n",
    "print(int(b2))  # False is converted to 0"
   ]
  },
  {
   "cell_type": "code",
   "execution_count": 9,
   "metadata": {},
   "outputs": [
    {
     "name": "stdout",
     "output_type": "stream",
     "text": [
      "[0 0 1]\n",
      "[False  True  True]\n"
     ]
    }
   ],
   "source": [
    "# 6. NumPy arrays cannot be converted using int(),float(), etc. Instead, we have to use the method as type()and pass the desired data type (e.g.,int,float,bool) as an argument.\n",
    "# Create a NumPy array called arr with elements[0.0, 0.5, 1.0] and convert it to integer and boolean type.\n",
    "import numpy as np\n",
    "\n",
    "arr = np.array([0.0, 0.5, 1.0])\n",
    "\n",
    "# Converting to integer\n",
    "print(arr.astype(int))\n",
    "\n",
    "# Converting to boolean\n",
    "print(arr.astype(bool))"
   ]
  },
  {
   "cell_type": "markdown",
   "metadata": {},
   "source": [
    "# Working with strings\n",
    "\n",
    "Strings in Python are full-fledged objects, i.e., they contain both the character data as well as additional functionality implemented via functions or so-called _methods_.\n",
    "The official [documentation](https://docs.python.org/3/library/stdtypes.html#string-methods)\n",
    "provides a comprehensive list of these methods. For our purposes, the most important are:\n",
    "\n",
    "- [`str.lower()`](https://docs.python.org/3/library/stdtypes.html#str.lower)\n",
    "  and\n",
    "  [`str.upper()`](https://docs.python.org/3/library/stdtypes.html#str.upper)\n",
    "  convert the string to lower or upper case, respectively.\n",
    "- [`str.strip()`](https://docs.python.org/3/library/stdtypes.html#str.strip)\n",
    "  removes any leading or trailing whitespace characters from a string.\n",
    "- [`str.count()`](https://docs.python.org/3/library/stdtypes.html#str.count)\n",
    "  returns the number of occurrences of a substring within a string.\n",
    "- [`str.startswith()`](https://docs.python.org/3/library/stdtypes.html#str.startswith)\n",
    "  and\n",
    "  [`str.endswith()`](https://docs.python.org/3/library/stdtypes.html#str.endswith)\n",
    "  check whether a string starts or ends with a given substring.\n",
    "\n",
    "Moreover, strings are also sequences, and as such support indexing in the\n",
    "same way as lists or tuples.\n",
    "\n",
    "Create a string variable with the value\n",
    "\n",
    "```python\n",
    "s = '  NHH Norwegian School of Economics  '\n",
    "```\n",
    "\n",
    "and perform the following tasks:\n",
    "\n",
    "1. Strip and surrounding spaces from the string using `strip()`.\n",
    "2. Count the number of `'H'` in the string.\n",
    "3. Modify your code so that it is case-insensitive, i.e., both instances of\n",
    "   `'h'` and `'H'` are counted.\n",
    "4. Reverse the string, i.e., the last character should come first, and so on.\n",
    "5. Create a new string which contains every 2nd letter from the original.\n",
    "6. Select the last character from this new string using at least two different methods.\n"
   ]
  },
  {
   "cell_type": "code",
   "execution_count": 10,
   "metadata": {},
   "outputs": [],
   "source": [
    "# Create a string variable\n",
    "s = \"NHH Norwegian School of Economics\""
   ]
  },
  {
   "cell_type": "code",
   "execution_count": 11,
   "metadata": {},
   "outputs": [
    {
     "name": "stdout",
     "output_type": "stream",
     "text": [
      "NHH Norwegian School of Economics\n"
     ]
    }
   ],
   "source": [
    "# 1. Strip and surrounding spaces from the string using the strip() method.\n",
    "print(s.strip())"
   ]
  },
  {
   "cell_type": "code",
   "execution_count": 15,
   "metadata": {},
   "outputs": [
    {
     "name": "stdout",
     "output_type": "stream",
     "text": [
      "2\n"
     ]
    }
   ],
   "source": [
    "# 2. Count the number of 'H' in the string\n",
    "print(s.count(\"H\"))"
   ]
  },
  {
   "cell_type": "code",
   "execution_count": 17,
   "metadata": {},
   "outputs": [
    {
     "name": "stdout",
     "output_type": "stream",
     "text": [
      "3\n"
     ]
    }
   ],
   "source": [
    "# 3. Case-insensitive count of the number of 'h' in the string\n",
    "print(s.lower().count(\"h\"))"
   ]
  },
  {
   "cell_type": "code",
   "execution_count": 19,
   "metadata": {},
   "outputs": [
    {
     "name": "stdout",
     "output_type": "stream",
     "text": [
      "scimonocE fo loohcS naigewroN HHN\n"
     ]
    }
   ],
   "source": [
    "# 4. Reverse the string, i.e., the last character becomes the first, and so on.\n",
    "print(s[::-1])"
   ]
  },
  {
   "cell_type": "code",
   "execution_count": 22,
   "metadata": {},
   "outputs": [
    {
     "name": "stdout",
     "output_type": "stream",
     "text": [
      "NHNreinSho fEoois\n"
     ]
    }
   ],
   "source": [
    "# 5. Create a new string which contains every 2nd letter from the orginal.\n",
    "x = s[::2]\n",
    "print(x)"
   ]
  },
  {
   "cell_type": "code",
   "execution_count": 24,
   "metadata": {},
   "outputs": [
    {
     "name": "stdout",
     "output_type": "stream",
     "text": [
      "s\n",
      "s\n"
     ]
    },
    {
     "data": {
      "text/plain": [
       "True"
      ]
     },
     "execution_count": 24,
     "metadata": {},
     "output_type": "execute_result"
    }
   ],
   "source": [
    "# 6. Select the last character from this string using at least two different methods.\n",
    "\n",
    "# Method 1\n",
    "print(s[-1])\n",
    "\n",
    "# Method 2\n",
    "print(s[len(s) - 1])"
   ]
  },
  {
   "cell_type": "code",
   "execution_count": 27,
   "metadata": {},
   "outputs": [
    {
     "name": "stdout",
     "output_type": "stream",
     "text": [
      "True\n",
      "True\n"
     ]
    }
   ],
   "source": [
    "# Start with and end with methods\n",
    "\n",
    "# Start with method\n",
    "print(s.startswith(\"NHH\"))\n",
    "\n",
    "# End with method\n",
    "print(s.endswith(\"Economics\"))"
   ]
  },
  {
   "cell_type": "code",
   "execution_count": 28,
   "metadata": {},
   "outputs": [
    {
     "name": "stdout",
     "output_type": "stream",
     "text": [
      "0.09177149999959511\n"
     ]
    }
   ],
   "source": [
    "# Using %timeit to measure the time taken to execute the code\n",
    "\n",
    "# 1. Measure the time taken to create a list of numbers from 0 to 999 using the range() function.\n",
    "import timeit\n",
    "\n",
    "print(timeit.timeit(\"list(range(1000))\", number=10000))"
   ]
  },
  {
   "cell_type": "markdown",
   "metadata": {},
   "source": [
    "# Summing lists and arrays\n",
    "\n",
    "In this exercise, we investigate an additional difference between built-in lists and NumPy arrays: performance.\n",
    "You are asked to investigate performance differences for different implementations of the `sum()` function.\n",
    "\n",
    "1. Create a list `lst` and a NumPy array `arr`, each of them containing the sequence\n",
    "   of ten values `0, 1, 2, ..., 9`.\n",
    "\n",
    "   _Hint_: You can use the list constructor [`list()`](https://www.w3schools.com/python/ref_func_list.asp)\n",
    "   and combine it with the [`range()`](https://docs.python.org/3/library/functions.html#func-range)\n",
    "   function which returns an objecting representing a range of integers.\n",
    "\n",
    "   _Hint:_ You should create the NumPy array using\n",
    "   [`np.arange()`](https://numpy.org/doc/stable/reference/generated/numpy.arange.html).\n",
    "\n",
    "2. We want to compute the sum of integers contained in `lst` and `arr`. Use\n",
    "   the built-in function [`sum()`](https://www.w3schools.com/python/ref_func_sum.asp)\n",
    "   to sum elements of a list.\n",
    "   For the NumPy array, use the NumPy function\n",
    "   [`np.sum()`](https://numpy.org/doc/stable/reference/generated/numpy.sum.html).\n",
    "\n",
    "3. You are interested in benchmarking which summing function is faster.\n",
    "   Repeat the steps from above, but use the cell magic\n",
    "   [`%timeit`](https://ipython.readthedocs.io/en/stable/interactive/magics.html#magic-timeit)\n",
    "   to time the execution of a statement as follows:\n",
    "\n",
    "   ```python\n",
    "   %timeit statement\n",
    "   ```\n",
    "\n",
    "4. Recreate the list and array to contain 100 integers starting from 0,\n",
    "   and rerun the benchmark.\n",
    "\n",
    "5. Recreate the list and array to contain 10,000 integers starting from 0,\n",
    "   and rerun the benchmark.\n",
    "\n",
    "What do you conclude about the relative performance of built-in lists\n",
    "vs. NumPy arrays?\n"
   ]
  },
  {
   "cell_type": "code",
   "execution_count": 29,
   "metadata": {},
   "outputs": [
    {
     "name": "stdout",
     "output_type": "stream",
     "text": [
      "[0, 1, 2, 3, 4, 5, 6, 7, 8, 9]\n",
      "[0 1 2 3 4 5 6 7 8 9]\n"
     ]
    }
   ],
   "source": [
    "# 1. Create a list and a Numpy array - sequence of 10 values 0,1, ..., 9.\n",
    "import numpy as np\n",
    "\n",
    "lst = list(range(10))\n",
    "arr = np.arange(10)\n",
    "\n",
    "print(lst)\n",
    "print(arr)"
   ]
  },
  {
   "cell_type": "code",
   "execution_count": 30,
   "metadata": {},
   "outputs": [
    {
     "name": "stdout",
     "output_type": "stream",
     "text": [
      "45\n",
      "45\n"
     ]
    }
   ],
   "source": [
    "# 2. Compute the sum of integers contained in lst and arr.\n",
    "\n",
    "# Sum of integers in lst\n",
    "print(sum(lst))\n",
    "\n",
    "# Sum of integers in arr\n",
    "print(np.sum(arr))"
   ]
  },
  {
   "cell_type": "code",
   "execution_count": 32,
   "metadata": {},
   "outputs": [
    {
     "name": "stdout",
     "output_type": "stream",
     "text": [
      "73.1 ns ± 1.58 ns per loop (mean ± std. dev. of 7 runs, 10,000,000 loops each)\n",
      "1.66 μs ± 7.52 ns per loop (mean ± std. dev. of 7 runs, 1,000,000 loops each)\n",
      "None\n",
      "None\n"
     ]
    }
   ],
   "source": [
    "# 3. Benchmarking which summing function is faster using %timeit.\n",
    "\n",
    "# Sum of integers in lst\n",
    "time_lst = %timeit sum(lst)\n",
    "\n",
    "# Sum of integers in arr\n",
    "time_arr = %timeit np.sum(arr)\n",
    "\n",
    "print(time_lst)\n",
    "print(time_arr)"
   ]
  },
  {
   "cell_type": "code",
   "execution_count": 34,
   "metadata": {},
   "outputs": [
    {
     "name": "stdout",
     "output_type": "stream",
     "text": [
      "0.0007499000003008405\n",
      "0.016937899999902584\n"
     ]
    }
   ],
   "source": [
    "# 3 Alternative solution\n",
    "import timeit as ti\n",
    "\n",
    "# Sum of integers in lst\n",
    "time_lst = ti.timeit(\"sum(lst)\", globals=globals(), number=10000)\n",
    "\n",
    "# Sum of integers in arr\n",
    "time_arr = ti.timeit(\"np.sum(arr)\", globals=globals(), number=10000)\n",
    "\n",
    "print(time_lst)\n",
    "print(time_arr)"
   ]
  },
  {
   "cell_type": "code",
   "execution_count": 46,
   "metadata": {},
   "outputs": [
    {
     "name": "stdout",
     "output_type": "stream",
     "text": [
      "346 ns ± 7.05 ns per loop (mean ± std. dev. of 7 runs, 1,000,000 loops each)\n",
      "1.72 μs ± 12.9 ns per loop (mean ± std. dev. of 7 runs, 1,000,000 loops each)\n"
     ]
    }
   ],
   "source": [
    "# 4. Recreate the list array to contain 100 integers from 0, and return the benchmark for the summing functions.\n",
    "lst = list(range(100))\n",
    "arr = np.arange(100)\n",
    "\n",
    "time_lst = %timeit sum(lst)\n",
    "time_arr = %timeit np.sum(arr)"
   ]
  },
  {
   "cell_type": "code",
   "execution_count": 48,
   "metadata": {},
   "outputs": [
    {
     "name": "stdout",
     "output_type": "stream",
     "text": [
      "0.003518200000144134\n",
      "0.018346600000768376\n"
     ]
    }
   ],
   "source": [
    "# Alternative solution\n",
    "time_lst = ti.timeit(\"sum(lst)\", globals=globals(), number=10000)\n",
    "time_arr = ti.timeit(\"np.sum(arr)\", globals=globals(), number=10000)\n",
    "\n",
    "print(time_lst)\n",
    "print(time_arr)"
   ]
  },
  {
   "cell_type": "code",
   "execution_count": 51,
   "metadata": {},
   "outputs": [
    {
     "name": "stdout",
     "output_type": "stream",
     "text": [
      "25.2 μs ± 898 ns per loop (mean ± std. dev. of 7 runs, 10,000 loops each)\n",
      "3.41 μs ± 46.9 ns per loop (mean ± std. dev. of 7 runs, 100,000 loops each)\n"
     ]
    }
   ],
   "source": [
    "# 5. Recreate the list array to contain 10 000 integers from 0, and return the benchmark.\n",
    "N = 10_000\n",
    "\n",
    "lst = list(range(N))\n",
    "arr = np.arange(N)\n",
    "\n",
    "time_lst = %timeit sum(lst)\n",
    "time_arr = %timeit np.sum(arr)"
   ]
  },
  {
   "cell_type": "code",
   "execution_count": 55,
   "metadata": {},
   "outputs": [
    {
     "name": "stdout",
     "output_type": "stream",
     "text": [
      "0.24967480000032083\n",
      "0.030575499999940803\n"
     ]
    }
   ],
   "source": [
    "# Alternative solution\n",
    "time_lst = ti.timeit(\"sum(lst)\", globals=globals(), number=N)\n",
    "time_arr = ti.timeit(\"np.sum(arr)\", globals=globals(), number=N)\n",
    "\n",
    "print(time_lst)\n",
    "print(time_arr)"
   ]
  }
 ],
 "metadata": {
  "kernelspec": {
   "display_name": "FIE463",
   "language": "python",
   "name": "python3"
  },
  "language_info": {
   "codemirror_mode": {
    "name": "ipython",
    "version": 3
   },
   "file_extension": ".py",
   "mimetype": "text/x-python",
   "name": "python",
   "nbconvert_exporter": "python",
   "pygments_lexer": "ipython3",
   "version": "3.12.8"
  }
 },
 "nbformat": 4,
 "nbformat_minor": 2
}
