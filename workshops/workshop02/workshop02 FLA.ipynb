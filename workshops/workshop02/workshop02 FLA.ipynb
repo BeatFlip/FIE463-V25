{
 "cells": [
  {
   "cell_type": "markdown",
   "metadata": {},
   "source": [
    "# Exercise 1: CRRA utility function\n",
    "\n",
    "The CRRA utility function (constant relative risk aversion) is the most widely used utility function in macroeconomics and finance. It is defined as\n",
    "\n",
    "$$\n",
    "u(c) = \\begin{cases}\n",
    "    \\frac{c^{1-\\gamma}}{1-\\gamma} & \\text{if } \\gamma \\neq 1 \\\\\n",
    "    \\log(c) & \\text{else}\n",
    "\\end{cases}\n",
    "$$\n",
    "\n",
    "where $c$ is consumption and $\\gamma$ is the (constant) risk-aversion parameter, and $\\log(\\bullet)$ denotes the natural logarithm.\n",
    "\n",
    "1. You want to evaluate the utility at $c = 2$ for various levels of $\\gamma$.\n",
    "\n",
    "   1. Define a list `gammas` with the values 0.5, 1, and 2.\n",
    "   2. Loop over all elements in `gammas` and evaluate the corresponding utility. Use an `if` statement to correctly handle the two cases from the above formula.\n",
    "\n",
    "      _Hint:_ Import the `log` function from the `math` module to evaluate the natural logarithm:\n",
    "\n",
    "      ```python\n",
    "      from math import log\n",
    "      ```\n",
    "\n",
    "      _Hint:_ To perform exponentiation, use the `**` operator (see the [list of operator](https://www.w3schools.com/python/python_operators.asp)).\n",
    "\n",
    "   3. Store the utility in a dictionary, using the values of $\\gamma$ as keys, and print the result.\n",
    "\n",
    "2. Can you solve the exercise using a single list comprehension to create the result dictionary?\n",
    "\n",
    "   _Hint:_ You will need to use a conditional expression we covered in the lecture.\n"
   ]
  },
  {
   "cell_type": "code",
   "execution_count": 3,
   "metadata": {},
   "outputs": [
    {
     "name": "stdout",
     "output_type": "stream",
     "text": [
      "{0.5: 2.8284271247461903, 1.0: 0.6931471805599453, 2.0: -0.5}\n"
     ]
    }
   ],
   "source": [
    "# Part 1\n",
    "# Evaluate the utilty of the model when c = 2\n",
    "gammas = [0.5, 1.0, 2.0]\n",
    "\n",
    "# Import the log function from the math module\n",
    "from math import log\n",
    "\n",
    "# Create a dictionary to store the utility values\n",
    "utility = {}\n",
    "\n",
    "# Consumption level at which to evaluate the utility\n",
    "c = 2\n",
    "\n",
    "# Loop over the gamma values\n",
    "for gamma in gammas:\n",
    "    if gamma != 1:\n",
    "        u = c ** (1 - gamma) / (1 - gamma)\n",
    "    else:\n",
    "        u = log(c)\n",
    "    # Store the utility in the dictionary\n",
    "    utility[gamma] = u\n",
    "\n",
    "# Print the utility values\n",
    "print(utility)"
   ]
  },
  {
   "cell_type": "code",
   "execution_count": 4,
   "metadata": {},
   "outputs": [
    {
     "name": "stdout",
     "output_type": "stream",
     "text": [
      "{0.5: 2.8284271247461903, 1.0: 0.6931471805599453, 2.0: -0.5}\n"
     ]
    }
   ],
   "source": [
    "# Part 2\n",
    "# Solve the excericise using a single list comprehension to create the result dictionary\n",
    "# Create a dictionary to store the utility values\n",
    "utility = {\n",
    "    gamma: c ** (1 - gamma) / (1 - gamma) if gamma != 1 else log(c) for gamma in gammas\n",
    "}\n",
    "\n",
    "# Print the utility values\n",
    "print(utility)"
   ]
  },
  {
   "cell_type": "markdown",
   "metadata": {},
   "source": [
    "# Exercise 2: Maximizing quadratic utility\n"
   ]
  },
  {
   "cell_type": "markdown",
   "metadata": {},
   "source": [
    "Consider the following quadratic utility function\n",
    "\n",
    "$$\n",
    "u(c) = - A (c - B)^2 + C\n",
    "$$\n",
    "\n",
    "where $A > 0$, $B > 0$ and $C$ are parameters, and $c$ is the consumption level.\n",
    "\n",
    "In this exercise, you are asked to locate the consumption level which delivers the maximum utility.\n",
    "\n",
    "1. Find the maximum using a loop:\n",
    "   1. Create an array `cons` of 51 candidate consumption levels which are uniformly spaced on the interval $[0, 4]$.\n",
    "   2. Use the parameters $A = 1$, $B=2$, and $C=10$.\n",
    "   3. Loop through all candidate consumption levels, and compute the associated utility. If this utility is larger than\n",
    "      the previous maximum value `u_max`, update `u_max` and store the associated consumption level `cons_max`.\n",
    "   4. Print `u_max` and `cons_max` after the loop terminates.\n",
    "2. Repeat the exercise, but instead use vectorized operations from NumPy:\n",
    "   1. Compute and store the utility levels for _all_ elements in `cons` at once (simply apply the formula to the whole array).\n",
    "   2. Locate the index of the maximum utility level using\n",
    "      [`np.argmax()`](https://numpy.org/doc/stable/reference/generated/numpy.argmax.html).\n",
    "   3. Use the index returned by `np.argmax()` to retrieve the maximum utility and the\n",
    "      corresponding consumption level, and print the results.\n"
   ]
  },
  {
   "cell_type": "code",
   "execution_count": 5,
   "metadata": {},
   "outputs": [
    {
     "name": "stdout",
     "output_type": "stream",
     "text": [
      "Maximum utility is 10.0 and it is achieved when consumption is 2.0\n"
     ]
    }
   ],
   "source": [
    "# Part 1\n",
    "# Import numpy\n",
    "import numpy as np\n",
    "\n",
    "# Create an numpay array of 51 consumption values spaced between 0 and 4\n",
    "consumption = np.linspace(0, 4, 51)\n",
    "\n",
    "# Define parameters\n",
    "A = 1\n",
    "B = 2\n",
    "C = 10\n",
    "\n",
    "u_max = -np.inf  # This number is smaller than any number: -infinity\n",
    "c_max = None\n",
    "\n",
    "# Evaluate utility for each candidate consupmtion level, update maximum\n",
    "for c in consumption:\n",
    "    utility = -A * (c - B) ** 2 + C\n",
    "    if utility > u_max:\n",
    "        u_max = utility\n",
    "        c_max = c\n",
    "\n",
    "# Print the result\n",
    "print(f\"Maximum utility is {u_max} and it is achieved when consumption is {c_max}\")"
   ]
  },
  {
   "cell_type": "code",
   "execution_count": 6,
   "metadata": {},
   "outputs": [
    {
     "name": "stdout",
     "output_type": "stream",
     "text": [
      "Maximum utility is 10.0 and it is achieved when consumption is 2.0\n"
     ]
    }
   ],
   "source": [
    "# Part 2\n",
    "util = -A * (consumption - B) ** 2.0 + C\n",
    "# Print the utility levels\n",
    "util\n",
    "\n",
    "# Locate the index of the maximum utility\n",
    "index_max = np.argmax(util)\n",
    "\n",
    "# Recover the utility and consumption level that generate the maximum utility\n",
    "max_util = util[index_max]\n",
    "max_cons = consumption[index_max]\n",
    "\n",
    "# Print the result\n",
    "print(\n",
    "    f\"Maximum utility is {max_util} and it is achieved when consumption is {max_cons}\"\n",
    ")"
   ]
  },
  {
   "cell_type": "code",
   "execution_count": 16,
   "metadata": {},
   "outputs": [
    {
     "name": "stdout",
     "output_type": "stream",
     "text": [
      "2\n"
     ]
    }
   ],
   "source": [
    "# Self-test\n",
    "\n",
    "# Find the optimal consumption level by taking the derivative of the utility function and setting it to zero using sympy\n",
    "import sympy as sp\n",
    "\n",
    "# Define the utility function\n",
    "U = -A * (c - B) ** 2 + C\n",
    "\n",
    "# Take the derivative of the utility function\n",
    "dU = sp.diff(U, c)\n",
    "\n",
    "# Solve for the optimal consumption level\n",
    "c_opt = sp.solve(dU, c)[0]\n",
    "\n",
    "# Print the optimal consumption level\n",
    "print(c_opt)"
   ]
  },
  {
   "cell_type": "markdown",
   "metadata": {},
   "source": [
    "# Exercise 3: Summing finite values\n",
    "\n",
    "In this exercise, we explore how to ignore non-finite array elements when computing sums,\n",
    "i.e., elements which are either NaN (\"Not a number\", represented by `np.nan`), $-\\infty$ (`-np.inf`) or $\\infty$ (`np.inf`).\n",
    "Such situations arise if data for some observations is missing and is then frequently encoded as `np.nan`.\n",
    "\n",
    "1. Create an array of 1001 elements which are uniformly spaced on the interval $[0, 10]$.\n",
    "   Set every second element to the value `np.nan`.\n",
    "\n",
    "   _Hint:_ You can select and overwrite every second element using `start:stop:step`\n",
    "   array indexing.\n",
    "\n",
    "   Using [`np.sum()`](https://numpy.org/doc/stable/reference/generated/numpy.sum.html),\n",
    "   verify that the sum of this array is NaN.\n",
    "\n",
    "2. Write a loop that computes the sum of finite elements in this array. Check that an array element\n",
    "   is finite using the function\n",
    "   [`np.isfinite()`](https://numpy.org/doc/stable/reference/generated/numpy.isfinite.html)\n",
    "   and ignore non-finite elements.\n",
    "\n",
    "   Print the resulting sum of finite elements.\n",
    "\n",
    "3. Since this use case is quite common, NumPy implements the function\n",
    "   [`np.nansum()`](https://numpy.org/doc/stable/reference/generated/numpy.nansum.html)\n",
    "   which performs exactly this task for you.\n",
    "\n",
    "   Verify that `np.nansum()` gives the same result and benchmark it against\n",
    "   your loop-based implementation.\n",
    "\n",
    "   _Hint:_ You'll need to use the `%%timeit`\n",
    "   [cell magic](https://ipython.readthedocs.io/en/stable/interactive/magics.html#magic-timeit)\n",
    "   (with two %)\n",
    "   if you want to benchmark all code contained in a cell.\n"
   ]
  },
  {
   "cell_type": "code",
   "execution_count": 11,
   "metadata": {},
   "outputs": [
    {
     "name": "stdout",
     "output_type": "stream",
     "text": [
      "[0.    nan 0.02  nan 0.04]\n"
     ]
    },
    {
     "data": {
      "text/plain": [
       "np.float64(nan)"
      ]
     },
     "execution_count": 11,
     "metadata": {},
     "output_type": "execute_result"
    }
   ],
   "source": [
    "# Part 1\n",
    "# Create an array of 1001 elements which are uniformly spaced between 0 and 10\n",
    "x = np.linspace(0, 10, 1001)\n",
    "\n",
    "# Set every second element of x to np.nan\n",
    "x[1::2] = np.nan  # Start at the second element and select every second element\n",
    "\n",
    "\n",
    "# Print the first 5 elements of the array\n",
    "print(x[:5])\n",
    "\n",
    "# Veryfy that the sum of this array is NaN\n",
    "np.sum(x)"
   ]
  },
  {
   "cell_type": "code",
   "execution_count": 26,
   "metadata": {},
   "outputs": [
    {
     "name": "stdout",
     "output_type": "stream",
     "text": [
      "519 μs ± 15.7 μs per loop (mean ± std. dev. of 7 runs, 1,000 loops each)\n"
     ]
    }
   ],
   "source": [
    "%%timeit\n",
    "\n",
    "# Part 2\n",
    "\n",
    "# Benchmark \n",
    "# A Loop to compute the sum of finite elements in the array\n",
    "# Initialize the sum\n",
    "sum_finite = 0\n",
    "\n",
    "# Loop over the elements in the array\n",
    "for element in x:\n",
    "    # Check if the element is finite\n",
    "    if np.isfinite(element):\n",
    "        # Add the element to the sum\n",
    "        sum_finite += element"
   ]
  },
  {
   "cell_type": "code",
   "execution_count": 25,
   "metadata": {},
   "outputs": [
    {
     "name": "stdout",
     "output_type": "stream",
     "text": [
      "9.97 μs ± 237 ns per loop (mean ± std. dev. of 7 runs, 100,000 loops each)\n"
     ]
    }
   ],
   "source": [
    "%%timeit\n",
    "\n",
    "# Part 3\n",
    "# Use the np.nansum function to compute the sum of the array\n",
    "# Compute the sum of the array\n",
    "sum_total = np.nansum(x)\n"
   ]
  },
  {
   "cell_type": "code",
   "execution_count": 27,
   "metadata": {},
   "outputs": [
    {
     "name": "stdout",
     "output_type": "stream",
     "text": [
      "2505.0000000000005\n",
      "2505.0\n"
     ]
    }
   ],
   "source": [
    "# Print the sums\n",
    "print(sum_finite)\n",
    "print(sum_total)"
   ]
  },
  {
   "cell_type": "markdown",
   "metadata": {},
   "source": [
    "# Exercise 4: Approximating the sum of a geometric series\n",
    "\n",
    "Let $\\alpha \\in (-1,1)$. The sum of the\n",
    "geometric series $(1,\\alpha,\\alpha^2,\\dots)$ is given by\n",
    "$$\\sigma = \\sum_{i=0}^{\\infty} \\alpha^i = \\frac{1}{1-\\alpha}$$\n",
    "\n",
    "In this exercise, you are asked to approximate this sum using the first $N$ values of the sequence, i.e.,\n",
    "\n",
    "$$\n",
    "\\sigma \\approx s_N = \\sum_{i=0}^N \\alpha^i\n",
    "$$\n",
    "\n",
    "where $N$ is chosen to be sufficiently large.\n",
    "\n",
    "1. Assume that $\\alpha=0.9$.\n",
    "   Write a `while` loop to approximate the sum $\\sigma$ by computing $s_N$\n",
    "   for an increasing $N$.\n",
    "   Terminate the computation as soon as an additional increment $\\alpha^N$\n",
    "   is smaller than $10^{-10}$.\n",
    "   Compare your result to the exact value $\\sigma$.\n",
    "\n",
    "2. Now assume that $\\alpha = -0.9$. Adapt your previous solution so that it terminates when the\n",
    "   _absolute value_ of the increment is less than $10^{-10}$.\n",
    "   Compare your result to the exact value $\\sigma$.\n",
    "\n",
    "   _Hint:_ Use the built-in function `abs()` to compute the absolute value.\n"
   ]
  },
  {
   "cell_type": "code",
   "execution_count": 39,
   "metadata": {},
   "outputs": [
    {
     "name": "stdout",
     "output_type": "stream",
     "text": [
      "Number of iterations: 219\n",
      "\n",
      "Approximated sigma: 9.999999999046967, Exact sigma: 10.000000000000002\n"
     ]
    }
   ],
   "source": [
    "# Part 1\n",
    "# Convergence tolerance\n",
    "tol = 10e-10\n",
    "alpha = 0.9\n",
    "# The correct value\n",
    "sigma_exact = 1.0 / (1.0 - alpha)\n",
    "\n",
    "# keep track of number of iterations\n",
    "n = 0\n",
    "\n",
    "# Initialise approximated sum\n",
    "sigma = 0.0\n",
    "\n",
    "# Iterate until absolute difference is smaller than tolerance level.\n",
    "while abs(sigma - sigma_exact) > tol:\n",
    "    sigma += alpha**n\n",
    "    # Increment exponent\n",
    "    n += 1\n",
    "\n",
    "# Print the number of iterations\n",
    "print(f\"Number of iterations: {n}\\n\")\n",
    "\n",
    "# Print the approximated sigma vs the exact sigma\n",
    "print(f\"Approximated sigma: {sigma}, Exact sigma: {sigma_exact}\")"
   ]
  },
  {
   "cell_type": "code",
   "execution_count": 40,
   "metadata": {},
   "outputs": [
    {
     "name": "stdout",
     "output_type": "stream",
     "text": [
      "Number of iterations: 191\n",
      "\n",
      "Approximated sigma: 0.5263157904321262, Exact sigma: 0.5263157894736842\n"
     ]
    }
   ],
   "source": [
    "# Part 2\n",
    "# Convergence tolerance\n",
    "tol = 10e-10\n",
    "alpha = -0.9\n",
    "# The correct value\n",
    "sigma_exact = 1.0 / (1.0 - alpha)\n",
    "\n",
    "# keep track of number of iterations\n",
    "n = 0\n",
    "\n",
    "# Initialise approximated sum\n",
    "sigma = 0.0\n",
    "\n",
    "# Iterate until absolute difference is smaller than tolerance level.\n",
    "while True:\n",
    "    sigma += alpha**n\n",
    "    n += 1\n",
    "    if abs(sigma - sigma_exact) < tol:\n",
    "        break\n",
    "\n",
    "# Print the number of iterations\n",
    "print(f\"Number of iterations: {n}\\n\")\n",
    "\n",
    "# Print the approximated sigma vs the exact sigma\n",
    "print(f\"Approximated sigma: {sigma}, Exact sigma: {sigma_exact}\")"
   ]
  }
 ],
 "metadata": {
  "kernelspec": {
   "display_name": "FIE463",
   "language": "python",
   "name": "python3"
  },
  "language_info": {
   "codemirror_mode": {
    "name": "ipython",
    "version": 3
   },
   "file_extension": ".py",
   "mimetype": "text/x-python",
   "name": "python",
   "nbconvert_exporter": "python",
   "pygments_lexer": "ipython3",
   "version": "3.12.8"
  }
 },
 "nbformat": 4,
 "nbformat_minor": 2
}
