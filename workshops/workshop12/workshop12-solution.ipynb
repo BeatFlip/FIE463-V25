{
 "cells": [
  {
   "attachments": {},
   "cell_type": "markdown",
   "metadata": {},
   "source": [
    "# Exercise 1: Predicting house prices with linear models\n",
    "\n",
    "In this exercise, you will work with the Ames housing data set which we already encountered in the lectures. Your task is to evaluate the following three linear models in terms of their performance when predicting house prices:\n",
    "\n",
    "1.  Linear regression without any regularization\n",
    "2.  Ridge regression\n",
    "3.  Lasso"
   ]
  },
  {
   "attachments": {},
   "cell_type": "markdown",
   "metadata": {},
   "source": [
    "## Data description\n",
    "\n",
    "The data is stored in in the file [`data/ames_houses.csv`](../../data/ames_houses.csv) and can be loaded as follows:"
   ]
  },
  {
   "cell_type": "code",
   "execution_count": 1,
   "metadata": {},
   "outputs": [
    {
     "name": "stdout",
     "output_type": "stream",
     "text": [
      "Number of observations: 2,755\n"
     ]
    }
   ],
   "source": [
    "import pandas as pd\n",
    "\n",
    "# Use this path to use the CSV file from the data/ directory\n",
    "file = '../../data/ames_houses.csv'\n",
    "\n",
    "df = pd.read_csv(file, sep=',')\n",
    "\n",
    "# Variables used in the analysis\n",
    "variables = [\n",
    "    'LotArea',\n",
    "    'LivingArea',\n",
    "    'Bathrooms',\n",
    "    'Bedrooms',\n",
    "    'SalePrice',\n",
    "    'OverallQuality',\n",
    "    'BuildingType',\n",
    "    'YearBuilt',\n",
    "    'CentralAir',\n",
    "]\n",
    "\n",
    "# Drop rows with any missing observation\n",
    "df = df.dropna(subset=variables)\n",
    "\n",
    "# Drop observations with large living or lot area\n",
    "df = df.query('LivingArea <= 350 & LotArea <= 5000')\n",
    "\n",
    "print(f'Number of observations: {df.shape[0]:,d}')"
   ]
  },
  {
   "attachments": {},
   "cell_type": "markdown",
   "metadata": {},
   "source": [
    "The included variables are a simplified subset of the original data (see [here](https://jse.amstat.org/v19n3/decock/DataDocumentation.txt) \n",
    "for a detailed description of the original variables):\n",
    "\n",
    "1. `LotArea`: Lot size in square meters\n",
    "2. `Neighborhood`: Physical locations within Ames city limits\n",
    "3. `OverallQuality`: Rates the overall material and finish of the house\n",
    "    (1 = very poor, 10 = excellent)\n",
    "4. `OverallCondition`: Rates the overall condition of the house\n",
    "    (1 = very poor, 10 = excellent)\n",
    "5. `YearBuilt`: Original construction date\n",
    "6. `YearRemodeled`: Remodel date (same as construction date if no remodeling or additions)\n",
    "7. `BuildingType`: Type of dwelling\n",
    "8. `CentralAir`: Central air conditioning (string, Y/N)\n",
    "9. `LivingArea`: Above grade (ground) living area in square meters\n",
    "10. `Bathrooms`: Full bathrooms above grade\n",
    "11. `Bedrooms`: Bedrooms above grade (does not include basement bedrooms)\n",
    "12. `Fireplaces`: Number of fireplaces\n",
    "13. `SalePrice`: Sale price in thousands of USD\n",
    "14. `YearSold`: Year sold\n",
    "15. `MonthSold`: Month sold\n",
    "16. `HasGarage`: Flag whether property has a garage"
   ]
  },
  {
   "attachments": {},
   "cell_type": "markdown",
   "metadata": {},
   "source": [
    "***\n",
    "## Part 1 — Data preprocessing\n",
    "\n",
    "Apply the following steps to preprocess the data before estimation:\n",
    "\n",
    "1. Recode the string values in column `CentralAir` into numbers such that \n",
    "    `'N'` is mapped to 0 and `'Y'` is mapped to 1.\n",
    "2. Recode the string values in column `BuildingType` and create the new variable\n",
    "    `IsSingleFamily` which takes on the value 1 whenever a house is a \n",
    "    single-family home and 0 otherwise.\n",
    "3. Convert the variables `SalePrice`, `LivingArea` and `LotArea` to (natural) logs.\n",
    "    Name the transformed columns `logSalePrice`, `logLivingArea` and `logLotArea`.\n",
    "4.  Plot the histograms of `SalePrice`, `LivingArea`, and `LotArea`. In a new figure,\n",
    "    plot the histograms of `logSalePrice`, `logLivingArea` and `logLotArea`.\n",
    "    Which set of variables os better suited for model fitting?"
   ]
  },
  {
   "attachments": {},
   "cell_type": "markdown",
   "metadata": {},
   "source": [
    "### Solution"
   ]
  },
  {
   "attachments": {},
   "cell_type": "markdown",
   "metadata": {},
   "source": [
    "#### 1. Recode string variable `CentralAir`"
   ]
  },
  {
   "cell_type": "code",
   "execution_count": 2,
   "metadata": {},
   "outputs": [
    {
     "data": {
      "text/plain": [
       "CentralAir\n",
       "Y    2587\n",
       "N     168\n",
       "Name: count, dtype: int64"
      ]
     },
     "execution_count": 2,
     "metadata": {},
     "output_type": "execute_result"
    }
   ],
   "source": [
    "# Tabulate frequency of string values\n",
    "df['CentralAir'].value_counts()"
   ]
  },
  {
   "cell_type": "code",
   "execution_count": 3,
   "metadata": {},
   "outputs": [],
   "source": [
    "# Create indicator variable\n",
    "df['CentralAir'] = df['CentralAir'].map({'Y': 1, 'N': 0})"
   ]
  },
  {
   "attachments": {},
   "cell_type": "markdown",
   "metadata": {},
   "source": [
    "#### 2. Recode `BuildingType` to an indicator for single-family home"
   ]
  },
  {
   "cell_type": "code",
   "execution_count": 4,
   "metadata": {},
   "outputs": [
    {
     "data": {
      "text/plain": [
       "BuildingType\n",
       "Single-family    2413\n",
       "Townhouse         233\n",
       "Two-family        109\n",
       "Name: count, dtype: int64"
      ]
     },
     "execution_count": 4,
     "metadata": {},
     "output_type": "execute_result"
    }
   ],
   "source": [
    "# Tabulate original string values\n",
    "df['BuildingType'].value_counts(dropna=False)"
   ]
  },
  {
   "cell_type": "code",
   "execution_count": 5,
   "metadata": {},
   "outputs": [
    {
     "data": {
      "text/html": [
       "<div>\n",
       "<style scoped>\n",
       "    .dataframe tbody tr th:only-of-type {\n",
       "        vertical-align: middle;\n",
       "    }\n",
       "\n",
       "    .dataframe tbody tr th {\n",
       "        vertical-align: top;\n",
       "    }\n",
       "\n",
       "    .dataframe thead th {\n",
       "        text-align: right;\n",
       "    }\n",
       "</style>\n",
       "<table border=\"1\" class=\"dataframe\">\n",
       "  <thead>\n",
       "    <tr style=\"text-align: right;\">\n",
       "      <th>BuildingType</th>\n",
       "      <th>Single-family</th>\n",
       "      <th>Townhouse</th>\n",
       "      <th>Two-family</th>\n",
       "    </tr>\n",
       "    <tr>\n",
       "      <th>IsSingleFamily</th>\n",
       "      <th></th>\n",
       "      <th></th>\n",
       "      <th></th>\n",
       "    </tr>\n",
       "  </thead>\n",
       "  <tbody>\n",
       "    <tr>\n",
       "      <th>0</th>\n",
       "      <td>0</td>\n",
       "      <td>233</td>\n",
       "      <td>109</td>\n",
       "    </tr>\n",
       "    <tr>\n",
       "      <th>1</th>\n",
       "      <td>2413</td>\n",
       "      <td>0</td>\n",
       "      <td>0</td>\n",
       "    </tr>\n",
       "  </tbody>\n",
       "</table>\n",
       "</div>"
      ],
      "text/plain": [
       "BuildingType    Single-family  Townhouse  Two-family\n",
       "IsSingleFamily                                      \n",
       "0                           0        233         109\n",
       "1                        2413          0           0"
      ]
     },
     "execution_count": 5,
     "metadata": {},
     "output_type": "execute_result"
    }
   ],
   "source": [
    "# Create indicator variable\n",
    "df['IsSingleFamily'] = (df['BuildingType'] == 'Single-family').astype(int)\n",
    "\n",
    "# Cross-tabulate to make sure recoding worked as intended\n",
    "pd.crosstab(df['IsSingleFamily'], df['BuildingType'])"
   ]
  },
  {
   "attachments": {},
   "cell_type": "markdown",
   "metadata": {},
   "source": [
    "#### 3. Create logged variables"
   ]
  },
  {
   "cell_type": "code",
   "execution_count": 6,
   "metadata": {},
   "outputs": [],
   "source": [
    "import numpy as np\n",
    "\n",
    "columns = ['SalePrice', 'LivingArea', 'LotArea']\n",
    "\n",
    "# Create logged values\n",
    "for col in columns:\n",
    "    df[f'log{col}'] = np.log(df[col])\n",
    "    # Make sure that no NaNs were generated \n",
    "    # (otherwise we'd need to drop those rows)\n",
    "    assert df[f'log{col}'].notna().all()"
   ]
  },
  {
   "cell_type": "markdown",
   "metadata": {},
   "source": [
    "#### 4. Plot histograms of level and log variables\n",
    "\n",
    "The figures below show the histogram of the three variables in levels and in logs. As you can see, the variables in logs are less skewed and don't have the fat tails observed for the level variables. It might therefore be advantageous to include the log-transformed variables when fitting a model to the data. "
   ]
  },
  {
   "cell_type": "code",
   "execution_count": 7,
   "metadata": {},
   "outputs": [
    {
     "data": {
      "application/pdf": "[encoded data removed]",
      "image/png": "[encoded data removed]",
      "text/plain": [
       "<Figure size 1000x300 with 3 Axes>"
      ]
     },
     "metadata": {},
     "output_type": "display_data"
    }
   ],
   "source": [
    "# Create histogram of variables in levels\n",
    "columns = ['SalePrice', 'LotArea', 'LivingArea']\n",
    "axes = df[columns].hist(\n",
    "    bins=50,\n",
    "    layout=(1, 3),\n",
    "    figsize=(10, 3),\n",
    "    density=True,\n",
    "    sharex=False,\n",
    "    grid=False,\n",
    "    color='steelblue',\n",
    "    edgecolor='white',\n",
    "    lw=0.4,\n",
    ")\n",
    "axes[0, 0].figure.tight_layout()"
   ]
  },
  {
   "cell_type": "code",
   "execution_count": 8,
   "metadata": {},
   "outputs": [
    {
     "data": {
      "application/pdf": "[encoded data removed]",
      "image/png": "[encoded data removed]",
      "text/plain": [
       "<Figure size 900x300 with 3 Axes>"
      ]
     },
     "metadata": {},
     "output_type": "display_data"
    }
   ],
   "source": [
    "from scipy.stats import norm\n",
    "\n",
    "# Create histogram of variables in logs, superimpose normal PDF\n",
    "columns = ['logSalePrice', 'logLotArea', 'logLivingArea']\n",
    "# Compute mean and standard deviation of logged variables\n",
    "moments = df[columns].agg(['mean', 'std'])\n",
    "\n",
    "# Create histogram of logged variables\n",
    "axes = df[columns].hist(\n",
    "    bins=50,\n",
    "    layout=(1, 3),\n",
    "    figsize=(9, 3),\n",
    "    density=True,\n",
    "    sharex=False,\n",
    "    sharey=True,\n",
    "    grid=False,\n",
    "    color='steelblue',\n",
    "    edgecolor='white',\n",
    "    lw=0.4,\n",
    ")\n",
    "\n",
    "# Add normal PDF to each subplot\n",
    "for i, ax in enumerate(axes.flatten()):\n",
    "    mean, std = moments.iloc[:, i]\n",
    "    xlim = ax.get_xlim()\n",
    "    xvalues = np.linspace(xlim[0], xlim[1], 100)\n",
    "    yvalues = norm.pdf(xvalues, mean, std)\n",
    "    ax.plot(xvalues, yvalues, color='red', lw=2, label='Normal PDF')\n",
    "    if i == 0:\n",
    "        ax.legend()\n",
    "axes[0, 0].figure.tight_layout()"
   ]
  },
  {
   "attachments": {},
   "cell_type": "markdown",
   "metadata": {},
   "source": [
    "***\n",
    "## Part 2 — Model features\n",
    "\n",
    "### Model specification\n",
    "\n",
    "You are now asked to estimate the following model of house prices\n",
    "as a function of house characteristics:\n",
    "$$\n",
    "\\begin{aligned}\n",
    "\\log(SalePrice_i) \n",
    "    &= \\alpha + f\\Bigl(\\log(LivingArea_i), ~\n",
    "        \\log(LotArea_i), OverallQuality_i,~ \\\\\n",
    "    & \\qquad \\qquad \\qquad  \n",
    "    Bathrooms_i,~ Bedrooms_i\\Bigr) \\\\\n",
    "    &+ \\gamma_0 YearBuilt_i + \n",
    "    \\gamma_1 CentralAir_i + \n",
    "    \\gamma_3 IsSingleFamily_i + \n",
    "    \\epsilon_i\n",
    "\\end{aligned}\n",
    "$$\n",
    "where $i$ indexes observations and $\\epsilon$ is an additive error term.\n",
    "The function $f(\\bullet)$ is a *polynomial of degree 3* in its\n",
    "arguments, i.e., it includes all terms and interactions of the given variables\n",
    "where the exponents sum to 3 or less:\n",
    "$$\n",
    "\\begin{aligned}\n",
    "f(\\log(LivingArea_i), \\log(LotArea_i), \\dots)\n",
    "    &= \\beta_0 \\log(LivingArea_i) \n",
    "    + \\beta_1 \\log(LivingArea_i)^2 \\\\\n",
    "    &+ \\beta_2 \\log(LivingArea_i)^3 \n",
    "    + \\beta_3 \\log(LotArea_i) \\\\\n",
    "    &+ \\beta_4 \\log(LotArea_i)^2\n",
    "    + \\beta_5 \\log(LotArea_i)^3 \\\\\n",
    "    &+ \\beta_6 \\log(LivingArea_i)\\log(LotArea_i) \\\\\n",
    "    &+ \\beta_7 \\log(LivingArea_i)^2 \\log(LotArea_i) \\\\\n",
    "    &+ \\beta_8 \\log(LivingArea_i) \\log(LotArea_i)^2 \\\\\n",
    "    &+ \\cdots \n",
    "\\end{aligned}\n",
    "$$"
   ]
  },
  {
   "attachments": {},
   "cell_type": "markdown",
   "metadata": {},
   "source": [
    "### Creating model features and outcomes\n",
    "\n",
    "\n",
    "1.  Complete the template code below to create a feature matrix `X` which contains all polynomial interactions as well as the remaining non-interacted variables.\n",
    "\n",
    "    *Hints:* \n",
    "\n",
    "    - Use the \n",
    "    [`PolynomialFeatures`](https://scikit-learn.org/stable/modules/generated/sklearn.preprocessing.PolynomialFeatures.html)\n",
    "    transformation to create the polynomial terms and interactions from the columns\n",
    "        `logLivingArea`, `logLotArea`, `OverallQuality`, `Bathrooms` and  `Bedrooms`.\n",
    "    - Make sure that the generated polynomial does *not* contain a \n",
    "    constant (\"bias\"). You should include the intercept when estimating a model instead.\n",
    "    - You can use [`np.hstack()`](https://numpy.org/doc/stable/reference/generated/numpy.hstack.html) to concatenate two matrices (the polynomials and the remaining covariates) along the column dimension.\n",
    "    - The complete feature matrix `X` should contain a total of 58 columns (55 polynomial interactions and 3 non-polynomial features).\n",
    "\n",
    "2.  Split the data into a training and a test subset such that the training\n",
    "sample contains 70% of observations.\n",
    "\n",
    "    *Hint:* \n",
    "\n",
    "    - Use the function [`train_test_split()`](https://scikit-learn.org/stable/modules/generated/sklearn.model_selection.train_test_split.html) to split the sample.\n",
    "        Pass the argument `random_state=1234` to get reproducible results.\n",
    "    - Make sure to define the training and test samples only *once* so that they are identical for all estimators used below. "
   ]
  },
  {
   "cell_type": "code",
   "execution_count": 9,
   "metadata": {},
   "outputs": [],
   "source": [
    "# Random state (for train/test split and cross-validation)\n",
    "RANDOM_STATE = 1234      \n",
    "\n",
    "# Name of target variable\n",
    "target = 'logSalePrice'\n",
    "\n",
    "# Features included as polynomials\n",
    "features_poly = [\n",
    "    'logLivingArea',\n",
    "    'logLotArea',\n",
    "    'OverallQuality',\n",
    "    'Bathrooms',\n",
    "    'Bedrooms',\n",
    "]\n",
    "\n",
    "# Other features not included in polynomials\n",
    "features_other = ['YearBuilt', 'CentralAir', 'IsSingleFamily']\n",
    "features = features_poly + features_other\n",
    "\n",
    "# Keep only columns that are used to estimate model\n",
    "columns = [target] + features\n",
    "df = df[columns]\n",
    "\n",
    "# Response variable\n",
    "y = df[target]\n",
    "\n",
    "# TODO: Create polynomial features\n",
    "\n",
    "# TODO: Merge polynomial features and non-polynomial features into single matrix X\n",
    "\n",
    "# TODO: Split data into training and test sets"
   ]
  },
  {
   "attachments": {},
   "cell_type": "markdown",
   "metadata": {},
   "source": [
    "### Solution"
   ]
  },
  {
   "cell_type": "code",
   "execution_count": 10,
   "metadata": {},
   "outputs": [
    {
     "name": "stdout",
     "output_type": "stream",
     "text": [
      "Number of polynomial features: 55\n",
      "Number of non-polynomial features: 3\n",
      "Number of features: 58\n",
      "Number of observations: 2,755\n"
     ]
    }
   ],
   "source": [
    "from sklearn.preprocessing import PolynomialFeatures\n",
    "\n",
    "# Random state (for train/test split and cross-validation)\n",
    "RANDOM_STATE = 1234\n",
    "\n",
    "# Endogenous (target) variable\n",
    "target = 'logSalePrice'\n",
    "\n",
    "# Features included as polynomials\n",
    "features_poly = [\n",
    "    'logLivingArea',\n",
    "    'logLotArea',\n",
    "    'OverallQuality',\n",
    "    'Bathrooms',\n",
    "    'Bedrooms',\n",
    "]\n",
    "\n",
    "# Other features not included in polynomials\n",
    "features_other = ['YearBuilt', 'CentralAir', 'IsSingleFamily']\n",
    "features = features_poly + features_other\n",
    "\n",
    "# Keep only columns that are used to estimate model\n",
    "columns = [target] + features\n",
    "df = df[columns]\n",
    "\n",
    "# Response variable\n",
    "y = df[target]\n",
    "\n",
    "# Create polynomials of degree 3 or less, excluding intercept\n",
    "poly = PolynomialFeatures(degree=3, include_bias=False)\n",
    "X_poly = poly.fit_transform(df[features_poly])\n",
    "print(f'Number of polynomial features: {X_poly.shape[1]}')\n",
    "\n",
    "# Remaining features that are not use in polynomial\n",
    "X_other = df[features_other]\n",
    "print(f'Number of non-polynomial features: {X_other.shape[1]}')\n",
    "\n",
    "# Create final feature matrix\n",
    "X = np.hstack((X_poly, X_other))\n",
    "\n",
    "# Print number of features and observations in final sample\n",
    "print(f'Number of features: {X.shape[1]:,d}')\n",
    "print(f'Number of observations: {X.shape[0]:,d}')"
   ]
  },
  {
   "attachments": {},
   "cell_type": "markdown",
   "metadata": {},
   "source": [
    "The helper function \n",
    "[`train_test_split()`](https://scikit-learn.org/stable/modules/generated/sklearn.model_selection.train_test_split.html)\n",
    "can be used to randomly assign 70% of observations to the training sub-set."
   ]
  },
  {
   "cell_type": "code",
   "execution_count": 11,
   "metadata": {},
   "outputs": [
    {
     "name": "stdout",
     "output_type": "stream",
     "text": [
      "Number of observation in training sample: 1,928\n",
      "Number of observation in test sample: 827\n"
     ]
    }
   ],
   "source": [
    "from sklearn.model_selection import train_test_split\n",
    "\n",
    "# Fraction assigned to test sub-set\n",
    "test_size = 0.3\n",
    "\n",
    "# Split feature matrix and target variable\n",
    "X_train, X_test, y_train, y_test  = train_test_split(\n",
    "    X, y, \n",
    "    test_size=test_size,\n",
    "    random_state=RANDOM_STATE\n",
    ")\n",
    "\n",
    "print(f'Number of observation in training sample: {X_train.shape[0]:,d}')\n",
    "print(f'Number of observation in test sample: {X_test.shape[0]:,d}')"
   ]
  },
  {
   "attachments": {},
   "cell_type": "markdown",
   "metadata": {},
   "source": [
    "***\n",
    "## Part 3 — Linear regression\n",
    "\n",
    "Perform the following tasks:\n",
    "\n",
    "1. Estimate the above specification using the linear regression model \n",
    "    [`LinearRegression`](https://scikit-learn.org/stable/modules/generated/sklearn.linear_model.LinearRegression.html) on the training sub-set. \n",
    "\n",
    "    -   Do you need to standardize features before estimating a linear regression model? \n",
    "    -   Does the linear regression model have any hyperparameters?\n",
    "\n",
    "2. Compute and report the root mean squared error (RMSE) and the $R^2$ on the test sample.\n",
    "\n",
    "*Hints:*\n",
    "\n",
    "- The root mean squared error can be computed with [`root_mean_squared_error()`](https://scikit-learn.org/stable/modules/generated/sklearn.metrics.root_mean_squared_error.html).\n",
    "\n",
    "- The $R^2$ can be computed with \n",
    "    [r2_score()](https://scikit-learn.org/stable/modules/generated/sklearn.metrics.r2_score.html)."
   ]
  },
  {
   "attachments": {},
   "cell_type": "markdown",
   "metadata": {},
   "source": [
    "### Solution\n",
    "\n",
    "A plain linear regression model can be estimated using\n",
    "[`LinearRegression`](https://scikit-learn.org/stable/modules/generated/sklearn.linear_model.LinearRegression.html). \n",
    "\n",
    "- In general, no standardization is needed for linear regression models. In cases where the \n",
    "    feature matrix contains columns of vastly different magnitudes, standardization may be \n",
    "    beneficial for numerical stability.\n",
    "    \n",
    "- The linear regression model in general does not have any hyperparameters. We could view the polynomial degree used to create the feature matrix as a hyperparameter, but we don't tune this parameter in this exercise."
   ]
  },
  {
   "cell_type": "code",
   "execution_count": 12,
   "metadata": {},
   "outputs": [
    {
     "data": {
      "text/html": [
       "<style>#sk-container-id-1 {\n",
       "  /* Definition of color scheme common for light and dark mode */\n",
       "  --sklearn-color-text: #000;\n",
       "  --sklearn-color-text-muted: #666;\n",
       "  --sklearn-color-line: gray;\n",
       "  /* Definition of color scheme for unfitted estimators */\n",
       "  --sklearn-color-unfitted-level-0: #fff5e6;\n",
       "  --sklearn-color-unfitted-level-1: #f6e4d2;\n",
       "  --sklearn-color-unfitted-level-2: #ffe0b3;\n",
       "  --sklearn-color-unfitted-level-3: chocolate;\n",
       "  /* Definition of color scheme for fitted estimators */\n",
       "  --sklearn-color-fitted-level-0: #f0f8ff;\n",
       "  --sklearn-color-fitted-level-1: #d4ebff;\n",
       "  --sklearn-color-fitted-level-2: #b3dbfd;\n",
       "  --sklearn-color-fitted-level-3: cornflowerblue;\n",
       "\n",
       "  /* Specific color for light theme */\n",
       "  --sklearn-color-text-on-default-background: var(--sg-text-color, var(--theme-code-foreground, var(--jp-content-font-color1, black)));\n",
       "  --sklearn-color-background: var(--sg-background-color, var(--theme-background, var(--jp-layout-color0, white)));\n",
       "  --sklearn-color-border-box: var(--sg-text-color, var(--theme-code-foreground, var(--jp-content-font-color1, black)));\n",
       "  --sklearn-color-icon: #696969;\n",
       "\n",
       "  @media (prefers-color-scheme: dark) {\n",
       "    /* Redefinition of color scheme for dark theme */\n",
       "    --sklearn-color-text-on-default-background: var(--sg-text-color, var(--theme-code-foreground, var(--jp-content-font-color1, white)));\n",
       "    --sklearn-color-background: var(--sg-background-color, var(--theme-background, var(--jp-layout-color0, #111)));\n",
       "    --sklearn-color-border-box: var(--sg-text-color, var(--theme-code-foreground, var(--jp-content-font-color1, white)));\n",
       "    --sklearn-color-icon: #878787;\n",
       "  }\n",
       "}\n",
       "\n",
       "#sk-container-id-1 {\n",
       "  color: var(--sklearn-color-text);\n",
       "}\n",
       "\n",
       "#sk-container-id-1 pre {\n",
       "  padding: 0;\n",
       "}\n",
       "\n",
       "#sk-container-id-1 input.sk-hidden--visually {\n",
       "  border: 0;\n",
       "  clip: rect(1px 1px 1px 1px);\n",
       "  clip: rect(1px, 1px, 1px, 1px);\n",
       "  height: 1px;\n",
       "  margin: -1px;\n",
       "  overflow: hidden;\n",
       "  padding: 0;\n",
       "  position: absolute;\n",
       "  width: 1px;\n",
       "}\n",
       "\n",
       "#sk-container-id-1 div.sk-dashed-wrapped {\n",
       "  border: 1px dashed var(--sklearn-color-line);\n",
       "  margin: 0 0.4em 0.5em 0.4em;\n",
       "  box-sizing: border-box;\n",
       "  padding-bottom: 0.4em;\n",
       "  background-color: var(--sklearn-color-background);\n",
       "}\n",
       "\n",
       "#sk-container-id-1 div.sk-container {\n",
       "  /* jupyter's `normalize.less` sets `[hidden] { display: none; }`\n",
       "     but bootstrap.min.css set `[hidden] { display: none !important; }`\n",
       "     so we also need the `!important` here to be able to override the\n",
       "     default hidden behavior on the sphinx rendered scikit-learn.org.\n",
       "     See: https://github.com/scikit-learn/scikit-learn/issues/21755 */\n",
       "  display: inline-block !important;\n",
       "  position: relative;\n",
       "}\n",
       "\n",
       "#sk-container-id-1 div.sk-text-repr-fallback {\n",
       "  display: none;\n",
       "}\n",
       "\n",
       "div.sk-parallel-item,\n",
       "div.sk-serial,\n",
       "div.sk-item {\n",
       "  /* draw centered vertical line to link estimators */\n",
       "  background-image: linear-gradient(var(--sklearn-color-text-on-default-background), var(--sklearn-color-text-on-default-background));\n",
       "  background-size: 2px 100%;\n",
       "  background-repeat: no-repeat;\n",
       "  background-position: center center;\n",
       "}\n",
       "\n",
       "/* Parallel-specific style estimator block */\n",
       "\n",
       "#sk-container-id-1 div.sk-parallel-item::after {\n",
       "  content: \"\";\n",
       "  width: 100%;\n",
       "  border-bottom: 2px solid var(--sklearn-color-text-on-default-background);\n",
       "  flex-grow: 1;\n",
       "}\n",
       "\n",
       "#sk-container-id-1 div.sk-parallel {\n",
       "  display: flex;\n",
       "  align-items: stretch;\n",
       "  justify-content: center;\n",
       "  background-color: var(--sklearn-color-background);\n",
       "  position: relative;\n",
       "}\n",
       "\n",
       "#sk-container-id-1 div.sk-parallel-item {\n",
       "  display: flex;\n",
       "  flex-direction: column;\n",
       "}\n",
       "\n",
       "#sk-container-id-1 div.sk-parallel-item:first-child::after {\n",
       "  align-self: flex-end;\n",
       "  width: 50%;\n",
       "}\n",
       "\n",
       "#sk-container-id-1 div.sk-parallel-item:last-child::after {\n",
       "  align-self: flex-start;\n",
       "  width: 50%;\n",
       "}\n",
       "\n",
       "#sk-container-id-1 div.sk-parallel-item:only-child::after {\n",
       "  width: 0;\n",
       "}\n",
       "\n",
       "/* Serial-specific style estimator block */\n",
       "\n",
       "#sk-container-id-1 div.sk-serial {\n",
       "  display: flex;\n",
       "  flex-direction: column;\n",
       "  align-items: center;\n",
       "  background-color: var(--sklearn-color-background);\n",
       "  padding-right: 1em;\n",
       "  padding-left: 1em;\n",
       "}\n",
       "\n",
       "\n",
       "/* Toggleable style: style used for estimator/Pipeline/ColumnTransformer box that is\n",
       "clickable and can be expanded/collapsed.\n",
       "- Pipeline and ColumnTransformer use this feature and define the default style\n",
       "- Estimators will overwrite some part of the style using the `sk-estimator` class\n",
       "*/\n",
       "\n",
       "/* Pipeline and ColumnTransformer style (default) */\n",
       "\n",
       "#sk-container-id-1 div.sk-toggleable {\n",
       "  /* Default theme specific background. It is overwritten whether we have a\n",
       "  specific estimator or a Pipeline/ColumnTransformer */\n",
       "  background-color: var(--sklearn-color-background);\n",
       "}\n",
       "\n",
       "/* Toggleable label */\n",
       "#sk-container-id-1 label.sk-toggleable__label {\n",
       "  cursor: pointer;\n",
       "  display: flex;\n",
       "  width: 100%;\n",
       "  margin-bottom: 0;\n",
       "  padding: 0.5em;\n",
       "  box-sizing: border-box;\n",
       "  text-align: center;\n",
       "  align-items: start;\n",
       "  justify-content: space-between;\n",
       "  gap: 0.5em;\n",
       "}\n",
       "\n",
       "#sk-container-id-1 label.sk-toggleable__label .caption {\n",
       "  font-size: 0.6rem;\n",
       "  font-weight: lighter;\n",
       "  color: var(--sklearn-color-text-muted);\n",
       "}\n",
       "\n",
       "#sk-container-id-1 label.sk-toggleable__label-arrow:before {\n",
       "  /* Arrow on the left of the label */\n",
       "  content: \"▸\";\n",
       "  float: left;\n",
       "  margin-right: 0.25em;\n",
       "  color: var(--sklearn-color-icon);\n",
       "}\n",
       "\n",
       "#sk-container-id-1 label.sk-toggleable__label-arrow:hover:before {\n",
       "  color: var(--sklearn-color-text);\n",
       "}\n",
       "\n",
       "/* Toggleable content - dropdown */\n",
       "\n",
       "#sk-container-id-1 div.sk-toggleable__content {\n",
       "  max-height: 0;\n",
       "  max-width: 0;\n",
       "  overflow: hidden;\n",
       "  text-align: left;\n",
       "  /* unfitted */\n",
       "  background-color: var(--sklearn-color-unfitted-level-0);\n",
       "}\n",
       "\n",
       "#sk-container-id-1 div.sk-toggleable__content.fitted {\n",
       "  /* fitted */\n",
       "  background-color: var(--sklearn-color-fitted-level-0);\n",
       "}\n",
       "\n",
       "#sk-container-id-1 div.sk-toggleable__content pre {\n",
       "  margin: 0.2em;\n",
       "  border-radius: 0.25em;\n",
       "  color: var(--sklearn-color-text);\n",
       "  /* unfitted */\n",
       "  background-color: var(--sklearn-color-unfitted-level-0);\n",
       "}\n",
       "\n",
       "#sk-container-id-1 div.sk-toggleable__content.fitted pre {\n",
       "  /* unfitted */\n",
       "  background-color: var(--sklearn-color-fitted-level-0);\n",
       "}\n",
       "\n",
       "#sk-container-id-1 input.sk-toggleable__control:checked~div.sk-toggleable__content {\n",
       "  /* Expand drop-down */\n",
       "  max-height: 200px;\n",
       "  max-width: 100%;\n",
       "  overflow: auto;\n",
       "}\n",
       "\n",
       "#sk-container-id-1 input.sk-toggleable__control:checked~label.sk-toggleable__label-arrow:before {\n",
       "  content: \"▾\";\n",
       "}\n",
       "\n",
       "/* Pipeline/ColumnTransformer-specific style */\n",
       "\n",
       "#sk-container-id-1 div.sk-label input.sk-toggleable__control:checked~label.sk-toggleable__label {\n",
       "  color: var(--sklearn-color-text);\n",
       "  background-color: var(--sklearn-color-unfitted-level-2);\n",
       "}\n",
       "\n",
       "#sk-container-id-1 div.sk-label.fitted input.sk-toggleable__control:checked~label.sk-toggleable__label {\n",
       "  background-color: var(--sklearn-color-fitted-level-2);\n",
       "}\n",
       "\n",
       "/* Estimator-specific style */\n",
       "\n",
       "/* Colorize estimator box */\n",
       "#sk-container-id-1 div.sk-estimator input.sk-toggleable__control:checked~label.sk-toggleable__label {\n",
       "  /* unfitted */\n",
       "  background-color: var(--sklearn-color-unfitted-level-2);\n",
       "}\n",
       "\n",
       "#sk-container-id-1 div.sk-estimator.fitted input.sk-toggleable__control:checked~label.sk-toggleable__label {\n",
       "  /* fitted */\n",
       "  background-color: var(--sklearn-color-fitted-level-2);\n",
       "}\n",
       "\n",
       "#sk-container-id-1 div.sk-label label.sk-toggleable__label,\n",
       "#sk-container-id-1 div.sk-label label {\n",
       "  /* The background is the default theme color */\n",
       "  color: var(--sklearn-color-text-on-default-background);\n",
       "}\n",
       "\n",
       "/* On hover, darken the color of the background */\n",
       "#sk-container-id-1 div.sk-label:hover label.sk-toggleable__label {\n",
       "  color: var(--sklearn-color-text);\n",
       "  background-color: var(--sklearn-color-unfitted-level-2);\n",
       "}\n",
       "\n",
       "/* Label box, darken color on hover, fitted */\n",
       "#sk-container-id-1 div.sk-label.fitted:hover label.sk-toggleable__label.fitted {\n",
       "  color: var(--sklearn-color-text);\n",
       "  background-color: var(--sklearn-color-fitted-level-2);\n",
       "}\n",
       "\n",
       "/* Estimator label */\n",
       "\n",
       "#sk-container-id-1 div.sk-label label {\n",
       "  font-family: monospace;\n",
       "  font-weight: bold;\n",
       "  display: inline-block;\n",
       "  line-height: 1.2em;\n",
       "}\n",
       "\n",
       "#sk-container-id-1 div.sk-label-container {\n",
       "  text-align: center;\n",
       "}\n",
       "\n",
       "/* Estimator-specific */\n",
       "#sk-container-id-1 div.sk-estimator {\n",
       "  font-family: monospace;\n",
       "  border: 1px dotted var(--sklearn-color-border-box);\n",
       "  border-radius: 0.25em;\n",
       "  box-sizing: border-box;\n",
       "  margin-bottom: 0.5em;\n",
       "  /* unfitted */\n",
       "  background-color: var(--sklearn-color-unfitted-level-0);\n",
       "}\n",
       "\n",
       "#sk-container-id-1 div.sk-estimator.fitted {\n",
       "  /* fitted */\n",
       "  background-color: var(--sklearn-color-fitted-level-0);\n",
       "}\n",
       "\n",
       "/* on hover */\n",
       "#sk-container-id-1 div.sk-estimator:hover {\n",
       "  /* unfitted */\n",
       "  background-color: var(--sklearn-color-unfitted-level-2);\n",
       "}\n",
       "\n",
       "#sk-container-id-1 div.sk-estimator.fitted:hover {\n",
       "  /* fitted */\n",
       "  background-color: var(--sklearn-color-fitted-level-2);\n",
       "}\n",
       "\n",
       "/* Specification for estimator info (e.g. \"i\" and \"?\") */\n",
       "\n",
       "/* Common style for \"i\" and \"?\" */\n",
       "\n",
       ".sk-estimator-doc-link,\n",
       "a:link.sk-estimator-doc-link,\n",
       "a:visited.sk-estimator-doc-link {\n",
       "  float: right;\n",
       "  font-size: smaller;\n",
       "  line-height: 1em;\n",
       "  font-family: monospace;\n",
       "  background-color: var(--sklearn-color-background);\n",
       "  border-radius: 1em;\n",
       "  height: 1em;\n",
       "  width: 1em;\n",
       "  text-decoration: none !important;\n",
       "  margin-left: 0.5em;\n",
       "  text-align: center;\n",
       "  /* unfitted */\n",
       "  border: var(--sklearn-color-unfitted-level-1) 1pt solid;\n",
       "  color: var(--sklearn-color-unfitted-level-1);\n",
       "}\n",
       "\n",
       ".sk-estimator-doc-link.fitted,\n",
       "a:link.sk-estimator-doc-link.fitted,\n",
       "a:visited.sk-estimator-doc-link.fitted {\n",
       "  /* fitted */\n",
       "  border: var(--sklearn-color-fitted-level-1) 1pt solid;\n",
       "  color: var(--sklearn-color-fitted-level-1);\n",
       "}\n",
       "\n",
       "/* On hover */\n",
       "div.sk-estimator:hover .sk-estimator-doc-link:hover,\n",
       ".sk-estimator-doc-link:hover,\n",
       "div.sk-label-container:hover .sk-estimator-doc-link:hover,\n",
       ".sk-estimator-doc-link:hover {\n",
       "  /* unfitted */\n",
       "  background-color: var(--sklearn-color-unfitted-level-3);\n",
       "  color: var(--sklearn-color-background);\n",
       "  text-decoration: none;\n",
       "}\n",
       "\n",
       "div.sk-estimator.fitted:hover .sk-estimator-doc-link.fitted:hover,\n",
       ".sk-estimator-doc-link.fitted:hover,\n",
       "div.sk-label-container:hover .sk-estimator-doc-link.fitted:hover,\n",
       ".sk-estimator-doc-link.fitted:hover {\n",
       "  /* fitted */\n",
       "  background-color: var(--sklearn-color-fitted-level-3);\n",
       "  color: var(--sklearn-color-background);\n",
       "  text-decoration: none;\n",
       "}\n",
       "\n",
       "/* Span, style for the box shown on hovering the info icon */\n",
       ".sk-estimator-doc-link span {\n",
       "  display: none;\n",
       "  z-index: 9999;\n",
       "  position: relative;\n",
       "  font-weight: normal;\n",
       "  right: .2ex;\n",
       "  padding: .5ex;\n",
       "  margin: .5ex;\n",
       "  width: min-content;\n",
       "  min-width: 20ex;\n",
       "  max-width: 50ex;\n",
       "  color: var(--sklearn-color-text);\n",
       "  box-shadow: 2pt 2pt 4pt #999;\n",
       "  /* unfitted */\n",
       "  background: var(--sklearn-color-unfitted-level-0);\n",
       "  border: .5pt solid var(--sklearn-color-unfitted-level-3);\n",
       "}\n",
       "\n",
       ".sk-estimator-doc-link.fitted span {\n",
       "  /* fitted */\n",
       "  background: var(--sklearn-color-fitted-level-0);\n",
       "  border: var(--sklearn-color-fitted-level-3);\n",
       "}\n",
       "\n",
       ".sk-estimator-doc-link:hover span {\n",
       "  display: block;\n",
       "}\n",
       "\n",
       "/* \"?\"-specific style due to the `<a>` HTML tag */\n",
       "\n",
       "#sk-container-id-1 a.estimator_doc_link {\n",
       "  float: right;\n",
       "  font-size: 1rem;\n",
       "  line-height: 1em;\n",
       "  font-family: monospace;\n",
       "  background-color: var(--sklearn-color-background);\n",
       "  border-radius: 1rem;\n",
       "  height: 1rem;\n",
       "  width: 1rem;\n",
       "  text-decoration: none;\n",
       "  /* unfitted */\n",
       "  color: var(--sklearn-color-unfitted-level-1);\n",
       "  border: var(--sklearn-color-unfitted-level-1) 1pt solid;\n",
       "}\n",
       "\n",
       "#sk-container-id-1 a.estimator_doc_link.fitted {\n",
       "  /* fitted */\n",
       "  border: var(--sklearn-color-fitted-level-1) 1pt solid;\n",
       "  color: var(--sklearn-color-fitted-level-1);\n",
       "}\n",
       "\n",
       "/* On hover */\n",
       "#sk-container-id-1 a.estimator_doc_link:hover {\n",
       "  /* unfitted */\n",
       "  background-color: var(--sklearn-color-unfitted-level-3);\n",
       "  color: var(--sklearn-color-background);\n",
       "  text-decoration: none;\n",
       "}\n",
       "\n",
       "#sk-container-id-1 a.estimator_doc_link.fitted:hover {\n",
       "  /* fitted */\n",
       "  background-color: var(--sklearn-color-fitted-level-3);\n",
       "}\n",
       "</style><div id=\"sk-container-id-1\" class=\"sk-top-container\"><div class=\"sk-text-repr-fallback\"><pre>LinearRegression()</pre><b>In a Jupyter environment, please rerun this cell to show the HTML representation or trust the notebook. <br />On GitHub, the HTML representation is unable to render, please try loading this page with nbviewer.org.</b></div><div class=\"sk-container\" hidden><div class=\"sk-item\"><div class=\"sk-estimator fitted sk-toggleable\"><input class=\"sk-toggleable__control sk-hidden--visually\" id=\"sk-estimator-id-1\" type=\"checkbox\" checked><label for=\"sk-estimator-id-1\" class=\"sk-toggleable__label fitted sk-toggleable__label-arrow\"><div><div>LinearRegression</div></div><div><a class=\"sk-estimator-doc-link fitted\" rel=\"noreferrer\" target=\"_blank\" href=\"https://scikit-learn.org/1.6/modules/generated/sklearn.linear_model.LinearRegression.html\">?<span>Documentation for LinearRegression</span></a><span class=\"sk-estimator-doc-link fitted\">i<span>Fitted</span></span></div></label><div class=\"sk-toggleable__content fitted\"><pre>LinearRegression()</pre></div> </div></div></div></div>"
      ],
      "text/plain": [
       "LinearRegression()"
      ]
     },
     "execution_count": 12,
     "metadata": {},
     "output_type": "execute_result"
    }
   ],
   "source": [
    "from sklearn.linear_model import LinearRegression\n",
    "\n",
    "lr = LinearRegression(fit_intercept=True)\n",
    "lr.fit(X_train, y_train)"
   ]
  },
  {
   "attachments": {},
   "cell_type": "markdown",
   "metadata": {},
   "source": [
    "To compute the RMSE on the test sample, we use the helper function\n",
    "[`root_mean_squared_error()`](https://scikit-learn.org/stable/modules/generated/sklearn.metrics.root_mean_squared_error.html).\n",
    "We compute the $R^2$ using \n",
    "[`r2_score()`](https://scikit-learn.org/stable/modules/generated/sklearn.metrics.r2_score.html)."
   ]
  },
  {
   "cell_type": "code",
   "execution_count": 13,
   "metadata": {},
   "outputs": [
    {
     "name": "stdout",
     "output_type": "stream",
     "text": [
      "RMSE for linear regression (test sample): 0.15046\n",
      "R2 for linear regression (test sample): 0.85814\n"
     ]
    }
   ],
   "source": [
    "from sklearn.metrics import root_mean_squared_error, r2_score\n",
    "\n",
    "# Predict outcome on the test sample\n",
    "y_test_pred = lr.predict(X_test)\n",
    "\n",
    "# Compute RMSE and R2 on test sample\n",
    "rmse_lr = root_mean_squared_error(y_test, y_test_pred)\n",
    "r2_lr = r2_score(y_test, y_test_pred)\n",
    "\n",
    "print(f'RMSE for linear regression (test sample): {rmse_lr:,.5g}')\n",
    "print(f'R2 for linear regression (test sample): {r2_lr:,.5g}')"
   ]
  },
  {
   "attachments": {},
   "cell_type": "markdown",
   "metadata": {},
   "source": [
    "***\n",
    "## Part 4 — Ridge regression\n",
    "\n",
    "Next, you want to estimate a Ridge regression which has the regularization\n",
    "strength $\\alpha$ as a hyperparameter.\n",
    "\n",
    "1. Use the template code below to run [`RidgeCV`](https://scikit-learn.org/stable/modules/generated/sklearn.linear_model.RidgeCV.html)\n",
    "    to determine the best $\\alpha$ on the training sub-sample.\n",
    "    You can use the MSE metric (the default) to find the optimal $\\alpha$.\n",
    "    Report the optimal $\\alpha$ and the corresponding MSE.\n",
    "\n",
    "    - Does Ridge regression require feature standardization? If so, don't forget to apply it before fitting the model.\n",
    "2. Use the function `plot_validation_curve()` defined below to plot the MSE (averaged over folds on the training sub-sample) against the regularization strength $\\alpha$.\n",
    "3. Compute and report the RMSE and the $R^2$ on the test sample.\n",
    "\n",
    "*Hints:* \n",
    "-   Create `RidgeCV` with `store_cv_results=True` to store the MSEs on all folds. \n",
    "-   The MSEs for all folds and alphas are stored in the attribute `cv_results_` after fitting.\n",
    "-   The (negative!) best MSE is stored in the attribute `best_score_` after fitting."
   ]
  },
  {
   "cell_type": "code",
   "execution_count": 14,
   "metadata": {},
   "outputs": [],
   "source": [
    "import matplotlib.pyplot as plt\n",
    "\n",
    "def plot_validation_curve(alphas, mse_mean, title=None):\n",
    "    \"\"\"\n",
    "    Plot validation curve for Ridge or Lasso.\n",
    "\n",
    "    Parameters\n",
    "    ----------\n",
    "    alphas : array-like\n",
    "        Regularization strengths.\n",
    "    mse_mean : array-like\n",
    "        Cross-validated MSE (averaged over folds).\n",
    "    title : str, optional\n",
    "        Title of the plot.\n",
    "    \"\"\"\n",
    "\n",
    "    # Index of MSE-minimizing alpha\n",
    "    imin = np.argmin(mse_mean)\n",
    "\n",
    "    # Plot MSE against alphas, highlight minimum MSE\n",
    "    plt.plot(alphas, mse_mean)\n",
    "    plt.xlabel(r'Regularisation strength $\\alpha$ (log scale)')\n",
    "    plt.ylabel('Cross-validated MSE')\n",
    "    plt.scatter(alphas[imin], mse_mean[imin], s=15, c='black', zorder=100)\n",
    "    plt.axvline(alphas[imin], ls=':', lw=0.75, c='black')\n",
    "    plt.title(title)\n",
    "    plt.xscale('log')"
   ]
  },
  {
   "cell_type": "code",
   "execution_count": 15,
   "metadata": {},
   "outputs": [],
   "source": [
    "# TODO: Manually transform features\n",
    "\n",
    "# TODO: Create alpha grid uniformly spaced in logs on [1e-6, 100]\n",
    "# alphas = \n",
    "\n",
    "# TODO: Create RidgeCV and fit model\n",
    "# ridge_cv = \n",
    "\n",
    "# TODO: Report the best alpha and the corresponding MSE score\n",
    "\n",
    "# TODO: Compute MSEs averaged across folds (stored in cv_results_)\n",
    "# mse_mean = \n",
    "\n",
    "# TODO: Plot validation curve\n",
    "# plot_validation_curve(alphas, mse_mean)\n",
    "\n",
    "# TODO: compute and report RMSE and R2 on the test sample"
   ]
  },
  {
   "attachments": {},
   "cell_type": "markdown",
   "metadata": {},
   "source": [
    "#### Solution\n",
    "\n",
    "The Ridge regression is sensitive to scaling so we standardize the features before fitting the model. Note that `RidgeCV` does not support pipelines, so we need to standardize the feature matrix manually before performing the cross-validation."
   ]
  },
  {
   "cell_type": "code",
   "execution_count": 16,
   "metadata": {},
   "outputs": [
    {
     "data": {
      "text/html": [
       "<style>#sk-container-id-2 {\n",
       "  /* Definition of color scheme common for light and dark mode */\n",
       "  --sklearn-color-text: #000;\n",
       "  --sklearn-color-text-muted: #666;\n",
       "  --sklearn-color-line: gray;\n",
       "  /* Definition of color scheme for unfitted estimators */\n",
       "  --sklearn-color-unfitted-level-0: #fff5e6;\n",
       "  --sklearn-color-unfitted-level-1: #f6e4d2;\n",
       "  --sklearn-color-unfitted-level-2: #ffe0b3;\n",
       "  --sklearn-color-unfitted-level-3: chocolate;\n",
       "  /* Definition of color scheme for fitted estimators */\n",
       "  --sklearn-color-fitted-level-0: #f0f8ff;\n",
       "  --sklearn-color-fitted-level-1: #d4ebff;\n",
       "  --sklearn-color-fitted-level-2: #b3dbfd;\n",
       "  --sklearn-color-fitted-level-3: cornflowerblue;\n",
       "\n",
       "  /* Specific color for light theme */\n",
       "  --sklearn-color-text-on-default-background: var(--sg-text-color, var(--theme-code-foreground, var(--jp-content-font-color1, black)));\n",
       "  --sklearn-color-background: var(--sg-background-color, var(--theme-background, var(--jp-layout-color0, white)));\n",
       "  --sklearn-color-border-box: var(--sg-text-color, var(--theme-code-foreground, var(--jp-content-font-color1, black)));\n",
       "  --sklearn-color-icon: #696969;\n",
       "\n",
       "  @media (prefers-color-scheme: dark) {\n",
       "    /* Redefinition of color scheme for dark theme */\n",
       "    --sklearn-color-text-on-default-background: var(--sg-text-color, var(--theme-code-foreground, var(--jp-content-font-color1, white)));\n",
       "    --sklearn-color-background: var(--sg-background-color, var(--theme-background, var(--jp-layout-color0, #111)));\n",
       "    --sklearn-color-border-box: var(--sg-text-color, var(--theme-code-foreground, var(--jp-content-font-color1, white)));\n",
       "    --sklearn-color-icon: #878787;\n",
       "  }\n",
       "}\n",
       "\n",
       "#sk-container-id-2 {\n",
       "  color: var(--sklearn-color-text);\n",
       "}\n",
       "\n",
       "#sk-container-id-2 pre {\n",
       "  padding: 0;\n",
       "}\n",
       "\n",
       "#sk-container-id-2 input.sk-hidden--visually {\n",
       "  border: 0;\n",
       "  clip: rect(1px 1px 1px 1px);\n",
       "  clip: rect(1px, 1px, 1px, 1px);\n",
       "  height: 1px;\n",
       "  margin: -1px;\n",
       "  overflow: hidden;\n",
       "  padding: 0;\n",
       "  position: absolute;\n",
       "  width: 1px;\n",
       "}\n",
       "\n",
       "#sk-container-id-2 div.sk-dashed-wrapped {\n",
       "  border: 1px dashed var(--sklearn-color-line);\n",
       "  margin: 0 0.4em 0.5em 0.4em;\n",
       "  box-sizing: border-box;\n",
       "  padding-bottom: 0.4em;\n",
       "  background-color: var(--sklearn-color-background);\n",
       "}\n",
       "\n",
       "#sk-container-id-2 div.sk-container {\n",
       "  /* jupyter's `normalize.less` sets `[hidden] { display: none; }`\n",
       "     but bootstrap.min.css set `[hidden] { display: none !important; }`\n",
       "     so we also need the `!important` here to be able to override the\n",
       "     default hidden behavior on the sphinx rendered scikit-learn.org.\n",
       "     See: https://github.com/scikit-learn/scikit-learn/issues/21755 */\n",
       "  display: inline-block !important;\n",
       "  position: relative;\n",
       "}\n",
       "\n",
       "#sk-container-id-2 div.sk-text-repr-fallback {\n",
       "  display: none;\n",
       "}\n",
       "\n",
       "div.sk-parallel-item,\n",
       "div.sk-serial,\n",
       "div.sk-item {\n",
       "  /* draw centered vertical line to link estimators */\n",
       "  background-image: linear-gradient(var(--sklearn-color-text-on-default-background), var(--sklearn-color-text-on-default-background));\n",
       "  background-size: 2px 100%;\n",
       "  background-repeat: no-repeat;\n",
       "  background-position: center center;\n",
       "}\n",
       "\n",
       "/* Parallel-specific style estimator block */\n",
       "\n",
       "#sk-container-id-2 div.sk-parallel-item::after {\n",
       "  content: \"\";\n",
       "  width: 100%;\n",
       "  border-bottom: 2px solid var(--sklearn-color-text-on-default-background);\n",
       "  flex-grow: 1;\n",
       "}\n",
       "\n",
       "#sk-container-id-2 div.sk-parallel {\n",
       "  display: flex;\n",
       "  align-items: stretch;\n",
       "  justify-content: center;\n",
       "  background-color: var(--sklearn-color-background);\n",
       "  position: relative;\n",
       "}\n",
       "\n",
       "#sk-container-id-2 div.sk-parallel-item {\n",
       "  display: flex;\n",
       "  flex-direction: column;\n",
       "}\n",
       "\n",
       "#sk-container-id-2 div.sk-parallel-item:first-child::after {\n",
       "  align-self: flex-end;\n",
       "  width: 50%;\n",
       "}\n",
       "\n",
       "#sk-container-id-2 div.sk-parallel-item:last-child::after {\n",
       "  align-self: flex-start;\n",
       "  width: 50%;\n",
       "}\n",
       "\n",
       "#sk-container-id-2 div.sk-parallel-item:only-child::after {\n",
       "  width: 0;\n",
       "}\n",
       "\n",
       "/* Serial-specific style estimator block */\n",
       "\n",
       "#sk-container-id-2 div.sk-serial {\n",
       "  display: flex;\n",
       "  flex-direction: column;\n",
       "  align-items: center;\n",
       "  background-color: var(--sklearn-color-background);\n",
       "  padding-right: 1em;\n",
       "  padding-left: 1em;\n",
       "}\n",
       "\n",
       "\n",
       "/* Toggleable style: style used for estimator/Pipeline/ColumnTransformer box that is\n",
       "clickable and can be expanded/collapsed.\n",
       "- Pipeline and ColumnTransformer use this feature and define the default style\n",
       "- Estimators will overwrite some part of the style using the `sk-estimator` class\n",
       "*/\n",
       "\n",
       "/* Pipeline and ColumnTransformer style (default) */\n",
       "\n",
       "#sk-container-id-2 div.sk-toggleable {\n",
       "  /* Default theme specific background. It is overwritten whether we have a\n",
       "  specific estimator or a Pipeline/ColumnTransformer */\n",
       "  background-color: var(--sklearn-color-background);\n",
       "}\n",
       "\n",
       "/* Toggleable label */\n",
       "#sk-container-id-2 label.sk-toggleable__label {\n",
       "  cursor: pointer;\n",
       "  display: flex;\n",
       "  width: 100%;\n",
       "  margin-bottom: 0;\n",
       "  padding: 0.5em;\n",
       "  box-sizing: border-box;\n",
       "  text-align: center;\n",
       "  align-items: start;\n",
       "  justify-content: space-between;\n",
       "  gap: 0.5em;\n",
       "}\n",
       "\n",
       "#sk-container-id-2 label.sk-toggleable__label .caption {\n",
       "  font-size: 0.6rem;\n",
       "  font-weight: lighter;\n",
       "  color: var(--sklearn-color-text-muted);\n",
       "}\n",
       "\n",
       "#sk-container-id-2 label.sk-toggleable__label-arrow:before {\n",
       "  /* Arrow on the left of the label */\n",
       "  content: \"▸\";\n",
       "  float: left;\n",
       "  margin-right: 0.25em;\n",
       "  color: var(--sklearn-color-icon);\n",
       "}\n",
       "\n",
       "#sk-container-id-2 label.sk-toggleable__label-arrow:hover:before {\n",
       "  color: var(--sklearn-color-text);\n",
       "}\n",
       "\n",
       "/* Toggleable content - dropdown */\n",
       "\n",
       "#sk-container-id-2 div.sk-toggleable__content {\n",
       "  max-height: 0;\n",
       "  max-width: 0;\n",
       "  overflow: hidden;\n",
       "  text-align: left;\n",
       "  /* unfitted */\n",
       "  background-color: var(--sklearn-color-unfitted-level-0);\n",
       "}\n",
       "\n",
       "#sk-container-id-2 div.sk-toggleable__content.fitted {\n",
       "  /* fitted */\n",
       "  background-color: var(--sklearn-color-fitted-level-0);\n",
       "}\n",
       "\n",
       "#sk-container-id-2 div.sk-toggleable__content pre {\n",
       "  margin: 0.2em;\n",
       "  border-radius: 0.25em;\n",
       "  color: var(--sklearn-color-text);\n",
       "  /* unfitted */\n",
       "  background-color: var(--sklearn-color-unfitted-level-0);\n",
       "}\n",
       "\n",
       "#sk-container-id-2 div.sk-toggleable__content.fitted pre {\n",
       "  /* unfitted */\n",
       "  background-color: var(--sklearn-color-fitted-level-0);\n",
       "}\n",
       "\n",
       "#sk-container-id-2 input.sk-toggleable__control:checked~div.sk-toggleable__content {\n",
       "  /* Expand drop-down */\n",
       "  max-height: 200px;\n",
       "  max-width: 100%;\n",
       "  overflow: auto;\n",
       "}\n",
       "\n",
       "#sk-container-id-2 input.sk-toggleable__control:checked~label.sk-toggleable__label-arrow:before {\n",
       "  content: \"▾\";\n",
       "}\n",
       "\n",
       "/* Pipeline/ColumnTransformer-specific style */\n",
       "\n",
       "#sk-container-id-2 div.sk-label input.sk-toggleable__control:checked~label.sk-toggleable__label {\n",
       "  color: var(--sklearn-color-text);\n",
       "  background-color: var(--sklearn-color-unfitted-level-2);\n",
       "}\n",
       "\n",
       "#sk-container-id-2 div.sk-label.fitted input.sk-toggleable__control:checked~label.sk-toggleable__label {\n",
       "  background-color: var(--sklearn-color-fitted-level-2);\n",
       "}\n",
       "\n",
       "/* Estimator-specific style */\n",
       "\n",
       "/* Colorize estimator box */\n",
       "#sk-container-id-2 div.sk-estimator input.sk-toggleable__control:checked~label.sk-toggleable__label {\n",
       "  /* unfitted */\n",
       "  background-color: var(--sklearn-color-unfitted-level-2);\n",
       "}\n",
       "\n",
       "#sk-container-id-2 div.sk-estimator.fitted input.sk-toggleable__control:checked~label.sk-toggleable__label {\n",
       "  /* fitted */\n",
       "  background-color: var(--sklearn-color-fitted-level-2);\n",
       "}\n",
       "\n",
       "#sk-container-id-2 div.sk-label label.sk-toggleable__label,\n",
       "#sk-container-id-2 div.sk-label label {\n",
       "  /* The background is the default theme color */\n",
       "  color: var(--sklearn-color-text-on-default-background);\n",
       "}\n",
       "\n",
       "/* On hover, darken the color of the background */\n",
       "#sk-container-id-2 div.sk-label:hover label.sk-toggleable__label {\n",
       "  color: var(--sklearn-color-text);\n",
       "  background-color: var(--sklearn-color-unfitted-level-2);\n",
       "}\n",
       "\n",
       "/* Label box, darken color on hover, fitted */\n",
       "#sk-container-id-2 div.sk-label.fitted:hover label.sk-toggleable__label.fitted {\n",
       "  color: var(--sklearn-color-text);\n",
       "  background-color: var(--sklearn-color-fitted-level-2);\n",
       "}\n",
       "\n",
       "/* Estimator label */\n",
       "\n",
       "#sk-container-id-2 div.sk-label label {\n",
       "  font-family: monospace;\n",
       "  font-weight: bold;\n",
       "  display: inline-block;\n",
       "  line-height: 1.2em;\n",
       "}\n",
       "\n",
       "#sk-container-id-2 div.sk-label-container {\n",
       "  text-align: center;\n",
       "}\n",
       "\n",
       "/* Estimator-specific */\n",
       "#sk-container-id-2 div.sk-estimator {\n",
       "  font-family: monospace;\n",
       "  border: 1px dotted var(--sklearn-color-border-box);\n",
       "  border-radius: 0.25em;\n",
       "  box-sizing: border-box;\n",
       "  margin-bottom: 0.5em;\n",
       "  /* unfitted */\n",
       "  background-color: var(--sklearn-color-unfitted-level-0);\n",
       "}\n",
       "\n",
       "#sk-container-id-2 div.sk-estimator.fitted {\n",
       "  /* fitted */\n",
       "  background-color: var(--sklearn-color-fitted-level-0);\n",
       "}\n",
       "\n",
       "/* on hover */\n",
       "#sk-container-id-2 div.sk-estimator:hover {\n",
       "  /* unfitted */\n",
       "  background-color: var(--sklearn-color-unfitted-level-2);\n",
       "}\n",
       "\n",
       "#sk-container-id-2 div.sk-estimator.fitted:hover {\n",
       "  /* fitted */\n",
       "  background-color: var(--sklearn-color-fitted-level-2);\n",
       "}\n",
       "\n",
       "/* Specification for estimator info (e.g. \"i\" and \"?\") */\n",
       "\n",
       "/* Common style for \"i\" and \"?\" */\n",
       "\n",
       ".sk-estimator-doc-link,\n",
       "a:link.sk-estimator-doc-link,\n",
       "a:visited.sk-estimator-doc-link {\n",
       "  float: right;\n",
       "  font-size: smaller;\n",
       "  line-height: 1em;\n",
       "  font-family: monospace;\n",
       "  background-color: var(--sklearn-color-background);\n",
       "  border-radius: 1em;\n",
       "  height: 1em;\n",
       "  width: 1em;\n",
       "  text-decoration: none !important;\n",
       "  margin-left: 0.5em;\n",
       "  text-align: center;\n",
       "  /* unfitted */\n",
       "  border: var(--sklearn-color-unfitted-level-1) 1pt solid;\n",
       "  color: var(--sklearn-color-unfitted-level-1);\n",
       "}\n",
       "\n",
       ".sk-estimator-doc-link.fitted,\n",
       "a:link.sk-estimator-doc-link.fitted,\n",
       "a:visited.sk-estimator-doc-link.fitted {\n",
       "  /* fitted */\n",
       "  border: var(--sklearn-color-fitted-level-1) 1pt solid;\n",
       "  color: var(--sklearn-color-fitted-level-1);\n",
       "}\n",
       "\n",
       "/* On hover */\n",
       "div.sk-estimator:hover .sk-estimator-doc-link:hover,\n",
       ".sk-estimator-doc-link:hover,\n",
       "div.sk-label-container:hover .sk-estimator-doc-link:hover,\n",
       ".sk-estimator-doc-link:hover {\n",
       "  /* unfitted */\n",
       "  background-color: var(--sklearn-color-unfitted-level-3);\n",
       "  color: var(--sklearn-color-background);\n",
       "  text-decoration: none;\n",
       "}\n",
       "\n",
       "div.sk-estimator.fitted:hover .sk-estimator-doc-link.fitted:hover,\n",
       ".sk-estimator-doc-link.fitted:hover,\n",
       "div.sk-label-container:hover .sk-estimator-doc-link.fitted:hover,\n",
       ".sk-estimator-doc-link.fitted:hover {\n",
       "  /* fitted */\n",
       "  background-color: var(--sklearn-color-fitted-level-3);\n",
       "  color: var(--sklearn-color-background);\n",
       "  text-decoration: none;\n",
       "}\n",
       "\n",
       "/* Span, style for the box shown on hovering the info icon */\n",
       ".sk-estimator-doc-link span {\n",
       "  display: none;\n",
       "  z-index: 9999;\n",
       "  position: relative;\n",
       "  font-weight: normal;\n",
       "  right: .2ex;\n",
       "  padding: .5ex;\n",
       "  margin: .5ex;\n",
       "  width: min-content;\n",
       "  min-width: 20ex;\n",
       "  max-width: 50ex;\n",
       "  color: var(--sklearn-color-text);\n",
       "  box-shadow: 2pt 2pt 4pt #999;\n",
       "  /* unfitted */\n",
       "  background: var(--sklearn-color-unfitted-level-0);\n",
       "  border: .5pt solid var(--sklearn-color-unfitted-level-3);\n",
       "}\n",
       "\n",
       ".sk-estimator-doc-link.fitted span {\n",
       "  /* fitted */\n",
       "  background: var(--sklearn-color-fitted-level-0);\n",
       "  border: var(--sklearn-color-fitted-level-3);\n",
       "}\n",
       "\n",
       ".sk-estimator-doc-link:hover span {\n",
       "  display: block;\n",
       "}\n",
       "\n",
       "/* \"?\"-specific style due to the `<a>` HTML tag */\n",
       "\n",
       "#sk-container-id-2 a.estimator_doc_link {\n",
       "  float: right;\n",
       "  font-size: 1rem;\n",
       "  line-height: 1em;\n",
       "  font-family: monospace;\n",
       "  background-color: var(--sklearn-color-background);\n",
       "  border-radius: 1rem;\n",
       "  height: 1rem;\n",
       "  width: 1rem;\n",
       "  text-decoration: none;\n",
       "  /* unfitted */\n",
       "  color: var(--sklearn-color-unfitted-level-1);\n",
       "  border: var(--sklearn-color-unfitted-level-1) 1pt solid;\n",
       "}\n",
       "\n",
       "#sk-container-id-2 a.estimator_doc_link.fitted {\n",
       "  /* fitted */\n",
       "  border: var(--sklearn-color-fitted-level-1) 1pt solid;\n",
       "  color: var(--sklearn-color-fitted-level-1);\n",
       "}\n",
       "\n",
       "/* On hover */\n",
       "#sk-container-id-2 a.estimator_doc_link:hover {\n",
       "  /* unfitted */\n",
       "  background-color: var(--sklearn-color-unfitted-level-3);\n",
       "  color: var(--sklearn-color-background);\n",
       "  text-decoration: none;\n",
       "}\n",
       "\n",
       "#sk-container-id-2 a.estimator_doc_link.fitted:hover {\n",
       "  /* fitted */\n",
       "  background-color: var(--sklearn-color-fitted-level-3);\n",
       "}\n",
       "</style><div id=\"sk-container-id-2\" class=\"sk-top-container\"><div class=\"sk-text-repr-fallback\"><pre>RidgeCV(alphas=array([1.00000000e-06, 1.01861017e-06, 1.03756668e-06, 1.05687597e-06,\n",
       "       1.07654461e-06, 1.09657929e-06, 1.11698682e-06, 1.13777413e-06,\n",
       "       1.15894830e-06, 1.18051653e-06, 1.20248614e-06, 1.22486461e-06,\n",
       "       1.24765955e-06, 1.27087871e-06, 1.29452998e-06, 1.31862140e-06,\n",
       "       1.34316117e-06, 1.36815763e-06, 1.39361927e-06, 1.41955477e-06,\n",
       "       1.44597292e-06, 1.47288272e-0...\n",
       "       6.54358602e+01, 6.66536327e+01, 6.78940681e+01, 6.91575883e+01,\n",
       "       7.04446228e+01, 7.17556092e+01, 7.30909933e+01, 7.44512291e+01,\n",
       "       7.58367791e+01, 7.72481145e+01, 7.86857151e+01, 8.01500696e+01,\n",
       "       8.16416760e+01, 8.31610415e+01, 8.47086827e+01, 8.62851257e+01,\n",
       "       8.78909065e+01, 8.95265713e+01, 9.11926760e+01, 9.28897872e+01,\n",
       "       9.46184819e+01, 9.63793480e+01, 9.81729841e+01, 1.00000000e+02]),\n",
       "        store_cv_results=True)</pre><b>In a Jupyter environment, please rerun this cell to show the HTML representation or trust the notebook. <br />On GitHub, the HTML representation is unable to render, please try loading this page with nbviewer.org.</b></div><div class=\"sk-container\" hidden><div class=\"sk-item\"><div class=\"sk-estimator fitted sk-toggleable\"><input class=\"sk-toggleable__control sk-hidden--visually\" id=\"sk-estimator-id-2\" type=\"checkbox\" checked><label for=\"sk-estimator-id-2\" class=\"sk-toggleable__label fitted sk-toggleable__label-arrow\"><div><div>RidgeCV</div></div><div><a class=\"sk-estimator-doc-link fitted\" rel=\"noreferrer\" target=\"_blank\" href=\"https://scikit-learn.org/1.6/modules/generated/sklearn.linear_model.RidgeCV.html\">?<span>Documentation for RidgeCV</span></a><span class=\"sk-estimator-doc-link fitted\">i<span>Fitted</span></span></div></label><div class=\"sk-toggleable__content fitted\"><pre>RidgeCV(alphas=array([1.00000000e-06, 1.01861017e-06, 1.03756668e-06, 1.05687597e-06,\n",
       "       1.07654461e-06, 1.09657929e-06, 1.11698682e-06, 1.13777413e-06,\n",
       "       1.15894830e-06, 1.18051653e-06, 1.20248614e-06, 1.22486461e-06,\n",
       "       1.24765955e-06, 1.27087871e-06, 1.29452998e-06, 1.31862140e-06,\n",
       "       1.34316117e-06, 1.36815763e-06, 1.39361927e-06, 1.41955477e-06,\n",
       "       1.44597292e-06, 1.47288272e-0...\n",
       "       6.54358602e+01, 6.66536327e+01, 6.78940681e+01, 6.91575883e+01,\n",
       "       7.04446228e+01, 7.17556092e+01, 7.30909933e+01, 7.44512291e+01,\n",
       "       7.58367791e+01, 7.72481145e+01, 7.86857151e+01, 8.01500696e+01,\n",
       "       8.16416760e+01, 8.31610415e+01, 8.47086827e+01, 8.62851257e+01,\n",
       "       8.78909065e+01, 8.95265713e+01, 9.11926760e+01, 9.28897872e+01,\n",
       "       9.46184819e+01, 9.63793480e+01, 9.81729841e+01, 1.00000000e+02]),\n",
       "        store_cv_results=True)</pre></div> </div></div></div></div>"
      ],
      "text/plain": [
       "RidgeCV(alphas=array([1.00000000e-06, 1.01861017e-06, 1.03756668e-06, 1.05687597e-06,\n",
       "       1.07654461e-06, 1.09657929e-06, 1.11698682e-06, 1.13777413e-06,\n",
       "       1.15894830e-06, 1.18051653e-06, 1.20248614e-06, 1.22486461e-06,\n",
       "       1.24765955e-06, 1.27087871e-06, 1.29452998e-06, 1.31862140e-06,\n",
       "       1.34316117e-06, 1.36815763e-06, 1.39361927e-06, 1.41955477e-06,\n",
       "       1.44597292e-06, 1.47288272e-0...\n",
       "       6.54358602e+01, 6.66536327e+01, 6.78940681e+01, 6.91575883e+01,\n",
       "       7.04446228e+01, 7.17556092e+01, 7.30909933e+01, 7.44512291e+01,\n",
       "       7.58367791e+01, 7.72481145e+01, 7.86857151e+01, 8.01500696e+01,\n",
       "       8.16416760e+01, 8.31610415e+01, 8.47086827e+01, 8.62851257e+01,\n",
       "       8.78909065e+01, 8.95265713e+01, 9.11926760e+01, 9.28897872e+01,\n",
       "       9.46184819e+01, 9.63793480e+01, 9.81729841e+01, 1.00000000e+02]),\n",
       "        store_cv_results=True)"
      ]
     },
     "execution_count": 16,
     "metadata": {},
     "output_type": "execute_result"
    }
   ],
   "source": [
    "from sklearn.preprocessing import StandardScaler\n",
    "from sklearn.linear_model import RidgeCV\n",
    "\n",
    "# Create transformation to standardize features\n",
    "transform = StandardScaler()\n",
    "\n",
    "# Standardize features in training sample\n",
    "X_train_trans = transform.fit_transform(X_train)\n",
    "\n",
    "# Grid of regularization parameters\n",
    "alphas = np.logspace(np.log10(1.0e-6), np.log10(100), 1000)\n",
    "\n",
    "# Create RidgeCV instance with candidate alphas\n",
    "ridge_cv = RidgeCV(alphas=alphas, store_cv_results=True)\n",
    "\n",
    "# Fit Ridge regression, find optimal alpha\n",
    "ridge_cv.fit(X_train_trans, y_train)"
   ]
  },
  {
   "cell_type": "markdown",
   "metadata": {},
   "source": [
    "Once we have completed cross-validation, we can recover the optimal $\\alpha$ from the `alpha_` attribute. The best MSE is stored in the attribute `best_score_`."
   ]
  },
  {
   "cell_type": "code",
   "execution_count": 17,
   "metadata": {},
   "outputs": [
    {
     "name": "stdout",
     "output_type": "stream",
     "text": [
      "Best alpha: 0.476 (MSE: 0.023884)\n"
     ]
    }
   ],
   "source": [
    "# Recover best alpha that minimizes MSE\n",
    "alpha_best = ridge_cv.alpha_\n",
    "\n",
    "# Best MSE is stored as negative score!\n",
    "MSE_best = - ridge_cv.best_score_\n",
    "\n",
    "print(f'Best alpha: {alpha_best:.3g} (MSE: {MSE_best:,.5g})')"
   ]
  },
  {
   "cell_type": "markdown",
   "metadata": {},
   "source": [
    "The MSEs for each validation set and each candidate $\\alpha$ are stored in the attribute `cv_results_` which has shape `(N_OBS, N_ALPHAS)`. This is because by default `RidgeCV` performs leave-one-out cross-validation (which is more efficient), so the number of folds equals the number of observations. To get the MSE across folds, we need to average out the first dimension of this array."
   ]
  },
  {
   "cell_type": "code",
   "execution_count": 18,
   "metadata": {},
   "outputs": [
    {
     "data": {
      "application/pdf": "[encoded data removed]",
      "image/png": "[encoded data removed]",
      "text/plain": [
       "<Figure size 400x300 with 1 Axes>"
      ]
     },
     "metadata": {},
     "output_type": "display_data"
    }
   ],
   "source": [
    "# Compute average MSE for each alpha value across all folds\n",
    "mse_mean = np.mean(ridge_cv.cv_results_, axis=0)\n",
    "\n",
    "# Plot validation curve\n",
    "plot_validation_curve(\n",
    "    alphas,\n",
    "    mse_mean,\n",
    "    title='Validation curve for Ridge regression',\n",
    ")"
   ]
  },
  {
   "cell_type": "markdown",
   "metadata": {},
   "source": [
    "Lastly, we compute the RMSE and the $R^2$ and store them for later."
   ]
  },
  {
   "cell_type": "code",
   "execution_count": 19,
   "metadata": {},
   "outputs": [
    {
     "name": "stdout",
     "output_type": "stream",
     "text": [
      "RMSE for Ridge regression (test sample): 0.1493\n",
      "R2 for Ridge regression (test sample): 0.86033\n"
     ]
    }
   ],
   "source": [
    "from sklearn.linear_model import Ridge\n",
    "\n",
    "# Transform test features\n",
    "X_test_trans = transform.transform(X_test)\n",
    "\n",
    "y_test_pred = ridge_cv.predict(X_test_trans)\n",
    "rmse_ridge = root_mean_squared_error(y_test, y_test_pred)\n",
    "r2_ridge = r2_score(y_test, y_test_pred)\n",
    "\n",
    "print(f'RMSE for Ridge regression (test sample): {rmse_ridge:,.5g}')\n",
    "print(f'R2 for Ridge regression (test sample): {r2_ridge:,.5g}')"
   ]
  },
  {
   "attachments": {},
   "cell_type": "markdown",
   "metadata": {},
   "source": [
    "***\n",
    "## Part 5 — Lasso\n",
    "\n",
    "Next, you want to estimate a Lasso model which also has a regularization strength hyperparameter\n",
    "$\\alpha$:\n",
    "\n",
    "1. Use the template below to run [`LassoCV`](https://scikit-learn.org/stable/modules/generated/sklearn.linear_model.LassoCV.html)\n",
    "    to determine the best $\\alpha$ on the training sub-sample\n",
    "    using cross-validation with 5 folds.\n",
    "    You can use the MSE metric (the default) to find the optimal $\\alpha$.\n",
    "    Report the optimal $\\alpha$ and the corresponding MSE.\n",
    "\n",
    "    - Does Lasso require feature standardization? If so, don't forget to apply it before fitting the model.\n",
    "\n",
    "2. Use the function `plot_validation_curve()` to plot the MSE (averaged over folds on the training sub-sample) against the regularization strength $\\alpha$.\n",
    "3. Compute and report the RMSE and the $R^2$ on the test sample for the model using the optimal $\\alpha$.\n",
    "4. Report the number of non-zero coefficients for the model using the optimal $\\alpha$.\n",
    "\n",
    "*Hints:* \n",
    "\n",
    "- Getting Lasso to converge may require some experimentation. The following settings should help: \n",
    "\n",
    "    1.  Increase the max. number of iterations to `max_iter=100_000`.\n",
    "    2.  Use `selection='random'` and set `random_state=1234` to get reproducible results.\n",
    "\n",
    "- Use `eps=1.0e-4` as an argument to `LassoCV` to specify the ratio of the smallest to the largest $\\alpha$.\n",
    "- After cross-validation is complete, the MSE for each value of $\\alpha$ and each fold are stored in the attribute `mse_path_` which is an array with shape `(N_ALPHA, N_FOLDS)`."
   ]
  },
  {
   "cell_type": "code",
   "execution_count": 20,
   "metadata": {},
   "outputs": [],
   "source": [
    "# TODO: Run cross-validation using LassoCV. Use the transformed features from earlier.\n",
    "# lasso_cv =\n",
    "\n",
    "# TODO: Report the best alpha (stored in alpha_) \n",
    "\n",
    "# TODO: Compute MSEs averaged across folds (stored in mse_path_)\n",
    "# mse_mean =\n",
    "\n",
    "# TODO: Plot validation curve\n",
    "# plot_validation_curve(lasso_cv.alphas_, mse_mean)\n",
    "\n",
    "# TODO: compute and report RMSE and R2 on the test sample\n",
    "\n",
    "# TODO: Report number of non-zero coefficients (stored in coef_)"
   ]
  },
  {
   "attachments": {},
   "cell_type": "markdown",
   "metadata": {},
   "source": [
    "### Solution"
   ]
  },
  {
   "attachments": {},
   "cell_type": "markdown",
   "metadata": {},
   "source": [
    "Just like Ridge regression, Lasso can be sensitive to scaling and we thus need to standardize the features before fitting the model.\n",
    "\n",
    "Other than that, `LassoCV` does all the work for us, so we only need to specify the grid of candidate $\\alpha$ values. Using `eps=1.0e-4` instead of the default value increases the range of candidate $\\alpha$."
   ]
  },
  {
   "cell_type": "code",
   "execution_count": 21,
   "metadata": {},
   "outputs": [],
   "source": [
    "from sklearn.linear_model import LassoCV\n",
    "\n",
    "# Define and fit Lasso CV\n",
    "lasso_cv = LassoCV(eps=1.0e-4, \n",
    "    n_alphas=200,\n",
    "    max_iter=100_000, \n",
    "    cv=5, \n",
    "    random_state=RANDOM_STATE, \n",
    "    selection='random',\n",
    ").fit(X_train_trans, y_train)\n"
   ]
  },
  {
   "attachments": {},
   "cell_type": "markdown",
   "metadata": {},
   "source": [
    "We can recover the optional $\\alpha$ and the mean MSE from the fitted object as follows:"
   ]
  },
  {
   "cell_type": "code",
   "execution_count": 22,
   "metadata": {},
   "outputs": [
    {
     "name": "stdout",
     "output_type": "stream",
     "text": [
      "Best alpha: 5.505e-05 (MSE: 0.024201)\n"
     ]
    }
   ],
   "source": [
    "# Recover best alpha that minimizes MSE\n",
    "alpha_best = lasso_cv.alpha_\n",
    "\n",
    "# MSE for each alpha, averaged over folds\n",
    "mse_mean = np.mean(lasso_cv.mse_path_, axis=1)\n",
    "\n",
    "# Index of min. MSE\n",
    "imin = np.argmin(mse_mean)\n",
    "\n",
    "mse_best = mse_mean[imin]\n",
    "\n",
    "print(f'Best alpha: {alpha_best:.4g} (MSE: {mse_best:.5g})')"
   ]
  },
  {
   "cell_type": "code",
   "execution_count": 23,
   "metadata": {},
   "outputs": [
    {
     "data": {
      "application/pdf": "[encoded data removed]",
      "image/png": "[encoded data removed]",
      "text/plain": [
       "<Figure size 400x300 with 1 Axes>"
      ]
     },
     "metadata": {},
     "output_type": "display_data"
    }
   ],
   "source": [
    "# Plot validation curve\n",
    "plot_validation_curve(\n",
    "    lasso_cv.alphas_,\n",
    "    mse_mean,\n",
    "    title='Validation curve for Lasso',\n",
    ")"
   ]
  },
  {
   "attachments": {},
   "cell_type": "markdown",
   "metadata": {},
   "source": [
    "We use the fitted model to compute the RMSE and the $R^2$:"
   ]
  },
  {
   "cell_type": "code",
   "execution_count": 24,
   "metadata": {},
   "outputs": [
    {
     "name": "stdout",
     "output_type": "stream",
     "text": [
      "MSE for Lasso regression (test sample): 0.14819\n",
      "R2 for Lasso regression (test sample): 0.8624\n"
     ]
    }
   ],
   "source": [
    "from sklearn.linear_model import Lasso\n",
    "\n",
    "y_test_pred = lasso_cv.predict(X_test_trans)\n",
    "rmse_lasso = root_mean_squared_error(y_test, y_test_pred)\n",
    "r2_lasso = r2_score(y_test, y_test_pred)\n",
    "\n",
    "print(f'MSE for Lasso regression (test sample): {rmse_lasso:,.5g}')\n",
    "print(f'R2 for Lasso regression (test sample): {r2_lasso:,.5g}')"
   ]
  },
  {
   "attachments": {},
   "cell_type": "markdown",
   "metadata": {},
   "source": [
    "The number of non-zero coefficients can be recovered as follows:"
   ]
  },
  {
   "cell_type": "code",
   "execution_count": 25,
   "metadata": {},
   "outputs": [
    {
     "name": "stdout",
     "output_type": "stream",
     "text": [
      "Number of non-zero coefficients: 29 (out of 58)\n"
     ]
    }
   ],
   "source": [
    "Ncoefs = len(lasso_cv.coef_)\n",
    "Ncoefs_nonz = np.sum(np.abs(lasso_cv.coef_) > 1.0e-8)\n",
    "print(f'Number of non-zero coefficients: {Ncoefs_nonz} (out of {Ncoefs})')"
   ]
  },
  {
   "attachments": {},
   "cell_type": "markdown",
   "metadata": {},
   "source": [
    "***\n",
    "## Part 6 — Compare estimation results\n",
    "\n",
    "Create a table which contains the MSE and $R^2$ computed on the test sample for all three models (using their optimal hyperparameters). Which model performs best?"
   ]
  },
  {
   "attachments": {},
   "cell_type": "markdown",
   "metadata": {},
   "source": [
    "#### Solution\n",
    "\n",
    "The following code combines the MSEs and $R^2$ computed in the previous sections and tabulates them by estimator. As can be seen, the Lasso performs best among the three estimators, yielding the smallest MSE and the highest $R^2$ on the test sub-sample."
   ]
  },
  {
   "cell_type": "code",
   "execution_count": 26,
   "metadata": {},
   "outputs": [
    {
     "name": "stdout",
     "output_type": "stream",
     "text": [
      "               RMSE       R2\n",
      "Model                       \n",
      "Linear Reg   0.1505   0.8581\n",
      "Ridge        0.1493   0.8603\n",
      "Lasso        0.1482   0.8624\n"
     ]
    }
   ],
   "source": [
    "# Create Table with results\n",
    "\n",
    "# Model labels\n",
    "labels = ['Linear Reg', 'Ridge', 'Lasso']\n",
    "\n",
    "# Compute all previously estimated MSE\n",
    "metrics = pd.DataFrame({'RMSE': [rmse_lr, rmse_ridge, rmse_lasso], 'R2': [r2_lr, r2_ridge, r2_lasso]}, index=pd.Index(labels, name='Model'))\n",
    "\n",
    "# Print result table\n",
    "print(metrics.to_string(float_format='{:8.4f}'.format))"
   ]
  },
  {
   "cell_type": "markdown",
   "metadata": {},
   "source": [
    "***\n",
    "# Exercise 2: Classification of above-average houses\n",
    "\n",
    "We continue with the setup from the previous exercise, but now use classification to predict whether a house was sold for more than the average price in its neighborhood.\n",
    "\n",
    "Use the same initial data processing steps as before, which are repeated here for convenience:"
   ]
  },
  {
   "cell_type": "code",
   "execution_count": 27,
   "metadata": {},
   "outputs": [
    {
     "name": "stdout",
     "output_type": "stream",
     "text": [
      "Number of observations: 2,755\n"
     ]
    }
   ],
   "source": [
    "import pandas as pd\n",
    "import numpy as np\n",
    "\n",
    "# Use this path to use the CSV file from the data/ directory\n",
    "file = '../../data/ames_houses.csv'\n",
    "\n",
    "df = pd.read_csv(file, sep=',')\n",
    "\n",
    "# Drop rows with any missing observation\n",
    "df = df.dropna()\n",
    "\n",
    "# Drop observations with large living or lot area\n",
    "df = df.query('LivingArea <= 350 & LotArea <= 5000')\n",
    "\n",
    "# Create log-transformed variables\n",
    "df['logLivingArea'] = np.log(df['LivingArea'])\n",
    "df['logLotArea'] = np.log(df['LotArea'])\n",
    "\n",
    "# Create indicator variable for single family homes\n",
    "df['IsSingleFamily'] = (df['BuildingType'] == 'Single-family').astype(int)\n",
    "\n",
    "# Create indicator variable for central air\n",
    "df['CentralAir'] = df['CentralAir'].map({'Y': 1, 'N': 0})\n",
    "\n",
    "print(f'Number of observations: {df.shape[0]:,d}')"
   ]
  },
  {
   "cell_type": "markdown",
   "metadata": {},
   "source": [
    "***\n",
    "## Part 1 — Data preprocessing\n",
    "\n",
    "Perform the following additional data processing steps:\n",
    "\n",
    "1.  Drop all neighborhoods with less than 40 observations.\n",
    "2.  Create a new variable `MoreExpensive` which is 1 whenever the sale price is above \n",
    "    the average sale price in the neighborhood.\n",
    "3.  Split the data set into two data frames, `df_train` and `df_test`, where\n",
    "    the test sample should contain 20% of the observations.\n",
    "    Stratify the train-test split using the indicator `MoreExpensive`."
   ]
  },
  {
   "cell_type": "markdown",
   "metadata": {},
   "source": [
    "### Solution\n",
    "\n",
    "The easiest way to get the number of observations in each neighborhood\n",
    "and assign them to each row is by using \n",
    "[`groupby()`](https://pandas.pydata.org/docs/reference/api/pandas.DataFrame.groupby.html)\n",
    "combined with a \n",
    "[`transform()`](https://pandas.pydata.org/docs/reference/api/pandas.core.groupby.DataFrameGroupBy.transform.html):"
   ]
  },
  {
   "cell_type": "code",
   "execution_count": 28,
   "metadata": {},
   "outputs": [
    {
     "name": "stdout",
     "output_type": "stream",
     "text": [
      "Number of observations: 2,656\n"
     ]
    }
   ],
   "source": [
    "# Drop observations with neighborhoods with few observations\n",
    "MIN_OBS = 40\n",
    "nobs = df.groupby('Neighborhood').transform('size')\n",
    "df = df.loc[nobs >= MIN_OBS].copy()\n",
    "\n",
    "print(f'Number of observations: {df.shape[0]:,d}')"
   ]
  },
  {
   "cell_type": "markdown",
   "metadata": {},
   "source": [
    "We then use the same approach to get the average sale price for each neighborhood for each observation:"
   ]
  },
  {
   "cell_type": "code",
   "execution_count": 29,
   "metadata": {},
   "outputs": [
    {
     "data": {
      "text/plain": [
       "MoreExpensive\n",
       "0    1503\n",
       "1    1153\n",
       "Name: count, dtype: int64"
      ]
     },
     "execution_count": 29,
     "metadata": {},
     "output_type": "execute_result"
    }
   ],
   "source": [
    "# Average sale price in each neighborhood\n",
    "avg_price = df.groupby('Neighborhood')['SalePrice'].transform('mean')\n",
    "\n",
    "# Create indicator whether house is more expensive than average in neighborhood.\n",
    "# Indicator should be stored as an integer (0/1)\n",
    "df['MoreExpensive'] = ( df['SalePrice'] > avg_price).astype(int)\n",
    "\n",
    "# Tabulate class labels\n",
    "df['MoreExpensive'].value_counts()"
   ]
  },
  {
   "cell_type": "markdown",
   "metadata": {},
   "source": [
    "Once the data is processed, we split it into two data frames, one for the training and one for the test sample."
   ]
  },
  {
   "cell_type": "code",
   "execution_count": 30,
   "metadata": {},
   "outputs": [
    {
     "name": "stdout",
     "output_type": "stream",
     "text": [
      "Number of observation in training sample: 2,124\n",
      "Number of observation in test sample: 532\n"
     ]
    }
   ],
   "source": [
    "from sklearn.model_selection import train_test_split\n",
    "\n",
    "RANDOM_STATE = 1234\n",
    "\n",
    "# Fraction assigned to test sub-set\n",
    "test_size = 0.2\n",
    "\n",
    "# Split data set\n",
    "df_train, df_test  = train_test_split(\n",
    "    df, \n",
    "    test_size=test_size,\n",
    "    stratify=df['MoreExpensive'],\n",
    "    random_state=RANDOM_STATE\n",
    ")\n",
    "\n",
    "print(f'Number of observation in training sample: {df_train.shape[0]:,d}')\n",
    "print(f'Number of observation in test sample: {df_test.shape[0]:,d}')"
   ]
  },
  {
   "cell_type": "markdown",
   "metadata": {},
   "source": [
    "***\n",
    "## Part 2 — Logistic regression\n",
    "\n",
    "Using the template code below, create the feature matrix for the logistic regression as follows:\n",
    "\n",
    "1.  Create polynomials of degree 3 using the variables `LivingArea`, `LotArea`,\n",
    "    `OverallQuality`, `OverallCondition`, `Bathrooms`, `Bedrooms`, `Fireplaces`, and\n",
    "    `YearRemodeled`\n",
    "\n",
    "2.  Add the non-interacted features \n",
    "    `CentralAir`, and `IsSingleFamily` to the feature matrix.\n",
    "\n",
    "Then perform the following steps to fit and evaluate the model:\n",
    "\n",
    "1.  Fit the logistic regression with \n",
    "[`LogisticRegression()`](https://scikit-learn.org/stable/modules/generated/sklearn.linear_model.LogisticRegression.html),\n",
    "using the indicator `MoreExpensive` as the target variable.\n",
    "\n",
    "    -   Does the logistic regression require feature standardization? If so,\n",
    "    you need to transform the features using\n",
    "    [`StandardScaler()`](https://scikit-learn.org/stable/modules/generated/sklearn.preprocessing.StandardScaler.html).\n",
    "\n",
    "    -   You can use the default parameters for `LogisticRegression`, but you might need to increase\n",
    "    the maximum number of iterations (e.g., `max_iter=10_000`).\n",
    "\n",
    "2.  After you have fitted the model, use the function\n",
    "    `tabulate_classifier_metrics()` defined below to tabulate the accuracy,\n",
    "    precision, recall, and the F1 store on the test sample.\n",
    "\n",
    "3.  After you have fitted the model, use the function\n",
    "    `plot_confusion_matrix()` defined below to plot the confusion matrix\n",
    "    on the test sample.\n",
    "\n",
    "    This function calls\n",
    "    [ConfusionMatrixDisplay.from_estimator()](https://scikit-learn.org/stable/modules/generated/sklearn.metrics.ConfusionMatrixDisplay.html#sklearn.metrics.ConfusionMatrixDisplay.from_estimator)\n",
    "    to create a confusion matrix graph.\n"
   ]
  },
  {
   "cell_type": "code",
   "execution_count": 31,
   "metadata": {},
   "outputs": [],
   "source": [
    "from sklearn.preprocessing import PolynomialFeatures\n",
    "\n",
    "# Target variable name\n",
    "target = 'MoreExpensive'\n",
    "\n",
    "# Features included as polynomials (in logistic regression)\n",
    "features_poly = [\n",
    "    'LivingArea',\n",
    "    'LotArea',\n",
    "    'OverallQuality',\n",
    "    'OverallCondition',\n",
    "    'Bathrooms',\n",
    "    'Bedrooms',\n",
    "    'Fireplaces',\n",
    "    'YearRemodeled'\n",
    "]\n",
    "\n",
    "# Other features not included in polynomials\n",
    "features_other = ['CentralAir', 'IsSingleFamily']\n",
    "features = features_poly + features_other\n",
    "\n",
    "# Response variable\n",
    "y_train = df_train[target]\n",
    "y_test = df_test[target]\n",
    "\n",
    "# TODO: Create polynomial features for training sample\n",
    "\n",
    "# TODO: Create polynomial features for test sample\n",
    "\n",
    "# TODO: Merge polynomial features and non-polynomial features into X_train\n",
    "\n",
    "# TODO: Merge polynomial features and non-polynomial features into X_test\n",
    "\n",
    "# TODO: Standardize features\n",
    "\n",
    "# TODO: Fit logistic regression model\n",
    "\n",
    "# TODO: Tabulate metrics on test sample using tabulate_classification_metrics()\n",
    "\n",
    "# TODO: Plot confusion matrix using plot_confusion_matrix()"
   ]
  },
  {
   "cell_type": "code",
   "execution_count": 32,
   "metadata": {},
   "outputs": [],
   "source": [
    "from sklearn.metrics import accuracy_score, f1_score, precision_score, recall_score\n",
    "\n",
    "\n",
    "def tabulate_classifier_metrics(estimator, X, y):\n",
    "    \"\"\"\n",
    "    Tabulate classification metrics (accuracy, precision, recall, F1).\n",
    "\n",
    "    Parameters\n",
    "    ----------\n",
    "    estimator : object\n",
    "        Fitted classifier.\n",
    "    X : array-like\n",
    "        Feature matrix.\n",
    "    y : array-like\n",
    "        Target variable.\n",
    "    \"\"\"\n",
    "\n",
    "    # Predict outcome\n",
    "    y_pred = estimator.predict(X)\n",
    "\n",
    "    # Compute scores\n",
    "    acc = accuracy_score(y, y_pred)\n",
    "    pre = precision_score(y, y_pred)\n",
    "    rec = recall_score(y, y_pred)\n",
    "    f1 = f1_score(y, y_pred)\n",
    "\n",
    "    # Combine scores into a single Series\n",
    "    index = pd.Index(\n",
    "        ['Accuracy', 'Precision [TP/(TP+FP)]', 'Recall [TP/P]', 'F1'], name='Metric'\n",
    "    )\n",
    "    stats = pd.Series([acc, pre, rec, f1], index=index)\n",
    "\n",
    "    stats = stats.round(3)\n",
    "\n",
    "    return stats"
   ]
  },
  {
   "cell_type": "code",
   "execution_count": 33,
   "metadata": {},
   "outputs": [],
   "source": [
    "from sklearn.metrics import ConfusionMatrixDisplay\n",
    "\n",
    "def plot_confusion_matrix(estimator, X, y, title='Confusion matrix'):\n",
    "    \"\"\"\n",
    "    Plot confusion matrix for classification model.\n",
    "\n",
    "    Parameters\n",
    "    ----------\n",
    "    estimator : estimator\n",
    "        Fitted classification model.\n",
    "    X : array-like\n",
    "        Feature matrix.\n",
    "    y : array-like\n",
    "        Target variable.\n",
    "    title : str\n",
    "        Title of the plot.\n",
    "    \"\"\"\n",
    "\n",
    "    cm = ConfusionMatrixDisplay.from_estimator(\n",
    "        estimator=estimator,\n",
    "        X=X,\n",
    "        y=y,\n",
    "        values_format=',d',\n",
    "        cmap='Blues',\n",
    "        colorbar=False,\n",
    "        text_kw={'fontsize': 10, 'fontweight': 'bold'},\n",
    "    )\n",
    "    cm.ax_.set_title(title)"
   ]
  },
  {
   "cell_type": "markdown",
   "metadata": {},
   "source": [
    "### Solution\n",
    "\n",
    "The code to create the polynomial features follows the same logic as in Exercise 1. We defer the feature standardization to later since we need to also standardize the non-polynomial features when fitting a model with regularization."
   ]
  },
  {
   "cell_type": "code",
   "execution_count": 34,
   "metadata": {},
   "outputs": [
    {
     "name": "stdout",
     "output_type": "stream",
     "text": [
      "Number of polynomial features: 164\n",
      "Number of non-polynomial features: 2\n"
     ]
    }
   ],
   "source": [
    "# Create polynomials of degree 3 or less, excluding intercept\n",
    "poly = PolynomialFeatures(degree=3, include_bias=False)\n",
    "X_train_poly = poly.fit_transform(df_train[features_poly])\n",
    "X_test_poly = poly.transform(df_test[features_poly])\n",
    "print(f'Number of polynomial features: {X_train_poly.shape[1]}')\n",
    "\n",
    "# Remaining features that are not use in polynomial\n",
    "X_train_other = df_train[features_other]\n",
    "X_test_other = df_test[features_other]\n",
    "\n",
    "print(f'Number of non-polynomial features: {X_train_other.shape[1]}')\n",
    "\n",
    "# Create final feature matrix\n",
    "X_train = np.hstack((X_train_poly, X_train_other))\n",
    "X_test = np.hstack((X_test_poly, X_test_other))"
   ]
  },
  {
   "cell_type": "markdown",
   "metadata": {},
   "source": [
    "With the feature matrix in hand, we standardize the features and fit the logistic regression:"
   ]
  },
  {
   "cell_type": "code",
   "execution_count": 35,
   "metadata": {},
   "outputs": [],
   "source": [
    "from sklearn.linear_model import LogisticRegression\n",
    "from sklearn.preprocessing import StandardScaler\n",
    "\n",
    "# Create transformer for standardization\n",
    "transform = StandardScaler()\n",
    "\n",
    "# Fit and transform training features\n",
    "X_train_trans = transform.fit_transform(X_train)\n",
    "# Transform test features\n",
    "X_test_trans = transform.transform(X_test)\n",
    "\n",
    "# Define and fit logistic regression with cross-validation\n",
    "logit = LogisticRegression(max_iter=10_000).fit(X_train_trans, y_train)\n"
   ]
  },
  {
   "cell_type": "markdown",
   "metadata": {},
   "source": [
    "Once the model is fitted, we call the function define above to obtain a list of accuracy metrics for the test sample."
   ]
  },
  {
   "cell_type": "code",
   "execution_count": 36,
   "metadata": {},
   "outputs": [
    {
     "data": {
      "text/html": [
       "<div>\n",
       "<style scoped>\n",
       "    .dataframe tbody tr th:only-of-type {\n",
       "        vertical-align: middle;\n",
       "    }\n",
       "\n",
       "    .dataframe tbody tr th {\n",
       "        vertical-align: top;\n",
       "    }\n",
       "\n",
       "    .dataframe thead th {\n",
       "        text-align: right;\n",
       "    }\n",
       "</style>\n",
       "<table border=\"1\" class=\"dataframe\">\n",
       "  <thead>\n",
       "    <tr style=\"text-align: right;\">\n",
       "      <th></th>\n",
       "      <th>Logistic</th>\n",
       "    </tr>\n",
       "    <tr>\n",
       "      <th>Metric</th>\n",
       "      <th></th>\n",
       "    </tr>\n",
       "  </thead>\n",
       "  <tbody>\n",
       "    <tr>\n",
       "      <th>Accuracy</th>\n",
       "      <td>0.703</td>\n",
       "    </tr>\n",
       "    <tr>\n",
       "      <th>Precision [TP/(TP+FP)]</th>\n",
       "      <td>0.665</td>\n",
       "    </tr>\n",
       "    <tr>\n",
       "      <th>Recall [TP/P]</th>\n",
       "      <td>0.636</td>\n",
       "    </tr>\n",
       "    <tr>\n",
       "      <th>F1</th>\n",
       "      <td>0.650</td>\n",
       "    </tr>\n",
       "  </tbody>\n",
       "</table>\n",
       "</div>"
      ],
      "text/plain": [
       "                        Logistic\n",
       "Metric                          \n",
       "Accuracy                   0.703\n",
       "Precision [TP/(TP+FP)]     0.665\n",
       "Recall [TP/P]              0.636\n",
       "F1                         0.650"
      ]
     },
     "execution_count": 36,
     "metadata": {},
     "output_type": "execute_result"
    }
   ],
   "source": [
    "# Compute accuracy, precision, recall, and F1 score\n",
    "tbl_logit = tabulate_classifier_metrics(logit, X_test_trans, y_test)\n",
    "# Convert to DataFrame\n",
    "tbl_logit = tbl_logit.to_frame('Logistic')\n",
    "tbl_logit"
   ]
  },
  {
   "cell_type": "markdown",
   "metadata": {},
   "source": [
    "Finally, we call `plot_confusion_matrix()` to plot the confusion matrix on the test sample."
   ]
  },
  {
   "cell_type": "code",
   "execution_count": 37,
   "metadata": {},
   "outputs": [
    {
     "data": {
      "application/pdf": "[encoded data removed]",
      "image/png": "[encoded data removed]",
      "text/plain": [
       "<Figure size 400x300 with 1 Axes>"
      ]
     },
     "metadata": {},
     "output_type": "display_data"
    }
   ],
   "source": [
    "# Plot confusion matrix\n",
    "plot_confusion_matrix(\n",
    "    logit, X_test_trans, y_test, title='Confusion matrix for logistic regression'\n",
    ")"
   ]
  },
  {
   "cell_type": "markdown",
   "metadata": {},
   "source": [
    "As you can see from the above metrics, the model is doing worst when it comes to recall, i.e., correctly classifying true labels."
   ]
  },
  {
   "cell_type": "markdown",
   "metadata": {},
   "source": [
    "***\n",
    "## Part 3 — Logistic regression CV\n",
    "\n",
    "Instead of using the default regularization strength `C=1`, perform cross-validation \n",
    "to find the optimal value of $C$:\n",
    "\n",
    "1. Run the cross-validation with\n",
    "[LogisticRegressionCV](https://scikit-learn.org/stable/modules/generated/sklearn.linear_model.LogisticRegressionCV.html).\n",
    "\n",
    "    Create a log-spaced grid of candidate values as follows:\n",
    "\n",
    "    ```python\n",
    "    C_grid = np.logspace(-2, 2, 500)\n",
    "    ```\n",
    "2.  Report the optimal value of $C$.\n",
    "3.  After you have fitted the model, use the function\n",
    "    `tabulate_classifier_metrics()` to tabulate the accuracy,\n",
    "    precision, recall, and the F1 store on the test sample.\n",
    "\n",
    "3.  After you have fitted the model, use the function\n",
    "    `plot_confusion_matrix()` defined below to plot the confusion matrix\n",
    "    on the test sample."
   ]
  },
  {
   "cell_type": "markdown",
   "metadata": {},
   "source": [
    "### Solution\n",
    "\n",
    "When running cross-validation, we can choose a scoring metric which is used to evaluate the predictive performance on the validation sample. By default, this metric is the accuracy score, but we can \n",
    "choose other metrics defined in the \n",
    "[`sklearn.metrics`](https://scikit-learn.org/stable/api/sklearn.metrics.html#module-sklearn.metrics)\n",
    "module. For example, we choose F1 below:"
   ]
  },
  {
   "cell_type": "code",
   "execution_count": 38,
   "metadata": {},
   "outputs": [],
   "source": [
    "from sklearn.linear_model import LogisticRegressionCV\n",
    "\n",
    "C_grid = np.logspace(-2, 2, 500)\n",
    "\n",
    "# Define and fit logistic regression with cross-validation\n",
    "logit_cv = LogisticRegressionCV(\n",
    "    Cs=C_grid,\n",
    "    cv=5,\n",
    "    penalty='l2',\n",
    "    max_iter=100_000,\n",
    "    scoring='f1',\n",
    "    random_state=RANDOM_STATE,\n",
    "    n_jobs=-1,\n",
    "    refit=True\n",
    ").fit(X_train_trans, y_train)"
   ]
  },
  {
   "cell_type": "markdown",
   "metadata": {},
   "source": [
    "Once the fitting is complete, the optimal regularization strength is stored in the `C_` attribute. Note that this attribute is an array."
   ]
  },
  {
   "cell_type": "code",
   "execution_count": 39,
   "metadata": {},
   "outputs": [
    {
     "name": "stdout",
     "output_type": "stream",
     "text": [
      "Best cross-validated C: 8.588\n"
     ]
    }
   ],
   "source": [
    "C_best = logit_cv.C_[0]\n",
    "print(f'Best cross-validated C: {C_best:.3f}')"
   ]
  },
  {
   "cell_type": "markdown",
   "metadata": {},
   "source": [
    "We can directly use the cross-validated model to make predictions and compute the metrics of interest:"
   ]
  },
  {
   "cell_type": "code",
   "execution_count": 40,
   "metadata": {},
   "outputs": [
    {
     "data": {
      "text/html": [
       "<div>\n",
       "<style scoped>\n",
       "    .dataframe tbody tr th:only-of-type {\n",
       "        vertical-align: middle;\n",
       "    }\n",
       "\n",
       "    .dataframe tbody tr th {\n",
       "        vertical-align: top;\n",
       "    }\n",
       "\n",
       "    .dataframe thead th {\n",
       "        text-align: right;\n",
       "    }\n",
       "</style>\n",
       "<table border=\"1\" class=\"dataframe\">\n",
       "  <thead>\n",
       "    <tr style=\"text-align: right;\">\n",
       "      <th></th>\n",
       "      <th>Logistic (CV)</th>\n",
       "    </tr>\n",
       "    <tr>\n",
       "      <th>Metric</th>\n",
       "      <th></th>\n",
       "    </tr>\n",
       "  </thead>\n",
       "  <tbody>\n",
       "    <tr>\n",
       "      <th>Accuracy</th>\n",
       "      <td>0.705</td>\n",
       "    </tr>\n",
       "    <tr>\n",
       "      <th>Precision [TP/(TP+FP)]</th>\n",
       "      <td>0.668</td>\n",
       "    </tr>\n",
       "    <tr>\n",
       "      <th>Recall [TP/P]</th>\n",
       "      <td>0.636</td>\n",
       "    </tr>\n",
       "    <tr>\n",
       "      <th>F1</th>\n",
       "      <td>0.652</td>\n",
       "    </tr>\n",
       "  </tbody>\n",
       "</table>\n",
       "</div>"
      ],
      "text/plain": [
       "                        Logistic (CV)\n",
       "Metric                               \n",
       "Accuracy                        0.705\n",
       "Precision [TP/(TP+FP)]          0.668\n",
       "Recall [TP/P]                   0.636\n",
       "F1                              0.652"
      ]
     },
     "execution_count": 40,
     "metadata": {},
     "output_type": "execute_result"
    }
   ],
   "source": [
    "# Compute accuracy, precision, recall, and F1 score\n",
    "tbl_logit_cv = tabulate_classifier_metrics(logit_cv, X_test_trans, y_test)\n",
    "# Convert to DataFrame\n",
    "tbl_logit_cv = tbl_logit_cv.to_frame('Logistic (CV)')\n",
    "tbl_logit_cv\n"
   ]
  },
  {
   "cell_type": "code",
   "execution_count": 41,
   "metadata": {},
   "outputs": [
    {
     "data": {
      "application/pdf": "[encoded data removed]",
      "image/png": "[encoded data removed]",
      "text/plain": [
       "<Figure size 400x300 with 1 Axes>"
      ]
     },
     "metadata": {},
     "output_type": "display_data"
    }
   ],
   "source": [
    "# Plot confusion matrix\n",
    "plot_confusion_matrix(\n",
    "    logit_cv, X_test_trans, y_test, title='Confusion matrix for logistic regression'\n",
    ")"
   ]
  },
  {
   "cell_type": "markdown",
   "metadata": {},
   "source": [
    "The results show that the cross-validated model is doing only marginally better than using the default value of $C$."
   ]
  },
  {
   "cell_type": "markdown",
   "metadata": {},
   "source": [
    "***\n",
    "## Part 4 — Random forest\n",
    "\n",
    "You now want to investigate how other classifiers perform on this task compared\n",
    "to logistic regression.\n",
    "\n",
    "1.  Fit the Random forest classifier implemented in \n",
    "    [RandomForestClassifier](https://scikit-learn.org/stable/modules/generated/sklearn.ensemble.RandomForestClassifier.html) to the data. Use the default parameters for now.\n",
    "\n",
    "    -   Do you need to include polynomial interactions with Random forest?\n",
    "    -   Do you need to standardize the features with Random forest?\n",
    "\n",
    "2.  After you have fitted the model, use the function\n",
    "    `tabulate_classifier_metrics()` to tabulate the accuracy,\n",
    "    precision, recall, and the F1 store on the test sample.\n",
    "\n",
    "3.  After you have fitted the model, use the function\n",
    "    `plot_confusion_matrix()` defined below to plot the confusion matrix\n",
    "    on the test sample."
   ]
  },
  {
   "cell_type": "markdown",
   "metadata": {},
   "source": [
    "### Solution\n",
    "\n",
    "In principle, including all the polynomial interactions into the Random forest classifier should not be needed as the Random forest does not impose any functional form on how the features enter the classification\n",
    "in the first place (unlike logistic regression).\n",
    "However, fitting the model with and without polynomial features will result in different predictions, and it's not clear ex ante which one is better.\n",
    "In any case, including polynomial features increases the computational burden, in particular with\n",
    "cross-validation, so the default should be to not include them.\n",
    "\n",
    "There is no need to standardize features for the Random forest.\n",
    "\n",
    "Note that the Random forest grows decision trees on bootstrapped subsamples of the training data by default. These bootstrapped samples are created using RNG, so you need to specify a seed using `random_state` for reproducibility.\n"
   ]
  },
  {
   "cell_type": "code",
   "execution_count": 42,
   "metadata": {},
   "outputs": [],
   "source": [
    "from sklearn.ensemble import RandomForestClassifier\n",
    "\n",
    "X_train = df_train[features]\n",
    "X_test = df_test[features]\n",
    "\n",
    "# Define and fit random forest classifier. Use seed for reproducibility.\n",
    "forest = RandomForestClassifier(random_state=RANDOM_STATE).fit(X_train, y_train)"
   ]
  },
  {
   "cell_type": "code",
   "execution_count": 43,
   "metadata": {},
   "outputs": [
    {
     "data": {
      "text/html": [
       "<div>\n",
       "<style scoped>\n",
       "    .dataframe tbody tr th:only-of-type {\n",
       "        vertical-align: middle;\n",
       "    }\n",
       "\n",
       "    .dataframe tbody tr th {\n",
       "        vertical-align: top;\n",
       "    }\n",
       "\n",
       "    .dataframe thead th {\n",
       "        text-align: right;\n",
       "    }\n",
       "</style>\n",
       "<table border=\"1\" class=\"dataframe\">\n",
       "  <thead>\n",
       "    <tr style=\"text-align: right;\">\n",
       "      <th></th>\n",
       "      <th>Random Forest</th>\n",
       "    </tr>\n",
       "    <tr>\n",
       "      <th>Metric</th>\n",
       "      <th></th>\n",
       "    </tr>\n",
       "  </thead>\n",
       "  <tbody>\n",
       "    <tr>\n",
       "      <th>Accuracy</th>\n",
       "      <td>0.697</td>\n",
       "    </tr>\n",
       "    <tr>\n",
       "      <th>Precision [TP/(TP+FP)]</th>\n",
       "      <td>0.659</td>\n",
       "    </tr>\n",
       "    <tr>\n",
       "      <th>Recall [TP/P]</th>\n",
       "      <td>0.628</td>\n",
       "    </tr>\n",
       "    <tr>\n",
       "      <th>F1</th>\n",
       "      <td>0.643</td>\n",
       "    </tr>\n",
       "  </tbody>\n",
       "</table>\n",
       "</div>"
      ],
      "text/plain": [
       "                        Random Forest\n",
       "Metric                               \n",
       "Accuracy                        0.697\n",
       "Precision [TP/(TP+FP)]          0.659\n",
       "Recall [TP/P]                   0.628\n",
       "F1                              0.643"
      ]
     },
     "execution_count": 43,
     "metadata": {},
     "output_type": "execute_result"
    }
   ],
   "source": [
    "# Compute accuracy, precision, recall, and F1 score\n",
    "tbl_forest = tabulate_classifier_metrics(forest, X_test, y_test)\n",
    "# Convert to DataFrame\n",
    "tbl_forest = tbl_forest.to_frame('Random Forest')\n",
    "tbl_forest"
   ]
  },
  {
   "cell_type": "code",
   "execution_count": 44,
   "metadata": {},
   "outputs": [
    {
     "data": {
      "application/pdf": "[encoded data removed]",
      "image/png": "[encoded data removed]",
      "text/plain": [
       "<Figure size 400x300 with 1 Axes>"
      ]
     },
     "metadata": {},
     "output_type": "display_data"
    }
   ],
   "source": [
    "plot_confusion_matrix(\n",
    "    forest, X_test, y_test, title='Confusion matrix for random forest'\n",
    ")"
   ]
  },
  {
   "cell_type": "markdown",
   "metadata": {},
   "source": [
    "***\n",
    "## Part 5 — Random forest CV\n",
    "\n",
    "In the previous part, you used the default hyperparameters for the Random\n",
    "forest (e.g., the number of trees to grow and the maximum depth).\n",
    "\n",
    "1.  Perform cross-validation of these parameters with\n",
    "    [`GridSearchCV`](https://scikit-learn.org/stable/modules/generated/sklearn.model_selection.GridSearchCV.html), using the parameter grids defined in the template below.\n",
    "\n",
    "2.  After you have fitted the model, use the function\n",
    "    `tabulate_classifier_metrics()` to tabulate the accuracy,\n",
    "    precision, recall, and the F1 store on the test sample.\n",
    "\n",
    "3.  After you have fitted the model, use the function\n",
    "    `plot_confusion_matrix()` defined below to plot the confusion matrix\n",
    "    on the test sample."
   ]
  },
  {
   "cell_type": "code",
   "execution_count": 45,
   "metadata": {},
   "outputs": [],
   "source": [
    "from sklearn.model_selection import GridSearchCV\n",
    "\n",
    "# Define hyperparameter grid\n",
    "param_grid = {\n",
    "    'n_estimators': np.arange(100, 201, 10),\n",
    "    'max_depth': np.arange(3, 20),\n",
    "}\n",
    "\n",
    "# TODO: Call GridSearchCV to find optimal hyperparameters\n",
    "\n",
    "# TODO: Report optimal number of estimators stored in best_params_\n",
    "\n",
    "# TODO: Report optimal max depth stored in best_params_"
   ]
  },
  {
   "cell_type": "markdown",
   "metadata": {},
   "source": [
    "### Solution\n",
    "\n",
    "As with other cross-validators for classification, we can specify a scoring metric other than the default accuracy store. We opt to use the F1 score in this exercise."
   ]
  },
  {
   "cell_type": "code",
   "execution_count": 46,
   "metadata": {},
   "outputs": [],
   "source": [
    "from sklearn.model_selection import GridSearchCV\n",
    "\n",
    "# Define hyperparameter grid\n",
    "param_grid = {\n",
    "    'n_estimators': np.arange(100, 201, 10),\n",
    "    'max_depth': np.arange(3, 20),\n",
    "}\n",
    "\n",
    "# Create and run cross-validation via grid search\n",
    "forest_cv = GridSearchCV(\n",
    "    estimator=RandomForestClassifier(random_state=RANDOM_STATE),\n",
    "    param_grid=param_grid,\n",
    "    scoring='f1',\n",
    "    cv=5,\n",
    "    n_jobs=-1,\n",
    "    refit=True,\n",
    "    verbose=False\n",
    ").fit(X_train, y_train)"
   ]
  },
  {
   "cell_type": "markdown",
   "metadata": {},
   "source": [
    "The cross-validated optimal hyperparameters are reported below:"
   ]
  },
  {
   "cell_type": "code",
   "execution_count": 47,
   "metadata": {},
   "outputs": [
    {
     "name": "stdout",
     "output_type": "stream",
     "text": [
      "Best max_depth: 9\n",
      "Best n_estimators: 130\n"
     ]
    }
   ],
   "source": [
    "best_max_depth = forest_cv.best_params_['max_depth']\n",
    "best_n_estimators = forest_cv.best_params_['n_estimators']\n",
    "print(f'Best max_depth: {best_max_depth}')\n",
    "print(f'Best n_estimators: {best_n_estimators}')"
   ]
  },
  {
   "cell_type": "code",
   "execution_count": 48,
   "metadata": {},
   "outputs": [
    {
     "data": {
      "text/html": [
       "<div>\n",
       "<style scoped>\n",
       "    .dataframe tbody tr th:only-of-type {\n",
       "        vertical-align: middle;\n",
       "    }\n",
       "\n",
       "    .dataframe tbody tr th {\n",
       "        vertical-align: top;\n",
       "    }\n",
       "\n",
       "    .dataframe thead th {\n",
       "        text-align: right;\n",
       "    }\n",
       "</style>\n",
       "<table border=\"1\" class=\"dataframe\">\n",
       "  <thead>\n",
       "    <tr style=\"text-align: right;\">\n",
       "      <th></th>\n",
       "      <th>Random Forest (CV)</th>\n",
       "    </tr>\n",
       "    <tr>\n",
       "      <th>Metric</th>\n",
       "      <th></th>\n",
       "    </tr>\n",
       "  </thead>\n",
       "  <tbody>\n",
       "    <tr>\n",
       "      <th>Accuracy</th>\n",
       "      <td>0.724</td>\n",
       "    </tr>\n",
       "    <tr>\n",
       "      <th>Precision [TP/(TP+FP)]</th>\n",
       "      <td>0.689</td>\n",
       "    </tr>\n",
       "    <tr>\n",
       "      <th>Recall [TP/P]</th>\n",
       "      <td>0.662</td>\n",
       "    </tr>\n",
       "    <tr>\n",
       "      <th>F1</th>\n",
       "      <td>0.675</td>\n",
       "    </tr>\n",
       "  </tbody>\n",
       "</table>\n",
       "</div>"
      ],
      "text/plain": [
       "                        Random Forest (CV)\n",
       "Metric                                    \n",
       "Accuracy                             0.724\n",
       "Precision [TP/(TP+FP)]               0.689\n",
       "Recall [TP/P]                        0.662\n",
       "F1                                   0.675"
      ]
     },
     "execution_count": 48,
     "metadata": {},
     "output_type": "execute_result"
    }
   ],
   "source": [
    "# Compute accuracy, precision, recall, and F1 score\n",
    "tbl_forest_cv = tabulate_classifier_metrics(forest_cv, X_test, y_test)\n",
    "# Convert to DataFrame\n",
    "tbl_forest_cv = tbl_forest_cv.to_frame('Random Forest (CV)')\n",
    "tbl_forest_cv"
   ]
  },
  {
   "cell_type": "code",
   "execution_count": 49,
   "metadata": {},
   "outputs": [
    {
     "data": {
      "application/pdf": "[encoded data removed]",
      "image/png": "[encoded data removed]",
      "text/plain": [
       "<Figure size 400x300 with 1 Axes>"
      ]
     },
     "metadata": {},
     "output_type": "display_data"
    }
   ],
   "source": [
    "plot_confusion_matrix(\n",
    "    forest_cv, X_test, y_test, title='Confusion matrix for random forest (CV)'\n",
    ")"
   ]
  },
  {
   "cell_type": "markdown",
   "metadata": {},
   "source": [
    "***\n",
    "## Part 6 — Compare estimation results\n",
    "\n",
    "Combine the accuracy, presion, recall, and F1 metrics for all the models you estimated and report them in a single table. Which estimator does best on the classification task?"
   ]
  },
  {
   "cell_type": "markdown",
   "metadata": {},
   "source": [
    "### Solution\n",
    "\n",
    "We use `pd.concat()` to concatenate all models along the column axis:"
   ]
  },
  {
   "cell_type": "code",
   "execution_count": 50,
   "metadata": {},
   "outputs": [
    {
     "data": {
      "text/html": [
       "<div>\n",
       "<style scoped>\n",
       "    .dataframe tbody tr th:only-of-type {\n",
       "        vertical-align: middle;\n",
       "    }\n",
       "\n",
       "    .dataframe tbody tr th {\n",
       "        vertical-align: top;\n",
       "    }\n",
       "\n",
       "    .dataframe thead th {\n",
       "        text-align: right;\n",
       "    }\n",
       "</style>\n",
       "<table border=\"1\" class=\"dataframe\">\n",
       "  <thead>\n",
       "    <tr style=\"text-align: right;\">\n",
       "      <th>Model</th>\n",
       "      <th>Logistic</th>\n",
       "      <th>Logistic (CV)</th>\n",
       "      <th>Random Forest</th>\n",
       "      <th>Random Forest (CV)</th>\n",
       "    </tr>\n",
       "    <tr>\n",
       "      <th>Metric</th>\n",
       "      <th></th>\n",
       "      <th></th>\n",
       "      <th></th>\n",
       "      <th></th>\n",
       "    </tr>\n",
       "  </thead>\n",
       "  <tbody>\n",
       "    <tr>\n",
       "      <th>Accuracy</th>\n",
       "      <td>0.703</td>\n",
       "      <td>0.705</td>\n",
       "      <td>0.697</td>\n",
       "      <td>0.724</td>\n",
       "    </tr>\n",
       "    <tr>\n",
       "      <th>Precision [TP/(TP+FP)]</th>\n",
       "      <td>0.665</td>\n",
       "      <td>0.668</td>\n",
       "      <td>0.659</td>\n",
       "      <td>0.689</td>\n",
       "    </tr>\n",
       "    <tr>\n",
       "      <th>Recall [TP/P]</th>\n",
       "      <td>0.636</td>\n",
       "      <td>0.636</td>\n",
       "      <td>0.628</td>\n",
       "      <td>0.662</td>\n",
       "    </tr>\n",
       "    <tr>\n",
       "      <th>F1</th>\n",
       "      <td>0.650</td>\n",
       "      <td>0.652</td>\n",
       "      <td>0.643</td>\n",
       "      <td>0.675</td>\n",
       "    </tr>\n",
       "  </tbody>\n",
       "</table>\n",
       "</div>"
      ],
      "text/plain": [
       "Model                   Logistic  Logistic (CV)  Random Forest  \\\n",
       "Metric                                                           \n",
       "Accuracy                   0.703          0.705          0.697   \n",
       "Precision [TP/(TP+FP)]     0.665          0.668          0.659   \n",
       "Recall [TP/P]              0.636          0.636          0.628   \n",
       "F1                         0.650          0.652          0.643   \n",
       "\n",
       "Model                   Random Forest (CV)  \n",
       "Metric                                      \n",
       "Accuracy                             0.724  \n",
       "Precision [TP/(TP+FP)]               0.689  \n",
       "Recall [TP/P]                        0.662  \n",
       "F1                                   0.675  "
      ]
     },
     "execution_count": 50,
     "metadata": {},
     "output_type": "execute_result"
    }
   ],
   "source": [
    "results = pd.concat([tbl_logit, tbl_logit_cv, tbl_forest, tbl_forest_cv], axis=1)\n",
    "results.columns.name = 'Model'\n",
    "results\n"
   ]
  },
  {
   "cell_type": "markdown",
   "metadata": {},
   "source": [
    "As you can see, the Random forest with cross-validated hyperparameters performs best."
   ]
  }
 ],
 "metadata": {
  "kernelspec": {
   "display_name": "FIE463",
   "language": "python",
   "name": "python3"
  },
  "language_info": {
   "codemirror_mode": {
    "name": "ipython",
    "version": 3
   },
   "file_extension": ".py",
   "mimetype": "text/x-python",
   "name": "python",
   "nbconvert_exporter": "python",
   "pygments_lexer": "ipython3",
   "version": "3.12.9"
  },
  "orig_nbformat": 4
 },
 "nbformat": 4,
 "nbformat_minor": 2
}
