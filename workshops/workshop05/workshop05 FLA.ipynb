{
 "cells": [
  {
   "cell_type": "markdown",
   "metadata": {},
   "source": [
    "# Exercise 1: Consumption-leisure choice\n",
    "\n",
    "In the lecture we analyzed how a household optimally chooses consumption and labor supply. In this exercise, we revisit this setting, imposing different assumptions on the household's utility function.\n",
    "\n",
    "Assume that the household chooses _consumption_ $c$ and _leisure_ $\\ell$ in order to maximize\n",
    "\n",
    "$$\n",
    "\\begin{aligned}\n",
    "\\max_{c,~\\ell} ~\\Bigl\\{\\log(c) &+ \\psi \\log(\\ell) \\Bigr\\} \\\\\n",
    "\\text{subject to} \\enskip c &= a + (1-\\ell)w \\\\\n",
    "    c &\\geq 0 \\\\\n",
    "    0 &\\leq \\ell \\leq 1\n",
    "\\end{aligned}\n",
    "$$\n",
    "\n",
    "The second line represents the budget constraint, where $a$ is the level of assets and $w$ is the wage rate. The last line imposes that leisure has to be between 0 and 1, where 1 represents the entire time endowment of the household. Consequently, for a given leisure choice, the household supplies the remaining time $1-\\ell$ in the labor market and earns $(1-\\ell)w$ in labor income.\n"
   ]
  },
  {
   "cell_type": "markdown",
   "metadata": {},
   "source": [
    "## Analytical solution\n",
    "\n",
    "To solve the problem, we set up the Lagrangian,\n",
    "\n",
    "$$\n",
    "\\mathcal{L} = \\log(c) + \\psi \\log(\\ell) + \\lambda \\Bigl(a  + (1-\\ell)w - c \\Bigr)\n",
    "$$\n",
    "\n",
    "which gives us the first-order conditions\n",
    "\n",
    "$$\n",
    "\\left.\n",
    "\\begin{aligned}\n",
    "\\frac{\\partial\\mathcal{L}}{\\partial c} &= \\frac{1}{c} - \\lambda &= 0 \\\\\n",
    "\\frac{\\partial\\mathcal{L}}{\\partial \\ell} &= \\frac{\\psi}{\\ell} - \\lambda w &= 0\n",
    "\\end{aligned}\\right\\rbrace \\Longrightarrow c = \\frac{\\ell w}{\\psi}\n",
    "$$\n",
    "\n",
    "This condition characterizes the optimal allocation of consumption and leisure for a given wage rate.\n",
    "Substituting this back into the budget constraint, we can solve for optimal leisure:\n",
    "\n",
    "$$\n",
    "\\ell^* = \\frac{\\psi}{1+\\psi} \\frac{a+w}{w}\n",
    "$$\n",
    "\n",
    "The optimal consumption level follows by plugging the above expression into the optimality condition we derived earlier.\n",
    "\n",
    "$$\n",
    "c^* = \\frac{1}{1+\\psi} (a+w)\n",
    "$$\n"
   ]
  },
  {
   "cell_type": "markdown",
   "metadata": {},
   "source": [
    "## Numerical solution\n",
    "\n",
    "Instead of solving this problem analytically, we can use a numerical solver to obtain the optimal choices for a given set of parameters.\n",
    "\n",
    "1.  Write a function `util()` which takes leisure $\\ell$ and parameters as arguments and returns the corresponding utility level.\n",
    "    ```python\n",
    "    def util(l, psi, a, w):\n",
    "        \"\"\"\n",
    "        Compute utility for given leisure choice and parameters.\n",
    "        \"\"\"\n",
    "\n",
    "    ```\n",
    "    Use the budget constraint to obtain consumption for a given leisure choice.\n",
    "2.  Assume that the model is parametrized by $a=0$, $w=1$ and $\\psi=1$.\n",
    "    Use the univariate minimizer\n",
    "    [`minimize_scalar()`](https://docs.scipy.org/doc/scipy/reference/generated/scipy.optimize.minimize_scalar.html)\n",
    "    from the module\n",
    "    [`scipy.optimize`](https://docs.scipy.org/doc/scipy/reference/optimize.html)\n",
    "    and solve for the optimal leisure choice.\n",
    "    Use the `util()` function you defined previously as the objective.\n",
    "\n",
    "    _Hint:_ Recall that you are using a _minimizer_ to solve a maximization problem, hence you need to flip the sign\n",
    "    of your objective function, e.g., by using a `lambda` expression.\n",
    "\n",
    "    _Hint:_ Use the `bounds` argument to `minimize_scalar()` to restrict the set of admissible values for $\\ell$.\n",
    "\n",
    "3.  You want to make the above implementation more flexible so you can experiment with different parameter values.\n",
    "    Write a function `solve_cons_leisure()` which takes _only_ the parameters as arguments and returns a tuple containing\n",
    "    the optimal consumption and leisure choices:\n",
    "\n",
    "    ```python\n",
    "    def solve_cons_leisure(psi, a, w):\n",
    "        \"\"\"\n",
    "        Solve for the optimal consumption/leisure choice for given parameters.\n",
    "        \"\"\"\n",
    "    ```\n",
    "\n",
    "    For this part, you should just reuse the code you wrote earlier by wrap it in a function.\n",
    "\n",
    "4.  You are interested in how the optimal leisure and consumption choices depend on the utility weight on leisure, $\\psi$.\n",
    "    Use the function you wrote in the last part to evaluate optimal consumption and leisure\n",
    "    for a grid of 21 points for $\\psi$ that is uniformly spaced on the interval $[0, 2]$.\n",
    "\n",
    "    Create a graph with two panels, one for consumption and one for leisure, plotting the optimal choices against the values of $\\psi$.\n",
    "    What is the intuition for the slope of $c$ and $\\ell$ as $\\psi$ changes?\n",
    "\n",
    "5.  Since this problem admits an analytical solution, compute the _exact_ optimal choices using the equations from above for\n",
    "    each value on the $\\psi$ grid you used in the previous part.\n",
    "\n",
    "    Adapt your graph to show both the numerical and the analytical solution. Use a legend to clearly label what is being plotted.\n"
   ]
  },
  {
   "cell_type": "code",
   "execution_count": 3,
   "metadata": {},
   "outputs": [],
   "source": [
    "import numpy as np\n",
    "\n",
    "\n",
    "def util(l, psi=1, a=0, w=1):\n",
    "    c = a + (1 - l) * w\n",
    "    u = np.log(c) + psi * np.log(l)\n",
    "    return u"
   ]
  },
  {
   "cell_type": "code",
   "execution_count": 4,
   "metadata": {},
   "outputs": [
    {
     "data": {
      "text/plain": [
       " message: Solution found.\n",
       " success: True\n",
       "  status: 0\n",
       "     fun: 1.3862943611198906\n",
       "       x: 0.5\n",
       "     nit: 6\n",
       "    nfev: 6"
      ]
     },
     "execution_count": 4,
     "metadata": {},
     "output_type": "execute_result"
    }
   ],
   "source": [
    "from scipy.optimize import minimize, minimize_scalar\n",
    "\n",
    "# Run the minimizer to find the maximum utility\n",
    "# We use a lambda expression to switch the sign of the objective, and\n",
    "# to pass the additional parameters to the utility function\n",
    "res = minimize_scalar(lambda x: -util(x), bounds=(0, 1))\n",
    "res"
   ]
  },
  {
   "cell_type": "code",
   "execution_count": 5,
   "metadata": {},
   "outputs": [
    {
     "name": "stdout",
     "output_type": "stream",
     "text": [
      "The optimal leisure value is 0.50\n",
      "The optimal consumption value is 0.50\n"
     ]
    }
   ],
   "source": [
    "# Store the optimal leisure value\n",
    "l_opt = res.x\n",
    "\n",
    "# Define the wage and the non-labor income\n",
    "w = 1\n",
    "a = 0\n",
    "# Recover the optimal consumption value\n",
    "c_opt = a + (1 - l_opt) * w\n",
    "\n",
    "# Print the results\n",
    "print(f\"The optimal leisure value is {l_opt:.2f}\")\n",
    "print(f\"The optimal consumption value is {c_opt:.2f}\")"
   ]
  },
  {
   "cell_type": "code",
   "execution_count": 6,
   "metadata": {},
   "outputs": [],
   "source": [
    "def solve_cons_leisure(psi, a, w):\n",
    "    res = minimize_scalar(lambda x: -util(x, psi, a, w), bounds=(0, 1))\n",
    "    l_opt = res.x\n",
    "    c_opt = a + (1 - l_opt) * w\n",
    "    return c_opt, l_opt"
   ]
  },
  {
   "cell_type": "code",
   "execution_count": 7,
   "metadata": {},
   "outputs": [
    {
     "name": "stdout",
     "output_type": "stream",
     "text": [
      "The optimal consumption value is 0.50\n",
      "The optimal leisure value is 0.50\n"
     ]
    }
   ],
   "source": [
    "# Test the function with the same parameters as before\n",
    "c_opt, l_opt = solve_cons_leisure(psi=1, a=0, w=1)\n",
    "print(f\"The optimal consumption value is {c_opt:.2f}\")\n",
    "print(f\"The optimal leisure value is {l_opt:.2f}\")"
   ]
  },
  {
   "cell_type": "code",
   "execution_count": 8,
   "metadata": {},
   "outputs": [],
   "source": [
    "# Define a grid of psi values\n",
    "psi_grid = np.linspace(0.0, 2, 21)\n",
    "# Create an empty array to store the optimal consumption values\n",
    "c_opt_grid = np.empty_like(psi_grid)\n",
    "l_opt_grid = np.empty_like(psi_grid)\n",
    "\n",
    "for i, psi in enumerate(psi_grid):\n",
    "    c_opt_grid[i], l_opt_grid[i] = solve_cons_leisure(psi, a=0, w=1)"
   ]
  },
  {
   "cell_type": "code",
   "execution_count": 9,
   "metadata": {},
   "outputs": [
    {
     "data": {
      "text/plain": [
       "Text(0.5, 0, '$\\\\psi$')"
      ]
     },
     "execution_count": 9,
     "metadata": {},
     "output_type": "execute_result"
    },
    {
     "data": {
      "image/png": "[encoded data removed]",
      "text/plain": [
       "<Figure size 800x300 with 2 Axes>"
      ]
     },
     "metadata": {},
     "output_type": "display_data"
    }
   ],
   "source": [
    "import matplotlib.pyplot as plt\n",
    "\n",
    "fig, ax = plt.subplots(1, 2, figsize=(8, 3))\n",
    "\n",
    "ax[0].plot(psi_grid, c_opt_grid, marker=\"o\", ms=4)\n",
    "ax[0].set_title(\"Optimal consumption\")\n",
    "ax[0].set_xlabel(r\"$\\psi$\")\n",
    "ax[0].set_ylabel(r\"$c^*$\")\n",
    "\n",
    "ax[1].plot(psi_grid, l_opt_grid, marker=\"o\", ms=4)\n",
    "ax[1].set_title(\"Optimal leisure\")\n",
    "ax[1].set_xlabel(r\"$\\psi$\")"
   ]
  },
  {
   "cell_type": "code",
   "execution_count": 10,
   "metadata": {},
   "outputs": [],
   "source": [
    "# Compute analytical solutions for given psi_grid\n",
    "\n",
    "c_opt_exact = 1 / (1 + psi_grid) * (a + w)\n",
    "l_opt_exact = psi_grid / (1 + psi_grid) * (a + w) / w"
   ]
  },
  {
   "cell_type": "code",
   "execution_count": 11,
   "metadata": {},
   "outputs": [
    {
     "data": {
      "text/plain": [
       "Text(0.5, 0, '$\\\\psi$')"
      ]
     },
     "execution_count": 11,
     "metadata": {},
     "output_type": "execute_result"
    },
    {
     "data": {
      "image/png": "[encoded data removed]",
      "text/plain": [
       "<Figure size 800x300 with 2 Axes>"
      ]
     },
     "metadata": {},
     "output_type": "display_data"
    }
   ],
   "source": [
    "# Recreate the graphs from above, add analytical solution\n",
    "\n",
    "# Create figure with 2 subplots\n",
    "fig, ax = plt.subplots(1, 2, figsize=(8, 3))\n",
    "\n",
    "# Plot analytical solution\n",
    "ax[0].plot(psi_grid, c_opt_exact, ls=\"--\", color=\"black\", label=\"Analytical\")\n",
    "# Plot numerical solution\n",
    "ax[0].plot(psi_grid, c_opt_grid, marker=\"o\", ms=4, ls=\"none\", label=\"Numerical\")\n",
    "ax[0].set_title(\"Consumption\")\n",
    "ax[0].set_xlabel(r\"$\\psi$\")\n",
    "# Add legend in the upper right corner\n",
    "ax[0].legend(loc=\"upper right\")\n",
    "\n",
    "# Plot analytical solution\n",
    "ax[1].plot(psi_grid, l_opt_exact, ls=\"--\", color=\"black\", label=\"Analytical\")\n",
    "# Plot numerical solution\n",
    "ax[1].plot(psi_grid, l_opt_grid, marker=\"o\", ms=4, ls=\"none\", label=\"Numerical\")\n",
    "ax[1].set_title(\"Leisure\")\n",
    "ax[1].set_xlabel(r\"$\\psi$\")"
   ]
  },
  {
   "cell_type": "markdown",
   "metadata": {},
   "source": [
    "---\n",
    "\n",
    "# Exercise 2: Consumption & labor supply with commuting\n",
    "\n",
    "Recall the consumption & labor supply problem we studied in the lecture:\n",
    "the individual has preferences over consumption and leisure given by\n",
    "\n",
    "$$\n",
    "u(c,h) = \\frac{c^{1-\\gamma} - 1}{1-\\gamma} - \\psi \\frac{h^{1+1/\\theta}}{1+1/\\theta}\n",
    "$$\n",
    "\n",
    "where $c \\geq 0$ is the amount consumed, and $h \\geq 0$ (for \"hours\") is the amount of labor the individual wishes to work (the remaining time is then consumed as leisure). The individual does not like working, and therefore the amount of hours worked enters as a disutility term in the utility function.\n",
    "Note that for the special case of $\\gamma = 1$, the utility from consumption becomes $\\log(c)$,\n",
    "the natural logarithm of $c$, so that\n",
    "\n",
    "$$\n",
    "u(c,h) = \\log(c) - \\psi \\frac{h^{1+1/\\theta}}{1+1/\\theta}\n",
    "$$\n"
   ]
  },
  {
   "cell_type": "markdown",
   "metadata": {},
   "source": [
    "Unlike in the lecture, we assume that the individual can either work part-time for $h < H$ hours in their neighborhood for a lower wage $w_{\\ell}$\n",
    "or commute to the city to work full-time for $h \\geq H$ hours at a higher wage $w_h$.\n",
    "However, commuting to the city incurs a fixed commuting cost $\\kappa$.\n",
    "The budget constraint is therefore given by\n",
    "\n",
    "$$\n",
    "c = \\begin{cases}\n",
    "a + w_{\\ell} \\cdot h & \\text{if } h < H \\\\\n",
    "a + w_{h} \\cdot h - \\kappa & \\text{if } h \\geq H \\\\\n",
    "\\end{cases}\n",
    "$$\n",
    "\n",
    "This is an example of a problem that is harder to solve analytically because of the discountinuous jump at the choice $h=H$.\n",
    "As you will see, this discontinuity can also cause problems for numerical solvers.\n"
   ]
  },
  {
   "cell_type": "markdown",
   "metadata": {},
   "source": [
    "To get you started, use the following function to evaluate the utility for given choices and parameters (it's the same one we wrote in the lecture):\n"
   ]
  },
  {
   "cell_type": "code",
   "execution_count": 29,
   "metadata": {},
   "outputs": [],
   "source": [
    "import numpy as np\n",
    "\n",
    "\n",
    "def util(c, h, gamma, psi, theta):\n",
    "    \"\"\"\n",
    "    Compute the utility of a given consumption/labor supply choice.\n",
    "\n",
    "    Parameters\n",
    "    ----------\n",
    "    c : float or array\n",
    "        Consumption level.\n",
    "    h : float or array\n",
    "        Hours worked.\n",
    "    gamma : float\n",
    "        Relative risk aversion parameter.\n",
    "    psi : float\n",
    "        Weight on disutility of labor.\n",
    "    theta : float\n",
    "        Labor supply elasticity.\n",
    "\n",
    "    Returns\n",
    "    -------\n",
    "    u : float or array\n",
    "        Utility value.\n",
    "    \"\"\"\n",
    "\n",
    "    # Consumption utility\n",
    "    if gamma == 1:\n",
    "        # Log utility\n",
    "        u = np.log(c)\n",
    "    else:\n",
    "        # General CRRA utility\n",
    "        u = (c ** (1 - gamma) - 1) / (1 - gamma)\n",
    "\n",
    "    # add disutility of labor\n",
    "    u -= psi * h ** (1 + 1 / theta) / (1 + 1 / theta)\n",
    "\n",
    "    return u"
   ]
  },
  {
   "cell_type": "markdown",
   "metadata": {},
   "source": [
    "In the remainder of this exercise, you're asked to find the optimal choices using grid search and two different SciPy minimizer.\n",
    "Use the following parameters for these tasks:\n"
   ]
  },
  {
   "cell_type": "code",
   "execution_count": 30,
   "metadata": {},
   "outputs": [],
   "source": [
    "# Parameters\n",
    "a = 0  # initial assets\n",
    "w_l = 0.75  # low wage (neighborhood)\n",
    "w_h = 3  # high wage (city)\n",
    "gamma = 1.0  # Relative risk aversion\n",
    "psi = 2.0  # weight on disutility of labor\n",
    "theta = 0.5  # labor supply elasticity\n",
    "H = 1.0  # cut-off for part-time work\n",
    "kappa = 2.0  # commuting cost"
   ]
  },
  {
   "cell_type": "markdown",
   "metadata": {},
   "source": [
    "## Tasks\n",
    "\n",
    "1.  Write a function with the signature\n",
    "\n",
    "    ```python\n",
    "    def util_h(h, gamma, psi, theta, H, kappa, a, w_l, w_h):\n",
    "        \"\"\"\n",
    "        Compute utility for given labor choice and parameters.\n",
    "        \"\"\"\n",
    "    ```\n",
    "\n",
    "    which uses `util()` to return the utility associated with a hours choice `h`.\n",
    "    Use the budget constraint to obtained the implied consumption level.\n",
    "\n",
    "    _Hint:_ To get a vectorized function (which can deal with `h` arguments that are arrays),\n",
    "    use\n",
    "    [`np.where()`](https://numpy.org/doc/stable/reference/generated/numpy.where.html)\n",
    "    instead of an `if` statement when dealing with the two cases in\n",
    "    the budget constraint.\n",
    "\n",
    "2.  Solve the problem using grid search, evaluating utility\n",
    "    on a grid of 10,000 points for $h$ on the interval $[0.1, 2]$.\n",
    "    Plot utility as a function of $h$ for the values on the hours grid.\n",
    "\n",
    "3.  Use the scalar minimizer\n",
    "    [`minimize_scalar()`](https://docs.scipy.org/doc/scipy/reference/generated/scipy.optimize.minimize_scalar.html)\n",
    "    and the function `util_h()` you wrote\n",
    "    to locate the optimum. Do you get a similar result as with grid search?\n",
    "\n",
    "4.  Lastly, use `util_h()` and a derivative-based minimizer implemented by\n",
    "    [`minimize()`](https://docs.scipy.org/doc/scipy/reference/generated/scipy.optimize.minimize.html)\n",
    "    to find the optimum.\n",
    "\n",
    "    _Hint:_ Call this minimizer as follows:\n",
    "\n",
    "    ```python\n",
    "    res = minimize(\n",
    "        lambda x: -util_h(x, gamma, psi, theta, H, kappa, a, w_l, w_h),\n",
    "        x0 = x0,\n",
    "        method='L-BFGS-B',\n",
    "        bounds=((0, None),)\n",
    "    )\n",
    "    ```\n",
    "\n",
    "    This selects the `'L-BFGS-B'` algorithm, a derivative-based method\n",
    "    which also supports bounds. We impose these using the\n",
    "    `bounds=((0, None),)` argument which imposes the $h \\geq 0$ lower bound.\n",
    "\n",
    "    You need to specify an initial guess `x0`: experiment with `x0=0.75`\n",
    "    and `x0=1.1`. Do these yield the same result?\n",
    "\n",
    "    _Hint:_ The `minimize()` returns a result object where the optimum\n",
    "    is stored in the `x` attribute, which in this case is an array of length 1.\n"
   ]
  },
  {
   "cell_type": "code",
   "execution_count": 31,
   "metadata": {},
   "outputs": [],
   "source": [
    "def util_h(h, gamma, psi, theta, H, kappa, a, w_l, w_h):\n",
    "    \"\"\"\n",
    "    Compute utility for given labor choice and parameters.\n",
    "\n",
    "    Parameters\n",
    "    ----------\n",
    "    h : float or array\n",
    "        Hours worked.\n",
    "    gamma : float\n",
    "        Relative risk aversion parameter.\n",
    "    psi : float\n",
    "        Weight on disutility of labor.\n",
    "    theta : float\n",
    "        Labor supply elasticity.\n",
    "    H : float\n",
    "        Cut-off for part-time work.\n",
    "    kappa : float\n",
    "        Commuting cost.\n",
    "    a : float\n",
    "        Initial assets.\n",
    "    w_l : float\n",
    "        Low wage (neighborhood).\n",
    "    w_h : float\n",
    "        High wage (city).\n",
    "\n",
    "    Returns\n",
    "    -------\n",
    "    u : float or array\n",
    "        Utility value.\n",
    "    \"\"\"\n",
    "\n",
    "    # Recover consumption from the budget constraint.\n",
    "    # Use np.where() instead of 'if' to support vectorized evaluation.\n",
    "    c = np.where(h < H, a + w_l * h, a + w_h * h - kappa)\n",
    "\n",
    "    # Use our previous implementation of u(c,h) to compute utility.\n",
    "    u = util(c, h, gamma, psi, theta)\n",
    "\n",
    "    return u"
   ]
  },
  {
   "cell_type": "code",
   "execution_count": 32,
   "metadata": {},
   "outputs": [],
   "source": [
    "# Grid Search\n",
    "# Create a grid of hours worked\n",
    "N = 10000\n",
    "\n",
    "# Define the grid\n",
    "h_grid = np.linspace(0.1, 2, N)"
   ]
  },
  {
   "cell_type": "code",
   "execution_count": 33,
   "metadata": {},
   "outputs": [],
   "source": [
    "u_grid = util_h(h_grid, gamma, psi, theta, H, kappa, a, w_l, w_h)"
   ]
  },
  {
   "cell_type": "code",
   "execution_count": 37,
   "metadata": {},
   "outputs": [
    {
     "name": "stdout",
     "output_type": "stream",
     "text": [
      "The optimal hours worked are 1.0887\n",
      "The optimal utility value is -0.6243\n"
     ]
    }
   ],
   "source": [
    "# Locate the maximum utility value\n",
    "imax = np.argmax(u_grid)\n",
    "\n",
    "# Recover the optimal hours worked\n",
    "h_opt = h_grid[imax]\n",
    "\n",
    "# Recover the optimal utility value\n",
    "u_opt = u_grid[imax]\n",
    "\n",
    "# Print the results\n",
    "print(f\"The optimal hours worked are {h_opt:.4f}\")\n",
    "print(f\"The optimal utility value is {u_opt:.4f}\")"
   ]
  },
  {
   "cell_type": "code",
   "execution_count": 45,
   "metadata": {},
   "outputs": [
    {
     "data": {
      "image/png": "[encoded data removed]",
      "text/plain": [
       "<Figure size 500x300 with 1 Axes>"
      ]
     },
     "metadata": {},
     "output_type": "display_data"
    }
   ],
   "source": [
    "import matplotlib.pyplot as plt\n",
    "\n",
    "_ = plt.figure(figsize=(5, 3))\n",
    "_ = plt.plot(h_grid, u_grid)\n",
    "_ = plt.plot(h_opt, u_opt, marker=\"o\", ms=5, color=\"black\")\n",
    "_ = plt.xlabel(r\"Hours worked $h$\")\n",
    "_ = plt.ylabel(\"Utility\")\n",
    "_ = plt.axhline(u_opt, ls=\"--\", lw=0.5, color=\"black\", zorder=-1)\n",
    "_ = plt.axvline(h_opt, ls=\"--\", lw=0.5, color=\"black\", zorder=-1)"
   ]
  },
  {
   "cell_type": "code",
   "execution_count": 47,
   "metadata": {},
   "outputs": [
    {
     "name": "stdout",
     "output_type": "stream",
     "text": [
      "The optimal hours worked are 1.0886\n",
      "The optimal utility value is -0.6243\n"
     ]
    }
   ],
   "source": [
    "from scipy.optimize import minimize_scalar\n",
    "\n",
    "bounds = (1.0e-8, 2)\n",
    "\n",
    "res = minimize_scalar(\n",
    "    lambda h: -util_h(h, gamma, psi, theta, H, kappa, a, w_l, w_h), bounds=bounds\n",
    ")\n",
    "\n",
    "h_opt = res.x\n",
    "u_opt = -res.fun  # minus sign because we are maximizing\n",
    "\n",
    "print(f\"The optimal hours worked are {h_opt:.4f}\")\n",
    "print(f\"The optimal utility value is {u_opt:.4f}\")"
   ]
  },
  {
   "cell_type": "code",
   "execution_count": 48,
   "metadata": {},
   "outputs": [],
   "source": [
    "from scipy.optimize import minimize\n",
    "\n",
    "res = minimize(\n",
    "    lambda x: -util_h(x, gamma, psi, theta, H, kappa, a, w_l, w_h),\n",
    "    x0=0.75,\n",
    "    method=\"L-BFGS-B\",\n",
    "    bounds=((0, None),),\n",
    ")"
   ]
  },
  {
   "cell_type": "code",
   "execution_count": 50,
   "metadata": {},
   "outputs": [
    {
     "name": "stdout",
     "output_type": "stream",
     "text": [
      "The optimal hours worked in the neighborhood are 0.7937\n",
      "The optimal utility value is -0.8521\n"
     ]
    }
   ],
   "source": [
    "h_opt_lo = res.x[0]\n",
    "u_max_lo = -res.fun\n",
    "\n",
    "print(f\"The optimal hours worked in the neighborhood are {h_opt_lo:.4f}\")\n",
    "print(f\"The optimal utility value is {u_max_lo:.4f}\")"
   ]
  },
  {
   "cell_type": "code",
   "execution_count": 52,
   "metadata": {},
   "outputs": [],
   "source": [
    "res = minimize(\n",
    "    lambda x: -util_h(x, gamma, psi, theta, H, kappa, a, w_l, w_h),\n",
    "    x0=1.1,\n",
    "    method=\"L-BFGS-B\",\n",
    "    bounds=((0, None),),\n",
    ")"
   ]
  },
  {
   "cell_type": "code",
   "execution_count": 54,
   "metadata": {},
   "outputs": [
    {
     "name": "stdout",
     "output_type": "stream",
     "text": [
      "The optimal hours worked in the city are 1.0886\n",
      "The optimal utility value is -0.6243\n"
     ]
    }
   ],
   "source": [
    "h_opt_hi = res.x[0]\n",
    "u_max_hi = -res.fun\n",
    "\n",
    "print(f\"The optimal hours worked in the city are {h_opt_hi:.4f}\")\n",
    "print(f\"The optimal utility value is {u_max_hi:.4f}\")"
   ]
  },
  {
   "cell_type": "code",
   "execution_count": 55,
   "metadata": {},
   "outputs": [
    {
     "data": {
      "text/plain": [
       "Text(0.5, 1.0, 'Utility maximization with different initial guesses')"
      ]
     },
     "execution_count": 55,
     "metadata": {},
     "output_type": "execute_result"
    },
    {
     "data": {
      "image/png": "[encoded data removed]",
      "text/plain": [
       "<Figure size 500x300 with 1 Axes>"
      ]
     },
     "metadata": {},
     "output_type": "display_data"
    }
   ],
   "source": [
    "plt.figure(figsize=(5, 3))\n",
    "plt.plot(h_grid, u_grid)\n",
    "hi = plt.plot(h_opt_hi, u_max_hi, marker=\"o\", ms=5, color=\"black\", ls=\"none\")\n",
    "lo = plt.plot(h_opt_lo, u_max_lo, marker=\"o\", ms=5, color=\"red\", ls=\"none\")\n",
    "plt.xlabel(r\"Hours worked $h$\")\n",
    "plt.ylabel(\"Utility\")\n",
    "plt.axhline(u_max_hi, ls=\"--\", lw=0.5, color=\"black\", zorder=-1)\n",
    "plt.axvline(h_opt_hi, ls=\"--\", lw=0.5, color=\"black\", zorder=-1)\n",
    "plt.axhline(u_max_lo, ls=\"--\", lw=0.5, color=\"red\", zorder=-1)\n",
    "plt.axvline(h_opt_lo, ls=\"--\", lw=0.5, color=\"red\", zorder=-1)\n",
    "plt.legend([hi[0], lo[0]], [\"$x_0=1.1$\", \"$x_0=0.75$\"], title=\"Initial guess\")\n",
    "plt.title(\"Utility maximization with different initial guesses\")"
   ]
  },
  {
   "cell_type": "markdown",
   "metadata": {},
   "source": [
    "---\n",
    "\n",
    "# Exercise 3: Consumption-savings with uncertain income\n",
    "\n",
    "We have studied the two-period consumption savings problems several times now, but so far, income in the second period was deterministic.\n",
    "This setting can be extended to uncertain income, a feature that is at the core of modern macroeconomics.\n",
    "\n",
    "Consider a household which maximizes _expected_ lifetime utility by choosing period-1 consumption $c_1$ and savings $s$,\n",
    "\n",
    "$$\n",
    "\\begin{aligned}\n",
    "\\max_{c_1,~s} \\enskip & \\Bigl\\{ u(c_1) + \\beta \\mathbb{E}\\bigl[u(c_2)\\bigr] \\Bigr\\} \\\\\n",
    "\\text{s.t.} \\quad c_1 + s &= a \\\\\n",
    "                  c_2 &= (1+r)s + y_2 \\\\\n",
    "    c_1 &\\geq 0, ~ s \\geq 0\n",
    "\\end{aligned}\n",
    "$$\n",
    "\n",
    "Per-period utility $u(c)$ is the CRRA utility function given by\n",
    "\n",
    "$$\n",
    "u(c) = \\begin{cases}\n",
    "    \\frac{c^{1-\\gamma}}{1-\\gamma} & \\text{if } \\gamma \\neq 1 \\\\\n",
    "    \\log(c) & \\text{if } \\gamma = 1\n",
    "    \\end{cases}\n",
    "$$\n",
    "\n",
    "where $\\gamma$ is the RRA coefficient and $\\log(\\bullet)$ denotes\n",
    "the natural logarithm.\n",
    "\n",
    "The savings $s$ generate a gross return $(1+r)$ in the second period. Additionally, the household receives stochastic income $y_2$.\n",
    "For simplicity, we assume that $y_2$ fluctuates symmetrically around its mean and can take on only two realizations:\n",
    "\n",
    "$$\n",
    "y_2 = \\begin{cases}\n",
    "\\overline{y} + \\epsilon & \\text{with probability } \\frac{1}{2} \\\\\n",
    "\\overline{y} - \\epsilon & \\text{with probability } \\frac{1}{2} \\\\\n",
    "\\end{cases}\n",
    "$$\n",
    "\n",
    "You can easily verify that $\\mathbb{E}[y_2] = \\overline{y}$ and $\\text{Var}(y_2) = \\epsilon^2$ so that the parameters $\\overline{y}$ and $\\epsilon$\n",
    "govern the mean and the volatility of period-2 income, respectively.\n"
   ]
  },
  {
   "cell_type": "markdown",
   "metadata": {},
   "source": [
    "## Analytical results\n",
    "\n",
    "In general, it is not possible to solve such a problem analytically unless we are willing to impose simplifying assumptions (e.g., setting $\\gamma=1$,\n",
    "but even then the optimal $s^*$ is characterized by a tedious quadratic equation).\n",
    "\n",
    "Nevertheless, we can use the Euler equation for this problem,\n",
    "\n",
    "$$\n",
    "u'(c_1) = \\beta (1+r) \\mathbb{E} \\bigl[ u'(c_2) \\bigr]\n",
    "$$\n",
    "\n",
    "to solve the problem numerically using root-finding. For this purpose, we use the functional form assumption for $u(\\bullet)$ and plug in the period-specific budget constraints into the Euler equation to obtain,\n",
    "<a id=\"E3:EE\"></a>\n",
    "\n",
    "$$\n",
    "\\bigl(a -s \\bigr)^{-\\gamma} = \\beta (1+r) \\mathbb{E} \\Bigl[ \\bigl( (1+r) s + y_2 \\bigr)^{-\\gamma} \\Bigr]\n",
    "    \\tag{3.1}\n",
    "$$\n",
    "\n",
    "which is a nonlinear equation in a single unknown, $s$.\n"
   ]
  },
  {
   "cell_type": "markdown",
   "metadata": {},
   "source": [
    "## Numerical solution\n",
    "\n",
    "In the remainder of the exercise, you are asked to solve this problem numerically using both a minimizer and a root-finder approach. You should use the following implementation of per-period utility $u(\\bullet)$:\n"
   ]
  },
  {
   "cell_type": "code",
   "execution_count": 56,
   "metadata": {},
   "outputs": [],
   "source": [
    "import numpy as np\n",
    "\n",
    "\n",
    "def util(c, gamma):\n",
    "    \"\"\"\n",
    "    Compute per-period utility for given consumption.\n",
    "\n",
    "    Parameters\n",
    "    ----------\n",
    "    c : float or array\n",
    "        Consumption level.\n",
    "    gamma : float\n",
    "        Relative risk aversion parameter.\n",
    "\n",
    "    Returns\n",
    "    -------\n",
    "    u : float or array\n",
    "        Utility value.\n",
    "    \"\"\"\n",
    "    if gamma == 1:\n",
    "        # Log preferences\n",
    "        u = np.log(c)\n",
    "    else:\n",
    "        # General CRRA preferences\n",
    "        u = c ** (1 - gamma) / (1 - gamma)\n",
    "    return u"
   ]
  },
  {
   "cell_type": "markdown",
   "metadata": {},
   "source": [
    "Moreover, assume the following parameters for the tasks below:\n"
   ]
  },
  {
   "cell_type": "code",
   "execution_count": 57,
   "metadata": {},
   "outputs": [],
   "source": [
    "# Parameters\n",
    "ybar = 0.5  # average period-2 income\n",
    "epsilon = 0.2  # standard deviation of period-2 income\n",
    "a = 1.0  # initial assets\n",
    "r = 0.04  # interest rate\n",
    "gamma = 2.0  # relative risk aversion\n",
    "beta = 0.96  # discount factor"
   ]
  },
  {
   "cell_type": "markdown",
   "metadata": {},
   "source": [
    "### Tasks\n",
    "\n",
    "1. Define a function `util_life()` with the following signature which should return\n",
    "   the expected life-time utility for a given savings choice $s$:\n",
    "\n",
    "   ```python\n",
    "   def util_life(s, beta, gamma, a, r, ybar, epsilon):\n",
    "       \"\"\"\n",
    "       Evaluate lifetime utility for given savings choice and parameters.\n",
    "       \"\"\"\n",
    "   ```\n",
    "\n",
    "2. Plot this function against a grid of candidate savings levels $s$. You should define a savings grid with reasonale bounds for this task.\n",
    "\n",
    "3. Write a function `solve_minimize()` with the following signature which should\n",
    "   use\n",
    "   [`minimize_scalar()`](https://docs.scipy.org/doc/scipy/reference/generated/scipy.optimize.minimize_scalar.html)\n",
    "   from `scipy.optimize` to find the optimal choices for given parameters.\n",
    "\n",
    "   ```python\n",
    "   def solve_minimize(beta, gamma, a, r, ybar, epsilon):\n",
    "       \"\"\"\n",
    "       Solve consumption-savings problem using a minimizer.\n",
    "       \"\"\"\n",
    "\n",
    "   ```\n",
    "\n",
    "   Your function should return the tuple $(c_1^*, s^*, U^*)$, i.e., the\n",
    "   optimal consumption in period 1, optimal savings, and the maximized lifetime\n",
    "   utility $U^*$.\n",
    "\n",
    "   Run the minimizer for the given parameters and report the results.\n",
    "\n",
    "4. The model we are studying features a _precautionary savings motive_: an\n",
    "   increase in risk induces households to increase their savings.\n",
    "\n",
    "   Investigate this behavior by computing the solution for a grid\n",
    "   of $\\epsilon$ defined on the interval $[0, \\overline{y}]$. Note that\n",
    "   varying epsilon only increases the variance of income shocks in\n",
    "   period 2 but leaves the mean $\\mathbb{E}y_2$ unaffected.\n",
    "\n",
    "   Plot optimal savings against $\\epsilon$ for both $\\gamma = 1$ and\n",
    "   $\\gamma = 2$ in a single plot. Why are the responses different?\n",
    "\n",
    "5. Lastly, find the optimal choices using a root-finder. To this end,\n",
    "   rewrite the Euler equation [(3.1)](#E3:EE) as\n",
    "\n",
    "   $$\n",
    "   f(s) = \\bigl(a -s \\bigr)^{-\\gamma} - \\beta (1+r) \\mathbb{E} \\Bigl[ \\bigl( (1+r) s + y_2 \\bigr)^{-\\gamma} \\Bigr]\n",
    "   $$\n",
    "\n",
    "   which returns the Euler equation error for savings $s$. The optimal\n",
    "   choice needs to satisfy $f(s^*) = 0$, so you need to find the root of $f$.\n",
    "\n",
    "   1. Write a function `euler_err()` with the following signature\n",
    "      which implements $f$ and returns the Euler equation error:\n",
    "\n",
    "      ```python\n",
    "      def euler_err(s, beta, gamma, a, r, ybar, epsilon):\n",
    "          \"\"\"\n",
    "          Compute the Euler equation error for a given savings choice.\n",
    "          \"\"\"\n",
    "      ```\n",
    "\n",
    "   2. Plot this function against the savings grid used earlier to verify that\n",
    "      this function indeed has a root somewhere.\n",
    "\n",
    "   3. Use the root-finder\n",
    "      [`root_scalar()`](https://docs.scipy.org/doc/scipy/reference/generated/scipy.optimize.root_scalar.html)\n",
    "      to locate this root (choose the method `brentq` and specify an initial `bracket`).\n",
    "\n",
    "   4. Verify that this approach yields the same result as the minimizer.\n"
   ]
  },
  {
   "cell_type": "code",
   "execution_count": 59,
   "metadata": {},
   "outputs": [],
   "source": [
    "def util_life(s, beta, gamma, a, r, ybar, epsilon):\n",
    "    \"\"\"\n",
    "    Evaluate lifetime utility for given savings choice and parameters.\n",
    "\n",
    "    Parameters\n",
    "    ----------\n",
    "    s : float or array\n",
    "        Savings choice.\n",
    "    beta : float\n",
    "        Discount factor.\n",
    "    gamma : float\n",
    "        Relative risk aversion.\n",
    "    a : float\n",
    "        Initial assets.\n",
    "    r : float\n",
    "        Interest rate.\n",
    "    ybar : float\n",
    "        Average period-2 income.\n",
    "    epsilon : float\n",
    "        Standard deviation of period-2 income.\n",
    "\n",
    "    Returns\n",
    "    -------\n",
    "    obj : float or array\n",
    "        Lifetime utility.\n",
    "    \"\"\"\n",
    "\n",
    "    # Period 1 consumption\n",
    "    c1 = a - s\n",
    "    # Period 1 utility\n",
    "    u1 = util(c1, gamma)\n",
    "\n",
    "    # Compute period-2 assets\n",
    "    a2 = (1 + r) * s\n",
    "\n",
    "    # Compute expected utility of period-2 wealth\n",
    "    c2_hi = a2 + ybar + epsilon\n",
    "    c2_lo = a2 + ybar - epsilon\n",
    "\n",
    "    # Utility in high and low states\n",
    "    u2_hi = util(c2_hi, gamma)\n",
    "    u2_lo = util(c2_lo, gamma)\n",
    "\n",
    "    # Compute expected utility\n",
    "    prob = 0.5\n",
    "    Eu2 = prob * u2_hi + (1 - prob) * u2_lo\n",
    "\n",
    "    # lifetime utility\n",
    "    obj = u1 + beta * Eu2\n",
    "\n",
    "    return obj"
   ]
  },
  {
   "cell_type": "code",
   "execution_count": 61,
   "metadata": {},
   "outputs": [
    {
     "data": {
      "text/plain": [
       "Text(0.5, 1.0, 'Lifetime utility')"
      ]
     },
     "execution_count": 61,
     "metadata": {},
     "output_type": "execute_result"
    },
    {
     "data": {
      "image/png": "[encoded data removed]",
      "text/plain": [
       "<Figure size 640x480 with 1 Axes>"
      ]
     },
     "metadata": {},
     "output_type": "display_data"
    }
   ],
   "source": [
    "import matplotlib.pyplot as plt\n",
    "\n",
    "# Savings grid for evaluating lifetime utility\n",
    "s_grid = np.linspace(0, a - 1.0e-1, 100)\n",
    "# Evaluate lifetime utility for each savings choice\n",
    "u_grid = util_life(s_grid, beta, gamma, a, r, ybar, epsilon)\n",
    "\n",
    "# Plot lifetime utility\n",
    "plt.plot(s_grid, u_grid)\n",
    "plt.xlabel(\"Savings $s$\")\n",
    "plt.title(\"Lifetime utility\")"
   ]
  },
  {
   "cell_type": "code",
   "execution_count": 62,
   "metadata": {},
   "outputs": [],
   "source": [
    "from scipy.optimize import minimize_scalar\n",
    "\n",
    "\n",
    "def solve_minimize(beta, gamma, a, r, ybar, epsilon):\n",
    "    \"\"\"\n",
    "    Solve consumption-savings problem using a minimizer.\n",
    "\n",
    "    Parameters\n",
    "    ----------\n",
    "    s : float or array\n",
    "        Savings choice.\n",
    "    beta : float\n",
    "        Discount factor.\n",
    "    gamma : float\n",
    "        Relative risk aversion.\n",
    "    a : float\n",
    "        Initial assets.\n",
    "    r : float\n",
    "        Interest rate.\n",
    "    ybar : float\n",
    "        Average period-2 income.\n",
    "    epsilon : float\n",
    "        Standard deviation of period-2 income.\n",
    "\n",
    "    Returns\n",
    "    -------\n",
    "    c1_opt : float\n",
    "        Optimal period-1 consumption.\n",
    "    s_opt : float\n",
    "        Optimal savings.\n",
    "    u_max : float\n",
    "        Maximum lifetime utility.\n",
    "\n",
    "    \"\"\"\n",
    "\n",
    "    # Set boundaries for admissible savings\n",
    "    bounds = (0, a)\n",
    "\n",
    "    # Run the minimizer\n",
    "    res = minimize_scalar(\n",
    "        lambda s: -util_life(s, beta, gamma, a, r, ybar, epsilon), bounds=bounds\n",
    "    )\n",
    "\n",
    "    if not res.success:\n",
    "        print(\"Minimizer did not terminate successfully\")\n",
    "\n",
    "    # Recover optimal choices and maximized utility\n",
    "    s_opt = res.x\n",
    "    c1_opt = a - s_opt\n",
    "    u_max = -res.fun\n",
    "\n",
    "    return c1_opt, s_opt, u_max"
   ]
  },
  {
   "cell_type": "code",
   "execution_count": 64,
   "metadata": {},
   "outputs": [
    {
     "name": "stdout",
     "output_type": "stream",
     "text": [
      "Minimizer solution:\n",
      "  c_1   =  0.71935843\n",
      "  s     =  0.28064157\n",
      "  u_max = -2.685e+00\n"
     ]
    }
   ],
   "source": [
    "# Solve the model for given parameters\n",
    "c1_opt, s_opt, u_max = solve_minimize(beta, gamma, a, r, ybar, epsilon)\n",
    "\n",
    "print(\"Minimizer solution:\")\n",
    "print(f\"  c_1   = {c1_opt: .8f}\")\n",
    "print(f\"  s     = {s_opt: .8f}\")\n",
    "print(f\"  u_max = {u_max:.3e}\")"
   ]
  },
  {
   "cell_type": "code",
   "execution_count": 66,
   "metadata": {},
   "outputs": [],
   "source": [
    "# Grid of volatilities\n",
    "epsilon_grid = np.linspace(0.0, ybar, 100)\n",
    "\n",
    "# Grid of risk aversions for which to solve the model\n",
    "gammas = [1.0, 2.0]\n",
    "\n",
    "# Allocate array to store optimal savings\n",
    "s_opt_grid = np.empty((len(gammas), len(epsilon_grid)))\n",
    "\n",
    "# Loop over gamma and epsilons\n",
    "for i, gam in enumerate(gammas):\n",
    "    for j, eps in enumerate(epsilon_grid):\n",
    "        # Solve the model for current gamma and epsilon\n",
    "        c1_opt, s_opt, u_max = solve_minimize(beta, gam, a, r, ybar, eps)\n",
    "        s_opt_grid[i, j] = s_opt"
   ]
  },
  {
   "cell_type": "code",
   "execution_count": 68,
   "metadata": {},
   "outputs": [
    {
     "data": {
      "text/plain": [
       "<matplotlib.legend.Legend at 0x1a222dcd1c0>"
      ]
     },
     "execution_count": 68,
     "metadata": {},
     "output_type": "execute_result"
    },
    {
     "data": {
      "image/png": "[encoded data removed]",
      "text/plain": [
       "<Figure size 640x480 with 1 Axes>"
      ]
     },
     "metadata": {},
     "output_type": "display_data"
    }
   ],
   "source": [
    "plt.plot(epsilon_grid, s_opt_grid[0], c=\"steelblue\", label=r\"$\\gamma=1$\")\n",
    "plt.plot(epsilon_grid, s_opt_grid[1], c=\"red\", ls=\"--\", label=r\"$\\gamma=2$\")\n",
    "plt.xlabel(r\"Income volatility $\\epsilon$\")\n",
    "plt.title(\"Optimal savings $s$\")\n",
    "plt.legend(title=\"Risk aversion\")"
   ]
  },
  {
   "cell_type": "code",
   "execution_count": 78,
   "metadata": {},
   "outputs": [],
   "source": [
    "def euler_err(s, beta, gamma, a, r, ybar, epsilon):\n",
    "    \"\"\"\n",
    "    Compute the Euler equation error for a given savings choice.\n",
    "\n",
    "    Parameters\n",
    "    ----------\n",
    "    s : float or array\n",
    "        Savings choice.\n",
    "    beta : float\n",
    "        Discount factor.\n",
    "    gamma : float\n",
    "        Relative risk aversion.\n",
    "    a : float\n",
    "        Initial assets.\n",
    "    r : float\n",
    "        Interest rate.\n",
    "    ybar : float\n",
    "        Average period-2 income.\n",
    "    epsilon : float\n",
    "        Standard deviation of period-2 income.\n",
    "\n",
    "    Returns\n",
    "    -------\n",
    "    err : float or array\n",
    "        Euler equation error.\n",
    "    \"\"\"\n",
    "\n",
    "    # Period 1 consumption\n",
    "    c1 = a - s\n",
    "\n",
    "    # Compute period-2 assets\n",
    "    a2 = (1 + r) * s\n",
    "\n",
    "    # Compute expected marginal utility of period-2 wealth\n",
    "    c2_hi = a2 + ybar + epsilon\n",
    "    c2_lo = a2 + ybar - epsilon\n",
    "\n",
    "    # Marginal utility in high and low states\n",
    "    mu2_hi = c2_hi ** (-gamma)\n",
    "    mu2_lo = c2_lo ** (-gamma)\n",
    "\n",
    "    # Compute expected marginal utility\n",
    "    prob = 0.5\n",
    "    Emu2 = prob * mu2_hi + (1 - prob) * mu2_lo\n",
    "\n",
    "    # Marginal utility of period-1 consumption\n",
    "    mu1 = c1 ** (-gamma)\n",
    "\n",
    "    # Euler equation error\n",
    "    err = mu1 - beta * (1 + r) * Emu2\n",
    "    # This should be zero in equilibrium\n",
    "    # This is because the analytical solution is mu1 = beta * (1 + r) * Emu2\n",
    "    # The difference between the two sides is the error\n",
    "\n",
    "    return err"
   ]
  },
  {
   "cell_type": "code",
   "execution_count": 72,
   "metadata": {},
   "outputs": [
    {
     "data": {
      "text/plain": [
       "Text(0.5, 1.0, 'Euler equation error')"
      ]
     },
     "execution_count": 72,
     "metadata": {},
     "output_type": "execute_result"
    },
    {
     "data": {
      "image/png": "[encoded data removed]",
      "text/plain": [
       "<Figure size 640x480 with 1 Axes>"
      ]
     },
     "metadata": {},
     "output_type": "display_data"
    }
   ],
   "source": [
    "# Savings grid\n",
    "s_grid = np.linspace(0, a - 1.0e-1, 100)\n",
    "# Euler equation errors for each savings choice\n",
    "eee_grid = euler_err(s_grid, beta, gamma, a, r, ybar, epsilon)\n",
    "\n",
    "# Plot Euler equation errors\n",
    "plt.plot(s_grid, eee_grid, c=\"red\")\n",
    "plt.axhline(0, ls=\"--\", lw=0.5, color=\"black\")\n",
    "plt.xlabel(\"Savings $s$\")\n",
    "plt.title(\"Euler equation error\")"
   ]
  },
  {
   "cell_type": "code",
   "execution_count": 79,
   "metadata": {},
   "outputs": [],
   "source": [
    "from scipy.optimize import root_scalar\n",
    "\n",
    "# Initial bracket of admissible savings\n",
    "bracket = (0, a - 1.0e-8)\n",
    "\n",
    "# Run the root-finder (method='brentq' is the default if a bracket is given)\n",
    "res = root_scalar(\n",
    "    lambda s: euler_err(s, beta, gamma, a, r, ybar, epsilon), bracket=bracket\n",
    ")"
   ]
  },
  {
   "cell_type": "code",
   "execution_count": 80,
   "metadata": {},
   "outputs": [
    {
     "data": {
      "text/plain": [
       "      converged: True\n",
       "           flag: converged\n",
       " function_calls: 12\n",
       "     iterations: 11\n",
       "           root: 0.28064171517302056\n",
       "         method: brentq"
      ]
     },
     "execution_count": 80,
     "metadata": {},
     "output_type": "execute_result"
    }
   ],
   "source": [
    "res"
   ]
  },
  {
   "cell_type": "code",
   "execution_count": 81,
   "metadata": {},
   "outputs": [
    {
     "name": "stdout",
     "output_type": "stream",
     "text": [
      "Root-finder solution:\n",
      "  c_1   =  0.71935828\n",
      "  s     =  0.28064172\n",
      "  u_max = -2.685e+00\n"
     ]
    }
   ],
   "source": [
    "s_opt = res.root\n",
    "c1_opt = a - s_opt\n",
    "u_max = util_life(s_opt, beta, gamma, a, r, ybar, epsilon)\n",
    "\n",
    "print(\"Root-finder solution:\")\n",
    "print(f\"  c_1   = {c1_opt: .8f}\")\n",
    "print(f\"  s     = {s_opt: .8f}\")\n",
    "print(f\"  u_max = {u_max:.3e}\")"
   ]
  }
 ],
 "metadata": {
  "kernelspec": {
   "display_name": "FIE463",
   "language": "python",
   "name": "python3"
  },
  "language_info": {
   "codemirror_mode": {
    "name": "ipython",
    "version": 3
   },
   "file_extension": ".py",
   "mimetype": "text/x-python",
   "name": "python",
   "nbconvert_exporter": "python",
   "pygments_lexer": "ipython3",
   "version": "3.12.8"
  }
 },
 "nbformat": 4,
 "nbformat_minor": 2
}
