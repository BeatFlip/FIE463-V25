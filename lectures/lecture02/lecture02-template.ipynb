{
 "cells": [
  {
   "cell_type": "markdown",
   "metadata": {},
   "source": [
    "# Last week: data types\n",
    "\n",
    "## Built-in data types\n",
    "\n",
    "**Basic types**\n",
    "\n",
    "- integers (`int`)\n",
    "- floating-point numbers (`float`)\n",
    "- boolean (`bool`)\n",
    "- strings (`str`)\n",
    "\n",
    "**Containers (or collections)**\n",
    "\n",
    "- tuples (`tuple`)\n",
    "- lists (`list`)\n",
    "- dictionaries (`dict`)\n",
    "\n",
    "## NumPy arrays\n",
    "\n",
    "- Use to store homogenous (usually numerical) data\n",
    "- Support math operations (unlike lists, tuples, ...)\n",
    "- Usually faster (especially for large arrays)"
   ]
  },
  {
   "attachments": {},
   "cell_type": "markdown",
   "metadata": {
    "collapsed": true,
    "pycharm": {
     "name": "#%% md\n"
    }
   },
   "source": [
    "***\n",
    "# This week: control flow and list comprehensions"
   ]
  },
  {
   "attachments": {},
   "cell_type": "markdown",
   "metadata": {
    "collapsed": false,
    "pycharm": {
     "name": "#%% md\n"
    }
   },
   "source": [
    "## Conditional execution\n",
    "\n",
    "- Execute code depending on whether some condition evaluates to `True`\n",
    "- `if`/`elif`/`else` statement\n",
    "- Statement body must be indented"
   ]
  },
  {
   "attachments": {},
   "cell_type": "markdown",
   "metadata": {
    "collapsed": false,
    "pycharm": {
     "name": "#%% md\n"
    }
   },
   "source": [
    "### Truth value testing\n",
    "\n",
    "| Expression    | Description |\n",
    "| ------------- | ----------- |\n",
    "| `==`          | Equal. Works for numerical values, strings, etc. |\n",
    "| `!=`          | Not equal. Works for numerical values, strings, etc. |\n",
    "| `>`, `>=`,`<=`, `<` | Usual comparison of numerical values |\n",
    "|  `a is b`, `a is not b`   | Test identity. `a is b` is `True` if `a` and `b` are the same object |\n",
    "| `a in b`, `a not in b`    | Test whether `a` is or is not included in collection `b` |\n",
    "| `if obj`, `if not obj`    | Most Python objects evaluate to `True` or `False` in an intuitive fashion (see below) |\n",
    "\n",
    "Additionally, there are logical operators that\n",
    "allow us to combine two logical values:\n",
    "\n",
    "| Expression | Description |\n",
    "| ---------- | ----------- |\n",
    "| `a and b`  | `True` if both `a` and `b` are `True` |\n",
    "| `a or b`   | `True` if at least one of `a` or `b` is `True` |"
   ]
  },
  {
   "cell_type": "markdown",
   "metadata": {},
   "source": [
    "*Examples*:\n",
    "\n",
    "- Illustrate `is`, `==`, and `in` for lists\n",
    "- Illustrate `in` using dictionary keys"
   ]
  },
  {
   "attachments": {},
   "cell_type": "markdown",
   "metadata": {
    "collapsed": false,
    "pycharm": {
     "name": "#%% md\n"
    }
   },
   "source": [
    "***\n",
    "Most objects evaluate to `True` or `False`\n",
    "in an `if` statement:\n",
    "```python\n",
    "if obj:\n",
    "    # do something if obj evaluates to True\n",
    "```\n",
    "The rules are quite intuitive: an object evaluates to `False` if\n",
    "\n",
    "-   it has a numerical type and is `0` (or `0.0`, or complex `0+0j`)\n",
    "-   it is an empty string `''`\n",
    "-   it is an empty collection (tuple, list, dictionary, etc.)\n",
    "-   it is of logical (boolean) type and has value `False`\n",
    "-   it is `None`, a special built-in value used to denote that\n",
    "    a variable does not reference anything.\n",
    "\n",
    "\n",
    "**Important exception:** NumPy arrays\n"
   ]
  },
  {
   "cell_type": "markdown",
   "metadata": {},
   "source": [
    "<div class=\"alert alert-info\">\n",
    "<h3> Your turn</h3>\n",
    "Check whether it is possible to perform the following comparisons and inspect their results.\n",
    "<ol>\n",
    "    <li>Define a list <tt>[1.0, 2.0]</tt> and a tuple <tt>(1.0, 2.0)</tt>, and check for \n",
    "        equality using <tt>==</tt>.</li>\n",
    "    <li>Define a list <tt>[1.0, 2.0]</tt> and a NumPy array with elements <tt>[1.0, 2.0]</tt>, and check for equality using <tt>==</tt>.</li>\n",
    "    <li>What does the expression <tt>'P' in 'Python'</tt> evaluate to? How about <tt>'Py' in 'Python'</tt>?</li> \n",
    "    <li>What does the expression <tt>'a' in ['a', 'b']</tt> evaluate to? \n",
    "        How about <tt>['a'] in ['a', 'b']</tt>?</li> \n",
    "    <li>What is the value of the expression <tt>1.0 == (1.0 + 1.0e-16)</tt>?</li>\n",
    "</ol>\n",
    "</div>"
   ]
  },
  {
   "attachments": {},
   "cell_type": "markdown",
   "metadata": {
    "collapsed": false,
    "pycharm": {
     "name": "#%% md\n"
    }
   },
   "source": [
    "***\n",
    "### Conditional expressions\n",
    "\n",
    "- Compact expressions that can be used for conditional assignment\n",
    "- Syntax: `<value if true> if <condition> else <value if false>`\n",
    "- Even shorter: `<value> or <default>`"
   ]
  },
  {
   "attachments": {},
   "cell_type": "markdown",
   "metadata": {
    "collapsed": false,
    "pycharm": {
     "name": "#%% md\n"
    }
   },
   "source": [
    "***\n",
    "## Loops\n",
    "\n",
    "### The `for` loop\n",
    "\n",
    "- Iterates over arbitrary collections of items\n",
    "- Special case: iterate over integers using [`range()`](https://docs.python.org/3/library/functions.html#func-range)\n",
    "\n",
    "*Examples:*\n",
    "\n",
    "- Iterate over range of integers\n",
    "- Iterate over tuple `cities = ('Bergen', 'Oslo', 'Stavanger')`"
   ]
  },
  {
   "cell_type": "markdown",
   "metadata": {},
   "source": [
    "<div class=\"alert alert-info\">\n",
    "<h3> Your turn</h3>\n",
    "Write a <tt>for</tt> loop that prints the squares of all even numbers between 0 and 10 (inclusive). <i>Hint:</i> The exponentiation operator in Python is <tt>**</tt>.\n",
    "</div>"
   ]
  },
  {
   "cell_type": "markdown",
   "metadata": {},
   "source": [
    "#### Looping over dictionaries\n",
    "\n",
    "- Default: loop over keys\n",
    "- Can loop over values using the `.values()`\n",
    "- Most common usage: loop over keys + values using `.items()`\n",
    "\n",
    "*Example:*\n",
    "\n",
    "- Loop over dictionary `dct = {'key1': 'value1', 'key2': 'value2'}`"
   ]
  },
  {
   "attachments": {},
   "cell_type": "markdown",
   "metadata": {
    "collapsed": false,
    "pycharm": {
     "name": "#%% md\n"
    }
   },
   "source": [
    "***\n",
    "### The `while` loop\n",
    "\n",
    "- Less commonly used than `for` loop\n",
    "- Used when number of iterations is unknown ex ante\n",
    "- Used when iteration is *not* over some sequence of items "
   ]
  },
  {
   "attachments": {},
   "cell_type": "markdown",
   "metadata": {
    "collapsed": false,
    "pycharm": {
     "name": "#%% md\n"
    }
   },
   "source": [
    "### Advanced looping\n",
    "\n",
    "- Use `enumerate()` to generate an iteration index\n",
    "- Use `continue` to skip the remainder of an iteration\n",
    "- Use `break` to terminate the loop\n",
    "- Use `zip()` to iteration over more than one collection in parallel\n",
    "\n",
    "*Examples:*\n",
    "\n",
    "- Illustrate `zip()` with lists\n",
    "    ```python\n",
    "    capitals = ['Bergen', 'Stavanger', 'Trondheim']\n",
    "    regions = ['Vestland', 'Rogaland', 'Trøndelag']\n",
    "    ```"
   ]
  },
  {
   "cell_type": "markdown",
   "metadata": {},
   "source": [
    "<div class=\"alert alert-info\">\n",
    "<h3> Your turn</h3>\n",
    "\n",
    "Consider the following list of Nordic countries and their capitals:\n",
    "<p>\n",
    "<tt>\n",
    "capitals = ['Oslo', 'Stockholm', 'Copenhagen', 'Helsinki']\n",
    "<br/>\n",
    "countries = ['Norway', 'Sweden', 'Denmark', 'Finland']\n",
    "</tt>\n",
    "</p>\n",
    "\n",
    "Using a <tt>for</tt> loop, create a dictionary that maps the country (the key)\n",
    "to its capital (the value).\n",
    "</div>"
   ]
  },
  {
   "attachments": {},
   "cell_type": "markdown",
   "metadata": {
    "collapsed": false,
    "pycharm": {
     "name": "#%% md\n"
    }
   },
   "source": [
    "***\n",
    "## List comprehensions\n",
    "\n",
    "- Compact expression used to create lists, tuples, dictionaries\n",
    "- Packs the functionality of a `for` loop into a single line \n",
    "- Can be combined with conditions using `if`\n",
    "- List comprehensions can be nested, just like loops\n",
    "\n",
    "*Examples:*\n",
    "\n",
    "- List of squares of 0,...,4 created with list comprehensions vs loops\n",
    "- Dictionary mapping numbers to squares "
   ]
  },
  {
   "cell_type": "markdown",
   "metadata": {},
   "source": [
    "<div class=\"alert alert-info\">\n",
    "<h3> Your turn</h3>\n",
    "\n",
    "Adapt the previous exercise mapping countries to their capitals: \n",
    "instead of using a loop, create the dictionary\n",
    "mapping countries to their capitals using a <i>list comprehension</i>.\n",
    "</div>"
   ]
  }
 ],
 "metadata": {
  "kernelspec": {
   "display_name": "FIE463",
   "language": "python",
   "name": "python3"
  },
  "language_info": {
   "codemirror_mode": {
    "name": "ipython",
    "version": 3
   },
   "file_extension": ".py",
   "mimetype": "text/x-python",
   "name": "python",
   "nbconvert_exporter": "python",
   "pygments_lexer": "ipython3",
   "version": "3.12.8"
  }
 },
 "nbformat": 4,
 "nbformat_minor": 0
}
