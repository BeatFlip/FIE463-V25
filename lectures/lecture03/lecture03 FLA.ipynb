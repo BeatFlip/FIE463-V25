{
 "cells": [
  {
   "attachments": {},
   "cell_type": "markdown",
   "metadata": {
    "collapsed": true,
    "pycharm": {
     "name": "#%% md\n"
    }
   },
   "source": [
    "# Reusing code: Functions and modules\n",
    "\n",
    "In this unit, we learn how to build reusable code with functions.\n",
    "We also briefly discuss modules and packages.\n",
    "\n",
    "## Functions\n",
    "\n",
    "Functions are used to implement code that performs a narrowly\n",
    "defined task. We use functions for two reasons:\n",
    "\n",
    "1.  A function can be called repeatedly instead of having to\n",
    "    write the same or similar code again and again.\n",
    "2.  Even if a function is not called frequently, functions\n",
    "    allow us to write code that is \"shielded\" from other code\n",
    "    we write and is called via a clean interface.\n",
    "    This helps to write more robust and error-free code.\n",
    "\n",
    "So far, we only used functions written by others, e.g., `len()` and `sum()`\n",
    "which are part of the\n",
    "[built-in functions](https://docs.python.org/3/library/functions.html)\n",
    "available in core Python. However, for any program of even modest complexity,\n",
    "we want to define our own functions.\n",
    "\n",
    "Functions are defined using the `def` keyword, and the function\n",
    "body needs to be an indented block:\n"
   ]
  },
  {
   "cell_type": "code",
   "execution_count": 3,
   "metadata": {
    "pycharm": {
     "name": "#%%\n"
    }
   },
   "outputs": [
    {
     "name": "stdout",
     "output_type": "stream",
     "text": [
      "func called\n"
     ]
    }
   ],
   "source": [
    "def func():\n",
    "    print(\"func called\")\n",
    "\n",
    "\n",
    "# invoke func without arguments\n",
    "func()"
   ]
  },
  {
   "attachments": {},
   "cell_type": "markdown",
   "metadata": {
    "pycharm": {
     "name": "#%% md\n"
    }
   },
   "source": [
    "### Arguments\n",
    "\n",
    "Functions can have an arbitrary number of positional arguments\n",
    "(sometimes called parameters or options).\n"
   ]
  },
  {
   "cell_type": "code",
   "execution_count": 4,
   "metadata": {
    "pycharm": {
     "name": "#%%\n"
    }
   },
   "outputs": [
    {
     "name": "stdout",
     "output_type": "stream",
     "text": [
      "func called with argument 1\n",
      "func called with argument foo\n"
     ]
    }
   ],
   "source": [
    "# Define func to accept argument x\n",
    "def func(x):\n",
    "    print(f\"func called with argument {x}\")\n",
    "\n",
    "\n",
    "# call function with various arguments.\n",
    "func(1)\n",
    "func(\"foo\")"
   ]
  },
  {
   "cell_type": "code",
   "execution_count": 5,
   "metadata": {},
   "outputs": [
    {
     "name": "stdout",
     "output_type": "stream",
     "text": [
      "func called with argument 1\n",
      "None\n"
     ]
    }
   ],
   "source": [
    "result = func(1)\n",
    "print(result)  # Returns None since func does not return anything"
   ]
  },
  {
   "attachments": {},
   "cell_type": "markdown",
   "metadata": {
    "pycharm": {
     "name": "#%% md\n"
    }
   },
   "source": [
    "### Return values\n",
    "\n",
    "Functions can return values to their caller using\n",
    "the `return` statement.\n"
   ]
  },
  {
   "cell_type": "code",
   "execution_count": 7,
   "metadata": {
    "pycharm": {
     "name": "#%%\n"
    }
   },
   "outputs": [
    {
     "name": "stdout",
     "output_type": "stream",
     "text": [
      "2.0\n"
     ]
    }
   ],
   "source": [
    "def func(x):\n",
    "    return x * 2.0\n",
    "\n",
    "\n",
    "result = func(1.0)\n",
    "print(result)  # prints 2.0"
   ]
  },
  {
   "attachments": {},
   "cell_type": "markdown",
   "metadata": {
    "pycharm": {
     "name": "#%% md\n"
    }
   },
   "source": [
    "A `return` statement without any argument immediately exits the functions.\n",
    "The default return value is the special type `None`.\n",
    "\n",
    "Note that it makes no sense to write code after the return statement (even if it's syntactically allowed) as it will never be executed:\n"
   ]
  },
  {
   "cell_type": "code",
   "execution_count": 2,
   "metadata": {},
   "outputs": [
    {
     "name": "stdout",
     "output_type": "stream",
     "text": [
      "func called\n",
      "this line will never be printed\n"
     ]
    }
   ],
   "source": [
    "def func():\n",
    "    print(\"func called\")\n",
    "    return  # print(\"this line would be printed\")\n",
    "    print(\"this line will never be printed\")\n",
    "\n",
    "\n",
    "func()"
   ]
  },
  {
   "cell_type": "code",
   "execution_count": 8,
   "metadata": {},
   "outputs": [
    {
     "name": "stdout",
     "output_type": "stream",
     "text": [
      "None\n",
      "2.0\n"
     ]
    }
   ],
   "source": [
    "# Using Return to exit a function\n",
    "def func(x):\n",
    "    if x < 0:\n",
    "        return\n",
    "    return x * 2.0\n",
    "\n",
    "\n",
    "# Test the function\n",
    "result = func(-1)\n",
    "print(result)  # prints None\n",
    "\n",
    "result = func(1)\n",
    "print(result)  # prints 2.0"
   ]
  },
  {
   "cell_type": "markdown",
   "metadata": {},
   "source": [
    "A function can return multiple values which are then automatically collected\n",
    "into a tuple:\n"
   ]
  },
  {
   "cell_type": "code",
   "execution_count": 3,
   "metadata": {
    "pycharm": {
     "name": "#%%\n"
    }
   },
   "outputs": [
    {
     "name": "stdout",
     "output_type": "stream",
     "text": [
      "(1, 2, 3)\n"
     ]
    }
   ],
   "source": [
    "def func():\n",
    "    return 1, 2, 3\n",
    "\n",
    "\n",
    "values = func()  # call func(), get tuple of values\n",
    "type(values)\n",
    "\n",
    "print(values)  # prints (1, 2, 3)"
   ]
  },
  {
   "attachments": {},
   "cell_type": "markdown",
   "metadata": {
    "pycharm": {
     "name": "#%% md\n"
    }
   },
   "source": [
    "Python supports \"unpacking\" of tuples, lists, etc.\n",
    "We can use this to directly assign names to multiple return values:\n"
   ]
  },
  {
   "cell_type": "code",
   "execution_count": 5,
   "metadata": {
    "pycharm": {
     "name": "#%%\n"
    }
   },
   "outputs": [
    {
     "name": "stdout",
     "output_type": "stream",
     "text": [
      "Value 1: a, Value 2: b, Value 3: c\n",
      "a\n",
      "b\n",
      "c\n"
     ]
    }
   ],
   "source": [
    "def func():\n",
    "    return \"a\", \"b\", \"c\"\n",
    "\n",
    "\n",
    "value1, value2, value3 = func()  # call func(), unpack return values\n",
    "print(f\"Value 1: {value1}, Value 2: {value2}, Value 3: {value3}\")\n",
    "\n",
    "print(value1)\n",
    "print(value2)\n",
    "print(value3)"
   ]
  },
  {
   "cell_type": "markdown",
   "metadata": {},
   "source": [
    "### Documenting functions\n"
   ]
  },
  {
   "cell_type": "markdown",
   "metadata": {},
   "source": [
    "It is possible to use so-called _doc-strings_ to comment functions (and other Python constructs). These doc-strings use triple quotes `\"\"\"` or `'''` and can span multiple lines. They need to be placed right after the function header and can contain various types of markup syntax. While these doc-strings are completely ignored by the Python interpreter, they are picked up by editors such as Visual Studio Code and used to display helpful documentation while editing files.\n",
    "\n",
    "For example, we could use the following doc-strings to comment a function that increments its argument by one:\n"
   ]
  },
  {
   "cell_type": "code",
   "execution_count": 7,
   "metadata": {},
   "outputs": [],
   "source": [
    "def increment(x):\n",
    "    \"\"\"\n",
    "    Return x incremented by one.\n",
    "\n",
    "    Parameters\n",
    "    ----------\n",
    "    x : float\n",
    "        The number to increment.\n",
    "\n",
    "    Returns\n",
    "    -------\n",
    "    float\n",
    "        The incremented value.\n",
    "    \"\"\"\n",
    "    return x + 1"
   ]
  },
  {
   "cell_type": "code",
   "execution_count": 7,
   "metadata": {},
   "outputs": [
    {
     "name": "stdout",
     "output_type": "stream",
     "text": [
      "2.0\n"
     ]
    }
   ],
   "source": [
    "def increment(\n",
    "    x: float,\n",
    ") -> float:  # This is a type hint, which specifies the type of the input and output\n",
    "    \"\"\"\n",
    "    Return x incremented by one.\n",
    "\n",
    "    Parameters\n",
    "    ----------\n",
    "    x : float\n",
    "        The number to increment.\n",
    "\n",
    "    Returns\n",
    "    -------\n",
    "    float\n",
    "        The incremented value.\n",
    "    \"\"\"\n",
    "    return x + 1\n",
    "\n",
    "\n",
    "# Use the function\n",
    "result = increment(1.0)\n",
    "\n",
    "# Print the result\n",
    "print(result)  # prints 2.0"
   ]
  },
  {
   "cell_type": "markdown",
   "metadata": {},
   "source": [
    "You'll see such doc-strings frequently in later parts of the course as our code gets more complicated.\n"
   ]
  },
  {
   "cell_type": "markdown",
   "metadata": {},
   "source": [
    "<div class=\"alert alert-info\">\n",
    "<h3> Your turn</h3>\n",
    "<ol>\n",
    "    <li>Write a function <tt>power()</tt> which takes a single argument and returns \n",
    "    the argument taken to the power of 2.</li>\n",
    "    <li>Modify the function such that it returns the original argument <i>and</i>\n",
    "    its square.</li>\n",
    "</ol>\n",
    "</div>\n"
   ]
  },
  {
   "cell_type": "code",
   "execution_count": 12,
   "metadata": {},
   "outputs": [
    {
     "name": "stdout",
     "output_type": "stream",
     "text": [
      "4\n",
      "(2, 4)\n",
      "Base: 2, Squared: 4\n"
     ]
    }
   ],
   "source": [
    "# 1 Write a function power() that takes a single argument and returns that argument raised to the power of 2.\n",
    "def power(x):\n",
    "    return x**2\n",
    "\n",
    "\n",
    "result = power(2)\n",
    "print(result)  # prints 4\n",
    "\n",
    "\n",
    "# 2 Modify the function such that it returns the original argument and its square.\n",
    "def power(x):\n",
    "    return x, x**2\n",
    "\n",
    "\n",
    "result = power(2)\n",
    "print(result)  # prints (2, 4)\n",
    "\n",
    "# Unpack the return values\n",
    "base, squared = power(2)\n",
    "print(f\"Base: {base}, Squared: {squared}\")"
   ]
  },
  {
   "attachments": {},
   "cell_type": "markdown",
   "metadata": {
    "pycharm": {
     "name": "#%% md\n"
    }
   },
   "source": [
    "### More on arguments\n",
    "\n",
    "#### Default arguments\n",
    "\n",
    "Python offers an extremely convenient way to specify default values\n",
    "for arguments using the syntax `name=value`, so these need not be passed when the function is called:\n"
   ]
  },
  {
   "cell_type": "code",
   "execution_count": 9,
   "metadata": {
    "pycharm": {
     "name": "#%%\n"
    }
   },
   "outputs": [
    {
     "name": "stdout",
     "output_type": "stream",
     "text": [
      "2.0\n",
      "6.0\n"
     ]
    }
   ],
   "source": [
    "# define function with a default value of 1.0 for argument alpha\n",
    "def func(x, alpha=1.0):\n",
    "    return x * alpha\n",
    "\n",
    "\n",
    "print(func(2.0))  # uses default value for alpha\n",
    "print(func(2.0, 3.0))  # use some other value for alpha"
   ]
  },
  {
   "attachments": {},
   "cell_type": "markdown",
   "metadata": {},
   "source": [
    "#### Keyword (or named) arguments\n",
    "\n",
    "Arguments don't need to be provided in the same order as specified in the function signature. We can use argument names to explicitly assign values to the corresponding argument.\n"
   ]
  },
  {
   "cell_type": "code",
   "execution_count": 9,
   "metadata": {},
   "outputs": [
    {
     "name": "stdout",
     "output_type": "stream",
     "text": [
      "arg1: 1, arg2: 2\n",
      "arg1: 1, arg2: 2\n",
      "arg1: 1, arg2: 2\n"
     ]
    }
   ],
   "source": [
    "def func(arg1, arg2):\n",
    "    print(f\"arg1: {arg1}, arg2: {arg2}\")\n",
    "\n",
    "\n",
    "func(1, 2)  # Call using purely positional arguments\n",
    "func(arg1=1, arg2=2)  # Use argument names to explicitly assign values\n",
    "func(arg2=2, arg1=1)  # With keyword arguments, the order does not matter!"
   ]
  },
  {
   "cell_type": "markdown",
   "metadata": {},
   "source": [
    "<div class=\"alert alert-info\">\n",
    "<h3> Your turn</h3>\n",
    "<ol>\n",
    "    <li>Modify the <tt>power()</tt> function you wrote earlier to take an additional <i>optional</i> argument <tt>xp</tt>\n",
    "    (for \"exponent\") with a default value of 2.\n",
    "    The first argument should now be taken to the power of <tt>xp</tt>.\n",
    "    </li>\n",
    "    <li>Call the function in three different ways: \n",
    "    (1) without the optional argument <tt>xp</tt>; (2) with the optional argument \n",
    "    passed as a positional argument; and (3) with the optional argument \n",
    "    passed as a keyword argument.\n",
    "    </li>\n",
    "</ol>\n",
    "</div>\n"
   ]
  },
  {
   "cell_type": "code",
   "execution_count": 13,
   "metadata": {},
   "outputs": [
    {
     "name": "stdout",
     "output_type": "stream",
     "text": [
      "4\n",
      "8\n",
      "16\n"
     ]
    }
   ],
   "source": [
    "# Power function with optinal argument xp, with defaul value of 2\n",
    "def power(x, xp=2):\n",
    "    return x**xp\n",
    "\n",
    "\n",
    "# Call function with and without optional argument\n",
    "print(power(2))  # prints 4\n",
    "print(power(2, 3))  # prints 8\n",
    "print(power(xp=2, x=4))  # prints 16"
   ]
  },
  {
   "attachments": {},
   "cell_type": "markdown",
   "metadata": {
    "pycharm": {
     "name": "#%% md\n"
    }
   },
   "source": [
    "#### Arbitrary number of optional arguments\n",
    "\n",
    "Python supports functions which accept an arbitrary number of positional\n",
    "and keyword arguments. This is accomplished via two special\n",
    "tokens:\n",
    "\n",
    "- `*args`: collects any number of \"excess\" _positional arguments_ and packs\n",
    "  them into a tuple.\n",
    "- `**kwargs`: collects any number of \"excess\" _keyword arguments_ and packs them\n",
    "  into a dictionary. It needs to be placed at the end of the argument list!\n"
   ]
  },
  {
   "cell_type": "markdown",
   "metadata": {},
   "source": [
    "_Example: Function with unnamed positional arguments_\n"
   ]
  },
  {
   "cell_type": "code",
   "execution_count": 13,
   "metadata": {},
   "outputs": [
    {
     "name": "stdout",
     "output_type": "stream",
     "text": [
      "Positional argument 0: 1.0\n",
      "Positional argument 1: abc\n",
      "Positional argument 0: 1.0\n"
     ]
    }
   ],
   "source": [
    "# Define function with unlimited unnamed positional arguments\n",
    "def func(\n",
    "    *args,\n",
    "):  # It is the * that tells Python to pack all positional arguments into a tuple, you can name it anything you want\n",
    "    for i, arg in enumerate(\n",
    "        args\n",
    "    ):  # enumerate() is a built-in function of Python. It allows us to loop over something and have an automatic counter.\n",
    "        print(f\"Positional argument {i}: {arg}\")\n",
    "\n",
    "\n",
    "# Call with positional arguments\n",
    "func(1.0, \"abc\")"
   ]
  },
  {
   "cell_type": "markdown",
   "metadata": {},
   "source": [
    "Note that it is not possible to call this function with _named_ keyword arguments since it was defined to only accept _unnamed_ positional arguments:\n"
   ]
  },
  {
   "cell_type": "code",
   "execution_count": 11,
   "metadata": {},
   "outputs": [
    {
     "ename": "TypeError",
     "evalue": "func() got an unexpected keyword argument 'arg'",
     "output_type": "error",
     "traceback": [
      "\u001b[0;31mTypeError\u001b[0m\u001b[0;31m:\u001b[0m func() got an unexpected keyword argument 'arg'\n"
     ]
    }
   ],
   "source": [
    "func(arg=\"value\")"
   ]
  },
  {
   "cell_type": "markdown",
   "metadata": {},
   "source": [
    "_Example: Function with unlimited keyword arguments_\n"
   ]
  },
  {
   "cell_type": "code",
   "execution_count": 17,
   "metadata": {},
   "outputs": [
    {
     "name": "stdout",
     "output_type": "stream",
     "text": [
      "Argument arg1: value1\n",
      "Argument arg2: 2\n"
     ]
    }
   ],
   "source": [
    "# Define function to accept arbitrary keyword arguments\n",
    "def func(\n",
    "    **kwargs,\n",
    "):  # It is the double asterisk that makes the difference, you could wright **x instead of **kwargs\n",
    "    for key, value in kwargs.items():\n",
    "        print(f\"Argument {key}: {value}\")\n",
    "\n",
    "\n",
    "# Call function with several keyword arguments\n",
    "func(arg1=\"value1\", arg2=2)"
   ]
  },
  {
   "cell_type": "markdown",
   "metadata": {},
   "source": [
    "Note that it is not possible to call this function with positional (unnamed) arguments:\n"
   ]
  },
  {
   "cell_type": "code",
   "execution_count": 13,
   "metadata": {},
   "outputs": [
    {
     "ename": "TypeError",
     "evalue": "func() takes 0 positional arguments but 2 were given",
     "output_type": "error",
     "traceback": [
      "\u001b[0;31mTypeError\u001b[0m\u001b[0;31m:\u001b[0m func() takes 0 positional arguments but 2 were given\n"
     ]
    }
   ],
   "source": [
    "func(\"value1\", 2)"
   ]
  },
  {
   "cell_type": "markdown",
   "metadata": {},
   "source": [
    "_Example: Function with multiple types of arguments_\n",
    "\n",
    "Lastly, we can define a function which includes all the types of arguments we have discussed so far (including arguments with default values):\n"
   ]
  },
  {
   "cell_type": "code",
   "execution_count": 14,
   "metadata": {
    "pycharm": {
     "name": "#%%\n"
    }
   },
   "outputs": [],
   "source": [
    "# Define function with mandatory, optional, optional positional\n",
    "# and optional keyword arguments\n",
    "\n",
    "\n",
    "def func(x, opt=\"default\", *args, **kwargs):  # Krwargs must be the last argument!\n",
    "    print(f\"Required argument x: {x}\")\n",
    "    print(f\"Optional argument opt: {opt}\")\n",
    "    if args:\n",
    "        # if the tuple 'args' is non-empty, print its contents\n",
    "        print(\"Optional positional arguments:\")\n",
    "        for i, arg in enumerate(args):\n",
    "            print(f\"  Position {i}: {arg}\")\n",
    "    if kwargs:\n",
    "        # if the dictionary 'kwargs' is non-empty, print its contents\n",
    "        print(\"Optional keyword arguments:\")\n",
    "        for key, value in kwargs.items():\n",
    "            print(f\"  {key}: {value}\")"
   ]
  },
  {
   "cell_type": "markdown",
   "metadata": {},
   "source": [
    "We can not call this function with various combinations of arguments:\n"
   ]
  },
  {
   "cell_type": "code",
   "execution_count": 15,
   "metadata": {
    "pycharm": {
     "name": "#%%\n"
    }
   },
   "outputs": [
    {
     "name": "stdout",
     "output_type": "stream",
     "text": [
      "Required argument x: 0\n",
      "Optional argument opt: default\n"
     ]
    }
   ],
   "source": [
    "# Call with required argument only\n",
    "func(0)"
   ]
  },
  {
   "cell_type": "code",
   "execution_count": 16,
   "metadata": {
    "pycharm": {
     "name": "#%%\n"
    }
   },
   "outputs": [
    {
     "name": "stdout",
     "output_type": "stream",
     "text": [
      "Required argument x: 0\n",
      "Optional argument opt: optional\n"
     ]
    }
   ],
   "source": [
    "# Call with required and optional arguments\n",
    "func(0, \"optional\")"
   ]
  },
  {
   "cell_type": "code",
   "execution_count": 17,
   "metadata": {
    "pycharm": {
     "name": "#%%\n"
    }
   },
   "outputs": [
    {
     "name": "stdout",
     "output_type": "stream",
     "text": [
      "Required argument x: 0\n",
      "Optional argument opt: optional\n",
      "Optional positional arguments:\n",
      "  Position 0: 1\n",
      "  Position 1: 2\n",
      "  Position 2: 3\n"
     ]
    }
   ],
   "source": [
    "# Call with required and optional arguments, and\n",
    "# optional positional arguments\n",
    "func(0, \"optional\", 1, 2, 3)"
   ]
  },
  {
   "cell_type": "code",
   "execution_count": 18,
   "metadata": {
    "pycharm": {
     "name": "#%%\n"
    }
   },
   "outputs": [
    {
     "name": "stdout",
     "output_type": "stream",
     "text": [
      "Required argument x: 0\n",
      "Optional argument opt: optional\n",
      "Optional positional arguments:\n",
      "  Position 0: 1\n",
      "  Position 1: 2\n",
      "  Position 2: 3\n",
      "Optional keyword arguments:\n",
      "  arg1: value1\n",
      "  arg2: value2\n"
     ]
    }
   ],
   "source": [
    "# Call with required and optional arguments, and\n",
    "# optional positional and keyword arguments\n",
    "func(\n",
    "    0, \"optional\", 1, 2, 3, arg1=\"value1\", arg2=\"value2\"\n",
    ")  # The order of the arguments is important!"
   ]
  },
  {
   "attachments": {},
   "cell_type": "markdown",
   "metadata": {
    "pycharm": {
     "name": "#%% md\n"
    }
   },
   "source": [
    "We don't even need to specify arguments in the order they are defined\n",
    "in the function, except for optional positional arguments, since these have no argument names.\n",
    "We can just use the `name=value` syntax:\n"
   ]
  },
  {
   "cell_type": "code",
   "execution_count": 19,
   "metadata": {
    "pycharm": {
     "name": "#%%\n"
    }
   },
   "outputs": [
    {
     "name": "stdout",
     "output_type": "stream",
     "text": [
      "Required argument x: 1\n",
      "Optional argument opt: optional value\n"
     ]
    }
   ],
   "source": [
    "# call func() with interchanged argument order\n",
    "func(opt=\"optional value\", x=1)"
   ]
  },
  {
   "attachments": {},
   "cell_type": "markdown",
   "metadata": {},
   "source": [
    "Note, however, that in a function call any positional arguments must come first and those passed\n",
    "as `name=value` pairs last:\n"
   ]
  },
  {
   "cell_type": "code",
   "execution_count": 20,
   "metadata": {},
   "outputs": [
    {
     "ename": "SyntaxError",
     "evalue": "positional argument follows keyword argument (1459741144.py, line 4)",
     "output_type": "error",
     "traceback": [
      "\u001b[0;36m  Cell \u001b[0;32mIn[20], line 4\u001b[0;36m\u001b[0m\n\u001b[0;31m    func(opt='optional value', x)\u001b[0m\n\u001b[0m                                ^\u001b[0m\n\u001b[0;31mSyntaxError\u001b[0m\u001b[0;31m:\u001b[0m positional argument follows keyword argument\n"
     ]
    }
   ],
   "source": [
    "x = 1\n",
    "\n",
    "# this will not work, cannot specify positional arguments last\n",
    "func(opt='optional value', x)"
   ]
  },
  {
   "attachments": {},
   "cell_type": "markdown",
   "metadata": {},
   "source": [
    "The same applies for optional arguments passed in via `*args` and `**kwargs`:\n"
   ]
  },
  {
   "cell_type": "code",
   "execution_count": 22,
   "metadata": {},
   "outputs": [
    {
     "ename": "SyntaxError",
     "evalue": "positional argument follows keyword argument (1917091775.py, line 3)",
     "output_type": "error",
     "traceback": [
      "\u001b[0;36m  Cell \u001b[0;32mIn[22], line 3\u001b[0;36m\u001b[0m\n\u001b[0;31m    func(1.0, 'opt', arg1='value1', arg2='value2', 1, 2, 3)\u001b[0m\n\u001b[0m                                                          ^\u001b[0m\n\u001b[0;31mSyntaxError\u001b[0m\u001b[0;31m:\u001b[0m positional argument follows keyword argument\n"
     ]
    }
   ],
   "source": [
    "# fails because arguments collected in *args must\n",
    "# be specified before arguments collected in **kwargs!\n",
    "func(1.0, 'opt', arg1='value1', arg2='value2', 1, 2, 3)\n",
    "     "
   ]
  },
  {
   "cell_type": "markdown",
   "metadata": {},
   "source": [
    "<div class=\"alert alert-info\">\n",
    "<h3> Your turn</h3>\n",
    "<ol>\n",
    "    <li>Write a function <tt>my_sum()</tt> which accepts an arbitrary\n",
    "    number of <i>positional</i> arguments and returns their sum (you can assume\n",
    "    that arguments are numeric).\n",
    "    </li>\n",
    "    <li>Test your function with zero, one, and multiple arguments.\n",
    "    When called without any arguments, your function should return 0.\n",
    "    </li>\n",
    "</ol>\n",
    "</div>\n"
   ]
  },
  {
   "cell_type": "markdown",
   "metadata": {},
   "source": []
  },
  {
   "cell_type": "code",
   "execution_count": 19,
   "metadata": {},
   "outputs": [
    {
     "data": {
      "text/plain": [
       "15"
      ]
     },
     "execution_count": 19,
     "metadata": {},
     "output_type": "execute_result"
    }
   ],
   "source": [
    "def my_sum(\n",
    "    *args,\n",
    "):  # If I call my function sum, I will overwrite the built-in function sum\n",
    "    # In case you do this you have to restart the kernel to get the built-in function back\n",
    "    sum = 0\n",
    "    for i in args:\n",
    "        sum += i  # Same as sum = sum + i\n",
    "    return sum\n",
    "\n",
    "\n",
    "sum = my_sum(1, 2, 3, 4, 5)\n",
    "sum"
   ]
  },
  {
   "attachments": {},
   "cell_type": "markdown",
   "metadata": {},
   "source": [
    "### Working with data from the outer scope\n"
   ]
  },
  {
   "cell_type": "markdown",
   "metadata": {},
   "source": [
    "#### Accessing data from the outer scope\n",
    "\n",
    "A function need not have arguments or a return value, but that limits its usefulness\n",
    "somewhat. However, a function can access outside data which is\n",
    "defined in the so-called _outer scope_:\n"
   ]
  },
  {
   "cell_type": "code",
   "execution_count": 24,
   "metadata": {},
   "outputs": [
    {
     "name": "stdout",
     "output_type": "stream",
     "text": [
      "func accessing x from outer scope: x = 1.0\n",
      "outer: var = outer\n"
     ]
    }
   ],
   "source": [
    "var_0 = 1.0  # Local scope\n",
    "\n",
    "\n",
    "def outer():\n",
    "\n",
    "    # Read x from outer scope\n",
    "    print(f\"func accessing x from outer scope: x = {var_0}\")\n",
    "\n",
    "    # Defined in the local scope of outer()\n",
    "    var_1 = \"outer\"\n",
    "    print(f\"outer: var = {var_1}\")\n",
    "\n",
    "    def inner():\n",
    "        # Defined in the local scope of inner()\n",
    "        var_2 = \"inner\"\n",
    "        print(f\"inner: var = {var_2}\")\n",
    "\n",
    "\n",
    "outer()"
   ]
  },
  {
   "cell_type": "markdown",
   "metadata": {},
   "source": [
    "We can write functions without any arguments\n",
    "that only operate on outside data. However, this is terrible programming\n",
    "practice and should be avoided in most cases.\n"
   ]
  },
  {
   "cell_type": "markdown",
   "metadata": {},
   "source": [
    "_Note:_ Because functions can operate on external data,\n",
    "they are not analogous to mathematical functions. In math, whenever we write\n",
    "$f(x)$ we usually mean that $f$ is a function of $x$ only\n",
    "(and possibly some constant parameters).\n",
    "By definition we must have\n",
    "\n",
    "$$x_1 = x_2 \\Longrightarrow f(x_1) = f(x_2),$$\n",
    "\n",
    "i.e., a function always returns the same value when\n",
    "called with the same parameters.\n",
    "However, this is not the case in Python or most other programming\n",
    "languages:\n"
   ]
  },
  {
   "cell_type": "code",
   "execution_count": 25,
   "metadata": {},
   "outputs": [
    {
     "name": "stdout",
     "output_type": "stream",
     "text": [
      "1.0\n",
      "2.0\n"
     ]
    }
   ],
   "source": [
    "a = 1.0\n",
    "\n",
    "\n",
    "def func(x):\n",
    "    return a * x\n",
    "\n",
    "\n",
    "x = 1.0\n",
    "\n",
    "print(func(x))  # prints 1.0\n",
    "\n",
    "a = 2.0\n",
    "\n",
    "print(func(x))  # x unchanged, but prints 2.0"
   ]
  },
  {
   "cell_type": "markdown",
   "metadata": {},
   "source": [
    "#### Modifying data in the outer scope\n",
    "\n",
    "So far, we covered read-only access to data defined outside of a function and\n",
    "relied on return values to pass results back to the caller. However, it is possible\n",
    "to directly _modify_ data in the outer scope, even though this should usually be avoided:\n",
    "\n",
    "- Using arguments and return values clearly defines a function's interface,\n",
    "  there are no unpleasant surprises.\n",
    "- Conversely, if a function starts modifying values in the caller's environment,\n",
    "  there is no way to be sure what the function is changing in the outer scope other than by examining its source code.\n",
    "\n",
    "Consider first the following attempt to modify a value defined outside of the function:\n"
   ]
  },
  {
   "cell_type": "code",
   "execution_count": 29,
   "metadata": {},
   "outputs": [
    {
     "name": "stdout",
     "output_type": "stream",
     "text": [
      "outer scope\n",
      "outer scope\n"
     ]
    }
   ],
   "source": [
    "var = \"outer scope\"\n",
    "\n",
    "\n",
    "# Create function, assign value to var\n",
    "\n",
    "\n",
    "def modify_var():\n",
    "    var = \"inner scope\"\n",
    "\n",
    "\n",
    "print(var)\n",
    "modify_var()\n",
    "print(var)"
   ]
  },
  {
   "cell_type": "code",
   "execution_count": 30,
   "metadata": {},
   "outputs": [
    {
     "name": "stdout",
     "output_type": "stream",
     "text": [
      "1\n",
      "1\n"
     ]
    }
   ],
   "source": [
    "x = 1\n",
    "\n",
    "\n",
    "def func():\n",
    "    x = 2\n",
    "    return x\n",
    "\n",
    "\n",
    "print(x)\n",
    "func()\n",
    "print(x)"
   ]
  },
  {
   "attachments": {},
   "cell_type": "markdown",
   "metadata": {},
   "source": [
    "This code prints `'outer scope'` twice. What happened? Without any further\n",
    "instructions, the assignment inside the function creates a _local_ variable `var` that\n",
    "is completely disconnected from `var` in the outer scope!\n",
    "\n",
    "We need to use the `global` statement to tell Python to instead assign to a variable\n",
    "in the global (outer) scope:\n"
   ]
  },
  {
   "cell_type": "code",
   "execution_count": 31,
   "metadata": {},
   "outputs": [
    {
     "name": "stdout",
     "output_type": "stream",
     "text": [
      "outer scope\n",
      "inner scope\n"
     ]
    }
   ],
   "source": [
    "var = \"outer scope\"\n",
    "\n",
    "\n",
    "def modify_var():\n",
    "    global var\n",
    "    var = \"inner scope\"\n",
    "\n",
    "\n",
    "print(var)\n",
    "modify_var()\n",
    "print(var)"
   ]
  },
  {
   "attachments": {},
   "cell_type": "markdown",
   "metadata": {},
   "source": [
    "The second output now reads `'inner scope'`.\n",
    "\n",
    "Note that `global` in Python actually means global to a module, i.e., a symbol that is defined\n",
    "at the top level within a module (we discuss modules below). There are no truly global\n",
    "variables in Python unlike in languages such as C or Matlab.\n",
    "\n",
    "The requirement that the name in the `global` statement refers to a global variable\n",
    "has subtle implications. Consider the following example of two _nested_ functions:\n"
   ]
  },
  {
   "cell_type": "code",
   "execution_count": 25,
   "metadata": {},
   "outputs": [
    {
     "name": "stdout",
     "output_type": "stream",
     "text": [
      "outer function\n",
      "outer function\n"
     ]
    }
   ],
   "source": [
    "def outer():\n",
    "    var = \"outer function\"\n",
    "\n",
    "    def inner():\n",
    "        # Bind var to global name var\n",
    "        global var\n",
    "        var = \"inner function\"\n",
    "\n",
    "    print(var)\n",
    "    inner()\n",
    "    print(var)\n",
    "\n",
    "\n",
    "outer()"
   ]
  },
  {
   "attachments": {},
   "cell_type": "markdown",
   "metadata": {},
   "source": [
    "Surprisingly, the code above prints `'outer function'` twice. The reason is that `var`\n",
    "defined in `outer()` is _not_ a global variable as it was _not_ defined at the\n",
    "top level within a module. Instead, it is a _local_ variable in `outer()`.\n",
    "\n",
    "For such scenarios, Python has the `nonlocal` statement which works similarly to\n",
    "`global` except that it references an _existing_ name in an outer scope defined by another function.\n",
    "\n",
    "We can use `nonlocal` to get the desired behavior:\n"
   ]
  },
  {
   "cell_type": "code",
   "execution_count": 26,
   "metadata": {},
   "outputs": [
    {
     "name": "stdout",
     "output_type": "stream",
     "text": [
      "outer function\n",
      "inner function\n"
     ]
    }
   ],
   "source": [
    "def outer():\n",
    "    # var is in outer's local scope\n",
    "    var = \"outer function\"\n",
    "\n",
    "    def inner():\n",
    "        # bind var to name in outer scope,\n",
    "        # which is the local scope of outer()\n",
    "        nonlocal var\n",
    "        var = \"inner function\"\n",
    "\n",
    "    print(var)\n",
    "    inner()\n",
    "    print(var)\n",
    "\n",
    "\n",
    "outer()"
   ]
  },
  {
   "attachments": {},
   "cell_type": "markdown",
   "metadata": {
    "pycharm": {
     "name": "#%% md\n"
    }
   },
   "source": [
    "### Pass by value or pass by reference?\n",
    "\n",
    "Can functions modify their arguments? This questions\n",
    "usually comes down to whether a function call uses\n",
    "_pass by value_ or _pass by reference_:\n",
    "\n",
    "- _pass by value_ means that a copy of every argument is\n",
    "  created before it is passed into the function. A function\n",
    "  therefore cannot modify a value in the caller's environment.\n",
    "- _pass by reference_ means that only a reference to a value\n",
    "  is passed to the function, so the function can directly\n",
    "  modify values at the call site.\n",
    "\n",
    "This programming model is used in languages such as C\n",
    "(pass by value) or Fortran (pass by reference), but not in\n",
    "Python. Sloppily speaking, we can say that in Python a reference (\"variable name\")\n",
    "is passed by value. This means that assigning a different value\n",
    "to an argument (\"the reference\") within a function has no effect outside of the\n",
    "function:\n"
   ]
  },
  {
   "cell_type": "code",
   "execution_count": 27,
   "metadata": {
    "pycharm": {
     "name": "#%%\n"
    }
   },
   "outputs": [
    {
     "data": {
      "text/plain": [
       "123"
      ]
     },
     "execution_count": 27,
     "metadata": {},
     "output_type": "execute_result"
    }
   ],
   "source": [
    "def func(x):\n",
    "    # x now points to something else\n",
    "    x = 1.0\n",
    "\n",
    "\n",
    "x = 123\n",
    "func(x)\n",
    "\n",
    "x  # prints 123, x in the outer scope is unchanged"
   ]
  },
  {
   "attachments": {},
   "cell_type": "markdown",
   "metadata": {
    "pycharm": {
     "name": "#%% md\n"
    }
   },
   "source": [
    "However, if a variable is a mutable object (such as a `list` or a `dict`), the function\n",
    "can use its own copy of the reference to that object\n",
    "to modify the object even in the outer scope:\n"
   ]
  },
  {
   "cell_type": "code",
   "execution_count": 32,
   "metadata": {
    "pycharm": {
     "name": "#%%\n"
    }
   },
   "outputs": [
    {
     "data": {
      "text/plain": [
       "[1, 2, 3, 4]"
      ]
     },
     "execution_count": 32,
     "metadata": {},
     "output_type": "execute_result"
    }
   ],
   "source": [
    "def func(x):\n",
    "    # uses reference x to modify list object outside of func()\n",
    "    x.append(4)\n",
    "\n",
    "\n",
    "lst = [1, 2, 3]\n",
    "func(lst)\n",
    "lst  # prints [1,2,3,4]"
   ]
  },
  {
   "attachments": {},
   "cell_type": "markdown",
   "metadata": {
    "pycharm": {
     "name": "#%% md\n"
    }
   },
   "source": [
    "Nevertheless, even for mutable objects the rule from above applies:\n",
    "when a new value is _assigned_ to a named argument,\n",
    "that name then references a different object, leaving the original object\n",
    "unmodified:\n"
   ]
  },
  {
   "cell_type": "code",
   "execution_count": 33,
   "metadata": {
    "pycharm": {
     "name": "#%%\n"
    }
   },
   "outputs": [
    {
     "data": {
      "text/plain": [
       "[1, 2, 3]"
      ]
     },
     "execution_count": 33,
     "metadata": {},
     "output_type": "execute_result"
    }
   ],
   "source": [
    "def func(x):\n",
    "    # this does not modify object in outer scope,\n",
    "    # x now references a new (local) object.\n",
    "    x = [\"a\", \"b\", \"c\"]\n",
    "\n",
    "\n",
    "lst = [1, 2, 3]\n",
    "# pass list, which is mutable and can thus be changed in func()\n",
    "func(x)\n",
    "lst  # prints [1,2,3]"
   ]
  },
  {
   "attachments": {},
   "cell_type": "markdown",
   "metadata": {},
   "source": [
    "For immutable objects such as tuples, the reference passed to the function of course cannot be used\n",
    "to modify the object inside the function:\n"
   ]
  },
  {
   "cell_type": "code",
   "execution_count": 36,
   "metadata": {
    "scrolled": true
   },
   "outputs": [
    {
     "ename": "TypeError",
     "evalue": "'tuple' object does not support item assignment",
     "output_type": "error",
     "traceback": [
      "\u001b[1;31m---------------------------------------------------------------------------\u001b[0m",
      "\u001b[1;31mTypeError\u001b[0m                                 Traceback (most recent call last)",
      "Cell \u001b[1;32mIn[36], line 6\u001b[0m\n\u001b[0;32m      2\u001b[0m     x[\u001b[38;5;241m0\u001b[39m] \u001b[38;5;241m=\u001b[39m \u001b[38;5;124m\"\u001b[39m\u001b[38;5;124mmodified in func\u001b[39m\u001b[38;5;124m\"\u001b[39m\n\u001b[0;32m      5\u001b[0m items \u001b[38;5;241m=\u001b[39m (\u001b[38;5;241m1\u001b[39m, \u001b[38;5;241m2\u001b[39m, \u001b[38;5;241m3\u001b[39m)  \u001b[38;5;66;03m# create tuple of integers\u001b[39;00m\n\u001b[1;32m----> 6\u001b[0m func(items)\n",
      "Cell \u001b[1;32mIn[36], line 2\u001b[0m, in \u001b[0;36mfunc\u001b[1;34m(x)\u001b[0m\n\u001b[0;32m      1\u001b[0m \u001b[38;5;28;01mdef\u001b[39;00m \u001b[38;5;21mfunc\u001b[39m(x):\n\u001b[1;32m----> 2\u001b[0m     x[\u001b[38;5;241m0\u001b[39m] \u001b[38;5;241m=\u001b[39m \u001b[38;5;124m\"\u001b[39m\u001b[38;5;124mmodified in func\u001b[39m\u001b[38;5;124m\"\u001b[39m\n",
      "\u001b[1;31mTypeError\u001b[0m: 'tuple' object does not support item assignment"
     ]
    }
   ],
   "source": [
    "def func(x):\n",
    "    x[0] = \"modified in func\"\n",
    "\n",
    "\n",
    "items = (1, 2, 3)  # create tuple of integers\n",
    "func(items)"
   ]
  },
  {
   "attachments": {},
   "cell_type": "markdown",
   "metadata": {},
   "source": [
    "Passing in a mutable collection such as a list, however, works as expected:\n"
   ]
  },
  {
   "cell_type": "code",
   "execution_count": 37,
   "metadata": {},
   "outputs": [
    {
     "data": {
      "text/plain": [
       "['modified in func', 2, 3]"
      ]
     },
     "execution_count": 37,
     "metadata": {},
     "output_type": "execute_result"
    }
   ],
   "source": [
    "items = [1, 2, 3]\n",
    "\n",
    "func(items)\n",
    "\n",
    "items"
   ]
  },
  {
   "attachments": {},
   "cell_type": "markdown",
   "metadata": {
    "pycharm": {
     "name": "#%% md\n"
    }
   },
   "source": [
    "### Methods\n",
    "\n",
    "Methods are simply functions that perform an action on a\n",
    "particular object which they are bound to.\n",
    "We will not write methods in this course ourselves\n",
    "(they are part of what's called object-oriented programming),\n",
    "but we frequently use them when we invoke\n",
    "actions on objects such as lists:\n"
   ]
  },
  {
   "cell_type": "code",
   "execution_count": 38,
   "metadata": {
    "pycharm": {
     "name": "#%%\n"
    }
   },
   "outputs": [
    {
     "data": {
      "text/plain": [
       "[1, 2, 3, 4]"
      ]
     },
     "execution_count": 38,
     "metadata": {},
     "output_type": "execute_result"
    }
   ],
   "source": [
    "# Example: call a method of the built-in list\n",
    "lst = [1, 2, 3]\n",
    "\n",
    "# append() is a method of the list class and can be invoked\n",
    "# on list objects.\n",
    "lst.append(4)\n",
    "lst"
   ]
  },
  {
   "cell_type": "code",
   "execution_count": 39,
   "metadata": {},
   "outputs": [
    {
     "data": {
      "text/plain": [
       "array([[0, 1, 2],\n",
       "       [3, 4, 5]])"
      ]
     },
     "execution_count": 39,
     "metadata": {},
     "output_type": "execute_result"
    }
   ],
   "source": [
    "# Example: call method of a NumPy array\n",
    "import numpy as np\n",
    "\n",
    "arr = np.arange(6)\n",
    "\n",
    "# Call reshape method on array object\n",
    "arr.reshape((2, 3))"
   ]
  },
  {
   "attachments": {},
   "cell_type": "markdown",
   "metadata": {
    "pycharm": {
     "name": "#%% md\n"
    }
   },
   "source": [
    "### Functions as objects\n",
    "\n",
    "Functions are objects in their own right, which means that we\n",
    "can perform various operations with them:\n",
    "\n",
    "- Assign a function to a variable.\n",
    "- Store functions in collections.\n",
    "- Pass function as an argument to other functions.\n",
    "\n",
    "_Examples:_\n"
   ]
  },
  {
   "cell_type": "code",
   "execution_count": 34,
   "metadata": {
    "pycharm": {
     "name": "#%%\n"
    }
   },
   "outputs": [
    {
     "name": "stdout",
     "output_type": "stream",
     "text": [
      "func1 called with argument foo\n",
      "func2 called with argument foo\n"
     ]
    }
   ],
   "source": [
    "def func1(x):\n",
    "    print(f\"func1 called with argument {x}\")\n",
    "\n",
    "\n",
    "def func2(x):\n",
    "    print(f\"func2 called with argument {x}\")\n",
    "\n",
    "\n",
    "# List of functions\n",
    "funcs = [func1, func2]\n",
    "\n",
    "# Assign functions to variable f\n",
    "for f in funcs:\n",
    "    # call function referenced by f\n",
    "    f(\"foo\")"
   ]
  },
  {
   "cell_type": "code",
   "execution_count": 35,
   "metadata": {
    "pycharm": {
     "name": "#%%\n"
    }
   },
   "outputs": [
    {
     "name": "stdout",
     "output_type": "stream",
     "text": [
      "func1 called with argument <function func2 at 0x7f35319837e0>\n"
     ]
    }
   ],
   "source": [
    "# Pass one function as argument to another function\n",
    "func1(func2)"
   ]
  },
  {
   "attachments": {},
   "cell_type": "markdown",
   "metadata": {
    "pycharm": {
     "name": "#%% md\n"
    }
   },
   "source": [
    "### lambda expressions\n",
    "\n",
    "You can think of lambda expressions as light-weight functions.\n",
    "The syntax is\n",
    "\n",
    "```python\n",
    "lambda x: <do something with x>\n",
    "```\n",
    "\n",
    "The return value of a lambda expression is whatever\n",
    "its body evaluates to. There is no need (or possibility)\n",
    "to explicitly add a `return` statement.\n",
    "\n",
    "One big difference to regular functions is that\n",
    "lambda expressions are _expressions_, not statements.\n",
    "\n",
    "- At this point we gain little from a technical\n",
    "  discussion on _statements_ vs _expressions_. Loosely speaking,\n",
    "  statements are one level above expressions in the Python syntax\n",
    "  hierarchy, and the language puts restrictions on where statements\n",
    "  can appear. Function definitions, `for` and `while` loops, and\n",
    "  `if/elif/else` blocks are statements, among others.\n",
    "- Conversely, _expressions_ are more flexible and can appear\n",
    "  basically anywhere. They usually evaluate to some object that\n",
    "  can be assigned, passed to a function, etc., whereas\n",
    "  statements can't.\n",
    "\n",
    "The take-away is that we can place lambda expressions almost anywhere,\n",
    "even as arguments in function calls!\n",
    "For example, we might have a function that applies some\n",
    "algebraic operation to its arguments, and the\n",
    "operation can be flexibly defined by the caller.\n"
   ]
  },
  {
   "cell_type": "code",
   "execution_count": 40,
   "metadata": {},
   "outputs": [],
   "source": [
    "def apply(x, operation):\n",
    "    return operation(x)"
   ]
  },
  {
   "cell_type": "code",
   "execution_count": 41,
   "metadata": {},
   "outputs": [],
   "source": [
    "def increment(x):\n",
    "    return x + 1"
   ]
  },
  {
   "cell_type": "code",
   "execution_count": 44,
   "metadata": {},
   "outputs": [],
   "source": [
    "def squared(x):\n",
    "    return x**2"
   ]
  },
  {
   "cell_type": "code",
   "execution_count": 48,
   "metadata": {},
   "outputs": [
    {
     "data": {
      "text/plain": [
       "5"
      ]
     },
     "execution_count": 48,
     "metadata": {},
     "output_type": "execute_result"
    }
   ],
   "source": [
    "x = 4\n",
    "apply(x, increment)"
   ]
  },
  {
   "cell_type": "code",
   "execution_count": 49,
   "metadata": {},
   "outputs": [
    {
     "data": {
      "text/plain": [
       "16"
      ]
     },
     "execution_count": 49,
     "metadata": {},
     "output_type": "execute_result"
    }
   ],
   "source": [
    "apply(x, squared)"
   ]
  },
  {
   "cell_type": "code",
   "execution_count": 51,
   "metadata": {},
   "outputs": [
    {
     "data": {
      "text/plain": [
       "16"
      ]
     },
     "execution_count": 51,
     "metadata": {},
     "output_type": "execute_result"
    }
   ],
   "source": [
    "# We use lambda function instead!\n",
    "apply(x, lambda x: x + 1)\n",
    "\n",
    "apply(x, lambda x: x**2)"
   ]
  },
  {
   "cell_type": "code",
   "execution_count": 52,
   "metadata": {},
   "outputs": [
    {
     "data": {
      "text/plain": [
       "5"
      ]
     },
     "execution_count": 52,
     "metadata": {},
     "output_type": "execute_result"
    }
   ],
   "source": [
    "# Use lambda to define a default operation\n",
    "def apply(x, operation=lambda x: x + 1):\n",
    "    return operation(x)\n",
    "\n",
    "\n",
    "# Call apply without specifying operation\n",
    "apply(x)"
   ]
  },
  {
   "cell_type": "code",
   "execution_count": 36,
   "metadata": {
    "pycharm": {
     "name": "#%%\n"
    }
   },
   "outputs": [
    {
     "data": {
      "text/plain": [
       "[2.0, 3.0, 4.0]"
      ]
     },
     "execution_count": 36,
     "metadata": {},
     "output_type": "execute_result"
    }
   ],
   "source": [
    "# Instead of this we use lambda functions!\n",
    "\n",
    "\n",
    "def func(items, operation=lambda z: z + 1):\n",
    "\n",
    "    # default operation: increment value by 1\n",
    "\n",
    "    result = [operation(i) for i in items]\n",
    "    return result\n",
    "\n",
    "\n",
    "numbers = [1.0, 2.0, 3.0]\n",
    "\n",
    "\n",
    "# call with default operation\n",
    "\n",
    "\n",
    "func(numbers)  # prints [2.0, 3.0, 4.0]"
   ]
  },
  {
   "cell_type": "code",
   "execution_count": 37,
   "metadata": {
    "pycharm": {
     "name": "#%%\n"
    }
   },
   "outputs": [
    {
     "data": {
      "text/plain": [
       "[1.0, 4.0, 9.0]"
      ]
     },
     "execution_count": 37,
     "metadata": {},
     "output_type": "execute_result"
    }
   ],
   "source": [
    "# We can also use lambda expressions to specify\n",
    "# an alternative operation directly in the call!\n",
    "\n",
    "func(numbers, lambda x: x**2.0)  # prints [1.0, 4.0, 9.0]"
   ]
  },
  {
   "attachments": {},
   "cell_type": "markdown",
   "metadata": {
    "pycharm": {
     "name": "#%% md\n"
    }
   },
   "source": [
    "While we could have defined the operation\n",
    "using a \"regular\" function statement, this is shorter.\n"
   ]
  },
  {
   "cell_type": "markdown",
   "metadata": {},
   "source": [
    "<div class=\"alert alert-info\">\n",
    "<h3>Your turn</h3>\n",
    "\n",
    "Consider the tuple <tt>(1, 2, 3)</tt>.\n",
    "\n",
    "<ol>\n",
    "    <li>Find the minimum of this tuple using the built-in \n",
    "    <a href=\"https://docs.python.org/3/library/functions.html#min\"><tt>min()</tt></a>\n",
    "    function.\n",
    "    </li>\n",
    "    <li>Now imagine you want to find the <i>maximum</i> but don't have a <tt>max()</tt>\n",
    "    function at hand. While this seems far-fetched, in fact all of the optimization\n",
    "    routines we will encounter later in the SciPy package are <i>minimizers</i>.\n",
    "    <p>\n",
    "    Any minimizer can be repurposed to be a maximizer by flipping the sign of the objective function.\n",
    "    This can be achieved using <tt>key</tt> argument of \n",
    "    <a href=\"https://docs.python.org/3/library/functions.html#min\"><tt>min()</tt></a>.\n",
    "    Write a <tt>lambda</tt> expression that takes a single argument <tt>x</tt> \n",
    "    and returns <tt>-x</tt>, and pass this lambda expression to <tt>min()</tt>\n",
    "    using the <tt>key</tt> argument to find the maximum of the above tuple.\n",
    "    </p>\n",
    "    </li>\n",
    "</ol>\n",
    "</div>\n"
   ]
  },
  {
   "cell_type": "code",
   "execution_count": 54,
   "metadata": {},
   "outputs": [],
   "source": [
    "def util_func(c):\n",
    "    import numpy as np\n",
    "\n",
    "    return np.sqrt(c)"
   ]
  },
  {
   "cell_type": "code",
   "execution_count": null,
   "metadata": {},
   "outputs": [],
   "source": [
    "from scipy.optimize import minimize_scalar\n",
    "\n",
    "# Use lambda function to change the sign of the return value, so that we maximize the function instead of minimizing it\n",
    "minimize_scalar(lambda x: -util_func(x))"
   ]
  },
  {
   "attachments": {},
   "cell_type": "markdown",
   "metadata": {
    "pycharm": {
     "name": "#%% md\n"
    }
   },
   "source": [
    "---\n",
    "\n",
    "## Modules and packages\n",
    "\n",
    "### Modules\n",
    "\n",
    "Modules allow us to further encapsulate code that implements\n",
    "some particular functionality.\n",
    "\n",
    "- Each Python file (with the extension `.py`)\n",
    "  automatically corresponds to a module of the same name.\n",
    "\n",
    "- This implies that you should only use file names that are valid\n",
    "  Python names as otherwise a module cannot be imported.\n",
    "  In particular, this means avoiding any spaces in file names!\n",
    "\n",
    "- Objects defined within such a module are by default not visible outside\n",
    "  of the module, thus helping to avoid naming conflicts.\n"
   ]
  },
  {
   "cell_type": "markdown",
   "metadata": {},
   "source": [
    "#### Automatic reloading of module contents\n",
    "\n",
    "Jupyter notebooks have a special\n",
    "[`%autoreload`](https://ipython.readthedocs.io/en/stable/config/extensions/autoreload.html#autoreload)\n",
    "cell magic which instructs the Python interpreter to automatically reload any changes in modules applied outside of the notebook. This is only supported in Jupyter notebooks as it only makes sense for interactive documents. It does not work (and is not needed) for traditional `.py` files.\n",
    "\n",
    "This cell magic needs to be inserted only once per Jupyter notebook.\n"
   ]
  },
  {
   "cell_type": "code",
   "execution_count": 55,
   "metadata": {},
   "outputs": [],
   "source": [
    "%load_ext autoreload\n",
    "%autoreload 2"
   ]
  },
  {
   "cell_type": "markdown",
   "metadata": {},
   "source": [
    "#### Example of a module\n",
    "\n",
    "To demonstrate the usage of modules, we need to use\n",
    "files outside of this notebook. To this end, there is an additional\n",
    "Python file in the current directory called `lecture03_mod.py`.\n",
    "which contains the following definitions:\n",
    "\n",
    "```python\n",
    "# Contents of lecture03_mod.py\n",
    "\n",
    "# global variable in this module\n",
    "var = 'Variable defined in lecture03_mod'\n",
    "\n",
    "# global function in this module\n",
    "def func():\n",
    "    print(f'func in module lecture03_mod called')\n",
    "```\n"
   ]
  },
  {
   "cell_type": "code",
   "execution_count": null,
   "metadata": {},
   "outputs": [
    {
     "name": "stdout",
     "output_type": "stream",
     "text": [
      "Variable defined in mymodule {__name__}\n",
      "Function called in module mymodule\n"
     ]
    }
   ],
   "source": [
    "# Import the module created in class\n",
    "import mymodule\n",
    "\n",
    "# Get var\n",
    "print(mymodule.var)\n",
    "\n",
    "# Call func\n",
    "mymodule.func()"
   ]
  },
  {
   "cell_type": "code",
   "execution_count": 62,
   "metadata": {},
   "outputs": [
    {
     "name": "stdout",
     "output_type": "stream",
     "text": [
      "Variable defined in mymodule {__name__}\n",
      "Function called in module mymodule\n"
     ]
    }
   ],
   "source": [
    "# Import selected symbols\n",
    "from mymodule import var, func\n",
    "\n",
    "print(var)\n",
    "func()"
   ]
  },
  {
   "cell_type": "code",
   "execution_count": 65,
   "metadata": {},
   "outputs": [
    {
     "name": "stdout",
     "output_type": "stream",
     "text": [
      "Variable defined in mymodule {__name__}\n",
      "Function called in module mymodule\n"
     ]
    }
   ],
   "source": [
    "# To not overwrite func() or var in the current namespace, you can import it with an alias\n",
    "from mymodule import var as my_var, func as my_func\n",
    "\n",
    "print(my_var)\n",
    "my_func()"
   ]
  },
  {
   "attachments": {},
   "cell_type": "markdown",
   "metadata": {},
   "source": [
    "#### Module search path\n",
    "\n",
    "Before getting into the details, we first need to verify that we can import the module\n",
    "`lecture03_mod` using the `import` statement:\n"
   ]
  },
  {
   "cell_type": "code",
   "execution_count": 39,
   "metadata": {},
   "outputs": [],
   "source": [
    "import lecture03_mod"
   ]
  },
  {
   "attachments": {},
   "cell_type": "markdown",
   "metadata": {},
   "source": [
    "Depending on where exactly you are running this code, the above import statement might fail with a `ModuleNotFoundError` (if no error was raised you can skip the rest of this section). This happens whenever the directory in which the module resides is not in the _module search path_ used by Python.\n",
    "\n",
    "To fix this, check the module search path as follows:\n"
   ]
  },
  {
   "cell_type": "code",
   "execution_count": 40,
   "metadata": {},
   "outputs": [
    {
     "data": {
      "text/plain": [
       "['/home/richard/.conda/envs/FIE463/lib/python312.zip',\n",
       " '/home/richard/.conda/envs/FIE463/lib/python3.12',\n",
       " '/home/richard/.conda/envs/FIE463/lib/python3.12/lib-dynload',\n",
       " '',\n",
       " '/home/richard/.local/lib/python3.12/site-packages',\n",
       " '/home/richard/.local/lib/python3.12/site-packages/opt_einsum-3.4.0-py3.12.egg',\n",
       " '/home/richard/build/rocm/jax',\n",
       " '/home/richard/.local/lib/python3.12/site-packages/ml_dtypes-0.5.0-py3.12-linux-x86_64.egg',\n",
       " '/home/richard/.conda/envs/FIE463/lib/python3.12/site-packages',\n",
       " '/home/richard/.conda/envs/FIE463/lib/python3.12/site-packages/setuptools/_vendor']"
      ]
     },
     "execution_count": 40,
     "metadata": {},
     "output_type": "execute_result"
    }
   ],
   "source": [
    "import sys\n",
    "\n",
    "sys.path"
   ]
  },
  {
   "attachments": {},
   "cell_type": "markdown",
   "metadata": {},
   "source": [
    "If the `lecture03/` directory is not included in this list, you can add it manually.\n",
    "For example, this notebook is executed in the git repository's root directory,\n",
    "you need to exectute\n"
   ]
  },
  {
   "cell_type": "code",
   "execution_count": 41,
   "metadata": {},
   "outputs": [],
   "source": [
    "import sys\n",
    "\n",
    "\n",
    "# add lectures/ directory using a relative path\n",
    "\n",
    "\n",
    "sys.path.append(\"./lectures/lecture03\")"
   ]
  },
  {
   "attachments": {},
   "cell_type": "markdown",
   "metadata": {},
   "source": [
    "#### Importing symbols\n",
    "\n",
    "We now want to use `func` and `var` from `lecture03_mod` in our notebook.\n",
    "However, by default these symbols are not visible\n",
    "and first need to be imported.\n",
    "We can do this in several ways:\n",
    "\n",
    "1.  We can import the module and use fully qualified names\n",
    "    to reference objects from `lecture03_mod`.\n",
    "2.  We can select which names from `lecture03_mod` should be directly\n",
    "    accessible.\n",
    "\n",
    "The first variant looks like this:\n"
   ]
  },
  {
   "cell_type": "code",
   "execution_count": 42,
   "metadata": {
    "pycharm": {
     "name": "#%%\n"
    }
   },
   "outputs": [
    {
     "name": "stdout",
     "output_type": "stream",
     "text": [
      "Variable defined in lecture03_mod\n",
      "func in module lecture03_mod called\n"
     ]
    }
   ],
   "source": [
    "import lecture03_mod\n",
    "\n",
    "# Access variable defined in lecture03_mod\n",
    "print(lecture03_mod.var)\n",
    "\n",
    "# Call function defined in lecture03_mod\n",
    "lecture03_mod.func()"
   ]
  },
  {
   "attachments": {},
   "cell_type": "markdown",
   "metadata": {
    "pycharm": {
     "name": "#%% md\n"
    }
   },
   "source": [
    "If a symbol from `lecture03_mod` is used frequently, we might\n",
    "want to make it accessible without the `lecture03_mod` prefix. This\n",
    "is the second variant:\n"
   ]
  },
  {
   "cell_type": "code",
   "execution_count": 43,
   "metadata": {
    "pycharm": {
     "name": "#%%\n"
    }
   },
   "outputs": [
    {
     "name": "stdout",
     "output_type": "stream",
     "text": [
      "Variable defined in lecture03_mod\n",
      "func in module lecture03_mod called\n"
     ]
    }
   ],
   "source": [
    "from lecture03_mod import var, func\n",
    "\n",
    "# Access variable defined in lecture03_mod\n",
    "print(var)\n",
    "\n",
    "# Call function defined in lecture03_mod\n",
    "func()"
   ]
  },
  {
   "attachments": {},
   "cell_type": "markdown",
   "metadata": {
    "pycharm": {
     "name": "#%% md\n"
    }
   },
   "source": [
    "What if our notebook itself defines a function `func()` which\n",
    "would overwrite the reference to the one imported from\n",
    "`lecture03_mod`, as in the following example?\n"
   ]
  },
  {
   "cell_type": "code",
   "execution_count": 44,
   "metadata": {
    "pycharm": {
     "name": "#%%\n"
    }
   },
   "outputs": [
    {
     "name": "stdout",
     "output_type": "stream",
     "text": [
      "func in module lecture03_mod called\n",
      "func in notebook called\n"
     ]
    }
   ],
   "source": [
    "from lecture03_mod import func\n",
    "\n",
    "# Calls func() defined in lecture03_mod\n",
    "func()\n",
    "\n",
    "\n",
    "# overwrites definition from lecture03_mod with local version\n",
    "def func():\n",
    "    print(\"func in notebook called\")\n",
    "\n",
    "\n",
    "# Calls func() defined in notebook\n",
    "func()"
   ]
  },
  {
   "attachments": {},
   "cell_type": "markdown",
   "metadata": {
    "pycharm": {
     "name": "#%% md\n"
    }
   },
   "source": [
    "In such a scenario, we can assign aliases to\n",
    "imported symbols using `as`:\n"
   ]
  },
  {
   "cell_type": "code",
   "execution_count": 45,
   "metadata": {
    "pycharm": {
     "name": "#%%\n"
    }
   },
   "outputs": [
    {
     "name": "stdout",
     "output_type": "stream",
     "text": [
      "func in notebook called\n",
      "func in module lecture03_mod called\n"
     ]
    }
   ],
   "source": [
    "from lecture03_mod import func as imported_func  # The function formerly known\n",
    "\n",
    "# as func is now imported_func\n",
    "\n",
    "\n",
    "def func():\n",
    "    print(\"func in notebook called\")\n",
    "\n",
    "\n",
    "# call our own func\n",
    "func()\n",
    "\n",
    "# call func from module lecture03_mod\n",
    "imported_func()"
   ]
  },
  {
   "attachments": {},
   "cell_type": "markdown",
   "metadata": {},
   "source": [
    "We can even alias the module name itself, as we frequently do with\n",
    "widely used modules such as `numpy`:\n"
   ]
  },
  {
   "cell_type": "code",
   "execution_count": 46,
   "metadata": {},
   "outputs": [
    {
     "name": "stdout",
     "output_type": "stream",
     "text": [
      "func in module lecture03_mod called\n"
     ]
    }
   ],
   "source": [
    "# Import module, assign it short-hand name l4\n",
    "import lecture03_mod as l4\n",
    "\n",
    "l4.func()  # call function from module lecture03_mod"
   ]
  },
  {
   "cell_type": "code",
   "execution_count": 47,
   "metadata": {},
   "outputs": [],
   "source": [
    "# Import NumPy, using standard convention to assign it the alias 'np'\n",
    "import numpy as np"
   ]
  },
  {
   "cell_type": "markdown",
   "metadata": {},
   "source": [
    "<div class=\"alert alert-info\">\n",
    "<h3>Your turn</h3>\n",
    "\n",
    "Recall the <tt>power()</tt> function you wrote earlier in this unit.\n",
    "\n",
    "<ol>\n",
    "    <li>Create a module <tt>mymath.py</tt> and place it in the same directory\n",
    "    as this notebook.\n",
    "    </li>\n",
    "    <li>\n",
    "        Add a print statement to <tt>power()</tt> so it reports the module\n",
    "        where it is located:\n",
    "        <p>\n",
    "        <tt>\n",
    "        print(f'Called from {__name__}')\n",
    "        </tt>\n",
    "        </p>\n",
    "    </li>\n",
    "    <li>\n",
    "        Import the <tt>power()</tt> function from this module and call it.\n",
    "    </li>\n",
    "</ol>\n",
    "</div>\n"
   ]
  },
  {
   "attachments": {},
   "cell_type": "markdown",
   "metadata": {
    "pycharm": {
     "name": "#%% md\n"
    }
   },
   "source": [
    "### Packages\n",
    "\n",
    "Packages are roughly speaking collections of modules and a\n",
    "little magic on top. We will not be creating packages, but we have already been using them:\n",
    "basically everything besides the built-in\n",
    "functions is defined in some package. For example, the NumPy\n",
    "library is a collection of packages.\n"
   ]
  },
  {
   "attachments": {},
   "cell_type": "markdown",
   "metadata": {
    "pycharm": {
     "name": "#%% md\n"
    }
   },
   "source": [
    "---\n",
    "\n",
    "## Optional exercises\n"
   ]
  },
  {
   "attachments": {},
   "cell_type": "markdown",
   "metadata": {},
   "source": [
    "### Exercise 1: Sign function\n",
    "\n",
    "Implement a function `sign` which returns the following values:\n",
    "\n",
    "$$\n",
    "sign(x) =\n",
    "\\begin{cases}\n",
    "-1 & \\text{if } x < 0 \\\\\n",
    "\\phantom{-} 0 & \\text{if } x = 0 \\\\\n",
    "\\phantom{-} 1 & \\text{if } x > 0\n",
    "\\end{cases}\n",
    "$$\n",
    "\n",
    "Test your function on a negative, zero and positive argument.\n"
   ]
  },
  {
   "attachments": {},
   "cell_type": "markdown",
   "metadata": {},
   "source": [
    "### Exercise 2: Sum of arbitrary number of elements\n",
    "\n",
    "Create a function called `my_sum` which accepts an arbitrary\n",
    "number of arguments (possibly zero) and returns their sum.\n",
    "Assume that all arguments are numeric.\n",
    "\n",
    "Test your function with the following arguments:\n",
    "\n",
    "```python\n",
    "my_sum(10.0)    # one argument\n",
    "my_sum(1,2,3)   # multiple arguments\n",
    "my_sum()        # no arguments\n",
    "```\n",
    "\n",
    "Make sure that in the last case your function returns zero,\n",
    "which is the sum over an empty set.\n"
   ]
  },
  {
   "attachments": {},
   "cell_type": "markdown",
   "metadata": {},
   "source": [
    "### Exercise 3: Fibonacci sequence\n",
    "\n",
    "A classical introductory exercise to programming is to write\n",
    "a function that returns the first $n$ terms of the Fibonacci\n",
    "sequence. The $i$-th element of this sequence is the integer\n",
    "$x_i$ defined as\n",
    "\n",
    "$$\n",
    "x_i =\n",
    "\\begin{cases} 0 & \\text{if } i = 0   \\\\\n",
    "    1  & \\text{if } i = 1\\\\\n",
    "    x_{i-1} + x_{i-2} & \\text{else}\n",
    "\\end{cases}\n",
    "$$\n",
    "\n",
    "Write a function `fibonacci(i)`,\n",
    "\n",
    "```python\n",
    "def fibonacci(i):\n",
    "    ...\n",
    "```\n",
    "\n",
    "which returns the $i$-th item in the sequence using recursion.\n",
    "A recursive function is a function that calls itself to\n",
    "perform (part of) its task, i.e., you should compute $x_i$ like this:\n",
    "\n",
    "```\n",
    "xi = fibonacci(i-1) + fibonacci(i-2)\n",
    "```\n",
    "\n",
    "Use this function to compute the first 10 elements\n",
    "of this sequence with a list comprehension.\n"
   ]
  },
  {
   "attachments": {},
   "cell_type": "markdown",
   "metadata": {},
   "source": [
    "### Exercise 4: Factorials\n",
    "\n",
    "1.  Implement a function that computes the factorial of a non-negative\n",
    "    integer $n$ defined as $n! = \\prod_{i=1}^n i$. Keep in mind that\n",
    "    this definition implies that $0! = 1$.\n",
    "    Use the list comprehension syntax to create a tuple that contains the\n",
    "    factorials for the integers $n=1,\\dots,10$.\n",
    "\n",
    "    _Hint:_ The factorial can be written as a recurrence relation\n",
    "    $n! = n \\cdot (n-1)!$, which you can use to implement\n",
    "    the recursive function.\n",
    "\n",
    "2.  Provide an alternative implementation that does not rely on\n",
    "    recursion, but instead uses NumPy's `prod()` function\n",
    "    to compute the product of a sequence of numbers.\n",
    "    Again, create a `tuple` that contains the factorials\n",
    "    for the integers $n=1,\\dots,10$ using a list comprehension.\n",
    "\n",
    "    _Hint 1:_ To compute the product of the integers\n",
    "    $i,i+1,\\dots,j$, you can use `np.prod(range(i,j+1))`.\n",
    "\n",
    "    _Hint 2:_ The product of an empty set is 1, which is what\n",
    "    `np.prod()` returns.\n"
   ]
  },
  {
   "attachments": {},
   "cell_type": "markdown",
   "metadata": {},
   "source": [
    "### Exercise 5: Bisection root-finding algorithm (advanced)\n",
    "\n",
    "We revisit the binary search algorithm from the previous lecture, this time applied\n",
    "to finding the root of a continuous function. This is called\n",
    "the [bisection method](https://en.wikipedia.org/wiki/Bisection_method).\n",
    "\n",
    "Implement a function `bisection(f, a, b, tol, xtol)`\n",
    "which finds the root of the function $f(x)$, i.e., the value $x_0$\n",
    "where $f(x_0) = 0$ on the interval $[a,b]$. Assume that $a<b$ and\n",
    "that the function values $f(a)$ and $f(b)$ have opposite signs.\n",
    "\n",
    "Test your implementation using the function $f(x) = x^2 - 4$ on the\n",
    "interval $[-3,0]$, which has a (unique) root at $x_0 = -2$.\n",
    "\n",
    "The bisection algorithm proceeds as follows, which you need to convert to Python code:\n",
    "\n",
    "1.  Define tolerance levels $\\epsilon > 0$ and $\\epsilon_x > 0$. The algorithm\n",
    "    completes successfully whenever we have either $|f(x_0)| < \\epsilon$\n",
    "    or $|b-a|<\\epsilon_x$.\n",
    "2.  Main loop of the algorithm:\n",
    "\n",
    "    1.  Compute the midpoint $x_m = (a+b)/2$\n",
    "    2.  Compute function value $f_m = f(x_m)$\n",
    "    3.  If either $|f_m| < \\epsilon$ or $|b-a|< \\epsilon_x$, accept $x_m$\n",
    "        as the solution and exit.\n",
    "    4.  Otherwise, update either $a$ or $b$:\n",
    "\n",
    "        1.  If $sign(f(b)) = sign(f_m)$, set $b = x_m$\n",
    "\n",
    "            _Hint:_ One way to check whether two non-zero values have the\n",
    "            same sign is to check if $f(b) \\cdot f_m > 0$.\n",
    "\n",
    "        2.  Otherwise, $a = x_m$\n",
    "\n",
    "    5.  Proceed to next iteration of main loop.\n"
   ]
  },
  {
   "attachments": {},
   "cell_type": "markdown",
   "metadata": {
    "pycharm": {
     "name": "#%% md\n"
    }
   },
   "source": [
    "---\n",
    "\n",
    "## Solutions\n",
    "\n",
    "### Solution for exercise 1\n"
   ]
  },
  {
   "cell_type": "code",
   "execution_count": null,
   "metadata": {
    "pycharm": {
     "name": "#%%\n"
    }
   },
   "outputs": [
    {
     "name": "stdout",
     "output_type": "stream",
     "text": [
      "-1.0\n",
      "0.0\n",
      "1.0\n"
     ]
    }
   ],
   "source": [
    "import numpy as np\n",
    "\n",
    "\n",
    "def sign(x):\n",
    "\n",
    "    if x < 0.0:\n",
    "\n",
    "        return -1.0\n",
    "\n",
    "    elif x == 0.0:\n",
    "        return 0.0\n",
    "\n",
    "    elif x > 0.0:\n",
    "\n",
    "        return 1.0\n",
    "    else:\n",
    "\n",
    "        # Argument is not a proper numerical value, return NaN\n",
    "\n",
    "        # (NaN = Not a Number)\n",
    "        return np.nan\n",
    "\n",
    "\n",
    "# Test on a few values\n",
    "\n",
    "\n",
    "print(sign(-123))\n",
    "print(sign(0))\n",
    "print(sign(12345))"
   ]
  },
  {
   "attachments": {},
   "cell_type": "markdown",
   "metadata": {
    "pycharm": {
     "name": "#%% md\n"
    }
   },
   "source": [
    "Note that NumPy has a \"proper\" sign function, `np.sign()`,\n",
    "which implements the same logic but is more robust, accepts\n",
    "array arguments, etc.\n"
   ]
  },
  {
   "attachments": {},
   "cell_type": "markdown",
   "metadata": {
    "pycharm": {
     "name": "#%% md\n"
    }
   },
   "source": [
    "### Solution for exercise 2\n",
    "\n",
    "For a function to accept an arbitrary number of arguments,\n",
    "we need to declare an `*args` argument.\n",
    "\n",
    "One possible implementation of `my_sum()` looks as follows:\n"
   ]
  },
  {
   "cell_type": "code",
   "execution_count": 49,
   "metadata": {
    "pycharm": {
     "name": "#%%\n"
    }
   },
   "outputs": [
    {
     "name": "stdout",
     "output_type": "stream",
     "text": [
      "10.0\n",
      "6\n",
      "0\n"
     ]
    }
   ],
   "source": [
    "def my_sum(*args):\n",
    "    # Initialise sum to 0\n",
    "    s = 0\n",
    "    for x in args:\n",
    "        s += x\n",
    "    return s\n",
    "\n",
    "\n",
    "# Test with sequences of arguments\n",
    "print(my_sum(10.0))\n",
    "print(my_sum(1, 2, 3))\n",
    "print(my_sum())"
   ]
  },
  {
   "attachments": {},
   "cell_type": "markdown",
   "metadata": {
    "pycharm": {
     "name": "#%% md\n"
    }
   },
   "source": [
    "Of course in real code we would use the built-in function `sum()`,\n",
    "or preferably the NumPy variant `np.sum()`:\n"
   ]
  },
  {
   "cell_type": "code",
   "execution_count": 50,
   "metadata": {
    "pycharm": {
     "name": "#%%\n"
    }
   },
   "outputs": [
    {
     "name": "stdout",
     "output_type": "stream",
     "text": [
      "10.0\n",
      "6\n"
     ]
    },
    {
     "data": {
      "text/plain": [
       "np.float64(0.0)"
      ]
     },
     "execution_count": 50,
     "metadata": {},
     "output_type": "execute_result"
    }
   ],
   "source": [
    "import numpy as np\n",
    "\n",
    "print(np.sum(10.0))\n",
    "\n",
    "# Need to pass argument as collection\n",
    "print(np.sum((1, 2, 3)))\n",
    "\n",
    "# np.sum() cannot be invoked without arguments, but we can\n",
    "# call it with an empty tuple ()\n",
    "np.sum(())"
   ]
  },
  {
   "attachments": {},
   "cell_type": "markdown",
   "metadata": {
    "pycharm": {
     "name": "#%% md\n"
    }
   },
   "source": [
    "### Solution for exercise 3\n",
    "\n",
    "The recursive definition of `fibonacci(i)` could look like this:\n"
   ]
  },
  {
   "cell_type": "code",
   "execution_count": 51,
   "metadata": {
    "pycharm": {
     "name": "#%%\n"
    }
   },
   "outputs": [
    {
     "data": {
      "text/plain": [
       "[0, 1, 1, 2, 3, 5, 8, 13, 21, 34]"
      ]
     },
     "execution_count": 51,
     "metadata": {},
     "output_type": "execute_result"
    }
   ],
   "source": [
    "def fibonacci(i):\n",
    "    if i == 0:\n",
    "        # No recursion needed\n",
    "        xi = 0\n",
    "    elif i == 1:\n",
    "        # No recursion needed\n",
    "        xi = 1\n",
    "    else:\n",
    "        # Assume that i > 1. We will learn later how to\n",
    "        # return an error if this is not the case.\n",
    "        # Use recursion to compute the two preceding values\n",
    "        # of the sequence.\n",
    "        xi = fibonacci(i - 1) + fibonacci(i - 2)\n",
    "    return xi\n",
    "\n",
    "\n",
    "# Compute the first 10 elements of the sequence using a list comprehension\n",
    "first10 = [fibonacci(i) for i in range(10)]\n",
    "first10  # 0+1 = 1, 1+1 = 2, 1+2 = 3, 2+3 = 5, 3+5 = 8, 5+8 = 13, 8+13 = 21, 13+21 = 34."
   ]
  },
  {
   "attachments": {},
   "cell_type": "markdown",
   "metadata": {
    "pycharm": {
     "name": "#%% md\n"
    }
   },
   "source": [
    "Note that this is a terribly inefficient way to compute things,\n",
    "as the same elements of the sequence will needlessly be calculated\n",
    "over and over again.\n"
   ]
  },
  {
   "attachments": {},
   "cell_type": "markdown",
   "metadata": {
    "pycharm": {
     "name": "#%% md\n"
    }
   },
   "source": [
    "### Solution for exercise 4\n",
    "\n",
    "The following code implements a function to compute the factorial $n!$ using\n",
    "recursion:\n"
   ]
  },
  {
   "cell_type": "code",
   "execution_count": 52,
   "metadata": {
    "pycharm": {
     "name": "#%%\n"
    }
   },
   "outputs": [
    {
     "data": {
      "text/plain": [
       "(1, 1, 2, 6, 24, 120, 720, 5040, 40320, 362880)"
      ]
     },
     "execution_count": 52,
     "metadata": {},
     "output_type": "execute_result"
    }
   ],
   "source": [
    "def factorial(n):\n",
    "    if n == 0:\n",
    "        return 1\n",
    "    else:\n",
    "        # Use recursion to compute factorial\n",
    "        return n * factorial(n - 1)\n",
    "\n",
    "\n",
    "fact10 = tuple(factorial(n) for n in range(10))\n",
    "fact10  # 0! = 1, 1! = 1, 2! = 2, 3! = 6, 4! = 24, 5! = 120, 6! = 720, 7! = 5040, 8! = 40320, 9! = 362880."
   ]
  },
  {
   "attachments": {},
   "cell_type": "markdown",
   "metadata": {
    "pycharm": {
     "name": "#%% md\n"
    }
   },
   "source": [
    "An implementation without recursion can be created using\n",
    "NumPy's `prod()` function which\n",
    "computes the product of a sequence of numbers:\n"
   ]
  },
  {
   "cell_type": "code",
   "execution_count": 53,
   "metadata": {
    "pycharm": {
     "name": "#%%\n"
    }
   },
   "outputs": [
    {
     "data": {
      "text/plain": [
       "(np.float64(1.0),\n",
       " np.int64(1),\n",
       " np.int64(2),\n",
       " np.int64(6),\n",
       " np.int64(24),\n",
       " np.int64(120),\n",
       " np.int64(720),\n",
       " np.int64(5040),\n",
       " np.int64(40320),\n",
       " np.int64(362880))"
      ]
     },
     "execution_count": 53,
     "metadata": {},
     "output_type": "execute_result"
    }
   ],
   "source": [
    "import numpy as np\n",
    "\n",
    "fact10 = tuple(np.prod(range(1, n + 1)) for n in range(10))\n",
    "fact10"
   ]
  },
  {
   "attachments": {},
   "cell_type": "markdown",
   "metadata": {
    "pycharm": {
     "name": "#%% md\n"
    }
   },
   "source": [
    "Notice that the first element of this sequence is a floating-point\n",
    "value 1.0, while the remaining elements are integers.\n",
    "Why is that? Examine the argument passed to `np.prod()`\n",
    "for `n=0`:\n"
   ]
  },
  {
   "cell_type": "code",
   "execution_count": 54,
   "metadata": {
    "pycharm": {
     "name": "#%%\n"
    }
   },
   "outputs": [
    {
     "data": {
      "text/plain": [
       "()"
      ]
     },
     "execution_count": 54,
     "metadata": {},
     "output_type": "execute_result"
    }
   ],
   "source": [
    "n = 0\n",
    "# We have to embed range() in an expression that forces the Python\n",
    "# interpreter to actually expand the range object, such as a tuple().\n",
    "tuple(range(1, n + 1))"
   ]
  },
  {
   "attachments": {},
   "cell_type": "markdown",
   "metadata": {
    "pycharm": {
     "name": "#%% md\n"
    }
   },
   "source": [
    "As you see, for `n=0` this is an empty container without elements.\n",
    "The mathematical convention is that the product over an empty\n",
    "set is\n",
    "$\\prod_{i \\in \\emptyset} = 1$, and this is exactly\n",
    "what `np.prod()` returns. However, by default NumPy creates\n",
    "floating-point values, and so the return value is 1.0, not 1.\n",
    "\n",
    "You can get around this by explicitly specifying the\n",
    "data type using the `dtype` argument, which is accepted\n",
    "by many NumPy functions.\n"
   ]
  },
  {
   "cell_type": "code",
   "execution_count": 55,
   "metadata": {
    "pycharm": {
     "name": "#%%\n"
    }
   },
   "outputs": [
    {
     "data": {
      "text/plain": [
       "(np.int64(1),\n",
       " np.int64(1),\n",
       " np.int64(2),\n",
       " np.int64(6),\n",
       " np.int64(24),\n",
       " np.int64(120),\n",
       " np.int64(720),\n",
       " np.int64(5040),\n",
       " np.int64(40320),\n",
       " np.int64(362880))"
      ]
     },
     "execution_count": 55,
     "metadata": {},
     "output_type": "execute_result"
    }
   ],
   "source": [
    "import numpy as np\n",
    "\n",
    "\n",
    "# Force result to be of integer type\n",
    "\n",
    "\n",
    "fact10 = tuple(np.prod(range(1, n + 1), dtype=int) for n in range(10))\n",
    "\n",
    "\n",
    "fact10"
   ]
  },
  {
   "attachments": {},
   "cell_type": "markdown",
   "metadata": {
    "pycharm": {
     "name": "#%% md\n"
    }
   },
   "source": [
    "Alternatively, we can use `np.arange()` instead of `range()` as\n",
    "the former by default returns integer arrays, even if they are empty:\n"
   ]
  },
  {
   "cell_type": "code",
   "execution_count": 56,
   "metadata": {
    "pycharm": {
     "name": "#%%\n"
    }
   },
   "outputs": [
    {
     "data": {
      "text/plain": [
       "(np.int64(1),\n",
       " np.int64(1),\n",
       " np.int64(2),\n",
       " np.int64(6),\n",
       " np.int64(24),\n",
       " np.int64(120),\n",
       " np.int64(720),\n",
       " np.int64(5040),\n",
       " np.int64(40320),\n",
       " np.int64(362880))"
      ]
     },
     "execution_count": 56,
     "metadata": {},
     "output_type": "execute_result"
    }
   ],
   "source": [
    "import numpy as np\n",
    "\n",
    "\n",
    "# Force result to be of integer type\n",
    "\n",
    "\n",
    "fact10 = tuple(np.prod(np.arange(1, n + 1)) for n in range(10))\n",
    "\n",
    "\n",
    "fact10"
   ]
  },
  {
   "attachments": {},
   "cell_type": "markdown",
   "metadata": {
    "pycharm": {
     "name": "#%% md\n"
    }
   },
   "source": [
    "Finally, you of course would not need to implement the\n",
    "factorial function yourself, as there is one in the `math` module\n",
    "shipped with Python:\n"
   ]
  },
  {
   "cell_type": "code",
   "execution_count": 57,
   "metadata": {
    "pycharm": {
     "name": "#%%\n"
    }
   },
   "outputs": [
    {
     "data": {
      "text/plain": [
       "(1, 1, 2, 6, 24, 120, 720, 5040, 40320, 362880)"
      ]
     },
     "execution_count": 57,
     "metadata": {},
     "output_type": "execute_result"
    }
   ],
   "source": [
    "import math\n",
    "\n",
    "\n",
    "fact10 = tuple(math.factorial(n) for n in range(10))\n",
    "\n",
    "\n",
    "fact10"
   ]
  },
  {
   "attachments": {},
   "cell_type": "markdown",
   "metadata": {
    "pycharm": {
     "name": "#%% md\n"
    }
   },
   "source": [
    "### Solution for exercise 5\n"
   ]
  },
  {
   "attachments": {},
   "cell_type": "markdown",
   "metadata": {
    "pycharm": {
     "name": "#%% md\n"
    }
   },
   "source": [
    "Below you find a simple implementation of a bisection algorithm.\n",
    "This function does not perform any error checking and assumes that the\n",
    "initial bracket $[a,b]$ actually contains a root, and that\n",
    "the values $f(a)$ and $f(b)$ have opposite signs.\n",
    "\n",
    "We impose two termination criteria, and the algorithm will\n",
    "end successfully whenever one of them is satisfied:\n",
    "\n",
    "1.  The function value is sufficiently close to zero, i.e. $|f(x_0)| < \\epsilon$\n",
    "    for some small $\\epsilon > 0$.\n",
    "2.  The bracket is sufficiently small, i.e. $|b-a| < \\epsilon_x$, again\n",
    "    for some small $\\epsilon_x > 0$\n",
    "\n",
    "This is standard practice in numerical optimisation since we don't want the\n",
    "algorithm to continue unnecessarily if the desired degree of precision\n",
    "was achieved.\n",
    "\n",
    "We specify the termination tolerance as optional arguments `tol` and `xtol`\n",
    "with sensible defaults. We also add the maximum permissible number\n",
    "of iterations as an optional argument `maxiter`.\n"
   ]
  },
  {
   "cell_type": "code",
   "execution_count": 58,
   "metadata": {
    "pycharm": {
     "name": "#%%\n"
    }
   },
   "outputs": [
    {
     "name": "stdout",
     "output_type": "stream",
     "text": [
      "Iteration 0: f(mid) = -1.7500e+00\n",
      "  Updating upper bound to -1.50000000\n",
      "Iteration 1: f(mid) = 1.0625e+00\n",
      "  Updating lower bound to -2.25000000\n",
      "Iteration 2: f(mid) = -4.8438e-01\n",
      "  Updating upper bound to -1.87500000\n",
      "Iteration 3: f(mid) = 2.5391e-01\n",
      "  Updating lower bound to -2.06250000\n",
      "Iteration 4: f(mid) = -1.2402e-01\n",
      "  Updating upper bound to -1.96875000\n",
      "Iteration 5: f(mid) = 6.2744e-02\n",
      "  Updating lower bound to -2.01562500\n",
      "Iteration 6: f(mid) = -3.1189e-02\n",
      "  Updating upper bound to -1.99218750\n",
      "Iteration 7: f(mid) = 1.5640e-02\n",
      "  Updating lower bound to -2.00390625\n",
      "Iteration 8: f(mid) = -7.8087e-03\n",
      "  Updating upper bound to -1.99804688\n",
      "Iteration 9: f(mid) = 3.9072e-03\n",
      "  Updating lower bound to -2.00097656\n",
      "Iteration 10: f(mid) = -1.9529e-03\n",
      "  Updating upper bound to -1.99951172\n",
      "Iteration 11: f(mid) = 9.7662e-04\n",
      "  Updating lower bound to -2.00024414\n",
      "Iteration 12: f(mid) = -4.8827e-04\n",
      "  Updating upper bound to -1.99987793\n",
      "Iteration 13: f(mid) = 2.4414e-04\n",
      "  Updating lower bound to -2.00006104\n",
      "Iteration 14: f(mid) = -1.2207e-04\n",
      "  Updating upper bound to -1.99996948\n",
      "Iteration 15: f(mid) = 6.1035e-05\n",
      "  Updating lower bound to -2.00001526\n",
      "Iteration 16: f(mid) = -3.0518e-05\n",
      "  Updating upper bound to -1.99999237\n",
      "Iteration 17: f(mid) = 1.5259e-05\n",
      "  Updating lower bound to -2.00000381\n",
      "Iteration 18: f(mid) = -7.6294e-06\n",
      "  Updating upper bound to -1.99999809\n",
      "Iteration 19: f(mid) = 3.8147e-06\n",
      "  Updating lower bound to -2.00000095\n",
      "Iteration 20: f(mid) = -1.9073e-06\n",
      "  Updating upper bound to -1.99999952\n"
     ]
    },
    {
     "data": {
      "text/plain": [
       "-2.000000238418579"
      ]
     },
     "execution_count": 58,
     "metadata": {},
     "output_type": "execute_result"
    }
   ],
   "source": [
    "def bisect(f, a, b, tol=1.0e-6, xtol=1.0e-6, maxiter=100):\n",
    "\n",
    "    for iteration in range(maxiter):\n",
    "        # Compute candidate value as midpoint between a and b\n",
    "        mid = (a + b) / 2.0\n",
    "        if abs(b - a) < xtol:\n",
    "            # Remaining interval is too small\n",
    "            break\n",
    "\n",
    "        fmid = f(mid)\n",
    "\n",
    "        if abs(fmid) < tol:\n",
    "            # function value is close enough to zero\n",
    "            break\n",
    "\n",
    "        print(f\"Iteration {iteration}: f(mid) = {fmid:.4e}\")\n",
    "        if fmid * f(b) > 0.0:\n",
    "            # f(mid) and f(b) have the same sign, update upper bound b\n",
    "            print(f\"  Updating upper bound to {mid:.8f}\")\n",
    "            b = mid\n",
    "        else:\n",
    "            # f(mid) and f(a) have the same sign, or at least one of\n",
    "            # them is zero.\n",
    "            print(f\"  Updating lower bound to {mid:.8f}\")\n",
    "            a = mid\n",
    "\n",
    "    return mid\n",
    "\n",
    "\n",
    "# Compute root of f(x) = x^2 - 4 on the interval [-3, 0]\n",
    "# We pass the function f as the first argument, and use a lambda expression\n",
    "# to define the function directly in the call.\n",
    "x0 = bisect(lambda x: x**2.0 - 4.0, -3.0, 0.0)\n",
    "\n",
    "# Print root. The true value is -2.0\n",
    "x0"
   ]
  }
 ],
 "metadata": {
  "kernelspec": {
   "display_name": "FIE463",
   "language": "python",
   "name": "python3"
  },
  "language_info": {
   "codemirror_mode": {
    "name": "ipython",
    "version": 3
   },
   "file_extension": ".py",
   "mimetype": "text/x-python",
   "name": "python",
   "nbconvert_exporter": "python",
   "pygments_lexer": "ipython3",
   "version": "undefined.undefined.undefined"
  }
 },
 "nbformat": 4,
 "nbformat_minor": 1
}
