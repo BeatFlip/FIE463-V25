{
 "cells": [
  {
   "cell_type": "markdown",
   "metadata": {},
   "source": [
    "# Introduction to scikit-learn\n",
    "\n",
    "Broadly speaking, we can categorize machine learning algorithms into three groups: *supervised learning*, *unsupervised learning*, and *reinforcement learning*.\n",
    "In the remainder of this course, we'll focus on the first category, and we'll study how we can use the supervised learning algorithms implemented in\n",
    "[scikit-learn](https://scikit-learn.org/stable/index.html), a popular machine learning library for Python.\n",
    "\n",
    "Supervised learning uses input data (often called independent variables, features, \n",
    "covariates, predictors, or $X$ variables) and the corresponding output data \n",
    "(dependent variable, outcome, target, or $y$ variable) to establish some relationship \n",
    "$y = f(X)$ within a training data set. We can then use this relationship to make\n",
    "predictions about outputs in new data.\n",
    "\n",
    "Within supervised learning, we distinguish two broad types of approaches:\n",
    "\n",
    "1. *Regression*, where output data is allowed to take on continuous values; and\n",
    "2. *Classification*, where output data is restricted to a few values,\n",
    "  often called categories or labels.\n",
    "\n",
    "Unlike in \"standard\" econometrics, regression and classification usually include a penalty term which helps improve the predictive performance of these models on new data. We will study this setting in the next lecture.\n",
    "\n",
    "For a more detailed treatment of the topics covered in this and the next lecture, you should check out the book \n",
    "[Machine Learning with PyTorch and Scikit-Learn: Develop machine learning and deep learning models with Python](https://github.com/rasbt/machine-learning-book)\n",
    "and the companion GitHub repository."
   ]
  },
  {
   "attachments": {},
   "cell_type": "markdown",
   "metadata": {},
   "source": [
    "***\n",
    "## Univariate linear regression\n",
    "\n",
    "Imagine the simplest linear model where the dependent variable $y$ is\n",
    "assumed to be an affine function of the explanatory variable $x$\n",
    "and an error term $\\epsilon$, given by\n",
    "$$\n",
    "y_i = \\alpha + \\beta x_i + \\epsilon_i\n",
    "$$\n",
    "for each observation $i$.\n",
    "In econometrics, the parameters $\\alpha$ and $\\beta$ are called the intercept and\n",
    "slope parameters, respectively. In machine learning, the terminology\n",
    "often differs and you might see the same model written as\n",
    "$$\n",
    "y_i = b + w x_i + \\epsilon_i\n",
    "$$\n",
    "where $b$ is called the *bias* and $w$ is called a *weight*. \n",
    "\n",
    "Our goal is to estimate the parameters $\\alpha$ and $\\beta$ which is\n",
    "most commonly done by ordinary least squares (OLS). OLS is defined as the\n",
    "estimator that finds the estimates $(\\widehat{\\alpha}, \\widehat{\\beta})$\n",
    "such that the sum of squared errors is minimized. We denote this \n",
    "sum of squared errors as the loss function $L$,\n",
    "$$\n",
    "L(\\alpha, \\beta) = \\sum_i^N \\Bigl(y_i - \\alpha - \\beta x_i \\Bigr)^2\n",
    "$$\n",
    "which depends on the choice of parameters $(\\alpha, \\beta)$. Note that\n",
    "we use the \"hat\" notation $\\widehat{\\alpha}$ to distinguish the OLS\n",
    "estimate from the (usually unknown) true parameter $\\alpha$. The exact\n",
    "values of $\\widehat{\\alpha}$ and $\\widehat{\\beta}$ will vary depending on the sample \n",
    "size and estimator used as we will see later in this unit.\n",
    "\n",
    "For this simple model, the estimates are given by the expressions\n",
    "$$\n",
    "\\begin{aligned}\n",
    "\\widehat{\\beta} &= \\frac{\\widehat{Cov}(y,x)}{\\widehat{Var}(x)} \\\\\n",
    "\\widehat{\\alpha} &= \\overline{y} - \\widehat{\\beta} \\overline{x}\n",
    "\\end{aligned}\n",
    "$$\n",
    "where $\\widehat{Cov}(\\bullet,\\bullet)$ and $\\widehat{Var}(\\bullet)$ are the *sample* covariance and\n",
    "variance, respectively, and $\\overline{y}$ and $\\overline{x}$ are the sample\n",
    "means of $y$ and $x$. \n",
    "\n",
    "There is a straightforward generalization to\n",
    "the multivariate setting where we have a vector $\\mathbf{x}_i$ of explanatory variables \n",
    "(which usually includes the intercept) and a parameter vector\n",
    "$\\bm{\\beta}$ so that the model is given by\n",
    "$$\n",
    "y_i = \\mathbf{x}_i'\\bm{\\beta} + \\epsilon_i\n",
    "$$\n",
    "If we stack all $\\mathbf{x}_i$ in the matrix $\\mathbf{X}$ and all $y_i$ in \n",
    "the vector $\\mathbf{y}$, the OLS estimate \n",
    "of $\\bm{\\beta}$ is given by the well-known formula\n",
    "$$\n",
    "\\widehat{\\bm{\\beta}} = \\left(\\mathbf{X}'\\mathbf{X}\\right)^{-1} \\mathbf{X}'\\mathbf{y}\n",
    "$$\n",
    "\n",
    "We won't be estimating linear regressions based on this formula and you should never attempt this, as naively implementing such matrix operations can lead to numerical problems. Instead, always use pre-packaged least-squares solvers such as those implemented in NumPy's [`lstsq()`](https://numpy.org/doc/stable/reference/generated/numpy.linalg.lstsq.html) or\n",
    "SciPy's [`lstsq()`](https://docs.scipy.org/doc/scipy/reference/generated/scipy.linalg.lstsq.html)\n",
    "functions. \n",
    "For econometrics and machine learning, it usually makes sense to use linear regression models such as those implemented in \n",
    "[`statsmodels`](https://www.statsmodels.org/stable/regression.html) or\n",
    "[`scikit-learn`](https://scikit-learn.org/stable/modules/generated/sklearn.linear_model.LinearRegression.html),\n",
    "which is what we turn to next."
   ]
  },
  {
   "attachments": {},
   "cell_type": "markdown",
   "metadata": {},
   "source": [
    "***\n",
    "### Univariate linear regressions with scikit-learn\n",
    "\n",
    "We start by fitting the simple linear model\n",
    "$$\n",
    "y_i = \\alpha + \\beta x_i + \\epsilon_i\n",
    "$$\n",
    "using `scikit-learn`. For now, we proceed using synthetically generated data where we know the true relationship, assuming that\n",
    "$$\n",
    "\\begin{aligned}\n",
    "y_i &= 1 + \\frac{1}{2} x_i + \\epsilon_i \\\\\n",
    "\\epsilon_i &\\stackrel{\\text{iid}}{\\sim} N(0, \\sigma^2)\n",
    "\\end{aligned}\n",
    "$$\n",
    "so that the true parameters are $\\alpha = 1$ and $\\beta = \\frac{1}{2}$. The error term $\\epsilon_i$ is assumed to be normally distributed with mean $0$ and variance $\\sigma^2$ which we set to $\\sigma^2 = 0.7^2$ for this example.\n",
    "\n",
    "We generate a sample of $N=50$ observations as follows:"
   ]
  },
  {
   "cell_type": "code",
   "execution_count": 98,
   "metadata": {},
   "outputs": [],
   "source": [
    "import numpy as np\n",
    "from numpy.random import default_rng\n",
    "\n",
    "def create_sample(N, alpha, beta, sigma, rng=None):\n",
    "    \"\"\"\n",
    "    Create sample for univariate linear regression\n",
    "    \"\"\"\n",
    "\n",
    "    # Generate RNG instance with seed 1234\n",
    "    rng = default_rng(seed=1234)\n",
    "\n",
    "    # Use x that are uniformly distributed on [0, 10]\n",
    "    x = rng.uniform(0, 10, size=N)\n",
    "\n",
    "    # Normally distributed errors\n",
    "    epsilon = rng.normal(scale=sigma, size=N)\n",
    "\n",
    "    # Create outcome variable\n",
    "    y = alpha + beta * x + epsilon\n",
    "\n",
    "    return x, y"
   ]
  },
  {
   "cell_type": "code",
   "execution_count": 99,
   "metadata": {},
   "outputs": [],
   "source": [
    "# Sample size\n",
    "N = 50\n",
    "\n",
    "# True model parameters\n",
    "alpha = 1.0\n",
    "beta = 0.5\n",
    "sigma = 0.7\n",
    "\n",
    "# Create sample\n",
    "x, y = create_sample(N=50, alpha=1.0, beta=0.5, sigma=0.7)"
   ]
  },
  {
   "attachments": {},
   "cell_type": "markdown",
   "metadata": {},
   "source": [
    "To fit a linear model, we use the \n",
    "[`LinearRegression`](https://scikit-learn.org/stable/modules/generated/sklearn.linear_model.LinearRegression.html) class provided by `scikit-learn`. Before doing so, we need to import it from `sklearn.linear_model`.\n",
    "Note that most fitting routines in `scikit-learn` expect a *matrix* as opposed to a vector even if the model has only one explanatory variable, so we need to insert an artificial axis to create the matrix `X = x[:, None]`."
   ]
  },
  {
   "cell_type": "code",
   "execution_count": 100,
   "metadata": {},
   "outputs": [],
   "source": [
    "from sklearn.linear_model import LinearRegression\n",
    "\n",
    "# Create LinearRegression object\n",
    "lr = LinearRegression(fit_intercept=True)\n",
    "\n",
    "# fit() expects a two-dimensional object, convert x to N-by-1 matrix\n",
    "X = x[:, None]\n",
    "\n",
    "# Fit model to data\n",
    "lr.fit(X, y)\n",
    "\n",
    "# Predict fitted values\n",
    "yhat = lr.predict(X)"
   ]
  },
  {
   "cell_type": "markdown",
   "metadata": {},
   "source": [
    "Note that `scikit-learn` models usually store the fitted model parameters in the `coef_` attribute (which is an array even if there is only a single explanatory variable). If the model includes an intercept, its fitted value is stored in the attribute `intercept_`:"
   ]
  },
  {
   "cell_type": "code",
   "execution_count": 101,
   "metadata": {},
   "outputs": [
    {
     "name": "stdout",
     "output_type": "stream",
     "text": [
      "Estimated alpha: 1.376\n",
      "Estimated beta: 0.482\n"
     ]
    }
   ],
   "source": [
    "# Extract parameter estimates from LinearRegression object\n",
    "alpha_hat = lr.intercept_\n",
    "beta_hat = lr.coef_[0]\n",
    "\n",
    "print(f'Estimated alpha: {alpha_hat:.3f}')\n",
    "print(f'Estimated beta: {beta_hat:.3f}')"
   ]
  },
  {
   "attachments": {},
   "cell_type": "markdown",
   "metadata": {},
   "source": [
    "The following code visualizes the sample as a scatter plot of $(x_i, y_i)$ and adds the fitted line (in solid orange). Intuitively, for $x=0$ the fitted line has the value $\\widehat{\\alpha}$ (the intercept) and its slope is equal to $\\widehat{\\beta}$. "
   ]
  },
  {
   "cell_type": "code",
   "execution_count": 102,
   "metadata": {},
   "outputs": [
    {
     "data": {
      "text/plain": [
       "Text(0.5, 1.0, 'Univariate linear regression')"
      ]
     },
     "execution_count": 102,
     "metadata": {},
     "output_type": "execute_result"
    },
    {
     "data": {
      "image/png": "[encoded data removed]",
      "text/plain": [
       "<Figure size 500x350 with 1 Axes>"
      ]
     },
     "metadata": {},
     "output_type": "display_data"
    }
   ],
   "source": [
    "import matplotlib.pyplot as plt\n",
    "\n",
    "plt.figure(figsize=(5, 3.5))\n",
    "\n",
    "# Plot true relationship\n",
    "plt.axline(\n",
    "    (0.0, alpha), slope=beta, lw=1.0, ls='--', c='black', \n",
    "    label=r'$y = \\alpha + \\beta x$'\n",
    ")\n",
    "\n",
    "# Plot regression line\n",
    "plt.axline(\n",
    "    (0.0, alpha_hat), slope=beta_hat, lw=1.0, c='darkorange', \n",
    "    label=r'$\\widehat{y} = \\widehat{\\alpha} + \\widehat{\\beta} x$'\n",
    ")\n",
    "\n",
    "# Plot raw data\n",
    "plt.scatter(\n",
    "    x, y, s=20, color='none', edgecolor='steelblue', alpha=1.0, lw=0.75, label='y'\n",
    ")\n",
    "\n",
    "# Plot lines connecting true and predicted values for\n",
    "# each observation\n",
    "for i in range(len(x)):\n",
    "    plt.plot([x[i], x[i]], [y[i], yhat[i]], lw=0.5, ls=':', c='black', alpha=0.9)\n",
    "\n",
    "# Add annotations\n",
    "plt.xlabel('Explanatory variable: x')\n",
    "plt.ylabel(r'Response variable: y, $\\widehat{y}$')\n",
    "plt.axhline(alpha_hat, lw=0.5, c='black')\n",
    "plt.legend(loc='best')\n",
    "plt.yticks((alpha_hat,), (r'$\\widehat{\\alpha}$',))\n",
    "\n",
    "plt.title('Univariate linear regression')"
   ]
  },
  {
   "attachments": {},
   "cell_type": "markdown",
   "metadata": {},
   "source": [
    "The dashed black line shows the true relationship which is known in this synthetic sample, but in general is unknown for real data. For small sample sizes, the true and estimated parameters need not be close as the graph illustrates. The graph also shows the prediction errors as the dotted lines between the sample points $y_i$ and the fitted model. OLS minimizes the sum of the squares of these distances."
   ]
  },
  {
   "cell_type": "markdown",
   "metadata": {},
   "source": [
    "<div class=\"alert alert-info\">\n",
    "<h3> Your turn</h3>\n",
    "<ol>\n",
    "    <li>Recreate and re-estimate the model for samples of size 10, 50, 100, 1000, and 10000.</li>\n",
    "    <li>Print the estimated values of α and β. Can you say something about the deviation from the true values as the sample size increases?</li>\n",
    "</ol>\n",
    "</div>"
   ]
  },
  {
   "cell_type": "code",
   "execution_count": 103,
   "metadata": {},
   "outputs": [
    {
     "name": "stdout",
     "output_type": "stream",
     "text": [
      "Sample size: 10\n",
      "Estimated alpha: 0.851 and Difference form true alpha: 0.149\n",
      "Estimated beta: 0.513 and Difference form true beta: 0.013\n",
      "\n",
      "Sample size: 50\n",
      "Estimated alpha: 1.376 and Difference form true alpha: 0.376\n",
      "Estimated beta: 0.482 and Difference form true beta: 0.018\n",
      "\n",
      "Sample size: 100\n",
      "Estimated alpha: 0.859 and Difference form true alpha: 0.141\n",
      "Estimated beta: 0.538 and Difference form true beta: 0.038\n",
      "\n",
      "Sample size: 1000\n",
      "Estimated alpha: 1.016 and Difference form true alpha: 0.016\n",
      "Estimated beta: 0.495 and Difference form true beta: 0.005\n",
      "\n",
      "Sample size: 10000\n",
      "Estimated alpha: 0.981 and Difference form true alpha: 0.019\n",
      "Estimated beta: 0.502 and Difference form true beta: 0.002\n",
      "\n"
     ]
    }
   ],
   "source": [
    "# True model parameters\n",
    "alpha = 1.0\n",
    "beta = 0.5\n",
    "sigma = 0.7\n",
    "\n",
    "# Recreate and re-estimate the model for samples of size, 10, 50, 100, 1000 and 10_000 using a for loop\n",
    "sample_sizes = [10, 50, 100, 1000, 10_000]\n",
    "\n",
    "for N in sample_sizes:\n",
    "    x, y = create_sample(N, alpha, beta, sigma)\n",
    "    X = x[:, None]\n",
    "    lr.fit(X, y)\n",
    "    alpha_hat = lr.intercept_\n",
    "    beta_hat = lr.coef_[0]\n",
    "    print(f'Sample size: {N}')\n",
    "    print(f'Estimated alpha: {alpha_hat:.3f} and Difference form true alpha: {abs(alpha_hat - alpha):.3f}')\n",
    "    print(f'Estimated beta: {beta_hat:.3f} and Difference form true beta: {abs(beta_hat - beta):.3f}')\n",
    "    print('')\n",
    "\n",
    "# Can you say something about the relationship between sample size and the quality of the estimates?\n",
    "# For low sample sizes it is random how close the estimates are to the true values, but as the sample size increases the estimates become more accurate."
   ]
  },
  {
   "attachments": {},
   "cell_type": "markdown",
   "metadata": {},
   "source": [
    "***\n",
    "### Training and test samples\n",
    "\n",
    "In econometrics, we usually emphasize *inference*, i.e., we are interested in testing a hypothesis about a model parameter, for example whether it is statistically different from zero. Conversely, in machine learning the emphasis is often on prediction, i.e., our goal is to estimate a relationship from a *training* sample and make predictions for new data. Usually, we use a *test* sample that is different from the training data to assess how well our model is able to predict outcomes for new data which has not been used for estimation."
   ]
  },
  {
   "attachments": {},
   "cell_type": "markdown",
   "metadata": {},
   "source": [
    "To demonstrate the use of training and test data sets, we use a simplified variant of the \n",
    "Ames house price data set. The original data set has 2,930 observations on around 80 features (explanatory variables) which are characteristics of houses sold between 2006 and 2010 in Ames, a city of about 60 thousand inhabitants in the middle of Iowa, USA.\n",
    "This is one of the most common data sets used in introductory machine learning classes. See\n",
    "[here](https://jse.amstat.org/v19n3/decock.pdf) for an overview of the data, \n",
    "[here](https://jse.amstat.org/v19n3/decock/DataDocumentation.txt) for a detailed documentation of the original variables,\n",
    "and [here](http://jse.amstat.org/v19n3/decock/AmesHousing.txt) for the original data in tab-separated format.\n",
    "\n",
    "The goal is to use these features to predict the house price (or \"target\" in ML terminology). The above websites provide details on all 80 features."
   ]
  },
  {
   "cell_type": "markdown",
   "metadata": {},
   "source": [
    "We will use a local copy of the simplified data set which contains only a subset of 15 features that are slightly adapted for our purposes."
   ]
  },
  {
   "cell_type": "code",
   "execution_count": 104,
   "metadata": {},
   "outputs": [],
   "source": [
    "# Use the local data/ directory\n",
    "DATA_PATH = '../../data'\n",
    "\n",
    "# Load data directly from GitHub\n",
    "# DATA_PATH = 'https://raw.githubusercontent.com/richardfoltyn/FIE463-V25/main/data'"
   ]
  },
  {
   "cell_type": "code",
   "execution_count": 105,
   "metadata": {},
   "outputs": [
    {
     "name": "stdout",
     "output_type": "stream",
     "text": [
      "<class 'pandas.core.frame.DataFrame'>\n",
      "RangeIndex: 2930 entries, 0 to 2929\n",
      "Data columns (total 16 columns):\n",
      " #   Column            Non-Null Count  Dtype  \n",
      "---  ------            --------------  -----  \n",
      " 0   LotArea           2930 non-null   float64\n",
      " 1   Neighborhood      2930 non-null   object \n",
      " 2   OverallQuality    2930 non-null   int64  \n",
      " 3   OverallCondition  2930 non-null   int64  \n",
      " 4   YearBuilt         2930 non-null   int64  \n",
      " 5   YearRemodeled     2930 non-null   int64  \n",
      " 6   BuildingType      2767 non-null   object \n",
      " 7   CentralAir        2930 non-null   object \n",
      " 8   LivingArea        2930 non-null   float64\n",
      " 9   Bathrooms         2930 non-null   int64  \n",
      " 10  Bedrooms          2930 non-null   int64  \n",
      " 11  Fireplaces        2930 non-null   int64  \n",
      " 12  SalePrice         2930 non-null   float64\n",
      " 13  YearSold          2930 non-null   int64  \n",
      " 14  MonthSold         2930 non-null   int64  \n",
      " 15  HasGarage         2930 non-null   int64  \n",
      "dtypes: float64(3), int64(10), object(3)\n",
      "memory usage: 366.4+ KB\n"
     ]
    }
   ],
   "source": [
    "import pandas as pd\n",
    "\n",
    "file = f'{DATA_PATH}/ames_houses.csv'\n",
    "df = pd.read_csv(file)\n",
    "\n",
    "# List columns present in DataFrame\n",
    "df.info(show_counts=True)"
   ]
  },
  {
   "cell_type": "markdown",
   "metadata": {},
   "source": [
    "In this section, we focus on the columns `SalePrice` which contains the house price in thousands of US dollars. Our goal is to predict this sale price using some other variables from the data. We can use [`corr()`](https://pandas.pydata.org/docs/reference/api/pandas.DataFrame.corr.html) to compute the pairwise correlations of the sale price and all other variables in this data set:"
   ]
  },
  {
   "cell_type": "code",
   "execution_count": 106,
   "metadata": {},
   "outputs": [
    {
     "data": {
      "text/plain": [
       "LotArea             0.266550\n",
       "OverallQuality      0.799261\n",
       "OverallCondition   -0.101694\n",
       "YearBuilt           0.558425\n",
       "YearRemodeled       0.532974\n",
       "LivingArea          0.706780\n",
       "Bathrooms           0.545605\n",
       "Bedrooms            0.143914\n",
       "Fireplaces          0.474555\n",
       "SalePrice           1.000000\n",
       "YearSold           -0.030568\n",
       "MonthSold           0.035261\n",
       "HasGarage           0.225950\n",
       "Name: SalePrice, dtype: float64"
      ]
     },
     "execution_count": 106,
     "metadata": {},
     "output_type": "execute_result"
    }
   ],
   "source": [
    "df.corr(numeric_only=True).loc[\"SalePrice\"]"
   ]
  },
  {
   "cell_type": "code",
   "execution_count": 107,
   "metadata": {},
   "outputs": [
    {
     "data": {
      "text/html": [
       "<div>\n",
       "<style scoped>\n",
       "    .dataframe tbody tr th:only-of-type {\n",
       "        vertical-align: middle;\n",
       "    }\n",
       "\n",
       "    .dataframe tbody tr th {\n",
       "        vertical-align: top;\n",
       "    }\n",
       "\n",
       "    .dataframe thead th {\n",
       "        text-align: right;\n",
       "    }\n",
       "</style>\n",
       "<table border=\"1\" class=\"dataframe\">\n",
       "  <thead>\n",
       "    <tr style=\"text-align: right;\">\n",
       "      <th></th>\n",
       "      <th>LotArea</th>\n",
       "      <th>OverallQuality</th>\n",
       "      <th>OverallCondition</th>\n",
       "      <th>YearBuilt</th>\n",
       "      <th>YearRemodeled</th>\n",
       "      <th>LivingArea</th>\n",
       "      <th>Bathrooms</th>\n",
       "      <th>Bedrooms</th>\n",
       "      <th>Fireplaces</th>\n",
       "      <th>SalePrice</th>\n",
       "      <th>YearSold</th>\n",
       "      <th>MonthSold</th>\n",
       "      <th>HasGarage</th>\n",
       "    </tr>\n",
       "  </thead>\n",
       "  <tbody>\n",
       "    <tr>\n",
       "      <th>LotArea</th>\n",
       "      <td>1.000000</td>\n",
       "      <td>0.097187</td>\n",
       "      <td>-0.034759</td>\n",
       "      <td>0.023257</td>\n",
       "      <td>0.021681</td>\n",
       "      <td>0.285593</td>\n",
       "      <td>0.127434</td>\n",
       "      <td>0.136570</td>\n",
       "      <td>0.256989</td>\n",
       "      <td>0.266550</td>\n",
       "      <td>-0.023087</td>\n",
       "      <td>0.003859</td>\n",
       "      <td>0.073489</td>\n",
       "    </tr>\n",
       "    <tr>\n",
       "      <th>OverallQuality</th>\n",
       "      <td>0.097187</td>\n",
       "      <td>1.000000</td>\n",
       "      <td>-0.094812</td>\n",
       "      <td>0.597027</td>\n",
       "      <td>0.569609</td>\n",
       "      <td>0.570571</td>\n",
       "      <td>0.522263</td>\n",
       "      <td>0.063291</td>\n",
       "      <td>0.393007</td>\n",
       "      <td>0.799261</td>\n",
       "      <td>-0.020719</td>\n",
       "      <td>0.031103</td>\n",
       "      <td>0.249120</td>\n",
       "    </tr>\n",
       "    <tr>\n",
       "      <th>OverallCondition</th>\n",
       "      <td>-0.034759</td>\n",
       "      <td>-0.094812</td>\n",
       "      <td>1.000000</td>\n",
       "      <td>-0.368773</td>\n",
       "      <td>0.047680</td>\n",
       "      <td>-0.115643</td>\n",
       "      <td>-0.214316</td>\n",
       "      <td>-0.006137</td>\n",
       "      <td>-0.031702</td>\n",
       "      <td>-0.101694</td>\n",
       "      <td>0.031207</td>\n",
       "      <td>-0.007295</td>\n",
       "      <td>0.036020</td>\n",
       "    </tr>\n",
       "    <tr>\n",
       "      <th>YearBuilt</th>\n",
       "      <td>0.023257</td>\n",
       "      <td>0.597027</td>\n",
       "      <td>-0.368773</td>\n",
       "      <td>1.000000</td>\n",
       "      <td>0.612095</td>\n",
       "      <td>0.241742</td>\n",
       "      <td>0.469406</td>\n",
       "      <td>-0.055093</td>\n",
       "      <td>0.170672</td>\n",
       "      <td>0.558425</td>\n",
       "      <td>-0.013197</td>\n",
       "      <td>0.014577</td>\n",
       "      <td>0.212696</td>\n",
       "    </tr>\n",
       "    <tr>\n",
       "      <th>YearRemodeled</th>\n",
       "      <td>0.021681</td>\n",
       "      <td>0.569609</td>\n",
       "      <td>0.047680</td>\n",
       "      <td>0.612095</td>\n",
       "      <td>1.000000</td>\n",
       "      <td>0.316867</td>\n",
       "      <td>0.457266</td>\n",
       "      <td>-0.021536</td>\n",
       "      <td>0.133322</td>\n",
       "      <td>0.532974</td>\n",
       "      <td>0.032652</td>\n",
       "      <td>0.018048</td>\n",
       "      <td>0.113929</td>\n",
       "    </tr>\n",
       "    <tr>\n",
       "      <th>LivingArea</th>\n",
       "      <td>0.285593</td>\n",
       "      <td>0.570571</td>\n",
       "      <td>-0.115643</td>\n",
       "      <td>0.241742</td>\n",
       "      <td>0.316867</td>\n",
       "      <td>1.000000</td>\n",
       "      <td>0.630335</td>\n",
       "      <td>0.516819</td>\n",
       "      <td>0.454927</td>\n",
       "      <td>0.706780</td>\n",
       "      <td>-0.026480</td>\n",
       "      <td>0.043650</td>\n",
       "      <td>0.130958</td>\n",
       "    </tr>\n",
       "    <tr>\n",
       "      <th>Bathrooms</th>\n",
       "      <td>0.127434</td>\n",
       "      <td>0.522263</td>\n",
       "      <td>-0.214316</td>\n",
       "      <td>0.469406</td>\n",
       "      <td>0.457266</td>\n",
       "      <td>0.630335</td>\n",
       "      <td>1.000000</td>\n",
       "      <td>0.359489</td>\n",
       "      <td>0.229793</td>\n",
       "      <td>0.545605</td>\n",
       "      <td>-0.004754</td>\n",
       "      <td>0.046032</td>\n",
       "      <td>0.095808</td>\n",
       "    </tr>\n",
       "    <tr>\n",
       "      <th>Bedrooms</th>\n",
       "      <td>0.136570</td>\n",
       "      <td>0.063291</td>\n",
       "      <td>-0.006137</td>\n",
       "      <td>-0.055093</td>\n",
       "      <td>-0.021536</td>\n",
       "      <td>0.516819</td>\n",
       "      <td>0.359489</td>\n",
       "      <td>1.000000</td>\n",
       "      <td>0.076971</td>\n",
       "      <td>0.143914</td>\n",
       "      <td>-0.018008</td>\n",
       "      <td>0.053677</td>\n",
       "      <td>-0.032744</td>\n",
       "    </tr>\n",
       "    <tr>\n",
       "      <th>Fireplaces</th>\n",
       "      <td>0.256989</td>\n",
       "      <td>0.393007</td>\n",
       "      <td>-0.031702</td>\n",
       "      <td>0.170672</td>\n",
       "      <td>0.133322</td>\n",
       "      <td>0.454927</td>\n",
       "      <td>0.229793</td>\n",
       "      <td>0.076971</td>\n",
       "      <td>1.000000</td>\n",
       "      <td>0.474555</td>\n",
       "      <td>-0.007612</td>\n",
       "      <td>0.032152</td>\n",
       "      <td>0.180360</td>\n",
       "    </tr>\n",
       "    <tr>\n",
       "      <th>SalePrice</th>\n",
       "      <td>0.266550</td>\n",
       "      <td>0.799261</td>\n",
       "      <td>-0.101694</td>\n",
       "      <td>0.558425</td>\n",
       "      <td>0.532974</td>\n",
       "      <td>0.706780</td>\n",
       "      <td>0.545605</td>\n",
       "      <td>0.143914</td>\n",
       "      <td>0.474555</td>\n",
       "      <td>1.000000</td>\n",
       "      <td>-0.030568</td>\n",
       "      <td>0.035261</td>\n",
       "      <td>0.225950</td>\n",
       "    </tr>\n",
       "    <tr>\n",
       "      <th>YearSold</th>\n",
       "      <td>-0.023087</td>\n",
       "      <td>-0.020719</td>\n",
       "      <td>0.031207</td>\n",
       "      <td>-0.013197</td>\n",
       "      <td>0.032652</td>\n",
       "      <td>-0.026480</td>\n",
       "      <td>-0.004754</td>\n",
       "      <td>-0.018008</td>\n",
       "      <td>-0.007612</td>\n",
       "      <td>-0.030568</td>\n",
       "      <td>1.000000</td>\n",
       "      <td>-0.155554</td>\n",
       "      <td>-0.011398</td>\n",
       "    </tr>\n",
       "    <tr>\n",
       "      <th>MonthSold</th>\n",
       "      <td>0.003859</td>\n",
       "      <td>0.031103</td>\n",
       "      <td>-0.007295</td>\n",
       "      <td>0.014577</td>\n",
       "      <td>0.018048</td>\n",
       "      <td>0.043650</td>\n",
       "      <td>0.046032</td>\n",
       "      <td>0.053677</td>\n",
       "      <td>0.032152</td>\n",
       "      <td>0.035261</td>\n",
       "      <td>-0.155554</td>\n",
       "      <td>1.000000</td>\n",
       "      <td>0.018941</td>\n",
       "    </tr>\n",
       "    <tr>\n",
       "      <th>HasGarage</th>\n",
       "      <td>0.073489</td>\n",
       "      <td>0.249120</td>\n",
       "      <td>0.036020</td>\n",
       "      <td>0.212696</td>\n",
       "      <td>0.113929</td>\n",
       "      <td>0.130958</td>\n",
       "      <td>0.095808</td>\n",
       "      <td>-0.032744</td>\n",
       "      <td>0.180360</td>\n",
       "      <td>0.225950</td>\n",
       "      <td>-0.011398</td>\n",
       "      <td>0.018941</td>\n",
       "      <td>1.000000</td>\n",
       "    </tr>\n",
       "  </tbody>\n",
       "</table>\n",
       "</div>"
      ],
      "text/plain": [
       "                   LotArea  OverallQuality  OverallCondition  YearBuilt  \\\n",
       "LotArea           1.000000        0.097187         -0.034759   0.023257   \n",
       "OverallQuality    0.097187        1.000000         -0.094812   0.597027   \n",
       "OverallCondition -0.034759       -0.094812          1.000000  -0.368773   \n",
       "YearBuilt         0.023257        0.597027         -0.368773   1.000000   \n",
       "YearRemodeled     0.021681        0.569609          0.047680   0.612095   \n",
       "LivingArea        0.285593        0.570571         -0.115643   0.241742   \n",
       "Bathrooms         0.127434        0.522263         -0.214316   0.469406   \n",
       "Bedrooms          0.136570        0.063291         -0.006137  -0.055093   \n",
       "Fireplaces        0.256989        0.393007         -0.031702   0.170672   \n",
       "SalePrice         0.266550        0.799261         -0.101694   0.558425   \n",
       "YearSold         -0.023087       -0.020719          0.031207  -0.013197   \n",
       "MonthSold         0.003859        0.031103         -0.007295   0.014577   \n",
       "HasGarage         0.073489        0.249120          0.036020   0.212696   \n",
       "\n",
       "                  YearRemodeled  LivingArea  Bathrooms  Bedrooms  Fireplaces  \\\n",
       "LotArea                0.021681    0.285593   0.127434  0.136570    0.256989   \n",
       "OverallQuality         0.569609    0.570571   0.522263  0.063291    0.393007   \n",
       "OverallCondition       0.047680   -0.115643  -0.214316 -0.006137   -0.031702   \n",
       "YearBuilt              0.612095    0.241742   0.469406 -0.055093    0.170672   \n",
       "YearRemodeled          1.000000    0.316867   0.457266 -0.021536    0.133322   \n",
       "LivingArea             0.316867    1.000000   0.630335  0.516819    0.454927   \n",
       "Bathrooms              0.457266    0.630335   1.000000  0.359489    0.229793   \n",
       "Bedrooms              -0.021536    0.516819   0.359489  1.000000    0.076971   \n",
       "Fireplaces             0.133322    0.454927   0.229793  0.076971    1.000000   \n",
       "SalePrice              0.532974    0.706780   0.545605  0.143914    0.474555   \n",
       "YearSold               0.032652   -0.026480  -0.004754 -0.018008   -0.007612   \n",
       "MonthSold              0.018048    0.043650   0.046032  0.053677    0.032152   \n",
       "HasGarage              0.113929    0.130958   0.095808 -0.032744    0.180360   \n",
       "\n",
       "                  SalePrice  YearSold  MonthSold  HasGarage  \n",
       "LotArea            0.266550 -0.023087   0.003859   0.073489  \n",
       "OverallQuality     0.799261 -0.020719   0.031103   0.249120  \n",
       "OverallCondition  -0.101694  0.031207  -0.007295   0.036020  \n",
       "YearBuilt          0.558425 -0.013197   0.014577   0.212696  \n",
       "YearRemodeled      0.532974  0.032652   0.018048   0.113929  \n",
       "LivingArea         0.706780 -0.026480   0.043650   0.130958  \n",
       "Bathrooms          0.545605 -0.004754   0.046032   0.095808  \n",
       "Bedrooms           0.143914 -0.018008   0.053677  -0.032744  \n",
       "Fireplaces         0.474555 -0.007612   0.032152   0.180360  \n",
       "SalePrice          1.000000 -0.030568   0.035261   0.225950  \n",
       "YearSold          -0.030568  1.000000  -0.155554  -0.011398  \n",
       "MonthSold          0.035261 -0.155554   1.000000   0.018941  \n",
       "HasGarage          0.225950 -0.011398   0.018941   1.000000  "
      ]
     },
     "execution_count": 107,
     "metadata": {},
     "output_type": "execute_result"
    }
   ],
   "source": [
    "df.corr(numeric_only=True)"
   ]
  },
  {
   "cell_type": "markdown",
   "metadata": {},
   "source": [
    "As you can see, the correlation is highest with the living area (`LivingArea`) in $m^2$ (for this exercise, we ignore `OverallQuality` which is a categorical variable)."
   ]
  },
  {
   "attachments": {},
   "cell_type": "markdown",
   "metadata": {},
   "source": [
    " To get some intuition for the data, we look at some descriptive statistics:"
   ]
  },
  {
   "cell_type": "code",
   "execution_count": 108,
   "metadata": {},
   "outputs": [
    {
     "data": {
      "text/html": [
       "<div>\n",
       "<style scoped>\n",
       "    .dataframe tbody tr th:only-of-type {\n",
       "        vertical-align: middle;\n",
       "    }\n",
       "\n",
       "    .dataframe tbody tr th {\n",
       "        vertical-align: top;\n",
       "    }\n",
       "\n",
       "    .dataframe thead th {\n",
       "        text-align: right;\n",
       "    }\n",
       "</style>\n",
       "<table border=\"1\" class=\"dataframe\">\n",
       "  <thead>\n",
       "    <tr style=\"text-align: right;\">\n",
       "      <th></th>\n",
       "      <th>SalePrice</th>\n",
       "      <th>LivingArea</th>\n",
       "    </tr>\n",
       "  </thead>\n",
       "  <tbody>\n",
       "    <tr>\n",
       "      <th>count</th>\n",
       "      <td>2930.000000</td>\n",
       "      <td>2930.000000</td>\n",
       "    </tr>\n",
       "    <tr>\n",
       "      <th>mean</th>\n",
       "      <td>180.796382</td>\n",
       "      <td>139.311980</td>\n",
       "    </tr>\n",
       "    <tr>\n",
       "      <th>std</th>\n",
       "      <td>79.887027</td>\n",
       "      <td>46.958135</td>\n",
       "    </tr>\n",
       "    <tr>\n",
       "      <th>min</th>\n",
       "      <td>12.800000</td>\n",
       "      <td>31.000000</td>\n",
       "    </tr>\n",
       "    <tr>\n",
       "      <th>25%</th>\n",
       "      <td>129.500000</td>\n",
       "      <td>104.600000</td>\n",
       "    </tr>\n",
       "    <tr>\n",
       "      <th>50%</th>\n",
       "      <td>160.000000</td>\n",
       "      <td>134.000000</td>\n",
       "    </tr>\n",
       "    <tr>\n",
       "      <th>75%</th>\n",
       "      <td>213.500000</td>\n",
       "      <td>161.875000</td>\n",
       "    </tr>\n",
       "    <tr>\n",
       "      <th>max</th>\n",
       "      <td>755.000000</td>\n",
       "      <td>524.100000</td>\n",
       "    </tr>\n",
       "  </tbody>\n",
       "</table>\n",
       "</div>"
      ],
      "text/plain": [
       "         SalePrice   LivingArea\n",
       "count  2930.000000  2930.000000\n",
       "mean    180.796382   139.311980\n",
       "std      79.887027    46.958135\n",
       "min      12.800000    31.000000\n",
       "25%     129.500000   104.600000\n",
       "50%     160.000000   134.000000\n",
       "75%     213.500000   161.875000\n",
       "max     755.000000   524.100000"
      ]
     },
     "execution_count": 108,
     "metadata": {},
     "output_type": "execute_result"
    }
   ],
   "source": [
    "df[['SalePrice', 'LivingArea']].describe()"
   ]
  },
  {
   "attachments": {},
   "cell_type": "markdown",
   "metadata": {},
   "source": [
    "For our analysis, we first remove a handful of outliers and then extract the target (`SalePrice`) and the features (`LivingArea`) from the data set."
   ]
  },
  {
   "cell_type": "code",
   "execution_count": 109,
   "metadata": {},
   "outputs": [],
   "source": [
    "# Remove outliers in terms of living area\n",
    "df = df.query('LivingArea <= 350')\n",
    "\n",
    "features = ['LivingArea']\n",
    "target = 'SalePrice'\n",
    "\n",
    "# Create separate Series / DataFrames for target and features\n",
    "y = df[target]\n",
    "X = df[features]"
   ]
  },
  {
   "cell_type": "markdown",
   "metadata": {},
   "source": [
    "#### Automatically creating training and test samples\n",
    "\n",
    "Instead of splitting the sample manually into training and test sub-samples, we use `scikit-learn`'s\n",
    "[`train_test_split()`](https://scikit-learn.org/stable/modules/generated/sklearn.model_selection.train_test_split.html)\n",
    "to automate this task. We need to either specify the `test_size` or `train_size` arguments to determine how the sample should be (randomly) split. The `random_state` argument is used to seed the RNG and get reproducible results:"
   ]
  },
  {
   "cell_type": "code",
   "execution_count": 110,
   "metadata": {},
   "outputs": [],
   "source": [
    "from sklearn.model_selection import train_test_split\n",
    "\n",
    "# fraction of data used for test sample\n",
    "test_size = 0.3 # 30% of data used for test sample\n",
    "\n",
    "# Split into training / test samples\n",
    "X_train, X_test, y_train, y_test = train_test_split(\n",
    "    X, y,\n",
    "    test_size=test_size,        # Fraction used for test sample\n",
    "    random_state=1234,          # Seed for random number generator\n",
    ")"
   ]
  },
  {
   "attachments": {},
   "cell_type": "markdown",
   "metadata": {},
   "source": [
    "Once we have split the sample, we estimate the model on the training sample."
   ]
  },
  {
   "cell_type": "code",
   "execution_count": 111,
   "metadata": {},
   "outputs": [
    {
     "name": "stdout",
     "output_type": "stream",
     "text": [
      "Regression coefficients\n",
      "  Intercept: 8.59\n",
      "  Slope: 1.23\n"
     ]
    }
   ],
   "source": [
    "from sklearn.linear_model import LinearRegression\n",
    "\n",
    "# Fit model on training sample\n",
    "lr = LinearRegression()\n",
    "lr.fit(X_train, y_train)\n",
    "\n",
    "# Extract estimated parameters\n",
    "intercept = lr.intercept_\n",
    "slope = lr.coef_[0]\n",
    "\n",
    "print('Regression coefficients')\n",
    "print(f'  Intercept: {intercept:.2f}')\n",
    "print(f'  Slope: {slope:.2f}')"
   ]
  },
  {
   "attachments": {},
   "cell_type": "markdown",
   "metadata": {},
   "source": [
    "The fitted coefficients show that for each additional square meter of living area, the sale price on average increases by approximately $1,200.\n",
    "\n",
    "The following code creates a scatter plot showing the training and test samples and adds the fitted line."
   ]
  },
  {
   "cell_type": "code",
   "execution_count": 112,
   "metadata": {},
   "outputs": [
    {
     "data": {
      "image/png": "[encoded data removed]",
      "text/plain": [
       "<Figure size 500x350 with 1 Axes>"
      ]
     },
     "metadata": {},
     "output_type": "display_data"
    }
   ],
   "source": [
    "plt.subplots(figsize=(5, 3.5))\n",
    "\n",
    "# Plot regression line\n",
    "plt.axline((0.0, intercept), slope=slope, lw=1.5, c='black', \n",
    "    label=r'$\\widehat{y} = \\widehat{\\alpha} + \\widehat{\\beta} x$')\n",
    "\n",
    "# Plot training data\n",
    "plt.scatter(X_train, y_train, s=15, color='none', edgecolor='steelblue', \n",
    "    alpha=0.8, lw=0.5, label=r'$y_{train}$')\n",
    "\n",
    "# Plot test data\n",
    "plt.scatter(X_test, y_test, s=20, color='none', edgecolor='darkorange', \n",
    "    alpha=1.0, lw=0.5, label=r'$y_{test}$')\n",
    "\n",
    "# Add annotations\n",
    "plt.xlabel('Living area in $m^2$')\n",
    "plt.ylabel(r'Sales price in thousand $')\n",
    "plt.title('Fitted univariate linear regression')\n",
    "_= plt.legend(loc='best')\n"
   ]
  },
  {
   "attachments": {},
   "cell_type": "markdown",
   "metadata": {},
   "source": [
    "Since this is a univariate model, we can also plot the prediction error against the explanatory variable $x$. For this, we first need to compute the predicted values in the test sample and then the prediction error for each observations,\n",
    "$$\n",
    "\\epsilon_i = y_i - \\widehat{y}_i = y_i - \\widehat{\\alpha} - \\widehat{\\beta} x_i\n",
    "$$\n",
    "for all $i$ that are part of the test sample."
   ]
  },
  {
   "cell_type": "code",
   "execution_count": 113,
   "metadata": {},
   "outputs": [],
   "source": [
    "# Predict model for test sample\n",
    "y_test_hat = lr.predict(X_test)\n",
    "\n",
    "# Prediction error for test sample\n",
    "error = y_test - y_test_hat"
   ]
  },
  {
   "cell_type": "markdown",
   "metadata": {},
   "source": [
    "We can now plot the predition errors against the living area:"
   ]
  },
  {
   "cell_type": "code",
   "execution_count": 114,
   "metadata": {},
   "outputs": [
    {
     "data": {
      "text/plain": [
       "<matplotlib.lines.Line2D at 0x2204e1ad580>"
      ]
     },
     "execution_count": 114,
     "metadata": {},
     "output_type": "execute_result"
    },
    {
     "data": {
      "image/png": "[encoded data removed]",
      "text/plain": [
       "<Figure size 500x350 with 1 Axes>"
      ]
     },
     "metadata": {},
     "output_type": "display_data"
    }
   ],
   "source": [
    "plt.figure(figsize=(5, 3.5))\n",
    "\n",
    "# Scatter plot of prediction errors\n",
    "plt.scatter(X_test, error, s=20, color='none', edgecolor='red', alpha=1.0, lw=0.75)\n",
    "\n",
    "# Add annotations\n",
    "plt.xlabel('Living area in $m^2$')\n",
    "plt.ylabel(r'Thousand $')\n",
    "plt.title('Prediction errors in test sample')\n",
    "plt.axhline(0.0, lw=0.75, ls='--', c='black')"
   ]
  },
  {
   "attachments": {},
   "cell_type": "markdown",
   "metadata": {},
   "source": [
    "As the graph shows, the errors are reasonably centred around $0$ as we would expect from a model that contains an intercept. However, the error variance seems to be increasing in $x$ which indicates that our model might be missing some explanatory variables."
   ]
  },
  {
   "attachments": {},
   "cell_type": "markdown",
   "metadata": {},
   "source": [
    "***\n",
    "## Multivariate linear regression\n",
    "\n",
    "### Data with several different explanatory variables\n",
    "\n",
    "Multivariate (or multiple) linear regression extends the simple model to multiple explanatory variables or regressors. To illustrate, we'll load the Ames housing data again but use several (continuous) explanatory variables."
   ]
  },
  {
   "cell_type": "code",
   "execution_count": 115,
   "metadata": {},
   "outputs": [],
   "source": [
    "# Use local data/ directory\n",
    "DATA_PATH = '../../data'\n",
    "\n",
    "# Load data directly from GitHub\n",
    "# DATA_PATH = 'https://raw.githubusercontent.com/richardfoltyn/FIE463-V25/main/data'"
   ]
  },
  {
   "cell_type": "code",
   "execution_count": 116,
   "metadata": {},
   "outputs": [
    {
     "name": "stdout",
     "output_type": "stream",
     "text": [
      "<class 'pandas.core.frame.DataFrame'>\n",
      "RangeIndex: 2930 entries, 0 to 2929\n",
      "Data columns (total 16 columns):\n",
      " #   Column            Non-Null Count  Dtype  \n",
      "---  ------            --------------  -----  \n",
      " 0   LotArea           2930 non-null   float64\n",
      " 1   Neighborhood      2930 non-null   object \n",
      " 2   OverallQuality    2930 non-null   int64  \n",
      " 3   OverallCondition  2930 non-null   int64  \n",
      " 4   YearBuilt         2930 non-null   int64  \n",
      " 5   YearRemodeled     2930 non-null   int64  \n",
      " 6   BuildingType      2767 non-null   object \n",
      " 7   CentralAir        2930 non-null   object \n",
      " 8   LivingArea        2930 non-null   float64\n",
      " 9   Bathrooms         2930 non-null   int64  \n",
      " 10  Bedrooms          2930 non-null   int64  \n",
      " 11  Fireplaces        2930 non-null   int64  \n",
      " 12  SalePrice         2930 non-null   float64\n",
      " 13  YearSold          2930 non-null   int64  \n",
      " 14  MonthSold         2930 non-null   int64  \n",
      " 15  HasGarage         2930 non-null   int64  \n",
      "dtypes: float64(3), int64(10), object(3)\n",
      "memory usage: 366.4+ KB\n"
     ]
    }
   ],
   "source": [
    "import pandas as pd\n",
    "\n",
    "# Load data from CSV file\n",
    "file = f'{DATA_PATH}/ames_houses.csv'\n",
    "df = pd.read_csv(file)\n",
    "\n",
    "# Print info about columns contained in DataFrame\n",
    "df.info(show_counts=True)"
   ]
  },
  {
   "attachments": {},
   "cell_type": "markdown",
   "metadata": {},
   "source": [
    "Compared to our earlier analysis, we'll now add the lot area (in $m^2$) as a feature to the model, which is thus given by\n",
    "$$\n",
    "SalePrice_i = \\alpha + \\beta_0 LivingArea_i + \\beta_1 LotArea_i + \\epsilon_i\n",
    "$$\n",
    "\n",
    "We first inspect the descriptive statistics of the newly added explanatory variable to get some idea about its distribution."
   ]
  },
  {
   "cell_type": "code",
   "execution_count": 117,
   "metadata": {},
   "outputs": [
    {
     "data": {
      "text/html": [
       "<div>\n",
       "<style scoped>\n",
       "    .dataframe tbody tr th:only-of-type {\n",
       "        vertical-align: middle;\n",
       "    }\n",
       "\n",
       "    .dataframe tbody tr th {\n",
       "        vertical-align: top;\n",
       "    }\n",
       "\n",
       "    .dataframe thead th {\n",
       "        text-align: right;\n",
       "    }\n",
       "</style>\n",
       "<table border=\"1\" class=\"dataframe\">\n",
       "  <thead>\n",
       "    <tr style=\"text-align: right;\">\n",
       "      <th></th>\n",
       "      <th>SalePrice</th>\n",
       "      <th>LivingArea</th>\n",
       "      <th>LotArea</th>\n",
       "    </tr>\n",
       "  </thead>\n",
       "  <tbody>\n",
       "    <tr>\n",
       "      <th>count</th>\n",
       "      <td>2930.000000</td>\n",
       "      <td>2930.000000</td>\n",
       "      <td>2930.000000</td>\n",
       "    </tr>\n",
       "    <tr>\n",
       "      <th>mean</th>\n",
       "      <td>180.796382</td>\n",
       "      <td>139.311980</td>\n",
       "      <td>942.681877</td>\n",
       "    </tr>\n",
       "    <tr>\n",
       "      <th>std</th>\n",
       "      <td>79.887027</td>\n",
       "      <td>46.958135</td>\n",
       "      <td>732.005230</td>\n",
       "    </tr>\n",
       "    <tr>\n",
       "      <th>min</th>\n",
       "      <td>12.800000</td>\n",
       "      <td>31.000000</td>\n",
       "      <td>120.800000</td>\n",
       "    </tr>\n",
       "    <tr>\n",
       "      <th>25%</th>\n",
       "      <td>129.500000</td>\n",
       "      <td>104.600000</td>\n",
       "      <td>691.125000</td>\n",
       "    </tr>\n",
       "    <tr>\n",
       "      <th>50%</th>\n",
       "      <td>160.000000</td>\n",
       "      <td>134.000000</td>\n",
       "      <td>876.600000</td>\n",
       "    </tr>\n",
       "    <tr>\n",
       "      <th>75%</th>\n",
       "      <td>213.500000</td>\n",
       "      <td>161.875000</td>\n",
       "      <td>1073.425000</td>\n",
       "    </tr>\n",
       "    <tr>\n",
       "      <th>max</th>\n",
       "      <td>755.000000</td>\n",
       "      <td>524.100000</td>\n",
       "      <td>19995.000000</td>\n",
       "    </tr>\n",
       "  </tbody>\n",
       "</table>\n",
       "</div>"
      ],
      "text/plain": [
       "         SalePrice   LivingArea       LotArea\n",
       "count  2930.000000  2930.000000   2930.000000\n",
       "mean    180.796382   139.311980    942.681877\n",
       "std      79.887027    46.958135    732.005230\n",
       "min      12.800000    31.000000    120.800000\n",
       "25%     129.500000   104.600000    691.125000\n",
       "50%     160.000000   134.000000    876.600000\n",
       "75%     213.500000   161.875000   1073.425000\n",
       "max     755.000000   524.100000  19995.000000"
      ]
     },
     "execution_count": 117,
     "metadata": {},
     "output_type": "execute_result"
    }
   ],
   "source": [
    "df[['SalePrice', 'LivingArea', 'LotArea']].describe()"
   ]
  },
  {
   "cell_type": "markdown",
   "metadata": {},
   "source": [
    "We see that as with the living area, there are some quite large values for the lot area. We can visualize these in the scatter plot:"
   ]
  },
  {
   "cell_type": "code",
   "execution_count": 118,
   "metadata": {},
   "outputs": [
    {
     "data": {
      "text/plain": [
       "<Axes: xlabel='LivingArea', ylabel='LotArea'>"
      ]
     },
     "execution_count": 118,
     "metadata": {},
     "output_type": "execute_result"
    },
    {
     "data": {
      "image/png": "[encoded data removed]",
      "text/plain": [
       "<Figure size 640x480 with 1 Axes>"
      ]
     },
     "metadata": {},
     "output_type": "display_data"
    }
   ],
   "source": [
    "# Scatter plot of living area and lot area\n",
    "df.plot.scatter(x='LivingArea', y='LotArea', s=10, alpha=0.5)"
   ]
  },
  {
   "cell_type": "markdown",
   "metadata": {},
   "source": [
    "For our analysis, we drop observations with a lot area above 5,000m² as well as properties with a living area of more than 350m², as we did earlier.\n",
    "\n",
    "We define the function below to load a fresh copy of the Ames data, apply the sample restrictions and return the feature matrix and target variables. We'll use this function throughout the remained of the section."
   ]
  },
  {
   "cell_type": "code",
   "execution_count": 119,
   "metadata": {},
   "outputs": [],
   "source": [
    "import pandas as pd\n",
    "\n",
    "def load_ames_data(features, target):\n",
    "    \"\"\"\n",
    "    Load Ames housing data from CSV file and select features and target variable\n",
    "    \"\"\"\n",
    "\n",
    "    # Load data from CSV file\n",
    "    file = f'{DATA_PATH}/ames_houses.csv'\n",
    "    df = pd.read_csv(file)\n",
    "\n",
    "    # Remove extreme outliers in terms of living area or lot area\n",
    "    df = df.query('LivingArea <= 350 & LotArea <= 5000')\n",
    "\n",
    "    # Drop any missing obs in selected columns\n",
    "    columns = features + [target]\n",
    "    df = df.dropna(subset=columns)\n",
    "\n",
    "    # Select features and target variable\n",
    "    X = df[features]\n",
    "    y = df[target]\n",
    "\n",
    "    return X, y"
   ]
  },
  {
   "cell_type": "code",
   "execution_count": 120,
   "metadata": {},
   "outputs": [],
   "source": [
    "features = ['LivingArea', 'LotArea']\n",
    "target = 'SalePrice'\n",
    "\n",
    "X, y = load_ames_data(features, target)"
   ]
  },
  {
   "attachments": {},
   "cell_type": "markdown",
   "metadata": {},
   "source": [
    "We can now split the data into training and test samples:"
   ]
  },
  {
   "cell_type": "code",
   "execution_count": 121,
   "metadata": {},
   "outputs": [],
   "source": [
    "from sklearn.model_selection import train_test_split\n",
    "\n",
    "X_train, X_test, y_train, y_test = train_test_split(\n",
    "    X, y, test_size=0.3, random_state=1234\n",
    ")"
   ]
  },
  {
   "cell_type": "markdown",
   "metadata": {},
   "source": [
    "Fitting the model on the training data is the same as in the univariate case:"
   ]
  },
  {
   "cell_type": "code",
   "execution_count": 122,
   "metadata": {},
   "outputs": [
    {
     "name": "stdout",
     "output_type": "stream",
     "text": [
      "Intercept: -4.88926070624683\n",
      "Coefficients: [1.15441095 0.0275464 ]\n"
     ]
    }
   ],
   "source": [
    "from sklearn.linear_model import LinearRegression\n",
    "\n",
    "lr = LinearRegression()\n",
    "lr.fit(X_train, y_train)\n",
    "\n",
    "print(f'Intercept: {lr.intercept_}')\n",
    "print(f'Coefficients: {lr.coef_}')"
   ]
  },
  {
   "attachments": {},
   "cell_type": "markdown",
   "metadata": {},
   "source": [
    "The coefficient array `coef_` now stores two values, the first one for `LivingArea` and the second one for `LotArea`. These coefficients are in the same order as the features in the feature matrix $\\mathbf{X}$ passed when fitting the model.\n",
    "\n",
    "Since we now have multiple explanatory variables, we can no longer easily plot prediction errors against one feature unless we fix the remaining features at some value or use 3D scatter plots. The latter of course does not help if we have more than two explanatory variables. Instead, we can plot the prediction errors against $y$ which we do below."
   ]
  },
  {
   "cell_type": "code",
   "execution_count": 123,
   "metadata": {},
   "outputs": [],
   "source": [
    "# Predict values in test sample\n",
    "y_test_hat = lr.predict(X_test)\n",
    "\n",
    "# Compute prediction errors\n",
    "errors = y_test - y_test_hat"
   ]
  },
  {
   "cell_type": "markdown",
   "metadata": {},
   "source": [
    "We can now plot these prediction errors against the target $y$:"
   ]
  },
  {
   "cell_type": "code",
   "execution_count": 124,
   "metadata": {},
   "outputs": [
    {
     "data": {
      "text/plain": [
       "Text(0, 0.5, 'Thousand $')"
      ]
     },
     "execution_count": 124,
     "metadata": {},
     "output_type": "execute_result"
    },
    {
     "data": {
      "image/png": "[encoded data removed]",
      "text/plain": [
       "<Figure size 640x480 with 1 Axes>"
      ]
     },
     "metadata": {},
     "output_type": "display_data"
    }
   ],
   "source": [
    "import matplotlib.pyplot as plt\n",
    "\n",
    "plt.scatter(y_test, errors, s=20, lw=0.75, color='none', edgecolor='red')\n",
    "plt.axhline(0.0, lw=0.75, ls='--', c='black')\n",
    "plt.title('Prediction errors in test sample')\n",
    "plt.xlabel(r'$y_{test}$')\n",
    "plt.ylabel('Thousand $')"
   ]
  },
  {
   "attachments": {},
   "cell_type": "markdown",
   "metadata": {},
   "source": [
    "The scatter plot indicates that the prediction errors differ systematically for different levels of $y$. The model on average overpredicts the sale price for low $y$ (hence the error is negative) and underpredicts the price for large $y$ (hence the error is positive)."
   ]
  },
  {
   "attachments": {},
   "cell_type": "markdown",
   "metadata": {},
   "source": [
    "***\n",
    "### Creating polynomial features\n",
    "\n",
    "Instead of including additional explanatory variables, we can also create additional terms that are functions of variables. The most common way to do this is to include a polynomial in $x$ (or polynomials in multiple explanatory variables). Thus a simple model could be turned into a model with several terms such as\n",
    "$$\n",
    "y_i = \\alpha + \\beta_0 x_i + \\beta_1 x_i^2 + \\beta_2 x_i^3 + \\epsilon_i\n",
    "$$\n",
    "where $y$ is modelled as a cubic polynomial in $x$. Note that this model is still called *linear* despite the fact that the mapping between $x$ and $y$ is obviously *non-linear*. However, what matters for estimation is that the model is linear in the model parameters $(\\alpha, \\beta_0, \\beta_1, \\beta_2)$. Linear models are thus quite flexible since they can include almost arbitrary non-linear transformations of explanatory and response variables."
   ]
  },
  {
   "attachments": {},
   "cell_type": "markdown",
   "metadata": {},
   "source": [
    "To illustrate, we extend the previous model which included `LivingArea` and `LotArea` to now include a polynomial of degree 2 in both variables (often the terms \"degree\" and \"order\" are used interchangeably, so this might be called a 2nd-order polynomial). Specifically, if we have two variables $x$ and $z$, such a polynomial would include all terms with exponents summing up to 2 or less:\n",
    "$$\n",
    "p(x,z) = \\beta_0 + \\beta_1 x + \\beta_2 z + \\beta_3 x^2 + \\beta_4 x \\cdot z + \\beta_5 z^2\n",
    "$$\n",
    "We can use these six terms as explanatory variables in our linear models and estimate the parameters $\\beta_0,\\dots,\\beta_5$.\n",
    "\n",
    "It would be quite error-prone to create such polynomials ourselves, so we are going to use `scikit-learn`'s \n",
    "[`PolynomialFeatures`](https://scikit-learn.org/stable/modules/generated/sklearn.preprocessing.PolynomialFeatures.html) class to accomplish this tasks. As the name implies, this transformation creates new features that are polynomials of a given input matrix.\n",
    "We can request that the resulting data should include an intercept (\"bias\") by specifying `include_bias=True`. Note that if an intercept is included in the feature matrix, we should fit the linear model *without* an intercept (by specifying `fit_intercept=False`) as otherwise the model would contain two constant terms."
   ]
  },
  {
   "cell_type": "code",
   "execution_count": 125,
   "metadata": {},
   "outputs": [],
   "source": [
    "from sklearn.preprocessing import PolynomialFeatures\n",
    "\n",
    "# Create polynomials of degree 2 or less, including an intercept (bias)\n",
    "poly = PolynomialFeatures(degree=2, include_bias=True)\n",
    "Xpoly_train = poly.fit_transform(X_train)"
   ]
  },
  {
   "attachments": {},
   "cell_type": "markdown",
   "metadata": {},
   "source": [
    "The `powers_` attribute stores the list of exponents for each generated feature: "
   ]
  },
  {
   "cell_type": "code",
   "execution_count": 126,
   "metadata": {},
   "outputs": [
    {
     "data": {
      "text/plain": [
       "array([[0, 0],\n",
       "       [1, 0],\n",
       "       [0, 1],\n",
       "       [2, 0],\n",
       "       [1, 1],\n",
       "       [0, 2]])"
      ]
     },
     "execution_count": 126,
     "metadata": {},
     "output_type": "execute_result"
    }
   ],
   "source": [
    "# print polynomial exponents\n",
    "poly.powers_"
   ]
  },
  {
   "cell_type": "markdown",
   "metadata": {},
   "source": [
    "The above output tells us that the first feature was constructed as $\\mathbf{X}_{(1)}^0 + \\mathbf{X}_{(2)}^0$ since the first row of exponents is `[0, 0]` and is thus the intercept, while the second feature is given by \n",
    "$\\mathbf{X}_{(1)}^1 + \\mathbf{X}_{(2)}^0 = \\mathbf{X}_{(1)}$, where the notation $\\mathbf{X}_{(i)}$ refers to the $i$-th column of the input matrix $\\mathbf{X}$.\n",
    "\n",
    "Now that we have transformed the input matrix $\\mathbf{X}$, we can estimate the linear model on the expanded feature matrix as before (adding `fit_intercept=False`):"
   ]
  },
  {
   "cell_type": "code",
   "execution_count": 127,
   "metadata": {},
   "outputs": [
    {
     "name": "stdout",
     "output_type": "stream",
     "text": [
      "Intercept: 0.0\n",
      "Coefficients: [ 1.58390691e+01  1.08210136e+00 -5.69279846e-03 -9.87407071e-04\n",
      "  3.65461705e-04 -8.12934055e-06]\n"
     ]
    }
   ],
   "source": [
    "# Fit linear regression to polynomial features\n",
    "lr = LinearRegression(fit_intercept=False)\n",
    "lr.fit(Xpoly_train, y_train)\n",
    "\n",
    "print(f'Intercept: {lr.intercept_}')\n",
    "print(f'Coefficients: {lr.coef_}')"
   ]
  },
  {
   "attachments": {},
   "cell_type": "markdown",
   "metadata": {},
   "source": [
    "The fitted model has 6 coefficients and the intercept is 0 as the `LinearRegression` model did not explicitly included one.\n",
    "\n",
    "As before, we plot the prediction errors as a function of the response variable. Before doing this, it is crucial to also transform the original explanatory variables in the test data set using the same polynomial transformation. We can achieve this by using the `transform()` method of the `poly` object we stored from earlier:"
   ]
  },
  {
   "cell_type": "code",
   "execution_count": 128,
   "metadata": {},
   "outputs": [],
   "source": [
    "# Predict values in test sample, applying the same polynomial to\n",
    "# explanatory variables in test sample.\n",
    "Xpoly_test = poly.transform(X_test)\n",
    "y_test_hat = lr.predict(Xpoly_test)\n",
    "\n",
    "# Compute prediction errors\n",
    "errors = y_test - y_test_hat"
   ]
  },
  {
   "cell_type": "markdown",
   "metadata": {},
   "source": [
    "As before, we plot the prediction errors against the target $y$ in the test sample:"
   ]
  },
  {
   "cell_type": "code",
   "execution_count": 129,
   "metadata": {},
   "outputs": [
    {
     "data": {
      "text/plain": [
       "Text(0.5, 1.0, 'Prediction errors in test sample')"
      ]
     },
     "execution_count": 129,
     "metadata": {},
     "output_type": "execute_result"
    },
    {
     "data": {
      "image/png": "[encoded data removed]",
      "text/plain": [
       "<Figure size 640x480 with 1 Axes>"
      ]
     },
     "metadata": {},
     "output_type": "display_data"
    }
   ],
   "source": [
    "plt.scatter(y_test, errors, s=20, lw=0.75, color='none', edgecolor='red')\n",
    "plt.axhline(0.0, lw=0.75, ls='--', c='black')\n",
    "plt.xlabel(r'$y_{test}$')\n",
    "plt.ylabel(r'Thousand $')\n",
    "plt.title('Prediction errors in test sample')"
   ]
  },
  {
   "attachments": {},
   "cell_type": "markdown",
   "metadata": {},
   "source": [
    "***\n",
    "### Using scikit-learn pipelines\n",
    "\n",
    "As you just saw, additional transformation steps before fitting the model can be tedious and error-prone (we might, for example, forget to transform the test data before computing predictions for the test sample). For this reason, `scikit-learn` implements a feature called \"pipelines\" which allows us to combine multiple transformations and a final estimation step. For this to work, all steps in the pipeline except for the last must support `fit()` and `transform()` methods, and the final step in the pipeline should be an estimator such as `LinearRegression` (for details, see the [section on pipelines](https://scikit-learn.org/stable/modules/compose.html#pipeline) in the `scikit-learn` user guide).\n",
    "\n",
    "There are two ways to construct a pipeline:\n",
    "\n",
    "1. Create an instance of the \n",
    "    [`Pipeline`](https://scikit-learn.org/stable/modules/generated/sklearn.pipeline.Pipeline.html#sklearn.pipeline.Pipeline) class and specify the steps as name-value pairs.\n",
    "2. Use the \n",
    "    [`make_pipeline()`](https://scikit-learn.org/stable/modules/generated/sklearn.pipeline.make_pipeline.html) convenience function, which sets a default name for each step.\n",
    "\n",
    "The first approach requires a list of tuples, where each tuple contains an (arbitrary) name and an object that implements the actions taken at this step. To compose a pipeline that creates polynomial features and fits a linear model to them, we therefore proceed as follows:"
   ]
  },
  {
   "cell_type": "code",
   "execution_count": 130,
   "metadata": {},
   "outputs": [
    {
     "data": {
      "text/html": [
       "<style>#sk-container-id-6 {\n",
       "  /* Definition of color scheme common for light and dark mode */\n",
       "  --sklearn-color-text: black;\n",
       "  --sklearn-color-line: gray;\n",
       "  /* Definition of color scheme for unfitted estimators */\n",
       "  --sklearn-color-unfitted-level-0: #fff5e6;\n",
       "  --sklearn-color-unfitted-level-1: #f6e4d2;\n",
       "  --sklearn-color-unfitted-level-2: #ffe0b3;\n",
       "  --sklearn-color-unfitted-level-3: chocolate;\n",
       "  /* Definition of color scheme for fitted estimators */\n",
       "  --sklearn-color-fitted-level-0: #f0f8ff;\n",
       "  --sklearn-color-fitted-level-1: #d4ebff;\n",
       "  --sklearn-color-fitted-level-2: #b3dbfd;\n",
       "  --sklearn-color-fitted-level-3: cornflowerblue;\n",
       "\n",
       "  /* Specific color for light theme */\n",
       "  --sklearn-color-text-on-default-background: var(--sg-text-color, var(--theme-code-foreground, var(--jp-content-font-color1, black)));\n",
       "  --sklearn-color-background: var(--sg-background-color, var(--theme-background, var(--jp-layout-color0, white)));\n",
       "  --sklearn-color-border-box: var(--sg-text-color, var(--theme-code-foreground, var(--jp-content-font-color1, black)));\n",
       "  --sklearn-color-icon: #696969;\n",
       "\n",
       "  @media (prefers-color-scheme: dark) {\n",
       "    /* Redefinition of color scheme for dark theme */\n",
       "    --sklearn-color-text-on-default-background: var(--sg-text-color, var(--theme-code-foreground, var(--jp-content-font-color1, white)));\n",
       "    --sklearn-color-background: var(--sg-background-color, var(--theme-background, var(--jp-layout-color0, #111)));\n",
       "    --sklearn-color-border-box: var(--sg-text-color, var(--theme-code-foreground, var(--jp-content-font-color1, white)));\n",
       "    --sklearn-color-icon: #878787;\n",
       "  }\n",
       "}\n",
       "\n",
       "#sk-container-id-6 {\n",
       "  color: var(--sklearn-color-text);\n",
       "}\n",
       "\n",
       "#sk-container-id-6 pre {\n",
       "  padding: 0;\n",
       "}\n",
       "\n",
       "#sk-container-id-6 input.sk-hidden--visually {\n",
       "  border: 0;\n",
       "  clip: rect(1px 1px 1px 1px);\n",
       "  clip: rect(1px, 1px, 1px, 1px);\n",
       "  height: 1px;\n",
       "  margin: -1px;\n",
       "  overflow: hidden;\n",
       "  padding: 0;\n",
       "  position: absolute;\n",
       "  width: 1px;\n",
       "}\n",
       "\n",
       "#sk-container-id-6 div.sk-dashed-wrapped {\n",
       "  border: 1px dashed var(--sklearn-color-line);\n",
       "  margin: 0 0.4em 0.5em 0.4em;\n",
       "  box-sizing: border-box;\n",
       "  padding-bottom: 0.4em;\n",
       "  background-color: var(--sklearn-color-background);\n",
       "}\n",
       "\n",
       "#sk-container-id-6 div.sk-container {\n",
       "  /* jupyter's `normalize.less` sets `[hidden] { display: none; }`\n",
       "     but bootstrap.min.css set `[hidden] { display: none !important; }`\n",
       "     so we also need the `!important` here to be able to override the\n",
       "     default hidden behavior on the sphinx rendered scikit-learn.org.\n",
       "     See: https://github.com/scikit-learn/scikit-learn/issues/21755 */\n",
       "  display: inline-block !important;\n",
       "  position: relative;\n",
       "}\n",
       "\n",
       "#sk-container-id-6 div.sk-text-repr-fallback {\n",
       "  display: none;\n",
       "}\n",
       "\n",
       "div.sk-parallel-item,\n",
       "div.sk-serial,\n",
       "div.sk-item {\n",
       "  /* draw centered vertical line to link estimators */\n",
       "  background-image: linear-gradient(var(--sklearn-color-text-on-default-background), var(--sklearn-color-text-on-default-background));\n",
       "  background-size: 2px 100%;\n",
       "  background-repeat: no-repeat;\n",
       "  background-position: center center;\n",
       "}\n",
       "\n",
       "/* Parallel-specific style estimator block */\n",
       "\n",
       "#sk-container-id-6 div.sk-parallel-item::after {\n",
       "  content: \"\";\n",
       "  width: 100%;\n",
       "  border-bottom: 2px solid var(--sklearn-color-text-on-default-background);\n",
       "  flex-grow: 1;\n",
       "}\n",
       "\n",
       "#sk-container-id-6 div.sk-parallel {\n",
       "  display: flex;\n",
       "  align-items: stretch;\n",
       "  justify-content: center;\n",
       "  background-color: var(--sklearn-color-background);\n",
       "  position: relative;\n",
       "}\n",
       "\n",
       "#sk-container-id-6 div.sk-parallel-item {\n",
       "  display: flex;\n",
       "  flex-direction: column;\n",
       "}\n",
       "\n",
       "#sk-container-id-6 div.sk-parallel-item:first-child::after {\n",
       "  align-self: flex-end;\n",
       "  width: 50%;\n",
       "}\n",
       "\n",
       "#sk-container-id-6 div.sk-parallel-item:last-child::after {\n",
       "  align-self: flex-start;\n",
       "  width: 50%;\n",
       "}\n",
       "\n",
       "#sk-container-id-6 div.sk-parallel-item:only-child::after {\n",
       "  width: 0;\n",
       "}\n",
       "\n",
       "/* Serial-specific style estimator block */\n",
       "\n",
       "#sk-container-id-6 div.sk-serial {\n",
       "  display: flex;\n",
       "  flex-direction: column;\n",
       "  align-items: center;\n",
       "  background-color: var(--sklearn-color-background);\n",
       "  padding-right: 1em;\n",
       "  padding-left: 1em;\n",
       "}\n",
       "\n",
       "\n",
       "/* Toggleable style: style used for estimator/Pipeline/ColumnTransformer box that is\n",
       "clickable and can be expanded/collapsed.\n",
       "- Pipeline and ColumnTransformer use this feature and define the default style\n",
       "- Estimators will overwrite some part of the style using the `sk-estimator` class\n",
       "*/\n",
       "\n",
       "/* Pipeline and ColumnTransformer style (default) */\n",
       "\n",
       "#sk-container-id-6 div.sk-toggleable {\n",
       "  /* Default theme specific background. It is overwritten whether we have a\n",
       "  specific estimator or a Pipeline/ColumnTransformer */\n",
       "  background-color: var(--sklearn-color-background);\n",
       "}\n",
       "\n",
       "/* Toggleable label */\n",
       "#sk-container-id-6 label.sk-toggleable__label {\n",
       "  cursor: pointer;\n",
       "  display: block;\n",
       "  width: 100%;\n",
       "  margin-bottom: 0;\n",
       "  padding: 0.5em;\n",
       "  box-sizing: border-box;\n",
       "  text-align: center;\n",
       "}\n",
       "\n",
       "#sk-container-id-6 label.sk-toggleable__label-arrow:before {\n",
       "  /* Arrow on the left of the label */\n",
       "  content: \"▸\";\n",
       "  float: left;\n",
       "  margin-right: 0.25em;\n",
       "  color: var(--sklearn-color-icon);\n",
       "}\n",
       "\n",
       "#sk-container-id-6 label.sk-toggleable__label-arrow:hover:before {\n",
       "  color: var(--sklearn-color-text);\n",
       "}\n",
       "\n",
       "/* Toggleable content - dropdown */\n",
       "\n",
       "#sk-container-id-6 div.sk-toggleable__content {\n",
       "  max-height: 0;\n",
       "  max-width: 0;\n",
       "  overflow: hidden;\n",
       "  text-align: left;\n",
       "  /* unfitted */\n",
       "  background-color: var(--sklearn-color-unfitted-level-0);\n",
       "}\n",
       "\n",
       "#sk-container-id-6 div.sk-toggleable__content.fitted {\n",
       "  /* fitted */\n",
       "  background-color: var(--sklearn-color-fitted-level-0);\n",
       "}\n",
       "\n",
       "#sk-container-id-6 div.sk-toggleable__content pre {\n",
       "  margin: 0.2em;\n",
       "  border-radius: 0.25em;\n",
       "  color: var(--sklearn-color-text);\n",
       "  /* unfitted */\n",
       "  background-color: var(--sklearn-color-unfitted-level-0);\n",
       "}\n",
       "\n",
       "#sk-container-id-6 div.sk-toggleable__content.fitted pre {\n",
       "  /* unfitted */\n",
       "  background-color: var(--sklearn-color-fitted-level-0);\n",
       "}\n",
       "\n",
       "#sk-container-id-6 input.sk-toggleable__control:checked~div.sk-toggleable__content {\n",
       "  /* Expand drop-down */\n",
       "  max-height: 200px;\n",
       "  max-width: 100%;\n",
       "  overflow: auto;\n",
       "}\n",
       "\n",
       "#sk-container-id-6 input.sk-toggleable__control:checked~label.sk-toggleable__label-arrow:before {\n",
       "  content: \"▾\";\n",
       "}\n",
       "\n",
       "/* Pipeline/ColumnTransformer-specific style */\n",
       "\n",
       "#sk-container-id-6 div.sk-label input.sk-toggleable__control:checked~label.sk-toggleable__label {\n",
       "  color: var(--sklearn-color-text);\n",
       "  background-color: var(--sklearn-color-unfitted-level-2);\n",
       "}\n",
       "\n",
       "#sk-container-id-6 div.sk-label.fitted input.sk-toggleable__control:checked~label.sk-toggleable__label {\n",
       "  background-color: var(--sklearn-color-fitted-level-2);\n",
       "}\n",
       "\n",
       "/* Estimator-specific style */\n",
       "\n",
       "/* Colorize estimator box */\n",
       "#sk-container-id-6 div.sk-estimator input.sk-toggleable__control:checked~label.sk-toggleable__label {\n",
       "  /* unfitted */\n",
       "  background-color: var(--sklearn-color-unfitted-level-2);\n",
       "}\n",
       "\n",
       "#sk-container-id-6 div.sk-estimator.fitted input.sk-toggleable__control:checked~label.sk-toggleable__label {\n",
       "  /* fitted */\n",
       "  background-color: var(--sklearn-color-fitted-level-2);\n",
       "}\n",
       "\n",
       "#sk-container-id-6 div.sk-label label.sk-toggleable__label,\n",
       "#sk-container-id-6 div.sk-label label {\n",
       "  /* The background is the default theme color */\n",
       "  color: var(--sklearn-color-text-on-default-background);\n",
       "}\n",
       "\n",
       "/* On hover, darken the color of the background */\n",
       "#sk-container-id-6 div.sk-label:hover label.sk-toggleable__label {\n",
       "  color: var(--sklearn-color-text);\n",
       "  background-color: var(--sklearn-color-unfitted-level-2);\n",
       "}\n",
       "\n",
       "/* Label box, darken color on hover, fitted */\n",
       "#sk-container-id-6 div.sk-label.fitted:hover label.sk-toggleable__label.fitted {\n",
       "  color: var(--sklearn-color-text);\n",
       "  background-color: var(--sklearn-color-fitted-level-2);\n",
       "}\n",
       "\n",
       "/* Estimator label */\n",
       "\n",
       "#sk-container-id-6 div.sk-label label {\n",
       "  font-family: monospace;\n",
       "  font-weight: bold;\n",
       "  display: inline-block;\n",
       "  line-height: 1.2em;\n",
       "}\n",
       "\n",
       "#sk-container-id-6 div.sk-label-container {\n",
       "  text-align: center;\n",
       "}\n",
       "\n",
       "/* Estimator-specific */\n",
       "#sk-container-id-6 div.sk-estimator {\n",
       "  font-family: monospace;\n",
       "  border: 1px dotted var(--sklearn-color-border-box);\n",
       "  border-radius: 0.25em;\n",
       "  box-sizing: border-box;\n",
       "  margin-bottom: 0.5em;\n",
       "  /* unfitted */\n",
       "  background-color: var(--sklearn-color-unfitted-level-0);\n",
       "}\n",
       "\n",
       "#sk-container-id-6 div.sk-estimator.fitted {\n",
       "  /* fitted */\n",
       "  background-color: var(--sklearn-color-fitted-level-0);\n",
       "}\n",
       "\n",
       "/* on hover */\n",
       "#sk-container-id-6 div.sk-estimator:hover {\n",
       "  /* unfitted */\n",
       "  background-color: var(--sklearn-color-unfitted-level-2);\n",
       "}\n",
       "\n",
       "#sk-container-id-6 div.sk-estimator.fitted:hover {\n",
       "  /* fitted */\n",
       "  background-color: var(--sklearn-color-fitted-level-2);\n",
       "}\n",
       "\n",
       "/* Specification for estimator info (e.g. \"i\" and \"?\") */\n",
       "\n",
       "/* Common style for \"i\" and \"?\" */\n",
       "\n",
       ".sk-estimator-doc-link,\n",
       "a:link.sk-estimator-doc-link,\n",
       "a:visited.sk-estimator-doc-link {\n",
       "  float: right;\n",
       "  font-size: smaller;\n",
       "  line-height: 1em;\n",
       "  font-family: monospace;\n",
       "  background-color: var(--sklearn-color-background);\n",
       "  border-radius: 1em;\n",
       "  height: 1em;\n",
       "  width: 1em;\n",
       "  text-decoration: none !important;\n",
       "  margin-left: 1ex;\n",
       "  /* unfitted */\n",
       "  border: var(--sklearn-color-unfitted-level-1) 1pt solid;\n",
       "  color: var(--sklearn-color-unfitted-level-1);\n",
       "}\n",
       "\n",
       ".sk-estimator-doc-link.fitted,\n",
       "a:link.sk-estimator-doc-link.fitted,\n",
       "a:visited.sk-estimator-doc-link.fitted {\n",
       "  /* fitted */\n",
       "  border: var(--sklearn-color-fitted-level-1) 1pt solid;\n",
       "  color: var(--sklearn-color-fitted-level-1);\n",
       "}\n",
       "\n",
       "/* On hover */\n",
       "div.sk-estimator:hover .sk-estimator-doc-link:hover,\n",
       ".sk-estimator-doc-link:hover,\n",
       "div.sk-label-container:hover .sk-estimator-doc-link:hover,\n",
       ".sk-estimator-doc-link:hover {\n",
       "  /* unfitted */\n",
       "  background-color: var(--sklearn-color-unfitted-level-3);\n",
       "  color: var(--sklearn-color-background);\n",
       "  text-decoration: none;\n",
       "}\n",
       "\n",
       "div.sk-estimator.fitted:hover .sk-estimator-doc-link.fitted:hover,\n",
       ".sk-estimator-doc-link.fitted:hover,\n",
       "div.sk-label-container:hover .sk-estimator-doc-link.fitted:hover,\n",
       ".sk-estimator-doc-link.fitted:hover {\n",
       "  /* fitted */\n",
       "  background-color: var(--sklearn-color-fitted-level-3);\n",
       "  color: var(--sklearn-color-background);\n",
       "  text-decoration: none;\n",
       "}\n",
       "\n",
       "/* Span, style for the box shown on hovering the info icon */\n",
       ".sk-estimator-doc-link span {\n",
       "  display: none;\n",
       "  z-index: 9999;\n",
       "  position: relative;\n",
       "  font-weight: normal;\n",
       "  right: .2ex;\n",
       "  padding: .5ex;\n",
       "  margin: .5ex;\n",
       "  width: min-content;\n",
       "  min-width: 20ex;\n",
       "  max-width: 50ex;\n",
       "  color: var(--sklearn-color-text);\n",
       "  box-shadow: 2pt 2pt 4pt #999;\n",
       "  /* unfitted */\n",
       "  background: var(--sklearn-color-unfitted-level-0);\n",
       "  border: .5pt solid var(--sklearn-color-unfitted-level-3);\n",
       "}\n",
       "\n",
       ".sk-estimator-doc-link.fitted span {\n",
       "  /* fitted */\n",
       "  background: var(--sklearn-color-fitted-level-0);\n",
       "  border: var(--sklearn-color-fitted-level-3);\n",
       "}\n",
       "\n",
       ".sk-estimator-doc-link:hover span {\n",
       "  display: block;\n",
       "}\n",
       "\n",
       "/* \"?\"-specific style due to the `<a>` HTML tag */\n",
       "\n",
       "#sk-container-id-6 a.estimator_doc_link {\n",
       "  float: right;\n",
       "  font-size: 1rem;\n",
       "  line-height: 1em;\n",
       "  font-family: monospace;\n",
       "  background-color: var(--sklearn-color-background);\n",
       "  border-radius: 1rem;\n",
       "  height: 1rem;\n",
       "  width: 1rem;\n",
       "  text-decoration: none;\n",
       "  /* unfitted */\n",
       "  color: var(--sklearn-color-unfitted-level-1);\n",
       "  border: var(--sklearn-color-unfitted-level-1) 1pt solid;\n",
       "}\n",
       "\n",
       "#sk-container-id-6 a.estimator_doc_link.fitted {\n",
       "  /* fitted */\n",
       "  border: var(--sklearn-color-fitted-level-1) 1pt solid;\n",
       "  color: var(--sklearn-color-fitted-level-1);\n",
       "}\n",
       "\n",
       "/* On hover */\n",
       "#sk-container-id-6 a.estimator_doc_link:hover {\n",
       "  /* unfitted */\n",
       "  background-color: var(--sklearn-color-unfitted-level-3);\n",
       "  color: var(--sklearn-color-background);\n",
       "  text-decoration: none;\n",
       "}\n",
       "\n",
       "#sk-container-id-6 a.estimator_doc_link.fitted:hover {\n",
       "  /* fitted */\n",
       "  background-color: var(--sklearn-color-fitted-level-3);\n",
       "}\n",
       "</style><div id=\"sk-container-id-6\" class=\"sk-top-container\"><div class=\"sk-text-repr-fallback\"><pre>Pipeline(steps=[(&#x27;poly&#x27;, PolynomialFeatures()),\n",
       "                (&#x27;lr&#x27;, LinearRegression(fit_intercept=False))])</pre><b>In a Jupyter environment, please rerun this cell to show the HTML representation or trust the notebook. <br />On GitHub, the HTML representation is unable to render, please try loading this page with nbviewer.org.</b></div><div class=\"sk-container\" hidden><div class=\"sk-item sk-dashed-wrapped\"><div class=\"sk-label-container\"><div class=\"sk-label  sk-toggleable\"><input class=\"sk-toggleable__control sk-hidden--visually\" id=\"sk-estimator-id-21\" type=\"checkbox\" ><label for=\"sk-estimator-id-21\" class=\"sk-toggleable__label  sk-toggleable__label-arrow \">&nbsp;&nbsp;Pipeline<a class=\"sk-estimator-doc-link \" rel=\"noreferrer\" target=\"_blank\" href=\"https://scikit-learn.org/1.5/modules/generated/sklearn.pipeline.Pipeline.html\">?<span>Documentation for Pipeline</span></a><span class=\"sk-estimator-doc-link \">i<span>Not fitted</span></span></label><div class=\"sk-toggleable__content \"><pre>Pipeline(steps=[(&#x27;poly&#x27;, PolynomialFeatures()),\n",
       "                (&#x27;lr&#x27;, LinearRegression(fit_intercept=False))])</pre></div> </div></div><div class=\"sk-serial\"><div class=\"sk-item\"><div class=\"sk-estimator  sk-toggleable\"><input class=\"sk-toggleable__control sk-hidden--visually\" id=\"sk-estimator-id-22\" type=\"checkbox\" ><label for=\"sk-estimator-id-22\" class=\"sk-toggleable__label  sk-toggleable__label-arrow \">&nbsp;PolynomialFeatures<a class=\"sk-estimator-doc-link \" rel=\"noreferrer\" target=\"_blank\" href=\"https://scikit-learn.org/1.5/modules/generated/sklearn.preprocessing.PolynomialFeatures.html\">?<span>Documentation for PolynomialFeatures</span></a></label><div class=\"sk-toggleable__content \"><pre>PolynomialFeatures()</pre></div> </div></div><div class=\"sk-item\"><div class=\"sk-estimator  sk-toggleable\"><input class=\"sk-toggleable__control sk-hidden--visually\" id=\"sk-estimator-id-23\" type=\"checkbox\" ><label for=\"sk-estimator-id-23\" class=\"sk-toggleable__label  sk-toggleable__label-arrow \">&nbsp;LinearRegression<a class=\"sk-estimator-doc-link \" rel=\"noreferrer\" target=\"_blank\" href=\"https://scikit-learn.org/1.5/modules/generated/sklearn.linear_model.LinearRegression.html\">?<span>Documentation for LinearRegression</span></a></label><div class=\"sk-toggleable__content \"><pre>LinearRegression(fit_intercept=False)</pre></div> </div></div></div></div></div></div>"
      ],
      "text/plain": [
       "Pipeline(steps=[('poly', PolynomialFeatures()),\n",
       "                ('lr', LinearRegression(fit_intercept=False))])"
      ]
     },
     "execution_count": 130,
     "metadata": {},
     "output_type": "execute_result"
    }
   ],
   "source": [
    "from sklearn.pipeline import Pipeline\n",
    "\n",
    "# Create pipeline with two steps\n",
    "pipe = Pipeline(steps=[\n",
    "    ('poly', PolynomialFeatures(degree=2)),\n",
    "    ('lr', LinearRegression(fit_intercept=False))\n",
    "])\n",
    "\n",
    "# visualize pipeline (interactive notebook only)\n",
    "pipe"
   ]
  },
  {
   "attachments": {},
   "cell_type": "markdown",
   "metadata": {},
   "source": [
    "In an interactive notebook, printing the `pipe` object will generate a visualization which contains details for each step (some editors such as Visual Studio Code even make this visualization interactive).\n",
    "To transform and fit the model in a single call, we simply need to invoke the `fit()` method. For example, using the training data from above, we run"
   ]
  },
  {
   "cell_type": "code",
   "execution_count": 131,
   "metadata": {},
   "outputs": [
    {
     "name": "stdout",
     "output_type": "stream",
     "text": [
      "Coefficients: [ 1.58390691e+01  1.08210136e+00 -5.69279846e-03 -9.87407071e-04\n",
      "  3.65461705e-04 -8.12934055e-06]\n"
     ]
    }
   ],
   "source": [
    "# transform and fit in a single step\n",
    "pipe.fit(X_train, y_train)\n",
    "\n",
    "print(f'Coefficients: {pipe.named_steps.lr.coef_}')"
   ]
  },
  {
   "attachments": {},
   "cell_type": "markdown",
   "metadata": {},
   "source": [
    "The alternative approach is to construct the pipeline using \n",
    "[`make_pipeline()`](https://scikit-learn.org/stable/modules/generated/sklearn.pipeline.make_pipeline.html).\n",
    "For this to work, we only need to pass the objects that constitute the individual steps of a pipeline as follows:"
   ]
  },
  {
   "cell_type": "code",
   "execution_count": 132,
   "metadata": {},
   "outputs": [
    {
     "data": {
      "text/plain": [
       "{'polynomialfeatures': PolynomialFeatures(),\n",
       " 'linearregression': LinearRegression(fit_intercept=False)}"
      ]
     },
     "execution_count": 132,
     "metadata": {},
     "output_type": "execute_result"
    }
   ],
   "source": [
    "from sklearn.pipeline import make_pipeline\n",
    "\n",
    "# Simplified pipeline creation\n",
    "pipe = make_pipeline(\n",
    "    PolynomialFeatures(degree=2), \n",
    "    LinearRegression(fit_intercept=False)\n",
    ")\n",
    "    \n",
    "# transform and fit model in single step\n",
    "pipe.fit(X_train, y_train)\n",
    "\n",
    "# print default names assigned to each step\n",
    "pipe.named_steps"
   ]
  },
  {
   "attachments": {},
   "cell_type": "markdown",
   "metadata": {},
   "source": [
    "The function assigns default names to each step which are printed above (basically, these are just lowercase versions of the class defining a step). These names are occasionally required to retrieve information for a specific step.\n",
    "To demonstrate that the pipeline generates results that are equivalent to our manual implementation, we conclude this section by recreating the error plot from above."
   ]
  },
  {
   "cell_type": "code",
   "execution_count": 133,
   "metadata": {},
   "outputs": [
    {
     "data": {
      "text/plain": [
       "Text(0.5, 1.0, 'Prediction errors in test sample')"
      ]
     },
     "execution_count": 133,
     "metadata": {},
     "output_type": "execute_result"
    },
    {
     "data": {
      "image/png": "[encoded data removed]",
      "text/plain": [
       "<Figure size 640x480 with 1 Axes>"
      ]
     },
     "metadata": {},
     "output_type": "display_data"
    }
   ],
   "source": [
    "# Predict test responses in a single step. No manual transformation required!\n",
    "y_test_hat = pipe.predict(X_test)\n",
    "\n",
    "# Compute prediction errors\n",
    "errors = y_test - y_test_hat\n",
    "\n",
    "plt.scatter(y_test, errors, s=20, lw=0.75, color='none', edgecolor='red')\n",
    "plt.axhline(0.0, lw=0.75, ls='--', c='black')\n",
    "plt.xlabel(r'$y_{test}$')\n",
    "plt.ylabel(r'Thousand $')\n",
    "plt.title('Prediction errors in test sample')"
   ]
  },
  {
   "cell_type": "markdown",
   "metadata": {},
   "source": [
    "***\n",
    "### Evaluating the model fit\n",
    "\n",
    "So far, we evaluated models only based on the visual inspection of the prediction errors. A more systematic approached uses one of several common metrics listed below. These become particularly relevant for models with hyperparameters, i.e., additional parameters that are particular to the estimation technique but are not included in the model as such.\n",
    "We can use these metrics to select optimal hyperparameters, as we demonstrate later in the lecture.\n",
    "\n",
    "One of the commonly used metrics to evaluate models is the *mean squared error (MSE)*, defined as \n",
    "$$\n",
    "MSE = \\frac{1}{N} \\sum_{i=1}^N \\bigl(y_i - \\widehat{y}_i\\bigr)^2\n",
    "$$\n",
    "which computes the average squared prediction error $y - \\widehat{y}$. The magnitude of the MSE is usually hard to interpret, so we often compute the *root mean squared error (RMSE)*,\n",
    "$$\n",
    "RMSE = \\sqrt{MSE} = \\sqrt{\\frac{1}{N} \\sum_{i=1}^N \\bigl(y_i - \\widehat{y}_i\\bigr)^2}\n",
    "$$\n",
    "which can be interpreted in units of the response variable $y$. Lastly, another measure of a model's fit is the\n",
    "*coefficients of determination* or $R^2$, which is a normalized version of the MSE and usually takes on values between $[0,1]$. The $R^2$ is defined as \n",
    "$$\n",
    "R^2 = 1 - \\frac{MSE}{\\widehat{Var}(y)}\n",
    "$$\n",
    "where $\\widehat{Var}(y)$ is the sample variance of the response $y$.\n",
    "Intuitively, an $R^2$ of 1 means that the model predicts the response for each observation perfectly (which is unlikely),\n",
    "whereas an $R^2$ of 0 implies that the model possesses no explanatory power relative to a model that includes only the sample mean. Note that in a test sample, the $R^2$ could even be negative.\n",
    "\n",
    "While these measures are easy to implement ourselves, we can just as well use the functions provided in `scikit-learn.metrics` to do the work for us: \n",
    "\n",
    "-   [`mean_squared_error()`](https://scikit-learn.org/stable/modules/generated/sklearn.metrics.mean_squared_error.html#sklearn.metrics.mean_squared_error) for the MSE;\n",
    "-   [`root_mean_squared_error()`](https://scikit-learn.org/stable/modules/generated/sklearn.metrics.root_mean_squared_error.html) for the RMSE; and\n",
    "-   [`r2_score()`](https://scikit-learn.org/stable/modules/generated/sklearn.metrics.r2_score.html#sklearn.metrics.r2_score) for the $R^2$."
   ]
  },
  {
   "cell_type": "markdown",
   "metadata": {},
   "source": [
    "To illustrate, we continue with the example from above and compute these statistics using the original and predicted target values on the test sample:"
   ]
  },
  {
   "cell_type": "code",
   "execution_count": 134,
   "metadata": {},
   "outputs": [
    {
     "name": "stdout",
     "output_type": "stream",
     "text": [
      "Mean squared error: 2582.8\n",
      "Root mean squared error 50.8\n",
      "Coefficient of determination (R^2): 0.53\n",
      "Adjusted R^2: 0.53\n"
     ]
    }
   ],
   "source": [
    "from sklearn.metrics import mean_squared_error, root_mean_squared_error, r2_score\n",
    "\n",
    "# Mean squared error (MSE)\n",
    "mse = mean_squared_error(y_test, y_test_hat)\n",
    "\n",
    "# Mean squared error (MSE)\n",
    "rmse = root_mean_squared_error(y_test, y_test_hat)\n",
    "\n",
    "# Coefficient of determination (R²)\n",
    "r2 = r2_score(y_test, y_test_hat)\n",
    "\n",
    "# Adjusted R²   \n",
    "N = len(y_test)\n",
    "p = Xpoly_test.shape[1]\n",
    "adj_r2 = 1 - (1 - r2) * (N - 1) / (N - p - 1)\n",
    "\n",
    "print(f'Mean squared error: {mse:.1f}')\n",
    "print(f'Root mean squared error {rmse:.1f}')\n",
    "print(f'Coefficient of determination (R^2): {r2:.2f}')\n",
    "print(f'Adjusted R^2: {adj_r2:.2f}')\n"
   ]
  },
  {
   "cell_type": "markdown",
   "metadata": {},
   "source": [
    "Since we estimated a model with intercept, the $R^2 = 0.55$ implies that the model explains 55% of the variance in the test sample."
   ]
  },
  {
   "attachments": {},
   "cell_type": "markdown",
   "metadata": {},
   "source": [
    "***\n",
    "## Optimizing hyperparameters with cross-validation\n",
    "\n",
    "### Outline of hyperparameter tuning\n",
    "\n",
    "Previously, we discussed some ways to evaluate the model fit (MSE and R²) but did not specify what to to with this information. In this section, we demonstrate how we can use these measures to tune parameters which govern the estimation process, such as the polynomial degree from the previous section. Such parameters are usually called *hyperparameters* to clearly distinguish them from the parameters that are estimated by the model (e.g., the coefficients of a linear model).\n",
    "\n",
    "Tuning hyperparameters, estimating the model and evaluating its generalizability cannot be done based on the same data set, as these steps then become interdependent (for the same reason we don't want to evaluate the model fit on the training sample as this would lead to overfitting). To this end, in machine learning we often split the data intro *three* parts: the training, validation and test data sets. Models are estimated on the training sample, the choice of hyperparameters is determined based on the validation sample and model generalizability is determined based on the test sample which was not used in estimation or tuning at all.\n",
    "\n",
    "However, because we might not have enough data to split the sample this way, we usually perform so-called *cross-validation* which is illustrated in the figure below:\n",
    "\n",
    "1. We split the overall data set into training and test sub-samples. \n",
    "2. The training data set is further split into $K$ so-called *folds*.\n",
    "    1. For each $k = 1,\\dots,K$, a smaller training sample is formed by excluding\n",
    "        the $k$-th fold and estimating the model on the remaining $K-1$ folds.\n",
    "        We then compute the chosen metric of model fit on the $k$-th fold \n",
    "        and store the result.\n",
    "    2. After cycling through all $K$ folds, we have $K$ values of our desired\n",
    "        metric, which we then average to get our final measure.\n",
    "        Hyperparameters are tuned by minimizing (or maximizing) this averaged\n",
    "        metric.\n",
    "    \n",
    "3.  Once hyperparameter tuning is complete, we evaluate the model on\n",
    "    the test data set."
   ]
  },
  {
   "attachments": {},
   "cell_type": "markdown",
   "metadata": {},
   "source": [
    "![CV split](cv_split.svg)"
   ]
  },
  {
   "attachments": {},
   "cell_type": "markdown",
   "metadata": {},
   "source": [
    "In this unit we will skip the final step of assessing generalizability on the test data set. Consequently, when running cross-validation, we will only use training/validation data sets and we will use the terms \"validation\" and \"test\" interchangeably.\n",
    "\n",
    "The `scikit-learn` \n",
    "[documentation](https://scikit-learn.org/stable/modules/cross_validation.html) contains a wealth of additional information on cross-validation. Another method to perform hyperparameter tuning is \n",
    "[grid search](https://scikit-learn.org/stable/modules/grid_search.html)."
   ]
  },
  {
   "attachments": {},
   "cell_type": "markdown",
   "metadata": {},
   "source": [
    "***\n",
    "### Example: Tuning of the polynomial degree\n",
    "\n",
    "To illustrate the concept, we demonstrate the procedure outlined above by tuning the polynomial degree for the example covered in the previous section by minimizing the root mean squared error (RMSE).\n",
    "\n",
    "We recreate the data set in the same way as before, using `LivingArea` and `LotArea` as explanatory variables."
   ]
  },
  {
   "cell_type": "code",
   "execution_count": 140,
   "metadata": {},
   "outputs": [],
   "source": [
    "# Load Ames housing data\n",
    "features = ['LivingArea', 'LotArea']\n",
    "target = 'SalePrice'\n",
    "\n",
    "X, y = load_ames_data(features, target)"
   ]
  },
  {
   "attachments": {},
   "cell_type": "markdown",
   "metadata": {},
   "source": [
    "We now iterate over the candidate polynomial degrees $d = 1,\\dots,5$ and apply $k$-fold cross-validation with 10 folds. There is no need to manually split the sample into training and validation/test sub-sets. Instead, we use the \n",
    "[`KFold`](https://scikit-learn.org/stable/modules/generated/sklearn.model_selection.KFold.html#sklearn.model_selection.KFold)\n",
    "class to automatically create the splits for us. Once we have created an instance with the desired number of folds, e.g., `KFold(n_splits=10)`, we can call the `split()` method which iterates trough all possible combinations of training and test data sets and returns the array indices for each.\n",
    "\n",
    "Note that in the code below, we have to be a little careful on how we create the pipeline for each polynomial degree: \n",
    "\n",
    "-   For $d=0$, the model only has an intercept. We need to call `PolynomialFeatures` with `include_bias=True`, otherwise there are no explanatory variables and the code fails.\n",
    "-   On the other hand, for $d > 0$, and in particular for large $d$, the polynomials are so large in magnitude that this can lead to numerical instability. It is therefore good practice to rescale features using the [`StandardScaler`](https://scikit-learn.org/stable/modules/generated/sklearn.preprocessing.StandardScaler.html). However, the intercept (bias) should never be standardized, so we need to create the polynomials with `include_bias=False` and instead estimate the model with an intercept by creating `LinearRegression(fit_intercept=True)`."
   ]
  },
  {
   "cell_type": "code",
   "execution_count": 141,
   "metadata": {},
   "outputs": [
    {
     "data": {
      "text/plain": [
       "array([78.10225405, 54.06796801, 53.7579006 , 53.52612724, 55.57874839,\n",
       "       67.2402846 ])"
      ]
     },
     "execution_count": 141,
     "metadata": {},
     "output_type": "execute_result"
    }
   ],
   "source": [
    "from sklearn.pipeline import Pipeline\n",
    "from sklearn.preprocessing import PolynomialFeatures, StandardScaler\n",
    "from sklearn.linear_model import LinearRegression\n",
    "from sklearn.model_selection import KFold\n",
    "from sklearn.metrics import root_mean_squared_error\n",
    "\n",
    "degrees = np.arange(0, 6)\n",
    "\n",
    "rmse_train_mean = []\n",
    "rmse_test_mean = []\n",
    "\n",
    "for d in degrees:\n",
    "\n",
    "    # Create pipeline to transform and fit the model. Pipeline depends\n",
    "    # on polynomial degree!\n",
    "    if d == 0:\n",
    "        # Intercept-only model\n",
    "        pipe = make_pipeline(\n",
    "            PolynomialFeatures(degree=d, include_bias=True),\n",
    "            LinearRegression(fit_intercept=False),\n",
    "        )\n",
    "    else:\n",
    "        # Model with polynomial terms: need to standardize features for \n",
    "        # numerical stability\n",
    "        pipe = make_pipeline(\n",
    "            PolynomialFeatures(degree=d, include_bias=False),\n",
    "            StandardScaler(),\n",
    "            LinearRegression(fit_intercept=True),\n",
    "        )\n",
    "\n",
    "    rmse_train_fold = []\n",
    "    rmse_test_fold = []\n",
    "\n",
    "    # Create 10 folds\n",
    "    folds = KFold(n_splits=10)\n",
    "\n",
    "    # Iterate through all combinations of training/test data\n",
    "    for itrain, itest in folds.split(X, y):\n",
    "\n",
    "        # Extract training data for this split\n",
    "        X_train = X.iloc[itrain]\n",
    "        y_train = y.iloc[itrain]\n",
    "\n",
    "        # Extract test (or validation) data for this split\n",
    "        X_test = X.iloc[itest]\n",
    "        y_test = y.iloc[itest]\n",
    "\n",
    "        # Fit model on training data for given degree\n",
    "        pipe.fit(X_train, y_train)\n",
    "\n",
    "        # Predict response on train and test data\n",
    "        y_train_hat = pipe.predict(X_train)\n",
    "        y_test_hat = pipe.predict(X_test)\n",
    "\n",
    "        # Compute RMSE as model fit measure\n",
    "        rmse_train = root_mean_squared_error(y_train, y_train_hat)\n",
    "        rmse_test = root_mean_squared_error(y_test, y_test_hat)\n",
    "\n",
    "        # Store RMSE for current split\n",
    "        rmse_train_fold.append(rmse_train)\n",
    "        rmse_test_fold.append(rmse_test)\n",
    "\n",
    "    # Store average MSE for current polynomial degree\n",
    "    rmse_train_mean.append(np.mean(rmse_train_fold))\n",
    "    rmse_test_mean.append(np.mean(rmse_test_fold))\n",
    "\n",
    "# Convert to NumPy arrays\n",
    "rmse_train_mean = np.array(rmse_train_mean)\n",
    "rmse_test_mean = np.array(rmse_test_mean)\n",
    "\n",
    "# Print average RMSE for all polynomial degrees\n",
    "rmse_test_mean"
   ]
  },
  {
   "attachments": {},
   "cell_type": "markdown",
   "metadata": {},
   "source": [
    "This code returns an array of 5 averaged RMSEs, one for each $d = 0, \\dots, 5$. We can now find the optimal $d$ by picking the one which has the lowest mean squared error in the test samples using the\n",
    "[`argmin()`](https://numpy.org/doc/stable/reference/generated/numpy.argmin.html)\n",
    "function which returns the *index* of the smallest array element."
   ]
  },
  {
   "cell_type": "code",
   "execution_count": 142,
   "metadata": {},
   "outputs": [
    {
     "name": "stdout",
     "output_type": "stream",
     "text": [
      "Polynomial degree with minimum RMSE: 3\n"
     ]
    }
   ],
   "source": [
    "# Find index of polynomial degree with smallest RMSE\n",
    "imin = np.argmin(rmse_test_mean)\n",
    "\n",
    "# RMSE-minimising polynomial degree\n",
    "dmin = degrees[imin]\n",
    "\n",
    "print(f'Polynomial degree with minimum RMSE: {dmin}')"
   ]
  },
  {
   "attachments": {},
   "cell_type": "markdown",
   "metadata": {},
   "source": [
    "Finally, it is often instructive to visualise how the RMSE evolves as a function of the hyperparameter we want to tune."
   ]
  },
  {
   "cell_type": "code",
   "execution_count": 143,
   "metadata": {},
   "outputs": [
    {
     "data": {
      "text/plain": [
       "<matplotlib.legend.Legend at 0x2204e1d5520>"
      ]
     },
     "execution_count": 143,
     "metadata": {},
     "output_type": "execute_result"
    },
    {
     "data": {
      "image/png": "[encoded data removed]",
      "text/plain": [
       "<Figure size 640x480 with 1 Axes>"
      ]
     },
     "metadata": {},
     "output_type": "display_data"
    }
   ],
   "source": [
    "plt.plot(degrees, rmse_train_mean, c='black', marker='x', ms=4, alpha=0.7, label='Training')\n",
    "plt.plot(degrees, rmse_test_mean, c='steelblue', marker='o', ms=4, label='Validation')\n",
    "plt.xlabel('Polynomial degree')\n",
    "plt.ylabel('Cross-validated RMSE')\n",
    "plt.xticks(degrees)\n",
    "plt.axvline(imin, ls=':', lw=0.75, c='black')\n",
    "plt.title('Validation curve')\n",
    "plt.legend()"
   ]
  },
  {
   "attachments": {},
   "cell_type": "markdown",
   "metadata": {},
   "source": [
    "Here we see that for $d=0$ (the intercept-only model), the model underfits the data leading to a high prediction error. However, higher $d$'s do not always translate into a better fit. For $d = 5$, the model vastly overfits the data, resulting in poor performance in the test sample and a very large RMSE."
   ]
  },
  {
   "attachments": {},
   "cell_type": "markdown",
   "metadata": {},
   "source": [
    "***\n",
    "### Automating cross-validation"
   ]
  },
  {
   "cell_type": "markdown",
   "metadata": {},
   "source": [
    "#### Automatically computing scores on all folds\n",
    "\n",
    "The code implemented above to run cross-validation was needlessly complex even though we leveraged the `KFold` class to do the sample splitting for us. Fortunately, `scikit-learn` provides us with even more convenience functions that further simplify this process.\n",
    "For example, if we want to perform tuning based on a single score (such as the root mean squared error), we can instead use \n",
    "[`cross_val_score()`](https://scikit-learn.org/stable/modules/generated/sklearn.model_selection.cross_val_score.html). This function requires us to specify an estimator (or a pipeline), the number of folds to use for cross-validation (`cv=10`)\n",
    "and the metric to evaluate. For example, if we want to compute the RMSE, we would pass the argument \n",
    "`scoring='neg_root_mean_squared_error'`. Note that the function returns the *negative* RMSE which we need to correct manually.\n",
    "\n",
    "See the \n",
    "[documentation](https://scikit-learn.org/stable/modules/model_evaluation.html#scoring-parameter)\n",
    "for a complete list of valid metrics that can be passed as `scoring` arguments. Alternatively, `scikit-learn` lists available metrics by running\n",
    "\n",
    "```python\n",
    "import sklearn.metrics\n",
    "sklearn.metrics.get_scorer_names()\n",
    "```\n",
    "\n",
    "The following code re-implements the k-fold cross-validation from earlier\n",
    "using `cross_val_score()`:"
   ]
  },
  {
   "cell_type": "code",
   "execution_count": 144,
   "metadata": {},
   "outputs": [
    {
     "data": {
      "text/plain": [
       "array([78.10225405, 54.06796801, 53.7579006 , 53.52612724, 55.57874839,\n",
       "       67.2402846 ])"
      ]
     },
     "execution_count": 144,
     "metadata": {},
     "output_type": "execute_result"
    }
   ],
   "source": [
    "from sklearn.model_selection import cross_val_score\n",
    "\n",
    "degrees = np.arange(6)\n",
    "\n",
    "rmse_mean = []\n",
    "rmse_std = []\n",
    "\n",
    "for d in degrees:\n",
    "\n",
    "    # Create pipeline to transform and fit the model. Pipeline depends\n",
    "    # on polynomial degree!\n",
    "    if d == 0:\n",
    "        # Intercept-only model\n",
    "        pipe = make_pipeline(\n",
    "            PolynomialFeatures(degree=d, include_bias=True),\n",
    "            LinearRegression(fit_intercept=False),\n",
    "        )\n",
    "    else:\n",
    "        # Model with polynomial terms: need to standardize features for \n",
    "        # numerical stability\n",
    "        pipe = make_pipeline(\n",
    "            PolynomialFeatures(degree=d, include_bias=False),\n",
    "            StandardScaler(),\n",
    "            LinearRegression(fit_intercept=True),\n",
    "        )\n",
    "\n",
    "    # Compute negative RMSE for all 10 folds\n",
    "    score = cross_val_score(\n",
    "        pipe, \n",
    "        X, y, \n",
    "        scoring='neg_root_mean_squared_error', \n",
    "        cv=10\n",
    "    )\n",
    "\n",
    "    # Function returns NEGATIVE RMSE, correct this here!\n",
    "    rmse_mean.append(np.mean(-score))\n",
    "    \n",
    "# Convert to NumPy array\n",
    "rmse_mean = np.array(rmse_mean)\n",
    "\n",
    "# Print average RMSE for all polynomial degrees\n",
    "rmse_mean"
   ]
  },
  {
   "attachments": {},
   "cell_type": "markdown",
   "metadata": {},
   "source": [
    "The RMSE-minimizing degree is of course the same as before:"
   ]
  },
  {
   "cell_type": "code",
   "execution_count": 145,
   "metadata": {},
   "outputs": [
    {
     "name": "stdout",
     "output_type": "stream",
     "text": [
      "Polynomial degree with min. RMSE: 3\n"
     ]
    }
   ],
   "source": [
    "imin = np.argmin(rmse_mean)\n",
    "dmin = degrees[imin]\n",
    "\n",
    "print(f'Polynomial degree with min. RMSE: {dmin}')"
   ]
  },
  {
   "cell_type": "markdown",
   "metadata": {},
   "source": [
    "***\n",
    "#### Automatically computing the validation curve\n",
    "\n",
    "`scikit-learn` provides an even more automated API to perform the cross-validation using the function \n",
    "[`validation_curve()`](https://scikit-learn.org/stable/modules/generated/sklearn.model_selection.validation_curve.html). \n",
    "To compute some score such as the RMSE for all folds at once, we don't even have to loop over the hyperparameter of interest (in this case the polynomial degree), but can leave this to `validation_curve()`. This process works as follows:\n",
    "\n",
    "1.  We create an instance of an estimator (or estimator pipeline) to be used for the cross-validation.\n",
    "2.  We specify which parameter should be cross-validated (using the argument `param_name`) and the set of \n",
    "    candidate values to be used for cross-validation (argument `param_range`).\n",
    "3.  The function `validation_curve()` returns the desired score, which needs to be specified using the `scoring` argument.\n",
    "    The list of acceptable scorers is the same as in the previous section.\n",
    "\n",
    "To demonstrate, we recreate the validation curve from the earlier example, but we restrict our attention to polynomial degrees $d>0$ as we then don't have to create a separate pipeline for the intercept-only model."
   ]
  },
  {
   "cell_type": "code",
   "execution_count": null,
   "metadata": {},
   "outputs": [],
   "source": [
    "from sklearn.model_selection import validation_curve\n",
    "\n",
    "# Candidate polynomial degrees (ignore intercept-only model)\n",
    "degrees = np.arange(1, 8) # 1, 2, ..., 7\n",
    "\n",
    "# Create pipeline for polynomial features and linear regression.\n",
    "# The degree of the polynomial DOES NOT MATTER at this point.\n",
    "pipe = Pipeline(steps=[\n",
    "    ('poly', PolynomialFeatures(degree=0, include_bias=False)),\n",
    "    ('scale', StandardScaler()), # Use standardization for numerical stability # mean 0 and std 1\n",
    "                                    # z = (x - mean.x) / std.x\n",
    "    ('lr', LinearRegression(fit_intercept=True))\n",
    "])\n",
    "\n",
    "# Compute the MSEs for each degree and each split, returning arrays of \n",
    "# size len(degrees) x 10.\n",
    "train_scores, test_scores = validation_curve(\n",
    "    estimator=pipe,\n",
    "    X=X, y=y,\n",
    "    param_name='poly__degree',\n",
    "    param_range=degrees,\n",
    "    scoring='neg_root_mean_squared_error', \n",
    "    cv=10 # 10-fold cross-validation\n",
    ")"
   ]
  },
  {
   "cell_type": "code",
   "execution_count": 150,
   "metadata": {},
   "outputs": [],
   "source": [
    "# Compute mean for each degree (scores returned by function are \n",
    "# NEGATIVE RMSEs)\n",
    "rmse_train_mean = np.mean(-train_scores, axis=1)\n",
    "rmse_test_mean = np.mean(-test_scores, axis=1)"
   ]
  },
  {
   "cell_type": "code",
   "execution_count": 151,
   "metadata": {},
   "outputs": [
    {
     "data": {
      "text/plain": [
       "<matplotlib.legend.Legend at 0x2204e2c8860>"
      ]
     },
     "execution_count": 151,
     "metadata": {},
     "output_type": "execute_result"
    },
    {
     "data": {
      "image/png": "[encoded data removed]",
      "text/plain": [
       "<Figure size 640x480 with 1 Axes>"
      ]
     },
     "metadata": {},
     "output_type": "display_data"
    }
   ],
   "source": [
    "plt.plot(degrees, rmse_train_mean, c='black', marker='x', ms=4, alpha=0.7, label='Training')\n",
    "plt.plot(degrees, rmse_test_mean, c='steelblue', marker='o', ms=4, label='Validation')\n",
    "plt.xlabel('Polynomial degree')\n",
    "plt.ylabel('Cross-validated RMSE')\n",
    "plt.xticks(degrees)\n",
    "plt.axvline(imin, ls=':', lw=0.75, c='black')\n",
    "plt.title('Validation curve')\n",
    "plt.legend()"
   ]
  },
  {
   "cell_type": "markdown",
   "metadata": {},
   "source": [
    "***\n",
    "## Advanced pipelines and cross-validation: Principal component regression (PCR)\n",
    "\n",
    "We close the section on cross-validation and hyperparameter tuning with a more complex example which also demonstrates a more advance use of `scikit-learn` pipelines.\n",
    "\n",
    "To this end, we implement principal component regression (PCR) with `scikit-learn`. The idea behind PCR is that we can address issues of overfitting and multicollinearity inherent in linear models without regularization by only using a subset of the variantion in the explanatory variables.\n",
    "This subset is obtained by using only a few principal components\n",
    "(see [Principal component analysis](https://en.wikipedia.org/wiki/Principal_component_analysis))\n",
    "which capture most of the variation in the data. You can think of principal component analysis as a method feature extraction, as opposed to feature selection where we manually pick only a few explanatory variables."
   ]
  },
  {
   "cell_type": "code",
   "execution_count": 69,
   "metadata": {},
   "outputs": [],
   "source": [
    "# Load Ames data with additional features\n",
    "features = ['LivingArea', 'LotArea', 'YearBuilt', 'OverallQuality']\n",
    "target = 'SalePrice'\n",
    "\n",
    "X, y = load_ames_data(features, target)"
   ]
  },
  {
   "cell_type": "markdown",
   "metadata": {},
   "source": [
    "#### Fitting the principal component regression\n",
    "\n",
    "We first create a pipeline with four steps:\n",
    "\n",
    "1.  As before, we create polynomial interactions of all explanatory variables using `PolynomialFeatures`.\n",
    "2.  We standardize the features created in the first step. This is crucial for principal component analysis\n",
    "    as it is very sensitive to data scaling.\n",
    "3.  We extract only a few principal components using \n",
    "    [`PCA`](https://scikit-learn.org/stable/modules/generated/sklearn.decomposition.PCA.html).\n",
    "    The most important argument here is `n_components`, which can be either an integer\n",
    "    specifying the number of components to use, or a floating point number in the open interval\n",
    "    $(0, 1)$ which selects the number of components such that the amount of variance explained\n",
    "    is greater that the value of `n_components`.\n",
    "4.  The last step is a `LinearRegression`, as before. It is important to specify\n",
    "    `fit_intercept=True` in this step since all variables have been standardized prior to the PCA\n",
    "    step, and hence the model wouldn't be able to match the mean of the target variable\n",
    "    without an intercept.\n",
    "\n",
    "Note that we use `Pipeline` to create the pipeline instead of the convenience function\n",
    "`make_pipeline()` so that we can explicitly name the pipeline steps.\n",
    "This will come in handy later."
   ]
  },
  {
   "cell_type": "code",
   "execution_count": 70,
   "metadata": {},
   "outputs": [],
   "source": [
    "from sklearn.preprocessing import StandardScaler, PolynomialFeatures\n",
    "from sklearn.pipeline import Pipeline\n",
    "from sklearn.linear_model import LinearRegression\n",
    "from sklearn.decomposition import PCA\n",
    "\n",
    "# Create pipeline for principal component regression\n",
    "pipe_pcr = Pipeline(\n",
    "    steps=[\n",
    "        ('poly', PolynomialFeatures(degree=5, include_bias=False)),\n",
    "        ('scale', StandardScaler()),\n",
    "        ('pca', PCA(n_components=0.9)),\n",
    "        ('lr', LinearRegression(fit_intercept=True)),\n",
    "    ]\n",
    ")"
   ]
  },
  {
   "cell_type": "markdown",
   "metadata": {},
   "source": [
    "With the pipeline in hand, we can fit the model (for this exercise, we ignore the train-test split):"
   ]
  },
  {
   "cell_type": "code",
   "execution_count": 71,
   "metadata": {},
   "outputs": [
    {
     "data": {
      "text/html": [
       "<style>#sk-container-id-4 {\n",
       "  /* Definition of color scheme common for light and dark mode */\n",
       "  --sklearn-color-text: black;\n",
       "  --sklearn-color-line: gray;\n",
       "  /* Definition of color scheme for unfitted estimators */\n",
       "  --sklearn-color-unfitted-level-0: #fff5e6;\n",
       "  --sklearn-color-unfitted-level-1: #f6e4d2;\n",
       "  --sklearn-color-unfitted-level-2: #ffe0b3;\n",
       "  --sklearn-color-unfitted-level-3: chocolate;\n",
       "  /* Definition of color scheme for fitted estimators */\n",
       "  --sklearn-color-fitted-level-0: #f0f8ff;\n",
       "  --sklearn-color-fitted-level-1: #d4ebff;\n",
       "  --sklearn-color-fitted-level-2: #b3dbfd;\n",
       "  --sklearn-color-fitted-level-3: cornflowerblue;\n",
       "\n",
       "  /* Specific color for light theme */\n",
       "  --sklearn-color-text-on-default-background: var(--sg-text-color, var(--theme-code-foreground, var(--jp-content-font-color1, black)));\n",
       "  --sklearn-color-background: var(--sg-background-color, var(--theme-background, var(--jp-layout-color0, white)));\n",
       "  --sklearn-color-border-box: var(--sg-text-color, var(--theme-code-foreground, var(--jp-content-font-color1, black)));\n",
       "  --sklearn-color-icon: #696969;\n",
       "\n",
       "  @media (prefers-color-scheme: dark) {\n",
       "    /* Redefinition of color scheme for dark theme */\n",
       "    --sklearn-color-text-on-default-background: var(--sg-text-color, var(--theme-code-foreground, var(--jp-content-font-color1, white)));\n",
       "    --sklearn-color-background: var(--sg-background-color, var(--theme-background, var(--jp-layout-color0, #111)));\n",
       "    --sklearn-color-border-box: var(--sg-text-color, var(--theme-code-foreground, var(--jp-content-font-color1, white)));\n",
       "    --sklearn-color-icon: #878787;\n",
       "  }\n",
       "}\n",
       "\n",
       "#sk-container-id-4 {\n",
       "  color: var(--sklearn-color-text);\n",
       "}\n",
       "\n",
       "#sk-container-id-4 pre {\n",
       "  padding: 0;\n",
       "}\n",
       "\n",
       "#sk-container-id-4 input.sk-hidden--visually {\n",
       "  border: 0;\n",
       "  clip: rect(1px 1px 1px 1px);\n",
       "  clip: rect(1px, 1px, 1px, 1px);\n",
       "  height: 1px;\n",
       "  margin: -1px;\n",
       "  overflow: hidden;\n",
       "  padding: 0;\n",
       "  position: absolute;\n",
       "  width: 1px;\n",
       "}\n",
       "\n",
       "#sk-container-id-4 div.sk-dashed-wrapped {\n",
       "  border: 1px dashed var(--sklearn-color-line);\n",
       "  margin: 0 0.4em 0.5em 0.4em;\n",
       "  box-sizing: border-box;\n",
       "  padding-bottom: 0.4em;\n",
       "  background-color: var(--sklearn-color-background);\n",
       "}\n",
       "\n",
       "#sk-container-id-4 div.sk-container {\n",
       "  /* jupyter's `normalize.less` sets `[hidden] { display: none; }`\n",
       "     but bootstrap.min.css set `[hidden] { display: none !important; }`\n",
       "     so we also need the `!important` here to be able to override the\n",
       "     default hidden behavior on the sphinx rendered scikit-learn.org.\n",
       "     See: https://github.com/scikit-learn/scikit-learn/issues/21755 */\n",
       "  display: inline-block !important;\n",
       "  position: relative;\n",
       "}\n",
       "\n",
       "#sk-container-id-4 div.sk-text-repr-fallback {\n",
       "  display: none;\n",
       "}\n",
       "\n",
       "div.sk-parallel-item,\n",
       "div.sk-serial,\n",
       "div.sk-item {\n",
       "  /* draw centered vertical line to link estimators */\n",
       "  background-image: linear-gradient(var(--sklearn-color-text-on-default-background), var(--sklearn-color-text-on-default-background));\n",
       "  background-size: 2px 100%;\n",
       "  background-repeat: no-repeat;\n",
       "  background-position: center center;\n",
       "}\n",
       "\n",
       "/* Parallel-specific style estimator block */\n",
       "\n",
       "#sk-container-id-4 div.sk-parallel-item::after {\n",
       "  content: \"\";\n",
       "  width: 100%;\n",
       "  border-bottom: 2px solid var(--sklearn-color-text-on-default-background);\n",
       "  flex-grow: 1;\n",
       "}\n",
       "\n",
       "#sk-container-id-4 div.sk-parallel {\n",
       "  display: flex;\n",
       "  align-items: stretch;\n",
       "  justify-content: center;\n",
       "  background-color: var(--sklearn-color-background);\n",
       "  position: relative;\n",
       "}\n",
       "\n",
       "#sk-container-id-4 div.sk-parallel-item {\n",
       "  display: flex;\n",
       "  flex-direction: column;\n",
       "}\n",
       "\n",
       "#sk-container-id-4 div.sk-parallel-item:first-child::after {\n",
       "  align-self: flex-end;\n",
       "  width: 50%;\n",
       "}\n",
       "\n",
       "#sk-container-id-4 div.sk-parallel-item:last-child::after {\n",
       "  align-self: flex-start;\n",
       "  width: 50%;\n",
       "}\n",
       "\n",
       "#sk-container-id-4 div.sk-parallel-item:only-child::after {\n",
       "  width: 0;\n",
       "}\n",
       "\n",
       "/* Serial-specific style estimator block */\n",
       "\n",
       "#sk-container-id-4 div.sk-serial {\n",
       "  display: flex;\n",
       "  flex-direction: column;\n",
       "  align-items: center;\n",
       "  background-color: var(--sklearn-color-background);\n",
       "  padding-right: 1em;\n",
       "  padding-left: 1em;\n",
       "}\n",
       "\n",
       "\n",
       "/* Toggleable style: style used for estimator/Pipeline/ColumnTransformer box that is\n",
       "clickable and can be expanded/collapsed.\n",
       "- Pipeline and ColumnTransformer use this feature and define the default style\n",
       "- Estimators will overwrite some part of the style using the `sk-estimator` class\n",
       "*/\n",
       "\n",
       "/* Pipeline and ColumnTransformer style (default) */\n",
       "\n",
       "#sk-container-id-4 div.sk-toggleable {\n",
       "  /* Default theme specific background. It is overwritten whether we have a\n",
       "  specific estimator or a Pipeline/ColumnTransformer */\n",
       "  background-color: var(--sklearn-color-background);\n",
       "}\n",
       "\n",
       "/* Toggleable label */\n",
       "#sk-container-id-4 label.sk-toggleable__label {\n",
       "  cursor: pointer;\n",
       "  display: block;\n",
       "  width: 100%;\n",
       "  margin-bottom: 0;\n",
       "  padding: 0.5em;\n",
       "  box-sizing: border-box;\n",
       "  text-align: center;\n",
       "}\n",
       "\n",
       "#sk-container-id-4 label.sk-toggleable__label-arrow:before {\n",
       "  /* Arrow on the left of the label */\n",
       "  content: \"▸\";\n",
       "  float: left;\n",
       "  margin-right: 0.25em;\n",
       "  color: var(--sklearn-color-icon);\n",
       "}\n",
       "\n",
       "#sk-container-id-4 label.sk-toggleable__label-arrow:hover:before {\n",
       "  color: var(--sklearn-color-text);\n",
       "}\n",
       "\n",
       "/* Toggleable content - dropdown */\n",
       "\n",
       "#sk-container-id-4 div.sk-toggleable__content {\n",
       "  max-height: 0;\n",
       "  max-width: 0;\n",
       "  overflow: hidden;\n",
       "  text-align: left;\n",
       "  /* unfitted */\n",
       "  background-color: var(--sklearn-color-unfitted-level-0);\n",
       "}\n",
       "\n",
       "#sk-container-id-4 div.sk-toggleable__content.fitted {\n",
       "  /* fitted */\n",
       "  background-color: var(--sklearn-color-fitted-level-0);\n",
       "}\n",
       "\n",
       "#sk-container-id-4 div.sk-toggleable__content pre {\n",
       "  margin: 0.2em;\n",
       "  border-radius: 0.25em;\n",
       "  color: var(--sklearn-color-text);\n",
       "  /* unfitted */\n",
       "  background-color: var(--sklearn-color-unfitted-level-0);\n",
       "}\n",
       "\n",
       "#sk-container-id-4 div.sk-toggleable__content.fitted pre {\n",
       "  /* unfitted */\n",
       "  background-color: var(--sklearn-color-fitted-level-0);\n",
       "}\n",
       "\n",
       "#sk-container-id-4 input.sk-toggleable__control:checked~div.sk-toggleable__content {\n",
       "  /* Expand drop-down */\n",
       "  max-height: 200px;\n",
       "  max-width: 100%;\n",
       "  overflow: auto;\n",
       "}\n",
       "\n",
       "#sk-container-id-4 input.sk-toggleable__control:checked~label.sk-toggleable__label-arrow:before {\n",
       "  content: \"▾\";\n",
       "}\n",
       "\n",
       "/* Pipeline/ColumnTransformer-specific style */\n",
       "\n",
       "#sk-container-id-4 div.sk-label input.sk-toggleable__control:checked~label.sk-toggleable__label {\n",
       "  color: var(--sklearn-color-text);\n",
       "  background-color: var(--sklearn-color-unfitted-level-2);\n",
       "}\n",
       "\n",
       "#sk-container-id-4 div.sk-label.fitted input.sk-toggleable__control:checked~label.sk-toggleable__label {\n",
       "  background-color: var(--sklearn-color-fitted-level-2);\n",
       "}\n",
       "\n",
       "/* Estimator-specific style */\n",
       "\n",
       "/* Colorize estimator box */\n",
       "#sk-container-id-4 div.sk-estimator input.sk-toggleable__control:checked~label.sk-toggleable__label {\n",
       "  /* unfitted */\n",
       "  background-color: var(--sklearn-color-unfitted-level-2);\n",
       "}\n",
       "\n",
       "#sk-container-id-4 div.sk-estimator.fitted input.sk-toggleable__control:checked~label.sk-toggleable__label {\n",
       "  /* fitted */\n",
       "  background-color: var(--sklearn-color-fitted-level-2);\n",
       "}\n",
       "\n",
       "#sk-container-id-4 div.sk-label label.sk-toggleable__label,\n",
       "#sk-container-id-4 div.sk-label label {\n",
       "  /* The background is the default theme color */\n",
       "  color: var(--sklearn-color-text-on-default-background);\n",
       "}\n",
       "\n",
       "/* On hover, darken the color of the background */\n",
       "#sk-container-id-4 div.sk-label:hover label.sk-toggleable__label {\n",
       "  color: var(--sklearn-color-text);\n",
       "  background-color: var(--sklearn-color-unfitted-level-2);\n",
       "}\n",
       "\n",
       "/* Label box, darken color on hover, fitted */\n",
       "#sk-container-id-4 div.sk-label.fitted:hover label.sk-toggleable__label.fitted {\n",
       "  color: var(--sklearn-color-text);\n",
       "  background-color: var(--sklearn-color-fitted-level-2);\n",
       "}\n",
       "\n",
       "/* Estimator label */\n",
       "\n",
       "#sk-container-id-4 div.sk-label label {\n",
       "  font-family: monospace;\n",
       "  font-weight: bold;\n",
       "  display: inline-block;\n",
       "  line-height: 1.2em;\n",
       "}\n",
       "\n",
       "#sk-container-id-4 div.sk-label-container {\n",
       "  text-align: center;\n",
       "}\n",
       "\n",
       "/* Estimator-specific */\n",
       "#sk-container-id-4 div.sk-estimator {\n",
       "  font-family: monospace;\n",
       "  border: 1px dotted var(--sklearn-color-border-box);\n",
       "  border-radius: 0.25em;\n",
       "  box-sizing: border-box;\n",
       "  margin-bottom: 0.5em;\n",
       "  /* unfitted */\n",
       "  background-color: var(--sklearn-color-unfitted-level-0);\n",
       "}\n",
       "\n",
       "#sk-container-id-4 div.sk-estimator.fitted {\n",
       "  /* fitted */\n",
       "  background-color: var(--sklearn-color-fitted-level-0);\n",
       "}\n",
       "\n",
       "/* on hover */\n",
       "#sk-container-id-4 div.sk-estimator:hover {\n",
       "  /* unfitted */\n",
       "  background-color: var(--sklearn-color-unfitted-level-2);\n",
       "}\n",
       "\n",
       "#sk-container-id-4 div.sk-estimator.fitted:hover {\n",
       "  /* fitted */\n",
       "  background-color: var(--sklearn-color-fitted-level-2);\n",
       "}\n",
       "\n",
       "/* Specification for estimator info (e.g. \"i\" and \"?\") */\n",
       "\n",
       "/* Common style for \"i\" and \"?\" */\n",
       "\n",
       ".sk-estimator-doc-link,\n",
       "a:link.sk-estimator-doc-link,\n",
       "a:visited.sk-estimator-doc-link {\n",
       "  float: right;\n",
       "  font-size: smaller;\n",
       "  line-height: 1em;\n",
       "  font-family: monospace;\n",
       "  background-color: var(--sklearn-color-background);\n",
       "  border-radius: 1em;\n",
       "  height: 1em;\n",
       "  width: 1em;\n",
       "  text-decoration: none !important;\n",
       "  margin-left: 1ex;\n",
       "  /* unfitted */\n",
       "  border: var(--sklearn-color-unfitted-level-1) 1pt solid;\n",
       "  color: var(--sklearn-color-unfitted-level-1);\n",
       "}\n",
       "\n",
       ".sk-estimator-doc-link.fitted,\n",
       "a:link.sk-estimator-doc-link.fitted,\n",
       "a:visited.sk-estimator-doc-link.fitted {\n",
       "  /* fitted */\n",
       "  border: var(--sklearn-color-fitted-level-1) 1pt solid;\n",
       "  color: var(--sklearn-color-fitted-level-1);\n",
       "}\n",
       "\n",
       "/* On hover */\n",
       "div.sk-estimator:hover .sk-estimator-doc-link:hover,\n",
       ".sk-estimator-doc-link:hover,\n",
       "div.sk-label-container:hover .sk-estimator-doc-link:hover,\n",
       ".sk-estimator-doc-link:hover {\n",
       "  /* unfitted */\n",
       "  background-color: var(--sklearn-color-unfitted-level-3);\n",
       "  color: var(--sklearn-color-background);\n",
       "  text-decoration: none;\n",
       "}\n",
       "\n",
       "div.sk-estimator.fitted:hover .sk-estimator-doc-link.fitted:hover,\n",
       ".sk-estimator-doc-link.fitted:hover,\n",
       "div.sk-label-container:hover .sk-estimator-doc-link.fitted:hover,\n",
       ".sk-estimator-doc-link.fitted:hover {\n",
       "  /* fitted */\n",
       "  background-color: var(--sklearn-color-fitted-level-3);\n",
       "  color: var(--sklearn-color-background);\n",
       "  text-decoration: none;\n",
       "}\n",
       "\n",
       "/* Span, style for the box shown on hovering the info icon */\n",
       ".sk-estimator-doc-link span {\n",
       "  display: none;\n",
       "  z-index: 9999;\n",
       "  position: relative;\n",
       "  font-weight: normal;\n",
       "  right: .2ex;\n",
       "  padding: .5ex;\n",
       "  margin: .5ex;\n",
       "  width: min-content;\n",
       "  min-width: 20ex;\n",
       "  max-width: 50ex;\n",
       "  color: var(--sklearn-color-text);\n",
       "  box-shadow: 2pt 2pt 4pt #999;\n",
       "  /* unfitted */\n",
       "  background: var(--sklearn-color-unfitted-level-0);\n",
       "  border: .5pt solid var(--sklearn-color-unfitted-level-3);\n",
       "}\n",
       "\n",
       ".sk-estimator-doc-link.fitted span {\n",
       "  /* fitted */\n",
       "  background: var(--sklearn-color-fitted-level-0);\n",
       "  border: var(--sklearn-color-fitted-level-3);\n",
       "}\n",
       "\n",
       ".sk-estimator-doc-link:hover span {\n",
       "  display: block;\n",
       "}\n",
       "\n",
       "/* \"?\"-specific style due to the `<a>` HTML tag */\n",
       "\n",
       "#sk-container-id-4 a.estimator_doc_link {\n",
       "  float: right;\n",
       "  font-size: 1rem;\n",
       "  line-height: 1em;\n",
       "  font-family: monospace;\n",
       "  background-color: var(--sklearn-color-background);\n",
       "  border-radius: 1rem;\n",
       "  height: 1rem;\n",
       "  width: 1rem;\n",
       "  text-decoration: none;\n",
       "  /* unfitted */\n",
       "  color: var(--sklearn-color-unfitted-level-1);\n",
       "  border: var(--sklearn-color-unfitted-level-1) 1pt solid;\n",
       "}\n",
       "\n",
       "#sk-container-id-4 a.estimator_doc_link.fitted {\n",
       "  /* fitted */\n",
       "  border: var(--sklearn-color-fitted-level-1) 1pt solid;\n",
       "  color: var(--sklearn-color-fitted-level-1);\n",
       "}\n",
       "\n",
       "/* On hover */\n",
       "#sk-container-id-4 a.estimator_doc_link:hover {\n",
       "  /* unfitted */\n",
       "  background-color: var(--sklearn-color-unfitted-level-3);\n",
       "  color: var(--sklearn-color-background);\n",
       "  text-decoration: none;\n",
       "}\n",
       "\n",
       "#sk-container-id-4 a.estimator_doc_link.fitted:hover {\n",
       "  /* fitted */\n",
       "  background-color: var(--sklearn-color-fitted-level-3);\n",
       "}\n",
       "</style><div id=\"sk-container-id-4\" class=\"sk-top-container\"><div class=\"sk-text-repr-fallback\"><pre>Pipeline(steps=[(&#x27;poly&#x27;, PolynomialFeatures(degree=5, include_bias=False)),\n",
       "                (&#x27;scale&#x27;, StandardScaler()), (&#x27;pca&#x27;, PCA(n_components=0.9)),\n",
       "                (&#x27;lr&#x27;, LinearRegression())])</pre><b>In a Jupyter environment, please rerun this cell to show the HTML representation or trust the notebook. <br />On GitHub, the HTML representation is unable to render, please try loading this page with nbviewer.org.</b></div><div class=\"sk-container\" hidden><div class=\"sk-item sk-dashed-wrapped\"><div class=\"sk-label-container\"><div class=\"sk-label fitted sk-toggleable\"><input class=\"sk-toggleable__control sk-hidden--visually\" id=\"sk-estimator-id-10\" type=\"checkbox\" ><label for=\"sk-estimator-id-10\" class=\"sk-toggleable__label fitted sk-toggleable__label-arrow fitted\">&nbsp;&nbsp;Pipeline<a class=\"sk-estimator-doc-link fitted\" rel=\"noreferrer\" target=\"_blank\" href=\"https://scikit-learn.org/1.5/modules/generated/sklearn.pipeline.Pipeline.html\">?<span>Documentation for Pipeline</span></a><span class=\"sk-estimator-doc-link fitted\">i<span>Fitted</span></span></label><div class=\"sk-toggleable__content fitted\"><pre>Pipeline(steps=[(&#x27;poly&#x27;, PolynomialFeatures(degree=5, include_bias=False)),\n",
       "                (&#x27;scale&#x27;, StandardScaler()), (&#x27;pca&#x27;, PCA(n_components=0.9)),\n",
       "                (&#x27;lr&#x27;, LinearRegression())])</pre></div> </div></div><div class=\"sk-serial\"><div class=\"sk-item\"><div class=\"sk-estimator fitted sk-toggleable\"><input class=\"sk-toggleable__control sk-hidden--visually\" id=\"sk-estimator-id-11\" type=\"checkbox\" ><label for=\"sk-estimator-id-11\" class=\"sk-toggleable__label fitted sk-toggleable__label-arrow fitted\">&nbsp;PolynomialFeatures<a class=\"sk-estimator-doc-link fitted\" rel=\"noreferrer\" target=\"_blank\" href=\"https://scikit-learn.org/1.5/modules/generated/sklearn.preprocessing.PolynomialFeatures.html\">?<span>Documentation for PolynomialFeatures</span></a></label><div class=\"sk-toggleable__content fitted\"><pre>PolynomialFeatures(degree=5, include_bias=False)</pre></div> </div></div><div class=\"sk-item\"><div class=\"sk-estimator fitted sk-toggleable\"><input class=\"sk-toggleable__control sk-hidden--visually\" id=\"sk-estimator-id-12\" type=\"checkbox\" ><label for=\"sk-estimator-id-12\" class=\"sk-toggleable__label fitted sk-toggleable__label-arrow fitted\">&nbsp;StandardScaler<a class=\"sk-estimator-doc-link fitted\" rel=\"noreferrer\" target=\"_blank\" href=\"https://scikit-learn.org/1.5/modules/generated/sklearn.preprocessing.StandardScaler.html\">?<span>Documentation for StandardScaler</span></a></label><div class=\"sk-toggleable__content fitted\"><pre>StandardScaler()</pre></div> </div></div><div class=\"sk-item\"><div class=\"sk-estimator fitted sk-toggleable\"><input class=\"sk-toggleable__control sk-hidden--visually\" id=\"sk-estimator-id-13\" type=\"checkbox\" ><label for=\"sk-estimator-id-13\" class=\"sk-toggleable__label fitted sk-toggleable__label-arrow fitted\">&nbsp;PCA<a class=\"sk-estimator-doc-link fitted\" rel=\"noreferrer\" target=\"_blank\" href=\"https://scikit-learn.org/1.5/modules/generated/sklearn.decomposition.PCA.html\">?<span>Documentation for PCA</span></a></label><div class=\"sk-toggleable__content fitted\"><pre>PCA(n_components=0.9)</pre></div> </div></div><div class=\"sk-item\"><div class=\"sk-estimator fitted sk-toggleable\"><input class=\"sk-toggleable__control sk-hidden--visually\" id=\"sk-estimator-id-14\" type=\"checkbox\" ><label for=\"sk-estimator-id-14\" class=\"sk-toggleable__label fitted sk-toggleable__label-arrow fitted\">&nbsp;LinearRegression<a class=\"sk-estimator-doc-link fitted\" rel=\"noreferrer\" target=\"_blank\" href=\"https://scikit-learn.org/1.5/modules/generated/sklearn.linear_model.LinearRegression.html\">?<span>Documentation for LinearRegression</span></a></label><div class=\"sk-toggleable__content fitted\"><pre>LinearRegression()</pre></div> </div></div></div></div></div></div>"
      ],
      "text/plain": [
       "Pipeline(steps=[('poly', PolynomialFeatures(degree=5, include_bias=False)),\n",
       "                ('scale', StandardScaler()), ('pca', PCA(n_components=0.9)),\n",
       "                ('lr', LinearRegression())])"
      ]
     },
     "execution_count": 71,
     "metadata": {},
     "output_type": "execute_result"
    }
   ],
   "source": [
    "pipe_pcr.fit(X, y)"
   ]
  },
  {
   "cell_type": "markdown",
   "metadata": {},
   "source": [
    "We can use the named pipeline steps to extract information about the data transformation in the `PCA` layer.\n",
    "For example, we can extract the fraction of variance explained by each component and plot it as follows:"
   ]
  },
  {
   "cell_type": "code",
   "execution_count": 72,
   "metadata": {},
   "outputs": [
    {
     "data": {
      "text/plain": [
       "array([0.60110876, 0.21964345, 0.08389025])"
      ]
     },
     "execution_count": 72,
     "metadata": {},
     "output_type": "execute_result"
    }
   ],
   "source": [
    "# Extract fraction of variance explained by each principal component.\n",
    "# Note that the name of the pipeline step is the one assigned when creating the \n",
    "# pipeline.\n",
    "var_expl = pipe_pcr.named_steps['pca'].explained_variance_ratio_\n",
    "var_expl"
   ]
  },
  {
   "cell_type": "code",
   "execution_count": 73,
   "metadata": {},
   "outputs": [
    {
     "data": {
      "text/plain": [
       "<Axes: title={'center': 'PCA explained variance'}, ylabel='Fraction of variance'>"
      ]
     },
     "execution_count": 73,
     "metadata": {},
     "output_type": "execute_result"
    },
    {
     "data": {
      "image/png": "[encoded data removed]",
      "text/plain": [
       "<Figure size 640x480 with 1 Axes>"
      ]
     },
     "metadata": {},
     "output_type": "display_data"
    }
   ],
   "source": [
    "# Use pandas plotting functions to create bar plot\n",
    "pd.Series(var_expl, index=[f'PC{i+1}' for i in range(len(var_expl))]).plot.bar(\n",
    "    ylabel='Fraction of variance', title='PCA explained variance', rot=0\n",
    ")"
   ]
  },
  {
   "cell_type": "markdown",
   "metadata": {},
   "source": [
    "#### Cross-validation for principal component regression\n",
    "\n",
    "Finally, we can perform hyperparameter tuning for the principal component regression as well. This is slightly complicated by the fact that we now have *two* hyperparameters:\n",
    "\n",
    "1.  The maximum polynomial degree used to create the polynomial features.\n",
    "2.  The number of principal components to use for PCR (or equivalently, the share of explained variance).\n",
    "\n",
    "For this case, `scikit-learn` provides the \n",
    "[`GridSearchCV`](https://scikit-learn.org/stable/modules/generated/sklearn.model_selection.GridSearchCV.html)\n",
    "class which performs grid search over a set of parameters which are specified\n",
    "using the `param_grid` argument. This argument is expected to be a dictionary with\n",
    "the parameter names as keys. \n",
    "\n",
    "Note that the parameter names are composed of two parts:\n",
    "\n",
    "1.  the name of the pipeline step that should be tuned; and \n",
    "2.  the name of the attribute to be varied. \n",
    "\n",
    "These need to be separated by `'__'` so that the parameter name is\n",
    "`STEP__ATTRIBUTE`.\n"
   ]
  },
  {
   "cell_type": "code",
   "execution_count": 74,
   "metadata": {},
   "outputs": [
    {
     "data": {
      "text/html": [
       "<style>#sk-container-id-5 {\n",
       "  /* Definition of color scheme common for light and dark mode */\n",
       "  --sklearn-color-text: black;\n",
       "  --sklearn-color-line: gray;\n",
       "  /* Definition of color scheme for unfitted estimators */\n",
       "  --sklearn-color-unfitted-level-0: #fff5e6;\n",
       "  --sklearn-color-unfitted-level-1: #f6e4d2;\n",
       "  --sklearn-color-unfitted-level-2: #ffe0b3;\n",
       "  --sklearn-color-unfitted-level-3: chocolate;\n",
       "  /* Definition of color scheme for fitted estimators */\n",
       "  --sklearn-color-fitted-level-0: #f0f8ff;\n",
       "  --sklearn-color-fitted-level-1: #d4ebff;\n",
       "  --sklearn-color-fitted-level-2: #b3dbfd;\n",
       "  --sklearn-color-fitted-level-3: cornflowerblue;\n",
       "\n",
       "  /* Specific color for light theme */\n",
       "  --sklearn-color-text-on-default-background: var(--sg-text-color, var(--theme-code-foreground, var(--jp-content-font-color1, black)));\n",
       "  --sklearn-color-background: var(--sg-background-color, var(--theme-background, var(--jp-layout-color0, white)));\n",
       "  --sklearn-color-border-box: var(--sg-text-color, var(--theme-code-foreground, var(--jp-content-font-color1, black)));\n",
       "  --sklearn-color-icon: #696969;\n",
       "\n",
       "  @media (prefers-color-scheme: dark) {\n",
       "    /* Redefinition of color scheme for dark theme */\n",
       "    --sklearn-color-text-on-default-background: var(--sg-text-color, var(--theme-code-foreground, var(--jp-content-font-color1, white)));\n",
       "    --sklearn-color-background: var(--sg-background-color, var(--theme-background, var(--jp-layout-color0, #111)));\n",
       "    --sklearn-color-border-box: var(--sg-text-color, var(--theme-code-foreground, var(--jp-content-font-color1, white)));\n",
       "    --sklearn-color-icon: #878787;\n",
       "  }\n",
       "}\n",
       "\n",
       "#sk-container-id-5 {\n",
       "  color: var(--sklearn-color-text);\n",
       "}\n",
       "\n",
       "#sk-container-id-5 pre {\n",
       "  padding: 0;\n",
       "}\n",
       "\n",
       "#sk-container-id-5 input.sk-hidden--visually {\n",
       "  border: 0;\n",
       "  clip: rect(1px 1px 1px 1px);\n",
       "  clip: rect(1px, 1px, 1px, 1px);\n",
       "  height: 1px;\n",
       "  margin: -1px;\n",
       "  overflow: hidden;\n",
       "  padding: 0;\n",
       "  position: absolute;\n",
       "  width: 1px;\n",
       "}\n",
       "\n",
       "#sk-container-id-5 div.sk-dashed-wrapped {\n",
       "  border: 1px dashed var(--sklearn-color-line);\n",
       "  margin: 0 0.4em 0.5em 0.4em;\n",
       "  box-sizing: border-box;\n",
       "  padding-bottom: 0.4em;\n",
       "  background-color: var(--sklearn-color-background);\n",
       "}\n",
       "\n",
       "#sk-container-id-5 div.sk-container {\n",
       "  /* jupyter's `normalize.less` sets `[hidden] { display: none; }`\n",
       "     but bootstrap.min.css set `[hidden] { display: none !important; }`\n",
       "     so we also need the `!important` here to be able to override the\n",
       "     default hidden behavior on the sphinx rendered scikit-learn.org.\n",
       "     See: https://github.com/scikit-learn/scikit-learn/issues/21755 */\n",
       "  display: inline-block !important;\n",
       "  position: relative;\n",
       "}\n",
       "\n",
       "#sk-container-id-5 div.sk-text-repr-fallback {\n",
       "  display: none;\n",
       "}\n",
       "\n",
       "div.sk-parallel-item,\n",
       "div.sk-serial,\n",
       "div.sk-item {\n",
       "  /* draw centered vertical line to link estimators */\n",
       "  background-image: linear-gradient(var(--sklearn-color-text-on-default-background), var(--sklearn-color-text-on-default-background));\n",
       "  background-size: 2px 100%;\n",
       "  background-repeat: no-repeat;\n",
       "  background-position: center center;\n",
       "}\n",
       "\n",
       "/* Parallel-specific style estimator block */\n",
       "\n",
       "#sk-container-id-5 div.sk-parallel-item::after {\n",
       "  content: \"\";\n",
       "  width: 100%;\n",
       "  border-bottom: 2px solid var(--sklearn-color-text-on-default-background);\n",
       "  flex-grow: 1;\n",
       "}\n",
       "\n",
       "#sk-container-id-5 div.sk-parallel {\n",
       "  display: flex;\n",
       "  align-items: stretch;\n",
       "  justify-content: center;\n",
       "  background-color: var(--sklearn-color-background);\n",
       "  position: relative;\n",
       "}\n",
       "\n",
       "#sk-container-id-5 div.sk-parallel-item {\n",
       "  display: flex;\n",
       "  flex-direction: column;\n",
       "}\n",
       "\n",
       "#sk-container-id-5 div.sk-parallel-item:first-child::after {\n",
       "  align-self: flex-end;\n",
       "  width: 50%;\n",
       "}\n",
       "\n",
       "#sk-container-id-5 div.sk-parallel-item:last-child::after {\n",
       "  align-self: flex-start;\n",
       "  width: 50%;\n",
       "}\n",
       "\n",
       "#sk-container-id-5 div.sk-parallel-item:only-child::after {\n",
       "  width: 0;\n",
       "}\n",
       "\n",
       "/* Serial-specific style estimator block */\n",
       "\n",
       "#sk-container-id-5 div.sk-serial {\n",
       "  display: flex;\n",
       "  flex-direction: column;\n",
       "  align-items: center;\n",
       "  background-color: var(--sklearn-color-background);\n",
       "  padding-right: 1em;\n",
       "  padding-left: 1em;\n",
       "}\n",
       "\n",
       "\n",
       "/* Toggleable style: style used for estimator/Pipeline/ColumnTransformer box that is\n",
       "clickable and can be expanded/collapsed.\n",
       "- Pipeline and ColumnTransformer use this feature and define the default style\n",
       "- Estimators will overwrite some part of the style using the `sk-estimator` class\n",
       "*/\n",
       "\n",
       "/* Pipeline and ColumnTransformer style (default) */\n",
       "\n",
       "#sk-container-id-5 div.sk-toggleable {\n",
       "  /* Default theme specific background. It is overwritten whether we have a\n",
       "  specific estimator or a Pipeline/ColumnTransformer */\n",
       "  background-color: var(--sklearn-color-background);\n",
       "}\n",
       "\n",
       "/* Toggleable label */\n",
       "#sk-container-id-5 label.sk-toggleable__label {\n",
       "  cursor: pointer;\n",
       "  display: block;\n",
       "  width: 100%;\n",
       "  margin-bottom: 0;\n",
       "  padding: 0.5em;\n",
       "  box-sizing: border-box;\n",
       "  text-align: center;\n",
       "}\n",
       "\n",
       "#sk-container-id-5 label.sk-toggleable__label-arrow:before {\n",
       "  /* Arrow on the left of the label */\n",
       "  content: \"▸\";\n",
       "  float: left;\n",
       "  margin-right: 0.25em;\n",
       "  color: var(--sklearn-color-icon);\n",
       "}\n",
       "\n",
       "#sk-container-id-5 label.sk-toggleable__label-arrow:hover:before {\n",
       "  color: var(--sklearn-color-text);\n",
       "}\n",
       "\n",
       "/* Toggleable content - dropdown */\n",
       "\n",
       "#sk-container-id-5 div.sk-toggleable__content {\n",
       "  max-height: 0;\n",
       "  max-width: 0;\n",
       "  overflow: hidden;\n",
       "  text-align: left;\n",
       "  /* unfitted */\n",
       "  background-color: var(--sklearn-color-unfitted-level-0);\n",
       "}\n",
       "\n",
       "#sk-container-id-5 div.sk-toggleable__content.fitted {\n",
       "  /* fitted */\n",
       "  background-color: var(--sklearn-color-fitted-level-0);\n",
       "}\n",
       "\n",
       "#sk-container-id-5 div.sk-toggleable__content pre {\n",
       "  margin: 0.2em;\n",
       "  border-radius: 0.25em;\n",
       "  color: var(--sklearn-color-text);\n",
       "  /* unfitted */\n",
       "  background-color: var(--sklearn-color-unfitted-level-0);\n",
       "}\n",
       "\n",
       "#sk-container-id-5 div.sk-toggleable__content.fitted pre {\n",
       "  /* unfitted */\n",
       "  background-color: var(--sklearn-color-fitted-level-0);\n",
       "}\n",
       "\n",
       "#sk-container-id-5 input.sk-toggleable__control:checked~div.sk-toggleable__content {\n",
       "  /* Expand drop-down */\n",
       "  max-height: 200px;\n",
       "  max-width: 100%;\n",
       "  overflow: auto;\n",
       "}\n",
       "\n",
       "#sk-container-id-5 input.sk-toggleable__control:checked~label.sk-toggleable__label-arrow:before {\n",
       "  content: \"▾\";\n",
       "}\n",
       "\n",
       "/* Pipeline/ColumnTransformer-specific style */\n",
       "\n",
       "#sk-container-id-5 div.sk-label input.sk-toggleable__control:checked~label.sk-toggleable__label {\n",
       "  color: var(--sklearn-color-text);\n",
       "  background-color: var(--sklearn-color-unfitted-level-2);\n",
       "}\n",
       "\n",
       "#sk-container-id-5 div.sk-label.fitted input.sk-toggleable__control:checked~label.sk-toggleable__label {\n",
       "  background-color: var(--sklearn-color-fitted-level-2);\n",
       "}\n",
       "\n",
       "/* Estimator-specific style */\n",
       "\n",
       "/* Colorize estimator box */\n",
       "#sk-container-id-5 div.sk-estimator input.sk-toggleable__control:checked~label.sk-toggleable__label {\n",
       "  /* unfitted */\n",
       "  background-color: var(--sklearn-color-unfitted-level-2);\n",
       "}\n",
       "\n",
       "#sk-container-id-5 div.sk-estimator.fitted input.sk-toggleable__control:checked~label.sk-toggleable__label {\n",
       "  /* fitted */\n",
       "  background-color: var(--sklearn-color-fitted-level-2);\n",
       "}\n",
       "\n",
       "#sk-container-id-5 div.sk-label label.sk-toggleable__label,\n",
       "#sk-container-id-5 div.sk-label label {\n",
       "  /* The background is the default theme color */\n",
       "  color: var(--sklearn-color-text-on-default-background);\n",
       "}\n",
       "\n",
       "/* On hover, darken the color of the background */\n",
       "#sk-container-id-5 div.sk-label:hover label.sk-toggleable__label {\n",
       "  color: var(--sklearn-color-text);\n",
       "  background-color: var(--sklearn-color-unfitted-level-2);\n",
       "}\n",
       "\n",
       "/* Label box, darken color on hover, fitted */\n",
       "#sk-container-id-5 div.sk-label.fitted:hover label.sk-toggleable__label.fitted {\n",
       "  color: var(--sklearn-color-text);\n",
       "  background-color: var(--sklearn-color-fitted-level-2);\n",
       "}\n",
       "\n",
       "/* Estimator label */\n",
       "\n",
       "#sk-container-id-5 div.sk-label label {\n",
       "  font-family: monospace;\n",
       "  font-weight: bold;\n",
       "  display: inline-block;\n",
       "  line-height: 1.2em;\n",
       "}\n",
       "\n",
       "#sk-container-id-5 div.sk-label-container {\n",
       "  text-align: center;\n",
       "}\n",
       "\n",
       "/* Estimator-specific */\n",
       "#sk-container-id-5 div.sk-estimator {\n",
       "  font-family: monospace;\n",
       "  border: 1px dotted var(--sklearn-color-border-box);\n",
       "  border-radius: 0.25em;\n",
       "  box-sizing: border-box;\n",
       "  margin-bottom: 0.5em;\n",
       "  /* unfitted */\n",
       "  background-color: var(--sklearn-color-unfitted-level-0);\n",
       "}\n",
       "\n",
       "#sk-container-id-5 div.sk-estimator.fitted {\n",
       "  /* fitted */\n",
       "  background-color: var(--sklearn-color-fitted-level-0);\n",
       "}\n",
       "\n",
       "/* on hover */\n",
       "#sk-container-id-5 div.sk-estimator:hover {\n",
       "  /* unfitted */\n",
       "  background-color: var(--sklearn-color-unfitted-level-2);\n",
       "}\n",
       "\n",
       "#sk-container-id-5 div.sk-estimator.fitted:hover {\n",
       "  /* fitted */\n",
       "  background-color: var(--sklearn-color-fitted-level-2);\n",
       "}\n",
       "\n",
       "/* Specification for estimator info (e.g. \"i\" and \"?\") */\n",
       "\n",
       "/* Common style for \"i\" and \"?\" */\n",
       "\n",
       ".sk-estimator-doc-link,\n",
       "a:link.sk-estimator-doc-link,\n",
       "a:visited.sk-estimator-doc-link {\n",
       "  float: right;\n",
       "  font-size: smaller;\n",
       "  line-height: 1em;\n",
       "  font-family: monospace;\n",
       "  background-color: var(--sklearn-color-background);\n",
       "  border-radius: 1em;\n",
       "  height: 1em;\n",
       "  width: 1em;\n",
       "  text-decoration: none !important;\n",
       "  margin-left: 1ex;\n",
       "  /* unfitted */\n",
       "  border: var(--sklearn-color-unfitted-level-1) 1pt solid;\n",
       "  color: var(--sklearn-color-unfitted-level-1);\n",
       "}\n",
       "\n",
       ".sk-estimator-doc-link.fitted,\n",
       "a:link.sk-estimator-doc-link.fitted,\n",
       "a:visited.sk-estimator-doc-link.fitted {\n",
       "  /* fitted */\n",
       "  border: var(--sklearn-color-fitted-level-1) 1pt solid;\n",
       "  color: var(--sklearn-color-fitted-level-1);\n",
       "}\n",
       "\n",
       "/* On hover */\n",
       "div.sk-estimator:hover .sk-estimator-doc-link:hover,\n",
       ".sk-estimator-doc-link:hover,\n",
       "div.sk-label-container:hover .sk-estimator-doc-link:hover,\n",
       ".sk-estimator-doc-link:hover {\n",
       "  /* unfitted */\n",
       "  background-color: var(--sklearn-color-unfitted-level-3);\n",
       "  color: var(--sklearn-color-background);\n",
       "  text-decoration: none;\n",
       "}\n",
       "\n",
       "div.sk-estimator.fitted:hover .sk-estimator-doc-link.fitted:hover,\n",
       ".sk-estimator-doc-link.fitted:hover,\n",
       "div.sk-label-container:hover .sk-estimator-doc-link.fitted:hover,\n",
       ".sk-estimator-doc-link.fitted:hover {\n",
       "  /* fitted */\n",
       "  background-color: var(--sklearn-color-fitted-level-3);\n",
       "  color: var(--sklearn-color-background);\n",
       "  text-decoration: none;\n",
       "}\n",
       "\n",
       "/* Span, style for the box shown on hovering the info icon */\n",
       ".sk-estimator-doc-link span {\n",
       "  display: none;\n",
       "  z-index: 9999;\n",
       "  position: relative;\n",
       "  font-weight: normal;\n",
       "  right: .2ex;\n",
       "  padding: .5ex;\n",
       "  margin: .5ex;\n",
       "  width: min-content;\n",
       "  min-width: 20ex;\n",
       "  max-width: 50ex;\n",
       "  color: var(--sklearn-color-text);\n",
       "  box-shadow: 2pt 2pt 4pt #999;\n",
       "  /* unfitted */\n",
       "  background: var(--sklearn-color-unfitted-level-0);\n",
       "  border: .5pt solid var(--sklearn-color-unfitted-level-3);\n",
       "}\n",
       "\n",
       ".sk-estimator-doc-link.fitted span {\n",
       "  /* fitted */\n",
       "  background: var(--sklearn-color-fitted-level-0);\n",
       "  border: var(--sklearn-color-fitted-level-3);\n",
       "}\n",
       "\n",
       ".sk-estimator-doc-link:hover span {\n",
       "  display: block;\n",
       "}\n",
       "\n",
       "/* \"?\"-specific style due to the `<a>` HTML tag */\n",
       "\n",
       "#sk-container-id-5 a.estimator_doc_link {\n",
       "  float: right;\n",
       "  font-size: 1rem;\n",
       "  line-height: 1em;\n",
       "  font-family: monospace;\n",
       "  background-color: var(--sklearn-color-background);\n",
       "  border-radius: 1rem;\n",
       "  height: 1rem;\n",
       "  width: 1rem;\n",
       "  text-decoration: none;\n",
       "  /* unfitted */\n",
       "  color: var(--sklearn-color-unfitted-level-1);\n",
       "  border: var(--sklearn-color-unfitted-level-1) 1pt solid;\n",
       "}\n",
       "\n",
       "#sk-container-id-5 a.estimator_doc_link.fitted {\n",
       "  /* fitted */\n",
       "  border: var(--sklearn-color-fitted-level-1) 1pt solid;\n",
       "  color: var(--sklearn-color-fitted-level-1);\n",
       "}\n",
       "\n",
       "/* On hover */\n",
       "#sk-container-id-5 a.estimator_doc_link:hover {\n",
       "  /* unfitted */\n",
       "  background-color: var(--sklearn-color-unfitted-level-3);\n",
       "  color: var(--sklearn-color-background);\n",
       "  text-decoration: none;\n",
       "}\n",
       "\n",
       "#sk-container-id-5 a.estimator_doc_link.fitted:hover {\n",
       "  /* fitted */\n",
       "  background-color: var(--sklearn-color-fitted-level-3);\n",
       "}\n",
       "</style><div id=\"sk-container-id-5\" class=\"sk-top-container\"><div class=\"sk-text-repr-fallback\"><pre>GridSearchCV(cv=10,\n",
       "             estimator=Pipeline(steps=[(&#x27;poly&#x27;,\n",
       "                                        PolynomialFeatures(degree=5,\n",
       "                                                           include_bias=False)),\n",
       "                                       (&#x27;scale&#x27;, StandardScaler()),\n",
       "                                       (&#x27;pca&#x27;, PCA(n_components=0.9)),\n",
       "                                       (&#x27;lr&#x27;, LinearRegression())]),\n",
       "             n_jobs=-1,\n",
       "             param_grid={&#x27;pca__n_components&#x27;: array([0.9       , 0.90526311, 0.91052621, 0.91578932, 0.92105242,\n",
       "       0.92631553, 0.93157863, 0.93684174, 0.94210484, 0.94736795,\n",
       "       0.95263105, 0.95789416, 0.96315726, 0.96842037, 0.97368347,\n",
       "       0.97894658, 0.98420968, 0.98947279, 0.99473589, 0.999999  ]),\n",
       "                         &#x27;poly__degree&#x27;: array([1, 2, 3, 4, 5])},\n",
       "             scoring=&#x27;neg_root_mean_squared_error&#x27;)</pre><b>In a Jupyter environment, please rerun this cell to show the HTML representation or trust the notebook. <br />On GitHub, the HTML representation is unable to render, please try loading this page with nbviewer.org.</b></div><div class=\"sk-container\" hidden><div class=\"sk-item sk-dashed-wrapped\"><div class=\"sk-label-container\"><div class=\"sk-label fitted sk-toggleable\"><input class=\"sk-toggleable__control sk-hidden--visually\" id=\"sk-estimator-id-15\" type=\"checkbox\" ><label for=\"sk-estimator-id-15\" class=\"sk-toggleable__label fitted sk-toggleable__label-arrow fitted\">&nbsp;&nbsp;GridSearchCV<a class=\"sk-estimator-doc-link fitted\" rel=\"noreferrer\" target=\"_blank\" href=\"https://scikit-learn.org/1.5/modules/generated/sklearn.model_selection.GridSearchCV.html\">?<span>Documentation for GridSearchCV</span></a><span class=\"sk-estimator-doc-link fitted\">i<span>Fitted</span></span></label><div class=\"sk-toggleable__content fitted\"><pre>GridSearchCV(cv=10,\n",
       "             estimator=Pipeline(steps=[(&#x27;poly&#x27;,\n",
       "                                        PolynomialFeatures(degree=5,\n",
       "                                                           include_bias=False)),\n",
       "                                       (&#x27;scale&#x27;, StandardScaler()),\n",
       "                                       (&#x27;pca&#x27;, PCA(n_components=0.9)),\n",
       "                                       (&#x27;lr&#x27;, LinearRegression())]),\n",
       "             n_jobs=-1,\n",
       "             param_grid={&#x27;pca__n_components&#x27;: array([0.9       , 0.90526311, 0.91052621, 0.91578932, 0.92105242,\n",
       "       0.92631553, 0.93157863, 0.93684174, 0.94210484, 0.94736795,\n",
       "       0.95263105, 0.95789416, 0.96315726, 0.96842037, 0.97368347,\n",
       "       0.97894658, 0.98420968, 0.98947279, 0.99473589, 0.999999  ]),\n",
       "                         &#x27;poly__degree&#x27;: array([1, 2, 3, 4, 5])},\n",
       "             scoring=&#x27;neg_root_mean_squared_error&#x27;)</pre></div> </div></div><div class=\"sk-parallel\"><div class=\"sk-parallel-item\"><div class=\"sk-item\"><div class=\"sk-label-container\"><div class=\"sk-label fitted sk-toggleable\"><input class=\"sk-toggleable__control sk-hidden--visually\" id=\"sk-estimator-id-16\" type=\"checkbox\" ><label for=\"sk-estimator-id-16\" class=\"sk-toggleable__label fitted sk-toggleable__label-arrow fitted\">best_estimator_: Pipeline</label><div class=\"sk-toggleable__content fitted\"><pre>Pipeline(steps=[(&#x27;poly&#x27;,\n",
       "                 PolynomialFeatures(degree=np.int64(3), include_bias=False)),\n",
       "                (&#x27;scale&#x27;, StandardScaler()),\n",
       "                (&#x27;pca&#x27;, PCA(n_components=np.float64(0.999999))),\n",
       "                (&#x27;lr&#x27;, LinearRegression())])</pre></div> </div></div><div class=\"sk-serial\"><div class=\"sk-item\"><div class=\"sk-serial\"><div class=\"sk-item\"><div class=\"sk-estimator fitted sk-toggleable\"><input class=\"sk-toggleable__control sk-hidden--visually\" id=\"sk-estimator-id-17\" type=\"checkbox\" ><label for=\"sk-estimator-id-17\" class=\"sk-toggleable__label fitted sk-toggleable__label-arrow fitted\">&nbsp;PolynomialFeatures<a class=\"sk-estimator-doc-link fitted\" rel=\"noreferrer\" target=\"_blank\" href=\"https://scikit-learn.org/1.5/modules/generated/sklearn.preprocessing.PolynomialFeatures.html\">?<span>Documentation for PolynomialFeatures</span></a></label><div class=\"sk-toggleable__content fitted\"><pre>PolynomialFeatures(degree=np.int64(3), include_bias=False)</pre></div> </div></div><div class=\"sk-item\"><div class=\"sk-estimator fitted sk-toggleable\"><input class=\"sk-toggleable__control sk-hidden--visually\" id=\"sk-estimator-id-18\" type=\"checkbox\" ><label for=\"sk-estimator-id-18\" class=\"sk-toggleable__label fitted sk-toggleable__label-arrow fitted\">&nbsp;StandardScaler<a class=\"sk-estimator-doc-link fitted\" rel=\"noreferrer\" target=\"_blank\" href=\"https://scikit-learn.org/1.5/modules/generated/sklearn.preprocessing.StandardScaler.html\">?<span>Documentation for StandardScaler</span></a></label><div class=\"sk-toggleable__content fitted\"><pre>StandardScaler()</pre></div> </div></div><div class=\"sk-item\"><div class=\"sk-estimator fitted sk-toggleable\"><input class=\"sk-toggleable__control sk-hidden--visually\" id=\"sk-estimator-id-19\" type=\"checkbox\" ><label for=\"sk-estimator-id-19\" class=\"sk-toggleable__label fitted sk-toggleable__label-arrow fitted\">&nbsp;PCA<a class=\"sk-estimator-doc-link fitted\" rel=\"noreferrer\" target=\"_blank\" href=\"https://scikit-learn.org/1.5/modules/generated/sklearn.decomposition.PCA.html\">?<span>Documentation for PCA</span></a></label><div class=\"sk-toggleable__content fitted\"><pre>PCA(n_components=np.float64(0.999999))</pre></div> </div></div><div class=\"sk-item\"><div class=\"sk-estimator fitted sk-toggleable\"><input class=\"sk-toggleable__control sk-hidden--visually\" id=\"sk-estimator-id-20\" type=\"checkbox\" ><label for=\"sk-estimator-id-20\" class=\"sk-toggleable__label fitted sk-toggleable__label-arrow fitted\">&nbsp;LinearRegression<a class=\"sk-estimator-doc-link fitted\" rel=\"noreferrer\" target=\"_blank\" href=\"https://scikit-learn.org/1.5/modules/generated/sklearn.linear_model.LinearRegression.html\">?<span>Documentation for LinearRegression</span></a></label><div class=\"sk-toggleable__content fitted\"><pre>LinearRegression()</pre></div> </div></div></div></div></div></div></div></div></div></div></div>"
      ],
      "text/plain": [
       "GridSearchCV(cv=10,\n",
       "             estimator=Pipeline(steps=[('poly',\n",
       "                                        PolynomialFeatures(degree=5,\n",
       "                                                           include_bias=False)),\n",
       "                                       ('scale', StandardScaler()),\n",
       "                                       ('pca', PCA(n_components=0.9)),\n",
       "                                       ('lr', LinearRegression())]),\n",
       "             n_jobs=-1,\n",
       "             param_grid={'pca__n_components': array([0.9       , 0.90526311, 0.91052621, 0.91578932, 0.92105242,\n",
       "       0.92631553, 0.93157863, 0.93684174, 0.94210484, 0.94736795,\n",
       "       0.95263105, 0.95789416, 0.96315726, 0.96842037, 0.97368347,\n",
       "       0.97894658, 0.98420968, 0.98947279, 0.99473589, 0.999999  ]),\n",
       "                         'poly__degree': array([1, 2, 3, 4, 5])},\n",
       "             scoring='neg_root_mean_squared_error')"
      ]
     },
     "execution_count": 74,
     "metadata": {},
     "output_type": "execute_result"
    }
   ],
   "source": [
    "from sklearn.model_selection import GridSearchCV\n",
    "import numpy as np\n",
    "\n",
    "# Define grid of hyperparameters\n",
    "param_grid = {\n",
    "    'poly__degree': np.arange(1, 6),\n",
    "    'pca__n_components': np.linspace(0.9, 0.999999, 20),\n",
    "}\n",
    "\n",
    "# Create GridSearchCV object\n",
    "pcr_cv = GridSearchCV(\n",
    "    estimator=pipe_pcr,                     # Estimator pipeline\n",
    "    param_grid=param_grid,                  # Grid of hyperparameters\n",
    "    scoring='neg_root_mean_squared_error',  # Scoring criterion\n",
    "    cv=10,                                  # Number of folds for CV\n",
    "    n_jobs=-1,                              # Use all available CPU cores\n",
    "    refit=True                              # Refit model with best hyperparameters\n",
    ")\n",
    "\n",
    "# Run grid search\n",
    "pcr_cv.fit(X, y)"
   ]
  },
  {
   "cell_type": "markdown",
   "metadata": {},
   "source": [
    "Once grid search is complete, we can obtain the best parameter combination from the `best_params_` attribute, and the best score (negative RMSE in this case) from the `best_score_` attribute:"
   ]
  },
  {
   "cell_type": "code",
   "execution_count": 75,
   "metadata": {},
   "outputs": [
    {
     "data": {
      "text/plain": [
       "{'pca__n_components': np.float64(0.999999), 'poly__degree': np.int64(3)}"
      ]
     },
     "execution_count": 75,
     "metadata": {},
     "output_type": "execute_result"
    }
   ],
   "source": [
    "# Extract best cross-validated hyperparameters\n",
    "pcr_cv.best_params_"
   ]
  },
  {
   "cell_type": "code",
   "execution_count": 76,
   "metadata": {},
   "outputs": [
    {
     "name": "stdout",
     "output_type": "stream",
     "text": [
      "Best RMSE: 28.961\n"
     ]
    }
   ],
   "source": [
    "# Print RMSE (averaged over folds) for the best model\n",
    "print(f'Best RMSE: {-pcr_cv.best_score_:.3f}')"
   ]
  },
  {
   "cell_type": "markdown",
   "metadata": {},
   "source": [
    "Moreover, from the PCA step we can read off how many components were selected in the process:"
   ]
  },
  {
   "cell_type": "code",
   "execution_count": 77,
   "metadata": {},
   "outputs": [
    {
     "name": "stdout",
     "output_type": "stream",
     "text": [
      "Number of polynomial features: 34\n",
      "Number of principal components: 24\n"
     ]
    }
   ],
   "source": [
    "# Number of total polynomial features in the best model\n",
    "features_in = pcr_cv.best_estimator_.named_steps['pca'].n_features_in_\n",
    "# Number of principal components in the best model\n",
    "n_components = pcr_cv.best_estimator_.named_steps['pca'].n_components_\n",
    "\n",
    "print(f'Number of polynomial features: {features_in}')\n",
    "print(f'Number of principal components: {n_components}')"
   ]
  },
  {
   "cell_type": "markdown",
   "metadata": {},
   "source": [
    "Last, we recreate the bar chart of the variance explained by each component in the best model:"
   ]
  },
  {
   "cell_type": "code",
   "execution_count": 78,
   "metadata": {},
   "outputs": [
    {
     "data": {
      "text/plain": [
       "<Axes: title={'center': 'PCA explained variance'}, ylabel='Fraction of variance'>"
      ]
     },
     "execution_count": 78,
     "metadata": {},
     "output_type": "execute_result"
    },
    {
     "data": {
      "image/png": "[encoded data removed]",
      "text/plain": [
       "<Figure size 800x300 with 1 Axes>"
      ]
     },
     "metadata": {},
     "output_type": "display_data"
    }
   ],
   "source": [
    "var_expl = pcr_cv.best_estimator_.named_steps['pca'].explained_variance_ratio_[:10]\n",
    "pd.Series(var_expl, index=[f'PC{i+1}' for i in range(len(var_expl))]).plot.bar(\n",
    "    ylabel='Fraction of variance', title='PCA explained variance', rot=0,\n",
    "    figsize=(8, 3)\n",
    ")"
   ]
  },
  {
   "cell_type": "markdown",
   "metadata": {},
   "source": [
    "<div class=\"alert alert-info\">\n",
    "<h3> Your turn</h3>\n",
    "<ol>\n",
    "    <li>Add the variables <tt>YearRemodeled</tt>, <tt>Bedrooms</tt>, and <tt>Bathrooms</tt>\n",
    "        to the feature set and rerun the cross-validation.\n",
    "    </li>\n",
    "    <li>What happens to the RMSE and the number of principal components of the best model?</li>\n",
    "</ol>\n",
    "</div>"
   ]
  },
  {
   "attachments": {},
   "cell_type": "markdown",
   "metadata": {},
   "source": [
    "***\n",
    "## Dealing with categorical data\n",
    "\n",
    "So far in this unit, we only dealt with continuous data, i.e., data that can take on (almost any) real value. However, many data sets contain categorical variables which take on a finite number of admissible values or even binary variables (often called dummy or indicator variables) which can be either 0 or 1. Dealing with such data in `scikit-learn` is less straightforward than in most other software packages, so in this section we illustrate how to work with categorical variables.\n",
    "\n",
    "To do this, we again load the Ames house data which contains several categorical and binary variables."
   ]
  },
  {
   "cell_type": "code",
   "execution_count": 79,
   "metadata": {},
   "outputs": [],
   "source": [
    "import pandas as pd\n",
    "\n",
    "df = pd.read_csv(f'{DATA_PATH}/ames_houses.csv')"
   ]
  },
  {
   "attachments": {},
   "cell_type": "markdown",
   "metadata": {},
   "source": [
    "For example, consider the `BuildingType` variable, which (in this simplified version of the data) takes on three values, 'Single-family', 'Townhouse' and 'Two-family' and has on top a few missing observations. We use the \n",
    "[`value_counts()`](https://pandas.pydata.org/docs/reference/api/pandas.DataFrame.value_counts.html) method to tabulate the number of observations falling into each category. The argument `dropna=False` also includes the number of missing values in the tabulation."
   ]
  },
  {
   "cell_type": "code",
   "execution_count": 80,
   "metadata": {},
   "outputs": [
    {
     "data": {
      "text/plain": [
       "BuildingType\n",
       "Single-family    2425\n",
       "Townhouse         233\n",
       "Two-family        109\n",
       "NaN               163\n",
       "Name: count, dtype: int64"
      ]
     },
     "execution_count": 80,
     "metadata": {},
     "output_type": "execute_result"
    }
   ],
   "source": [
    "df['BuildingType'].value_counts(dropna=False).sort_index()"
   ]
  },
  {
   "attachments": {},
   "cell_type": "markdown",
   "metadata": {},
   "source": [
    "There are several ways to deal with such data (see the official\n",
    "[documentation](https://scikit-learn.org/stable/modules/preprocessing.html#encoding-categorical-features) for details). \n",
    "First, since the data are stored as strings, we could use \n",
    "[`OrdinalEncoder`](https://scikit-learn.org/stable/modules/generated/sklearn.preprocessing.OrdinalEncoder.html)\n",
    "to map these strings to integers."
   ]
  },
  {
   "cell_type": "code",
   "execution_count": 81,
   "metadata": {},
   "outputs": [
    {
     "name": "stdout",
     "output_type": "stream",
     "text": [
      "Unique values: [0. 1. 2.]\n",
      "Histogram: [2425  233  109]\n"
     ]
    }
   ],
   "source": [
    "from sklearn.preprocessing import OrdinalEncoder\n",
    "\n",
    "# Drop rows with NA\n",
    "df = df.dropna(subset='BuildingType')\n",
    "\n",
    "enc = OrdinalEncoder()\n",
    "\n",
    "# Transform string variable into integers\n",
    "bldg_int = enc.fit_transform(df[['BuildingType']])\n",
    "\n",
    "# Print unique values and histogram\n",
    "print(f'Unique values: {np.unique(bldg_int)}')\n",
    "print(f'Histogram: {np.bincount(bldg_int.astype(int).flatten())}')\n"
   ]
  },
  {
   "attachments": {},
   "cell_type": "markdown",
   "metadata": {},
   "source": [
    "This, however, is still not particularly useful if we want to use these categories as explanatory variables in a `LinearRegression` because `scikit-learn` will simply treat them as a continuous variable that happens to take on the values 0, 1 or 2. There is nothing to enforce the categorical nature of this data.\n",
    "\n",
    "An alternative encoding strategy is to create a binary dummy variable for each possible value of a categorical variable. This is achieved using the \n",
    "[OneHotEncoder](https://scikit-learn.org/stable/modules/generated/sklearn.preprocessing.OneHotEncoder.html) \n",
    "transformation as illustrated by the following code:"
   ]
  },
  {
   "cell_type": "code",
   "execution_count": 82,
   "metadata": {},
   "outputs": [],
   "source": [
    "from sklearn.preprocessing import OneHotEncoder\n",
    "\n",
    "# Drop rows with NA\n",
    "df = df.dropna(subset='BuildingType')\n",
    "\n",
    "# List of unique categories\n",
    "bldg_uniq = list(np.sort(df['BuildingType'].unique()))\n",
    "\n",
    "# Create dummy variable encoder\n",
    "enc = OneHotEncoder(categories=[bldg_uniq], sparse_output=False)\n",
    "\n",
    "# Convert string variable into binary indicator variables\n",
    "bldg_dummies = enc.fit_transform(df[['BuildingType']])"
   ]
  },
  {
   "attachments": {},
   "cell_type": "markdown",
   "metadata": {},
   "source": [
    "When creating a `OneHotEncoder`, we can optionally pass the list of possible values using the `categories` argument. By default, this transformation returns a sparse matrix since each row will have exactly one element that is 1 while the remaining elements are 0. Using a sparse matrix saves memory but makes interacting with the resulting array more cumbersome. For small data sets, there is no need to use sparse matrices.\n",
    "\n",
    "The transformed data now looks as follows:"
   ]
  },
  {
   "cell_type": "code",
   "execution_count": 83,
   "metadata": {},
   "outputs": [
    {
     "data": {
      "text/plain": [
       "array([[1., 0., 0.],\n",
       "       [1., 0., 0.],\n",
       "       [1., 0., 0.],\n",
       "       [1., 0., 0.],\n",
       "       [1., 0., 0.]])"
      ]
     },
     "execution_count": 83,
     "metadata": {},
     "output_type": "execute_result"
    }
   ],
   "source": [
    "# Print first 5 rows\n",
    "bldg_dummies[:5]"
   ]
  },
  {
   "attachments": {},
   "cell_type": "markdown",
   "metadata": {},
   "source": [
    "In this particular example, the first five observations fall into the first category, hence the first column contains ones while the remaining elements are zero.\n",
    "\n",
    "We can sum the number of ones in each column to verify that the frequency of each category remains the same:"
   ]
  },
  {
   "cell_type": "code",
   "execution_count": 84,
   "metadata": {},
   "outputs": [
    {
     "data": {
      "text/plain": [
       "array([2425.,  233.,  109.])"
      ]
     },
     "execution_count": 84,
     "metadata": {},
     "output_type": "execute_result"
    }
   ],
   "source": [
    "bldg_dummies.sum(axis=0)"
   ]
  },
  {
   "attachments": {},
   "cell_type": "markdown",
   "metadata": {},
   "source": [
    "The category labels taken from the original data are stored in the `categories_` attribute:"
   ]
  },
  {
   "cell_type": "code",
   "execution_count": 85,
   "metadata": {},
   "outputs": [
    {
     "data": {
      "text/plain": [
       "array(['Single-family', 'Townhouse', 'Two-family'], dtype=object)"
      ]
     },
     "execution_count": 85,
     "metadata": {},
     "output_type": "execute_result"
    }
   ],
   "source": [
    "enc.categories_[0]"
   ]
  },
  {
   "attachments": {},
   "cell_type": "markdown",
   "metadata": {},
   "source": [
    "Now that we have converted the categories into a dummy matrix, we can append it to the continuous explanatory variables and fit the linear model as usual:"
   ]
  },
  {
   "cell_type": "code",
   "execution_count": 86,
   "metadata": {},
   "outputs": [
    {
     "data": {
      "text/html": [
       "<div>\n",
       "<style scoped>\n",
       "    .dataframe tbody tr th:only-of-type {\n",
       "        vertical-align: middle;\n",
       "    }\n",
       "\n",
       "    .dataframe tbody tr th {\n",
       "        vertical-align: top;\n",
       "    }\n",
       "\n",
       "    .dataframe thead th {\n",
       "        text-align: right;\n",
       "    }\n",
       "</style>\n",
       "<table border=\"1\" class=\"dataframe\">\n",
       "  <thead>\n",
       "    <tr style=\"text-align: right;\">\n",
       "      <th></th>\n",
       "      <th>Coef</th>\n",
       "    </tr>\n",
       "  </thead>\n",
       "  <tbody>\n",
       "    <tr>\n",
       "      <th>LivingArea</th>\n",
       "      <td>1.214031</td>\n",
       "    </tr>\n",
       "    <tr>\n",
       "      <th>LotArea</th>\n",
       "      <td>0.009499</td>\n",
       "    </tr>\n",
       "    <tr>\n",
       "      <th>BuildingType: Single-family</th>\n",
       "      <td>3.979294</td>\n",
       "    </tr>\n",
       "    <tr>\n",
       "      <th>BuildingType: Townhouse</th>\n",
       "      <td>36.668665</td>\n",
       "    </tr>\n",
       "    <tr>\n",
       "      <th>BuildingType: Two-family</th>\n",
       "      <td>-55.219532</td>\n",
       "    </tr>\n",
       "  </tbody>\n",
       "</table>\n",
       "</div>"
      ],
      "text/plain": [
       "                                  Coef\n",
       "LivingArea                    1.214031\n",
       "LotArea                       0.009499\n",
       "BuildingType: Single-family   3.979294\n",
       "BuildingType: Townhouse      36.668665\n",
       "BuildingType: Two-family    -55.219532"
      ]
     },
     "execution_count": 86,
     "metadata": {},
     "output_type": "execute_result"
    }
   ],
   "source": [
    "from sklearn.linear_model import LinearRegression\n",
    "import pandas as pd\n",
    "\n",
    "# Name of dependent variable\n",
    "target = 'SalePrice'\n",
    "# Continuous explanatory variables to include\n",
    "continuous = ['LivingArea', 'LotArea']\n",
    "\n",
    "y = df[target].to_numpy()\n",
    "# Feature matrix with dummies appended\n",
    "X = np.hstack((df[continuous].to_numpy(), bldg_dummies))\n",
    "\n",
    "# Create and fit linear model\n",
    "lr = LinearRegression(fit_intercept=False)\n",
    "lr.fit(X, y)\n",
    "\n",
    "# Create DataFrame containing estimated coefficients\n",
    "labels = continuous + [f'BuildingType: {s}' for s in enc.categories_[0]]\n",
    "\n",
    "coefs = pd.DataFrame(lr.coef_, index=labels, columns=['Coef'])\n",
    "coefs"
   ]
  },
  {
   "attachments": {},
   "cell_type": "markdown",
   "metadata": {},
   "source": [
    "Finally, you should be aware that `pandas` provides the function\n",
    "[`get_dummies()`](https://pandas.pydata.org/docs/reference/api/pandas.get_dummies.html) which accomplishes something very similar to `OneHotEnconder` but may not work as well with the `scikit-learn` API."
   ]
  },
  {
   "cell_type": "code",
   "execution_count": 87,
   "metadata": {},
   "outputs": [
    {
     "data": {
      "text/html": [
       "<div>\n",
       "<style scoped>\n",
       "    .dataframe tbody tr th:only-of-type {\n",
       "        vertical-align: middle;\n",
       "    }\n",
       "\n",
       "    .dataframe tbody tr th {\n",
       "        vertical-align: top;\n",
       "    }\n",
       "\n",
       "    .dataframe thead th {\n",
       "        text-align: right;\n",
       "    }\n",
       "</style>\n",
       "<table border=\"1\" class=\"dataframe\">\n",
       "  <thead>\n",
       "    <tr style=\"text-align: right;\">\n",
       "      <th></th>\n",
       "      <th>Single-family</th>\n",
       "      <th>Townhouse</th>\n",
       "      <th>Two-family</th>\n",
       "    </tr>\n",
       "  </thead>\n",
       "  <tbody>\n",
       "    <tr>\n",
       "      <th>0</th>\n",
       "      <td>True</td>\n",
       "      <td>False</td>\n",
       "      <td>False</td>\n",
       "    </tr>\n",
       "    <tr>\n",
       "      <th>1</th>\n",
       "      <td>True</td>\n",
       "      <td>False</td>\n",
       "      <td>False</td>\n",
       "    </tr>\n",
       "    <tr>\n",
       "      <th>2</th>\n",
       "      <td>True</td>\n",
       "      <td>False</td>\n",
       "      <td>False</td>\n",
       "    </tr>\n",
       "    <tr>\n",
       "      <th>3</th>\n",
       "      <td>True</td>\n",
       "      <td>False</td>\n",
       "      <td>False</td>\n",
       "    </tr>\n",
       "    <tr>\n",
       "      <th>4</th>\n",
       "      <td>True</td>\n",
       "      <td>False</td>\n",
       "      <td>False</td>\n",
       "    </tr>\n",
       "  </tbody>\n",
       "</table>\n",
       "</div>"
      ],
      "text/plain": [
       "   Single-family  Townhouse  Two-family\n",
       "0           True      False       False\n",
       "1           True      False       False\n",
       "2           True      False       False\n",
       "3           True      False       False\n",
       "4           True      False       False"
      ]
     },
     "execution_count": 87,
     "metadata": {},
     "output_type": "execute_result"
    }
   ],
   "source": [
    "pd.get_dummies(df['BuildingType']).head(5)"
   ]
  },
  {
   "attachments": {},
   "cell_type": "markdown",
   "metadata": {},
   "source": [
    "***\n",
    "## Optional exercises"
   ]
  },
  {
   "attachments": {},
   "cell_type": "markdown",
   "metadata": {},
   "source": [
    "### Exercise 1: Optimizing hyperparameters with validation curves\n",
    "\n",
    "In the lecture, we explored several ways to perform cross-validation. In this exercise, you are asked \n",
    "to use one of these methods to tune the polynomial degree of a model estimated on synthetic data.\n",
    "\n",
    "Consider the following model where $y$ is a non-linear trigonometric function of $x$ and includes an additive error term $\\epsilon$,\n",
    "$$\n",
    "y_i = f(x_i) + \\epsilon_i\\,, \\qquad f(x) = \\sin\\bigl(2 \\pi (x + 0.1) \\bigr)\n",
    "$$\n",
    "and $x$ and $\\epsilon$ are assumed to be independent.\n",
    "\n",
    "1.  Create a sample of $N=100$ realizations of $(x_i, \\epsilon_i)$ using a seed 1234 for the random number generator. \n",
    "    Draw the $x_i$ from the standard uniform distribution on $[0, 1]$ and \n",
    "    let $\\epsilon \\stackrel{\\text{iid}}{\\sim} N(0, 0.5^2)$.\n",
    "    Compute $y_i$ according to the equation above.\n",
    "\n",
    "    *Hint:* The sine function and the constant $\\pi$ are implemented as `np.sin()` and `np.pi` in NumPy.\n",
    "    \n",
    "2.  Create a sample scatter plot of $(x_i, y_i)$ and add a line showing the true relationship between $x$ and $y$ \n",
    "    (without measurement error).\n",
    "\n",
    "3.  Assume you don't know the true model and you want to fit the target $y$ to a polynomial in $x$. \n",
    "    To this end, create a [`Pipeline`](https://scikit-learn.org/stable/modules/generated/sklearn.pipeline.Pipeline.html)\n",
    "    that performs the polynomial transformation and the fitting of the linear model. You can use any value for \n",
    "    `PolynomialFeatures(degree=...)` at this point.\n",
    "\n",
    "4.  Use the convenience function \n",
    "    [`validation_curve()`](https://scikit-learn.org/stable/modules/generated/sklearn.model_selection.validation_curve.html)\n",
    "    to compute the MSE for *each* $d = 0,\\dots,15$ and 10 cross-validation splits in a single call:\n",
    "\n",
    "    ```python\n",
    "    train_scores, test_scores = validation_curve(\n",
    "        estimator=...,\n",
    "        ...,\n",
    "        param_name='polynomialfeatures__degree',\n",
    "        param_range=degrees,\n",
    "        scoring='neg_mean_squared_error', \n",
    "        cv=10\n",
    "    )\n",
    "    ```\n",
    "\n",
    "    To do this, the argument `estimator` specifies the model to use (i.e., the pipeline you created \n",
    "    in the previous part), `param_name` specifies which parameter needs to be varied, and `param_range` determines\n",
    "    the set of parameter values that are evaluated. The `scoring` argument determines which metric is computed \n",
    "    and returned.\n",
    "\n",
    "    Since our estimator is a pipeline, the parameter name needs to be specified as `'STEP__ARGUMENT'` where `STEP` is\n",
    "    the name of the step in the pipeline we defined (see \n",
    "    [`Pipeline`](https://scikit-learn.org/stable/modules/generated/sklearn.pipeline.Pipeline.html)\n",
    "    for details), and `ARGUMENT` determines the argument name to be varied when re-creating the pipeline,\n",
    "    which in our case is `degree`.\n",
    "\n",
    "    *Hint:* For pipelines created using \n",
    "    [`make_pipeline()`](https://scikit-learn.org/stable/modules/generated/sklearn.pipeline.make_pipeline.html),\n",
    "    the name of each step in the pipeline is the class name converted to lower case, i.e., for \n",
    "    `PolynomialFeatures` the step name is `polynomialfeatures`.\n",
    "    In this case, `validation_curve()` needs to be called with the argument\n",
    "    `param_name='polynomialfeatures__degree'`.\n",
    "\n",
    "5.  [`validation_curve()`](https://scikit-learn.org/stable/modules/generated/sklearn.model_selection.validation_curve.html)\n",
    "    returns two arrays which contain the scores computed on the training and test sets, respectively.\n",
    "    The first dimension of each array corresponds to each parameter from `param_range` and the second dimension\n",
    "    corresponds to individual folds used in the cross-validation.\n",
    "\n",
    "    Compute the average MSE for each polynomial degree. Report the polynomial degree at which this metric is minimized,\n",
    "    and plot the average MSE on the $y$-axis against all polynomial degrees on the $x$-axis to visualize your results.\n",
    "\n",
    "6.  Recreate the graph from Part (2) and add the predicted values from the model with optimal polynomial degree you found.\n",
    "\n",
    "\n",
    "The `scikit-learn` \n",
    "[documentation](https://scikit-learn.org/stable/modules/learning_curve.html) \n",
    "provides additional information on validation curves which you might want to consult.\n",
    "\n"
   ]
  },
  {
   "attachments": {},
   "cell_type": "markdown",
   "metadata": {},
   "source": [
    "***\n",
    "## Solutions"
   ]
  },
  {
   "attachments": {},
   "cell_type": "markdown",
   "metadata": {},
   "source": [
    "### Exercise 1: Optimizing hyperparameters with validation curves\n",
    "\n",
    "#### Part 1: Creating the sample\n",
    "\n",
    "We first define the function $f(x)$ that represents the true relationship."
   ]
  },
  {
   "cell_type": "code",
   "execution_count": 88,
   "metadata": {},
   "outputs": [],
   "source": [
    "import numpy as np\n",
    "\n",
    "# True function (w/o errors)\n",
    "def fcn(x):\n",
    "    return np.sin(2.0 * np.pi * (x + 0.1))"
   ]
  },
  {
   "cell_type": "markdown",
   "metadata": {},
   "source": [
    "We then draw a sample of size 100 using the respective distributions for $x_i$ and $\\epsilon_i$."
   ]
  },
  {
   "cell_type": "code",
   "execution_count": 89,
   "metadata": {},
   "outputs": [],
   "source": [
    "from numpy.random import default_rng\n",
    "\n",
    "# Initialise random number generator\n",
    "rng = default_rng(seed=1234)\n",
    "\n",
    "# Sample size\n",
    "N = 100\n",
    "\n",
    "# Randomly draw explanatory variable x\n",
    "x = rng.uniform(size=N)\n",
    "epsilon = rng.normal(scale=0.5, size=N)\n",
    "y = fcn(x) + epsilon"
   ]
  },
  {
   "cell_type": "markdown",
   "metadata": {},
   "source": [
    "#### Part 2: Plotting the sample"
   ]
  },
  {
   "cell_type": "code",
   "execution_count": 90,
   "metadata": {},
   "outputs": [
    {
     "data": {
      "text/plain": [
       "<matplotlib.legend.Legend at 0x2204504daf0>"
      ]
     },
     "execution_count": 90,
     "metadata": {},
     "output_type": "execute_result"
    },
    {
     "data": {
      "image/png": "[encoded data removed]",
      "text/plain": [
       "<Figure size 640x480 with 1 Axes>"
      ]
     },
     "metadata": {},
     "output_type": "display_data"
    }
   ],
   "source": [
    "import matplotlib.pyplot as plt\n",
    "\n",
    "# Plot raw data\n",
    "plt.scatter(x, y, s=20, color='none', edgecolor='steelblue', lw=0.75, label='Sample')\n",
    "\n",
    "# Plot true function on uniformly spaced grid\n",
    "xvalues = np.linspace(0.0, 1.0, 101)\n",
    "plt.plot(xvalues, fcn(xvalues), color='black', lw=1.0, label='True function')\n",
    "\n",
    "plt.xlabel('$x$')\n",
    "plt.ylabel('$y$')\n",
    "plt.legend()"
   ]
  },
  {
   "cell_type": "markdown",
   "metadata": {},
   "source": [
    "#### Part 3: Creating a pipeline\n",
    "\n",
    "We can create a pipeline using two equivalent ways, using either\n",
    "[`make_pipeline()`](https://scikit-learn.org/stable/modules/generated/sklearn.pipeline.make_pipeline.html) or\n",
    "[`Pipeline`](https://scikit-learn.org/stable/modules/generated/sklearn.pipeline.Pipeline.html)."
   ]
  },
  {
   "cell_type": "code",
   "execution_count": 91,
   "metadata": {},
   "outputs": [],
   "source": [
    "from sklearn.preprocessing import PolynomialFeatures\n",
    "from sklearn.linear_model import LinearRegression\n",
    "from sklearn.pipeline import make_pipeline\n",
    "\n",
    "# Create pipeline. The degree value does not matter at this point, will be\n",
    "# automatically updated.\n",
    "pipe = make_pipeline(\n",
    "    PolynomialFeatures(\n",
    "        degree=0, \n",
    "        include_bias=True\n",
    "    ),\n",
    "    LinearRegression(fit_intercept=False)\n",
    ")"
   ]
  },
  {
   "cell_type": "markdown",
   "metadata": {},
   "source": [
    "Alternatively, we could have created the pipeline using \n",
    "[`Pipeline`](https://scikit-learn.org/stable/modules/generated/sklearn.pipeline.Pipeline.html)\n",
    "which allows us to explicitly assign names to each pipeline step. We choose names which are the same as the default values assigned by \n",
    "[`make_pipeline()`](https://scikit-learn.org/stable/modules/generated/sklearn.pipeline.make_pipeline.html):"
   ]
  },
  {
   "cell_type": "code",
   "execution_count": 92,
   "metadata": {},
   "outputs": [],
   "source": [
    "from sklearn.pipeline import Pipeline\n",
    "\n",
    "# Create pipeline, explicitly specifying step names\n",
    "pipe = Pipeline(\n",
    "    [\n",
    "        ('polynomialfeatures', PolynomialFeatures(degree=0, include_bias=True)),\n",
    "        ('linearregression', LinearRegression(fit_intercept=False)),\n",
    "    ]\n",
    ")"
   ]
  },
  {
   "attachments": {},
   "cell_type": "markdown",
   "metadata": {},
   "source": [
    "#### Part 4: Computing the MSE for each hyperparameter\n",
    "\n",
    "To use \n",
    "[`validation_curve()`](https://scikit-learn.org/stable/modules/generated/sklearn.model_selection.validation_curve.html),\n",
    "we need to correctly specify the `param_name` argument. In our case this is given by \n",
    "`'polynomialfeatures__degree'` since we are asking the function to vary the argument `degree` of the pipeline step called\n",
    "`polynomialfeatures`. Note that the `__` serves as a delimiter between the pipeline step name and the argument name."
   ]
  },
  {
   "cell_type": "code",
   "execution_count": 93,
   "metadata": {},
   "outputs": [],
   "source": [
    "from sklearn.model_selection import validation_curve\n",
    "\n",
    "# Set of polynomial degrees to cross-validate\n",
    "degrees = np.arange(16)\n",
    "\n",
    "# Compute the MSEs for each degree and each split, returning arrays of \n",
    "# size 15 x 10.\n",
    "train_scores, test_scores = validation_curve(\n",
    "    estimator=pipe,\n",
    "    X=x[:, None], y=y,\n",
    "    param_name='polynomialfeatures__degree',\n",
    "    param_range=degrees,\n",
    "    scoring='neg_mean_squared_error', \n",
    "    cv=10\n",
    ")\n",
    "\n",
    "# Compute mean and std for each degree (scores returned by function are \n",
    "# NEGATIVE MSEs)\n",
    "train_mse_mean = np.mean(-train_scores, axis=1)\n",
    "train_mse_std = np.std(-train_scores, axis=1)\n",
    "test_mse_mean = np.mean(-test_scores, axis=1)\n",
    "test_mse_std = np.std(-test_scores, axis=1)"
   ]
  },
  {
   "attachments": {},
   "cell_type": "markdown",
   "metadata": {},
   "source": [
    "#### Part 5: Determine optimal polynomial degree\n",
    "\n",
    "The optimal cross-validated polynomial degree is the one at which the average MSE is minimized:"
   ]
  },
  {
   "cell_type": "code",
   "execution_count": 94,
   "metadata": {},
   "outputs": [
    {
     "name": "stdout",
     "output_type": "stream",
     "text": [
      "Polynomial degree with min. MSE: 5\n"
     ]
    }
   ],
   "source": [
    "imin = np.argmin(test_mse_mean)\n",
    "dmin = degrees[imin]\n",
    "\n",
    "print(f'Polynomial degree with min. MSE: {dmin}')"
   ]
  },
  {
   "cell_type": "code",
   "execution_count": 95,
   "metadata": {},
   "outputs": [
    {
     "data": {
      "text/plain": [
       "<matplotlib.legend.Legend at 0x220456383b0>"
      ]
     },
     "execution_count": 95,
     "metadata": {},
     "output_type": "execute_result"
    },
    {
     "data": {
      "image/png": "[encoded data removed]",
      "text/plain": [
       "<Figure size 500x350 with 1 Axes>"
      ]
     },
     "metadata": {},
     "output_type": "display_data"
    }
   ],
   "source": [
    "plt.figure(figsize=(5,3.5))\n",
    "plt.plot(degrees, train_mse_mean, c='black', lw=0.75, marker='x', ms=4, label='Training')\n",
    "plt.fill_between(\n",
    "    degrees,\n",
    "    train_mse_mean - train_mse_std,\n",
    "    train_mse_mean + train_mse_std,\n",
    "    lw=0.25,\n",
    "    color='black',\n",
    "    alpha=0.2,\n",
    "    zorder=-1,\n",
    ")\n",
    "\n",
    "plt.plot(degrees, test_mse_mean, c='steelblue', marker='o', ms=4, label='Validation')\n",
    "plt.fill_between(\n",
    "    degrees,\n",
    "    test_mse_mean - test_mse_std,\n",
    "    test_mse_mean + test_mse_std,\n",
    "    lw=0.25,\n",
    "    color='steelblue',\n",
    "    alpha=0.2,\n",
    "    zorder=-1,\n",
    ")\n",
    "\n",
    "plt.xlabel('Polynomial degree')\n",
    "plt.ylabel('Cross-validated MSE')\n",
    "# plt.scatter(degrees[imin], test_mse_mean[imin], s=15, c='black', zorder=100)\n",
    "plt.xticks(degrees)\n",
    "plt.axvline(imin, ls=':', lw=0.75, c='black')\n",
    "plt.legend(loc='upper right')"
   ]
  },
  {
   "cell_type": "markdown",
   "metadata": {},
   "source": [
    "#### Part 6: Plot predicted values using optimal hyperparameter\n",
    "\n",
    "We need to re-fit the model using the optimal polynomial degree. For this, we recreate the pipeline, fit the model and compute the model prediction on a grid of $x$-values."
   ]
  },
  {
   "cell_type": "code",
   "execution_count": 96,
   "metadata": {},
   "outputs": [
    {
     "data": {
      "text/plain": [
       "<matplotlib.legend.Legend at 0x22044c42630>"
      ]
     },
     "execution_count": 96,
     "metadata": {},
     "output_type": "execute_result"
    },
    {
     "data": {
      "image/png": "[encoded data removed]",
      "text/plain": [
       "<Figure size 640x480 with 1 Axes>"
      ]
     },
     "metadata": {},
     "output_type": "display_data"
    }
   ],
   "source": [
    "pipe = make_pipeline(\n",
    "    PolynomialFeatures(degree=dmin, include_bias=True),\n",
    "    LinearRegression(fit_intercept=False),\n",
    ")\n",
    "\n",
    "pipe.fit(x[:, None], y)\n",
    "\n",
    "# X-values used for prediction\n",
    "xvalues = np.linspace(0.0, 1.0, 101)\n",
    "# Fit model\n",
    "y_hat = pipe.predict(xvalues[:, None])\n",
    "\n",
    "# Plot true relationship (w/o errors)\n",
    "plt.plot(xvalues, fcn(xvalues), color='black', lw=1.0, label='True function')\n",
    "\n",
    "# Plot best fit\n",
    "plt.plot(xvalues, y_hat, color='darkorange', lw=1.25, zorder=10, label='Best fit')\n",
    "\n",
    "# Plot sample\n",
    "plt.scatter(\n",
    "    x, y, s=20, color='none', edgecolor='steelblue', lw=0.75, alpha=0.8, label='Sample'\n",
    ")\n",
    "\n",
    "plt.xlabel('$x$')\n",
    "plt.ylabel('$y$')\n",
    "plt.ylim(-1.5, 2.0)\n",
    "plt.legend(loc='upper right')"
   ]
  }
 ],
 "metadata": {
  "kernelspec": {
   "display_name": "FIE463",
   "language": "python",
   "name": "python3"
  },
  "language_info": {
   "codemirror_mode": {
    "name": "ipython",
    "version": 3
   },
   "file_extension": ".py",
   "mimetype": "text/x-python",
   "name": "python",
   "nbconvert_exporter": "python",
   "pygments_lexer": "ipython3",
   "version": "3.12.8"
  },
  "orig_nbformat": 4
 },
 "nbformat": 4,
 "nbformat_minor": 2
}
