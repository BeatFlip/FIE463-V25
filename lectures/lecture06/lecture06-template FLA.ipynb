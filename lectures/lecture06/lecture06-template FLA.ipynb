{
 "cells": [
  {
   "cell_type": "markdown",
   "metadata": {},
   "source": [
    "# General equilibrium\n"
   ]
  },
  {
   "cell_type": "markdown",
   "metadata": {},
   "source": [
    "## Consumption & labor supply\n"
   ]
  },
  {
   "cell_type": "markdown",
   "metadata": {},
   "source": [
    "---\n",
    "\n",
    "### Household problem (representative household)\n",
    "\n",
    "- Household problem:\n",
    "\n",
    "  $$\n",
    "  \\begin{aligned}\n",
    "  \\max_{c,~ h} \\enskip&\n",
    "    \\left\\{\\frac{c^{1-\\gamma} - 1}{1-\\gamma} - \\psi \\frac{h^{1+1/\\theta}}{1+1/\\theta} \\right\\}\\\\\n",
    "    \\text{subject to} \\quad  c &= r \\cdot a + w\\cdot h \\\\\n",
    "        c &\\geq 0\\;, h \\geq 0\n",
    "  \\end{aligned}\n",
    "  $$\n",
    "\n",
    "- Choice variables:\n",
    "\n",
    "  - $c$: Consumption\n",
    "  - $h$: Hours worked\n",
    "\n",
    "- Parameters:\n",
    "\n",
    "  - $\\gamma$: Relative risk aversion\n",
    "  - $\\psi$: Weight on disutility of work\n",
    "  - $\\theta$: Labor supply elasticity\n",
    "  - $a$: Initial assets\n",
    "\n",
    "- Prices (taken as given, competitive equilibrium):\n",
    "\n",
    "  - $r$: Interest rate (return on capital)\n",
    "  - $w$: Wage rate\n"
   ]
  },
  {
   "cell_type": "markdown",
   "metadata": {},
   "source": [
    "---\n",
    "\n",
    "### Firm problem (representative firm)\n",
    "\n",
    "- Firm problem:\n",
    "\n",
    "  $$\n",
    "  \\max_{K,~L} \\enskip \\Pi =\n",
    "      \\underbrace{z K^{\\alpha} L^{1-\\alpha}}_{\\text{Output } Y}\n",
    "       - \\underbrace{r K}_{\\text{Cost of capital}}\n",
    "       - \\underbrace{w L}_{\\text{Cost of labor}}\n",
    "  $$\n",
    "\n",
    "- Choice variables:\n",
    "\n",
    "  - $K$: Capital\n",
    "  - $L$: Labor\n",
    "\n",
    "- Parameters:\n",
    "\n",
    "  - $\\alpha$: Capital share (or elasticity with respect to capital)\n",
    "  - $z$: Total factor productivity (TFP)\n",
    "\n",
    "- Prices (taken as given, competitive equilibrium):\n",
    "\n",
    "  - $r$: Return on capital\n",
    "  - $w$: Wage rate\n",
    "\n",
    "- First-order conditions:\n",
    "\n",
    "  $$\n",
    "  \\begin{aligned}\n",
    "  r &= \\alpha z \\left(\\frac{K}{L}\\right)^{\\alpha-1} = \\alpha z k^{\\alpha-1} \\\\\n",
    "  w &= (1-\\alpha) z\\left(\\frac{K}{L}\\right)^{\\alpha} = (1-\\alpha) z k^{\\alpha}\n",
    "  \\end{aligned}\n",
    "  $$\n",
    "\n",
    "  where $k \\equiv \\frac{K}{L}$ is the capital-labor ratio.\n",
    "\n",
    "- Labor demand:\n",
    "  <a id='ls-firm-L'></a>\n",
    "  $$\n",
    "  L = \\left( \\frac{w}{(1-\\alpha) z} \\right)^{-\\frac{1}{\\alpha}}K\n",
    "      \\tag{1.1}\n",
    "  $$\n"
   ]
  },
  {
   "cell_type": "markdown",
   "metadata": {},
   "source": [
    "---\n",
    "\n",
    "### Equilibrium\n",
    "\n",
    "Quantities $(K,L,Y,c,h)$ and prices $(r,w)$ such that:\n",
    "\n",
    "- Asset market: $K = a$ (capital $a$ supplied by households equals capital $K$ demanded by firms).\n",
    "- Labor market: $L = h$ (hours $h$ supplied by households equals labor $L$ demanded by firms).\n",
    "- Goods market: $Y = c$ (the amount of goods $c$ consumed by households equals aggregate output).\n"
   ]
  },
  {
   "cell_type": "markdown",
   "metadata": {},
   "source": [
    "---\n",
    "\n",
    "### Analytical solution\n",
    "\n",
    "- This problem is simple enough to be solved analytically:\n",
    "  $$\n",
    "  h = L = \\left[ \\frac{(1-\\alpha)\\left(z a^{\\alpha}\\right)^{1-\\gamma}}{\\psi}\n",
    "      \\right]^{\\frac{1}{1/\\theta + \\alpha + \\gamma - \\alpha \\gamma}}\n",
    "  $$\n"
   ]
  },
  {
   "cell_type": "markdown",
   "metadata": {},
   "source": [
    "---\n",
    "\n",
    "### Numerical solution\n",
    "\n",
    "- General rule: solve as much as possible analytically (we ignore this here)\n",
    "\n",
    "- **Firm problem:** use first-order conditions\n",
    "\n",
    "- **Household problem:** usually solved via minimizer (or other methods)\n",
    "\n",
    "- **Equilibrium:** usually solved via root-finder (zero excess demand)\n"
   ]
  },
  {
   "cell_type": "markdown",
   "metadata": {},
   "source": [
    "#### Solution algorithm\n",
    "\n",
    "1.  Define parameters.\n",
    "\n",
    "2.  Function to solve the household problem for given $(w, r)$ which returns\n",
    "    the **optimal labor supply $h$\\*** (use a minimizer).\n",
    "\n",
    "3.  Function to solve the firm problem for given $w$ which returns the **firm labor demand $L$**\n",
    "    (use the firm's first-order conditions).\n",
    "\n",
    "4.  Function $f(w)$ which returns the **excess labor demand** for a given $w$, defined\n",
    "    as $L - h$.\n",
    "\n",
    "    Use the functions from steps (1) and (2) to compute $h$ and $L$.\n",
    "\n",
    "5.  Make an initial guess for the equilibrium wage rate $w_0$ and call the root-finder\n",
    "    to locate the root $w^*$ of $f$, $f(w^*) = 0$.\n",
    "\n",
    "6.  Compute and store all other equilibrium quantities and prices for given $w^*$.\n"
   ]
  },
  {
   "cell_type": "markdown",
   "metadata": {},
   "source": [
    "#### Implementation\n",
    "\n",
    "- See [lecture06_labor.py](lecture06_labor.py) for full implementation\n"
   ]
  },
  {
   "cell_type": "code",
   "execution_count": 2,
   "metadata": {},
   "outputs": [],
   "source": [
    "# Enable automatic reloading of external modules\n",
    "%load_ext autoreload\n",
    "%autoreload 2"
   ]
  },
  {
   "cell_type": "markdown",
   "metadata": {},
   "source": [
    "##### Step 1: Define parameters\n"
   ]
  },
  {
   "cell_type": "markdown",
   "metadata": {},
   "source": [
    "- Recall how we used to define functions with each parameter as separate argument\n",
    "- This becomes tedious as the number of parameters grows\n",
    "- Replace with single `Parameters` class\n"
   ]
  },
  {
   "cell_type": "code",
   "execution_count": 21,
   "metadata": {},
   "outputs": [],
   "source": [
    "# Data Class\n",
    "from dataclasses import dataclass\n",
    "\n",
    "\n",
    "@dataclass\n",
    "class Parameters:\n",
    "    \"\"\"\n",
    "    Container to store problem parameters\n",
    "    \"\"\"\n",
    "\n",
    "    alpha: float = 0.36  # Capital share in firm output\n",
    "    z: float = 1.0  # Total factor productivity (TFP) in production function\n",
    "    gamma: float = 2.0  # Relative Risk aversion coefficient\n",
    "    psi: float = 1.0  # Weight on disutility of labor\n",
    "    theta: float = 0.5  # Frisch elasticity of labor supply\n",
    "    a: float = 5.0  # Assets given to households in the initial period"
   ]
  },
  {
   "cell_type": "code",
   "execution_count": 22,
   "metadata": {},
   "outputs": [
    {
     "name": "stdout",
     "output_type": "stream",
     "text": [
      "Parameters(alpha=0.36, z=1.0, gamma=2.0, psi=1.0, theta=0.5, a=5.0)\n",
      "Parameters(alpha=0.33, z=1.0, gamma=2.0, psi=1.0, theta=0.5, a=5.0)\n"
     ]
    }
   ],
   "source": [
    "# Create an instance of the parameter class\n",
    "par = Parameters()\n",
    "print(par)\n",
    "par = Parameters(alpha=0.33)\n",
    "print(par)"
   ]
  },
  {
   "cell_type": "code",
   "execution_count": 23,
   "metadata": {},
   "outputs": [],
   "source": [
    "import numpy as np\n",
    "\n",
    "\n",
    "par = Parameters()\n",
    "\n",
    "\n",
    "def util(c, h, par: Parameters):\n",
    "    # Consumption utility\n",
    "    if par.gamma == 1:\n",
    "        # Log utility\n",
    "        u = np.log(c)\n",
    "    else:\n",
    "        # General CRRA utility\n",
    "        u = (c ** (1 - par.gamma) - 1) / (1 - par.gamma)\n",
    "    # add disutility of labor\n",
    "    u -= par.psi * h ** (1 + 1 / par.theta) / (1 + 1 / par.theta)\n",
    "    return u"
   ]
  },
  {
   "cell_type": "code",
   "execution_count": 24,
   "metadata": {},
   "outputs": [
    {
     "data": {
      "text/plain": [
       "-1.0416666666666667"
      ]
     },
     "execution_count": 24,
     "metadata": {},
     "output_type": "execute_result"
    }
   ],
   "source": [
    "util(0.5, 0.5, par)"
   ]
  },
  {
   "cell_type": "markdown",
   "metadata": {},
   "source": [
    "<div class=\"alert alert-info\">\n",
    "<h3> Your turn</h3>\n",
    "\n",
    "Rewrite the <TT>util()</TT> function from above so that it accepts a single <TT>par</TT> argument\n",
    "of type <TT>Parameters</TT> instead of individual <TT>gamma</TT>, <TT>psi</TT>, and <TT>theta</TT>.\n",
    "\n",
    "</div>\n"
   ]
  },
  {
   "cell_type": "markdown",
   "metadata": {},
   "source": [
    "##### Step 2: Solving the household problem\n"
   ]
  },
  {
   "cell_type": "markdown",
   "metadata": {},
   "source": [
    "- Use [L-BFGS-B minimizer](https://docs.scipy.org/doc/scipy/reference/optimize.minimize-lbfgsb.html)\n",
    "  from\n",
    "  `scipy.optmize` module.\n",
    "- Minimize over choice variable $h$\n",
    "- Need to specify bounds $h \\geq 0$\n"
   ]
  },
  {
   "cell_type": "code",
   "execution_count": 26,
   "metadata": {},
   "outputs": [],
   "source": [
    "from scipy.optimize import minimize\n",
    "\n",
    "\n",
    "def solve_hh(r, w, par: Parameters):\n",
    "    \"\"\"\n",
    "    Solve household problem for given prices and parameters\n",
    "\n",
    "    Parameters\n",
    "    ----------\n",
    "    r : float\n",
    "        Return on capital\n",
    "    w : float\n",
    "        Wage rate\n",
    "    par : Parameters\n",
    "        Parameters for given problem\n",
    "\n",
    "    Returns\n",
    "    -------\n",
    "    c_opt : float\n",
    "        Optimal consumption choice\n",
    "    h_opt : float\n",
    "        Optimal hours choice\n",
    "    \"\"\"\n",
    "    # Initial guess for h\n",
    "    h_guess = 0.5\n",
    "\n",
    "    # Run minimizer to find optimal hours:\n",
    "    # The budget constraint is inserted directly in the lambda expression.\n",
    "    res = minimize(\n",
    "        lambda h: -util(r * par.a + w * h, h, par),\n",
    "        x0=h_guess,\n",
    "        method=\"L-BFGS-B\",\n",
    "        bounds=((0, None),),  # h >= 0\n",
    "    )\n",
    "\n",
    "    if not res.success:\n",
    "        print(\"Minimizer did not terminate successfully\")\n",
    "        print(res.message)\n",
    "        print(f\"  Prices: {r}, {w}\")\n",
    "\n",
    "    # Recover optimal hours choice\n",
    "    h_opt = res.x[0]\n",
    "    # Optimal consumption follows from budget constraint\n",
    "    c_opt = r * par.a + w * h_opt\n",
    "\n",
    "    return c_opt, h_opt"
   ]
  },
  {
   "cell_type": "code",
   "execution_count": 37,
   "metadata": {},
   "outputs": [
    {
     "name": "stdout",
     "output_type": "stream",
     "text": [
      "(np.float64(1.3580933653386205), np.float64(0.8580933653386204))\n",
      "(np.float64(1.2807763689512406), np.float64(0.7807763689512405))\n"
     ]
    }
   ],
   "source": [
    "print(solve_hh(r=0.1, w=1.0, par=Parameters(gamma=1)))  # Changing gamma\n",
    "print(solve_hh(r=0.1, w=1.0, par=par))  # Using default parameters"
   ]
  },
  {
   "cell_type": "markdown",
   "metadata": {},
   "source": [
    "<div class=\"alert alert-info\">\n",
    "<h3> Your turn</h3>\n",
    "\n",
    "Plot the optimal hours <i>h</i> returned by <tt>solve_hh()</tt>\n",
    "for <tt>w</tt> on the interval [0.5, 2]. Fix the interest rate at <i>r=0.1</i> for this exercise. Does the shape intuitively make sense?\n",
    "\n",
    "</div>\n"
   ]
  },
  {
   "cell_type": "code",
   "execution_count": 46,
   "metadata": {},
   "outputs": [
    {
     "data": {
      "image/png": "[encoded data removed]",
      "text/plain": [
       "<Figure size 640x480 with 1 Axes>"
      ]
     },
     "metadata": {},
     "output_type": "display_data"
    }
   ],
   "source": [
    "# Create a grid of wage rates\n",
    "w_grid = np.linspace(0.5, 2.0, 100)\n",
    "\n",
    "# Plot the optimal hours h as a function of the wage rate w with r = 0.1\n",
    "import matplotlib.pyplot as plt\n",
    "\n",
    "h_opt = np.zeros_like(w_grid)\n",
    "# np.empty_like creates an empty array with the same shape as w_grid\n",
    "# Could also use np.zeros_like\n",
    "\n",
    "for i, w in enumerate(w_grid):\n",
    "    c_opt, h_opt[i] = solve_hh(r=0.1, w=w, par=par)\n",
    "\n",
    "plt.plot(w_grid, h_opt)\n",
    "plt.xlabel(\"Wage rate\")\n",
    "plt.ylabel(\"Hours worked\")\n",
    "plt.title(\"Hours worked as a function of the wage rate\")\n",
    "plt.show()"
   ]
  },
  {
   "cell_type": "code",
   "execution_count": 47,
   "metadata": {},
   "outputs": [
    {
     "data": {
      "text/plain": [
       "Text(0.5, 1.0, 'Hours worked as a function of the wage rate')"
      ]
     },
     "execution_count": 47,
     "metadata": {},
     "output_type": "execute_result"
    },
    {
     "data": {
      "image/png": "[encoded data removed]",
      "text/plain": [
       "<Figure size 640x480 with 1 Axes>"
      ]
     },
     "metadata": {},
     "output_type": "display_data"
    }
   ],
   "source": [
    "# Create a grid of wage rates\n",
    "w_grid = np.linspace(0.5, 2.0, 100)\n",
    "\n",
    "h_grid = [solve_hh(r=0.1, w=w, par=par)[1] for w in w_grid]\n",
    "\n",
    "plt.plot(w_grid, h_grid)\n",
    "plt.xlabel(\"Wage rate\")\n",
    "plt.ylabel(\"Hours worked\")\n",
    "plt.title(\"Hours worked as a function of the wage rate\")"
   ]
  },
  {
   "cell_type": "markdown",
   "metadata": {},
   "source": [
    "##### Step 2: Solving the firm problem\n",
    "\n",
    "- Compute firm labor demand from [(1.1)](#ls-firm-L):\n",
    "  $$\n",
    "  L = \\left( \\frac{w}{(1-\\alpha) z} \\right)^{-\\frac{1}{\\alpha}}K\n",
    "      \\tag{1.1}\n",
    "  $$\n",
    "- Addionally return output $Y$ and interest rate $r$ for later use\n"
   ]
  },
  {
   "cell_type": "code",
   "execution_count": 49,
   "metadata": {},
   "outputs": [],
   "source": [
    "def solve_firm(w, par: Parameters):\n",
    "    \"\"\"\n",
    "    Return the solution to the firm's problem for given wage rate and parameters.\n",
    "\n",
    "    Parameters\n",
    "    ----------\n",
    "    w : float\n",
    "        Wage rate\n",
    "    par : Parameters\n",
    "        Parameters for given problem\n",
    "\n",
    "    Returns\n",
    "    -------\n",
    "    L : float\n",
    "        Firm labor demand\n",
    "    Y : float\n",
    "        Firm output\n",
    "    r : float\n",
    "        Interest rate implied by wage rate\n",
    "\n",
    "    \"\"\"\n",
    "    # Capital market clearing condition\n",
    "    K = par.a\n",
    "\n",
    "    # Labor demand implied by firm FOC\n",
    "    L = (w / (1 - par.alpha) / par.z) ** (-1 / par.alpha) * K\n",
    "\n",
    "    # Optimal capital-labor ratio\n",
    "    k = K / L\n",
    "\n",
    "    # Return on capital\n",
    "    r = par.z * par.alpha * k ** (par.alpha - 1)\n",
    "\n",
    "    # Output for Cobb-Douglas production function\n",
    "    Y = par.z * K**par.alpha * L ** (1 - par.alpha)\n",
    "\n",
    "    return L, Y, r"
   ]
  },
  {
   "cell_type": "markdown",
   "metadata": {},
   "source": [
    "<div class=\"alert alert-info\">\n",
    "<h3> Your turn</h3>\n",
    "\n",
    "Plot the firm's optimal labor demand <i>L</i> returned by <tt>solve_firm()</tt>\n",
    "for <tt>w</tt> on the interval [0.5, 2]. Does the shape intuitively make sense?\n",
    "\n",
    "</div>\n"
   ]
  },
  {
   "cell_type": "code",
   "execution_count": 50,
   "metadata": {},
   "outputs": [
    {
     "data": {
      "text/plain": [
       "Text(0.5, 1.0, 'Labor demand as a function of the wage rate')"
      ]
     },
     "execution_count": 50,
     "metadata": {},
     "output_type": "execute_result"
    },
    {
     "data": {
      "image/png": "[encoded data removed]",
      "text/plain": [
       "<Figure size 640x480 with 1 Axes>"
      ]
     },
     "metadata": {},
     "output_type": "display_data"
    }
   ],
   "source": [
    "# wage grid\n",
    "w_grid = np.linspace(0.5, 2.0, 100)\n",
    "\n",
    "# L grid\n",
    "L_grid = [solve_firm(w, par)[0] for w in w_grid]\n",
    "\n",
    "# Plot\n",
    "plt.plot(w_grid, L_grid)\n",
    "plt.xlabel(\"Wage rate\")\n",
    "plt.ylabel(\"Labor demand\")\n",
    "plt.title(\"Labor demand as a function of the wage rate\")"
   ]
  },
  {
   "cell_type": "markdown",
   "metadata": {},
   "source": [
    "##### Step 3: Compute excess demand for labor\n"
   ]
  },
  {
   "cell_type": "code",
   "execution_count": 51,
   "metadata": {},
   "outputs": [],
   "source": [
    "def compute_labor_ex_demand(w, par: Parameters):\n",
    "    \"\"\"\n",
    "    Compute excess labor demand for given wage rate and parameters.\n",
    "\n",
    "    Parameters\n",
    "    ----------\n",
    "    w : float\n",
    "        Wage rate\n",
    "    par : Parameters\n",
    "        Parameters for given problem\n",
    "\n",
    "    Returns\n",
    "    -------\n",
    "    ex_demand : float\n",
    "        Excess labor demand (firm demand - household supply)\n",
    "    \"\"\"\n",
    "    # Solve firm problem for given wage rate\n",
    "    L, Y, r = solve_firm(w, par)\n",
    "\n",
    "    # Optimal household choices for given prices\n",
    "    c_opt, h_opt = solve_hh(r, w, par)\n",
    "\n",
    "    # Excess demand for labor\n",
    "    ex_demand = L - h_opt\n",
    "\n",
    "    return ex_demand"
   ]
  },
  {
   "cell_type": "markdown",
   "metadata": {},
   "source": [
    "<div class=\"alert alert-info\">\n",
    "<h3> Your turn</h3>\n",
    "\n",
    "Before running the root-finder, we want to visually verify that the excess demand for\n",
    "labor is indeed zero for some <tt>w</tt>.\n",
    "\n",
    "Using the code we just wrote, plot the function <tt>compute_capital_ex_labor()</tt>\n",
    "for <tt>w</tt> on the interval [0.5, 2].\n",
    "\n",
    "</div>\n"
   ]
  },
  {
   "cell_type": "code",
   "execution_count": 52,
   "metadata": {},
   "outputs": [],
   "source": [
    "ex_demand = [compute_labor_ex_demand(w, par) for w in w_grid]"
   ]
  },
  {
   "cell_type": "code",
   "execution_count": 53,
   "metadata": {},
   "outputs": [
    {
     "data": {
      "text/plain": [
       "<matplotlib.lines.Line2D at 0x2b7f4139a90>"
      ]
     },
     "execution_count": 53,
     "metadata": {},
     "output_type": "execute_result"
    },
    {
     "data": {
      "image/png": "[encoded data removed]",
      "text/plain": [
       "<Figure size 640x480 with 1 Axes>"
      ]
     },
     "metadata": {},
     "output_type": "display_data"
    }
   ],
   "source": [
    "# Plot\n",
    "plt.plot(w_grid, ex_demand)\n",
    "plt.xlabel(\"Wage rate\")\n",
    "plt.ylabel(\"Excess labor demand\")\n",
    "plt.title(\"Excess labor demand as a function of the wage rate\")\n",
    "plt.axhline(0, color=\"black\", linestyle=\"--\")"
   ]
  },
  {
   "cell_type": "markdown",
   "metadata": {},
   "source": [
    "##### Step 4: Call root-finder to find equilibrium\n",
    "\n",
    "- Use\n",
    "  [`root_scalar()`](https://docs.scipy.org/doc/scipy/reference/generated/scipy.optimize.root_scalar.html)\n",
    "- Use `method='newton'` and specify initial value `x0`\n"
   ]
  },
  {
   "cell_type": "code",
   "execution_count": 61,
   "metadata": {},
   "outputs": [],
   "source": [
    "from scipy.optimize import root_scalar\n",
    "\n",
    "# Intial guess for wage rate\n",
    "w0 = 1.0\n",
    "\n",
    "res = root_scalar(compute_labor_ex_demand, x0=w0, method=\"newton\", args=(par,))"
   ]
  },
  {
   "cell_type": "code",
   "execution_count": 60,
   "metadata": {},
   "outputs": [
    {
     "data": {
      "text/plain": [
       "      converged: True\n",
       "           flag: converged\n",
       " function_calls: 18\n",
       "     iterations: 9\n",
       "           root: 1.2643421155116474\n",
       "         method: newton"
      ]
     },
     "execution_count": 60,
     "metadata": {},
     "output_type": "execute_result"
    }
   ],
   "source": [
    "res"
   ]
  },
  {
   "cell_type": "markdown",
   "metadata": {},
   "source": [
    "##### Step 5: Compute remaining equilibrium quantities\n",
    "\n",
    "- Use `Equilibrium` definition to store quantities and prices\n",
    "- Compute equilibrium using `compute_equilibrium()` from [`lecture06_labor`](lecture06_labor.py) module\n",
    "- Print equilibrium using `print_equilibrium()` from [`lecture06_labor`](lecture06_labor.py) module\n"
   ]
  },
  {
   "cell_type": "code",
   "execution_count": 62,
   "metadata": {},
   "outputs": [],
   "source": [
    "@dataclass\n",
    "class Equilibrium:\n",
    "    \"\"\"\n",
    "    Container to store equilibrium allocations and prices.\n",
    "    \"\"\"\n",
    "\n",
    "    par: Parameters = None  # Parameters used to compute equilibrium\n",
    "    c: float = None  # Optimal consumption\n",
    "    h: float = None  # Optimal hours\n",
    "    r: float = None  # Interest rate\n",
    "    w: float = None  # Wage rate\n",
    "    L: float = None  # Labor demand\n",
    "    K: float = None  # Capital demand\n",
    "    Y: float = None  # Output"
   ]
  },
  {
   "cell_type": "code",
   "execution_count": 65,
   "metadata": {},
   "outputs": [
    {
     "name": "stdout",
     "output_type": "stream",
     "text": [
      "Equilibrium:\n",
      "  Households:\n",
      "    c = 1.49042\n",
      "    h = 0.75444\n",
      "  Firms:\n",
      "    Y = 1.49042\n",
      "    L = 0.75444\n",
      "    K = 5.00000\n",
      "  Prices:\n",
      "    r = 0.10731\n",
      "    w = 1.26434\n",
      "  Market clearing:\n",
      "    Labor market: -4.90011e-10\n",
      "    Goods market: 6.19542e-10\n"
     ]
    }
   ],
   "source": [
    "# Import helper functions from module\n",
    "from lecture06_labor import compute_equilibrium, print_equilibrium\n",
    "\n",
    "# Compute equilibrium, return Equilibrium object\n",
    "eq = compute_equilibrium(par)\n",
    "\n",
    "# Print equilibrium allocation and prices\n",
    "print_equilibrium(eq)"
   ]
  },
  {
   "cell_type": "markdown",
   "metadata": {},
   "source": [
    "---\n",
    "\n",
    "### Comparative statics\n",
    "\n",
    "#### Compute equilibrium for different parameter values\n",
    "\n",
    "- How do equilibrium prices & quantities depend on $a$?\n"
   ]
  },
  {
   "cell_type": "markdown",
   "metadata": {},
   "source": [
    "<div class=\"alert alert-info\">\n",
    "<h3> Your turn</h3>\n",
    "\n",
    "<ol>\n",
    "    <li>Use the function <TT>compute_equilibrium()</TT> to evaluate the equilibria for N=30 different\n",
    "values of <i>a</i> on the interval [1, 10].</li>\n",
    "    <li>How can you check that the algorithm returned something sensible for all <i>a</i>?</li>\n",
    "</ol>\n",
    "\n",
    "</div>\n"
   ]
  },
  {
   "cell_type": "code",
   "execution_count": 87,
   "metadata": {},
   "outputs": [],
   "source": [
    "# Solve for 30 equilibria with uniformly spaced values for a\n",
    "N = 30\n",
    "a_grid = np.linspace(1.0, 10.0, N)\n",
    "\n",
    "# Initialize list to store equilibrium objects\n",
    "equilibria = [compute_equilibrium(par=Parameters(a=a)) for a in a_grid]"
   ]
  },
  {
   "cell_type": "code",
   "execution_count": 88,
   "metadata": {},
   "outputs": [
    {
     "data": {
      "text/plain": [
       "np.float64(1.0116618875954941e-08)"
      ]
     },
     "execution_count": 88,
     "metadata": {},
     "output_type": "execute_result"
    }
   ],
   "source": [
    "# Print max. absolute error in labor market clearing\n",
    "max(abs(eq.L - eq.h) for eq in equilibria)"
   ]
  },
  {
   "cell_type": "code",
   "execution_count": 89,
   "metadata": {},
   "outputs": [
    {
     "data": {
      "text/plain": [
       "np.float64(1.5103167161356623e-08)"
      ]
     },
     "execution_count": 89,
     "metadata": {},
     "output_type": "execute_result"
    }
   ],
   "source": [
    "# Print max. absolute error in goods market clearing\n",
    "max(abs(eq.c - eq.Y) for eq in equilibria)"
   ]
  },
  {
   "cell_type": "markdown",
   "metadata": {},
   "source": [
    "#### Plot equilibrium quantities and prices\n"
   ]
  },
  {
   "cell_type": "code",
   "execution_count": 90,
   "metadata": {},
   "outputs": [],
   "source": [
    "# Convert equilibrium data to arrays\n",
    "c_eq_grid = np.array([eq.c for eq in equilibria])\n",
    "h_eq_grid = np.array([eq.h for eq in equilibria])\n",
    "w_eq_grid = np.array([eq.w for eq in equilibria])\n",
    "r_eq_grid = np.array([eq.r for eq in equilibria])"
   ]
  },
  {
   "cell_type": "code",
   "execution_count": null,
   "metadata": {},
   "outputs": [
    {
     "data": {
      "text/plain": [
       "Text(0.5, 1.0, 'Equil. labor supply $h$')"
      ]
     },
     "execution_count": 91,
     "metadata": {},
     "output_type": "execute_result"
    },
    {
     "data": {
      "image/png": "[encoded data removed]",
      "text/plain": [
       "<Figure size 800x600 with 4 Axes>"
      ]
     },
     "metadata": {},
     "output_type": "display_data"
    }
   ],
   "source": [
    "import matplotlib.pyplot as plt\n",
    "\n",
    "fig, ax = plt.subplots(2, 2, figsize=(8, 6), sharex=True)\n",
    "\n",
    "ax[0, 0].plot(a_grid, r_eq_grid)\n",
    "ax[0, 0].set_title(\"Equil. interest rate $r$\")\n",
    "\n",
    "ax[0, 1].plot(a_grid, w_eq_grid)\n",
    "ax[0, 1].set_title(\"Equil. wage rate $w$\")\n",
    "\n",
    "ax[1, 0].plot(a_grid, c_eq_grid)\n",
    "ax[1, 0].set_xlabel(\"Capital stock $K = a$\")\n",
    "ax[1, 0].set_title(\"Equil. consumption $c$\")\n",
    "\n",
    "ax[1, 1].plot(a_grid, h_eq_grid)\n",
    "ax[1, 1].set_xlabel(\"Capital stock $K = a$\")\n",
    "ax[1, 1].set_title(\"Equil. labor supply $h$\")"
   ]
  },
  {
   "cell_type": "markdown",
   "metadata": {},
   "source": [
    "---\n",
    "\n",
    "## Overlapping-generations model\n"
   ]
  },
  {
   "cell_type": "markdown",
   "metadata": {},
   "source": [
    "### Household problem\n",
    "\n",
    "- Household problem (assume $N$ identical households):\n",
    "\n",
    "  $$\n",
    "  \\begin{aligned}\n",
    "  \\max_{c_y,~c_o,~a} \\enskip & \\Bigl\\{ u(c_y) + \\beta u(c_o) \\Bigr\\} \\\\\n",
    "  \\text{s.t.} \\quad c_y + a &= w \\\\\n",
    "                  c_o &= (1+r)a \\\\\n",
    "      c_y &\\geq 0, ~ c_o \\geq 0,~ a \\geq 0\n",
    "  \\end{aligned}\n",
    "  $$\n",
    "\n",
    "- Flow utility:\n",
    "\n",
    "  $$\n",
    "  u(c) = \\begin{cases}\n",
    "      \\frac{c^{1-\\gamma}}{1-\\gamma} & \\text{if } \\gamma \\neq 1 \\\\\n",
    "      \\log(c) & \\text{if } \\gamma = 1\n",
    "      \\end{cases}\n",
    "  $$\n",
    "\n",
    "- Choice variables:\n",
    "\n",
    "  - $c_y$: Consumption when young\n",
    "  - $c_o$: Consumption when old\n",
    "  - $a$: Savings when young\n",
    "\n",
    "- Parameters:\n",
    "\n",
    "  - $\\beta$: Discount factor\n",
    "  - $\\gamma$: Relative risk aversion\n",
    "  - Each household inelastically supplies 1 unit of labor when young (h = 1)\n",
    "\n",
    "- Prices (taken as given, competitive equilibrium):\n",
    "\n",
    "  - $r$: Interest rate (return on capital)\n",
    "  - $w$: Wage rate\n"
   ]
  },
  {
   "cell_type": "markdown",
   "metadata": {},
   "source": [
    "---\n",
    "\n",
    "### Firm problem (representative firm) — same as above\n",
    "\n",
    "- Firm problem:\n",
    "\n",
    "  $$\n",
    "  \\max_{K,~L} \\enskip \\Pi =\n",
    "      \\underbrace{z K^{\\alpha} L^{1-\\alpha}}_{\\text{Output } Y}\n",
    "       - \\underbrace{r K}_{\\text{Cost of capital}}\n",
    "       - \\underbrace{w L}_{\\text{Cost of labor}}\n",
    "  $$\n",
    "\n",
    "- Choice variables:\n",
    "\n",
    "  - $K$: Capital\n",
    "  - $L$: Labor\n",
    "\n",
    "- Parameters:\n",
    "\n",
    "  - $\\alpha$: Capital share (or elasticity with respect to capital)\n",
    "  - $z$: Total factor productivity (TFP)\n",
    "\n",
    "- Prices (taken as given, competitive equilibrium):\n",
    "\n",
    "  - $r$: Return on capital\n",
    "  - $w$: Wage rate\n",
    "\n",
    "- First-order conditions:\n",
    "  $$\n",
    "  \\begin{aligned}\n",
    "  r &= \\alpha z \\left(\\frac{K}{L}\\right)^{\\alpha-1} = \\alpha z k^{\\alpha-1} \\\\\n",
    "  w &= (1-\\alpha) z\\left(\\frac{K}{L}\\right)^{\\alpha} = (1-\\alpha) z k^{\\alpha}\n",
    "  \\end{aligned}\n",
    "  $$\n",
    "  where $k \\equiv \\frac{K}{L}$ is the capital-labor ratio.\n"
   ]
  },
  {
   "cell_type": "markdown",
   "metadata": {},
   "source": [
    "---\n",
    "\n",
    "### Equilibrium\n",
    "\n",
    "Set of quantities $(K,L,Y,c_o,c_y,a)$ and prices $(r,w)$ such that:\n",
    "\n",
    "- Asset market: $K = N a$ (aggregate savings $N a$ supplied by households equal capital $K$ demanded by firms).\n",
    "- Labor market: $L = N$ (Labor $L$ demanded by firms equals exogenously supplied labor by households).\n",
    "- Goods market: $Y = N(c_y + c_o)$ (the amount of goods consumed by young and old each period equals aggregate output).\n"
   ]
  },
  {
   "cell_type": "markdown",
   "metadata": {},
   "source": [
    "---\n",
    "\n",
    "### Analytical solution\n",
    "\n",
    "- Households:\n",
    "  - Optimal **savings rate** of the young:\n",
    "    <a id='olg-hh-srate'></a>\n",
    "    $$\n",
    "    \\tag{2.2}\n",
    "    s = \\frac{1}{1 + \\beta^{-\\frac{1}{\\gamma}} (1+r)^{1-\\frac{1}{\\gamma}}}\n",
    "    $$\n",
    "  - Optimal **savings** of the young:\n",
    "    $$\n",
    "    a = s \\cdot w\n",
    "    $$\n"
   ]
  },
  {
   "cell_type": "markdown",
   "metadata": {},
   "source": [
    "---\n",
    "\n",
    "### Numerical solution\n"
   ]
  },
  {
   "cell_type": "markdown",
   "metadata": {},
   "source": [
    "#### Solution algorithm\n",
    "\n",
    "1. Define parameters\n",
    "\n",
    "2. Function to compute **prices** $(r,w)$ for a given $k$\n",
    "   (use firm's first-order conditions [(2.1)](#olg-firm-prices)).\n",
    "\n",
    "3. Function to solve the household problem for given $r$ and return\n",
    "   the **savings rate $s$** (use analytical solution [(2.2)](#olg-hh-srate))\n",
    "\n",
    "4. Function $f(k)$ to compute **excess demand for capital** $K - Na$\n",
    "   for given $k$.\n",
    "\n",
    "   Use the functions defined in steps (1) and (2) for this purpose.\n",
    "\n",
    "5. Call a root-finder to locate the root $k^*$ of $f$, $f(k^*) = 0$\n",
    "\n",
    "6. Compute and store all other equilibrium quantities and prices given equilibrium $k^*$.\n"
   ]
  },
  {
   "cell_type": "markdown",
   "metadata": {},
   "source": [
    "#### Implementation\n",
    "\n",
    "- See [`lecture06_olg.py`](lecture06_olg.py) for full implementation\n"
   ]
  },
  {
   "cell_type": "markdown",
   "metadata": {},
   "source": [
    "##### Step 1: Define parameters\n"
   ]
  },
  {
   "cell_type": "code",
   "execution_count": null,
   "metadata": {},
   "outputs": [],
   "source": [
    "from dataclasses import dataclass\n",
    "\n",
    "\n",
    "@dataclass\n",
    "class Parameters:\n",
    "    \"\"\"\n",
    "\n",
    "\n",
    "\n",
    "\n",
    "\n",
    "\n",
    "\n",
    "\n",
    "\n",
    "\n",
    "\n",
    "\n",
    "\n",
    "    Parameters for the overlapping generations model.\n",
    "    \"\"\"\n",
    "\n",
    "    alpha: float = 0.36  # Capital share in production function\n",
    "\n",
    "    z: float = 1.0  # TFP\n",
    "\n",
    "    beta: float = 0.96  # Discount factor\n",
    "\n",
    "    gamma: float = 2.0  # RRA in utility\n",
    "\n",
    "    N: int = 1  # Number of households per cohort"
   ]
  },
  {
   "cell_type": "code",
   "execution_count": null,
   "metadata": {},
   "outputs": [],
   "source": [
    "# Create parameter instance\n",
    "par = Parameters()"
   ]
  },
  {
   "cell_type": "markdown",
   "metadata": {},
   "source": [
    "##### Step 2: Compute equilibrium prices from $k$\n"
   ]
  },
  {
   "cell_type": "code",
   "execution_count": null,
   "metadata": {},
   "outputs": [],
   "source": [
    "def compute_prices(k, par: Parameters):\n",
    "    \"\"\"\n",
    "    Return the solution to the firm's problem for given return on capital\n",
    "    and parameters.\n",
    "\n",
    "    Parameters\n",
    "    ----------\n",
    "    k : float\n",
    "        Capital-labor ratio\n",
    "    par : Parameters\n",
    "        Parameters for the given problem\n",
    "\n",
    "    Returns\n",
    "    -------\n",
    "    r : float\n",
    "        Return on capital\n",
    "    w : float\n",
    "        Wage rate\n",
    "\n",
    "    \"\"\""
   ]
  },
  {
   "cell_type": "markdown",
   "metadata": {},
   "source": [
    "##### Step 3: Solve the household problem\n"
   ]
  },
  {
   "cell_type": "code",
   "execution_count": null,
   "metadata": {},
   "outputs": [],
   "source": [
    "def compute_savings_rate(r, par: Parameters):\n",
    "    \"\"\"\n",
    "    Compute the savings rate using the analytical solution\n",
    "    to the household problem.\n",
    "\n",
    "    Parameters\n",
    "    ----------\n",
    "    r : float\n",
    "        Return on capital\n",
    "    par : Parameters\n",
    "        Parameters for the given problem\n",
    "\n",
    "    Returns\n",
    "    -------\n",
    "    s : float\n",
    "        Savings rate\n",
    "    \"\"\""
   ]
  },
  {
   "cell_type": "markdown",
   "metadata": {},
   "source": [
    "<div class=\"alert alert-info\">\n",
    "<h3> Your turn</h3>\n",
    "\n",
    "Plot the households's optimal savings rate <i>s</i> returned by <tt>compute_savings_rate()</tt>\n",
    "for <tt>r</tt> on the interval [0.01, 0.2]. Does the shape intuitively make sense (given the parameter for the risk aversion γ)?\n",
    "\n",
    "</div>\n"
   ]
  },
  {
   "cell_type": "markdown",
   "metadata": {},
   "source": [
    "##### Step 4: Compute excess capital demand\n"
   ]
  },
  {
   "cell_type": "code",
   "execution_count": null,
   "metadata": {},
   "outputs": [],
   "source": [
    "def compute_capital_ex_demand(k, par: Parameters):\n",
    "    \"\"\"\n",
    "    Compute the excess demand for capital.\n",
    "\n",
    "    Parameters\n",
    "    ----------\n",
    "    k : float\n",
    "        Capital-labor ratio\n",
    "    par : Parameters\n",
    "        Parameters for the given problem\n",
    "\n",
    "    Returns\n",
    "    -------\n",
    "    ex_demand : float\n",
    "        Excess demand for capital\n",
    "    \"\"\""
   ]
  },
  {
   "cell_type": "markdown",
   "metadata": {},
   "source": [
    "<div class=\"alert alert-info\">\n",
    "<h3> Your turn</h3>\n",
    "\n",
    "Using the code we just wrote, plot the function <tt>compute_capital_ex_demand()</tt> for 50 points of\n",
    "<tt>k</tt> which are uniformly spaced on the interval [0.01, 1].\n",
    "\n",
    "</div>\n"
   ]
  },
  {
   "cell_type": "markdown",
   "metadata": {},
   "source": [
    "##### Step 5: Call the root-finder\n",
    "\n",
    "- Use\n",
    "  [`root_scalar()`](https://docs.scipy.org/doc/scipy/reference/generated/scipy.optimize.root_scalar.html)\n",
    "- Use `method='brentq'` (the default) and specify initial bracket\n"
   ]
  },
  {
   "cell_type": "markdown",
   "metadata": {},
   "source": [
    "##### Step 5: Compute remaining equilibrium quantities\n"
   ]
  },
  {
   "cell_type": "markdown",
   "metadata": {},
   "source": [
    "- Compute equilibrium using `compute_olg_equilibrium()` from [`lecture06_olg`](lecture06_olg.py) module\n",
    "- Print equilibrium using `print_olg_equilibrium()` from [`lecture06_olg`](lecture06_olg.py) module\n"
   ]
  },
  {
   "cell_type": "code",
   "execution_count": null,
   "metadata": {},
   "outputs": [],
   "source": [
    "from lecture06_olg import compute_olg_equilibrium, print_olg_equilibrium\n",
    "\n",
    "# Compute equilibrium, return OLGEquilbrium instance\n",
    "eq = compute_olg_equilibrium(par)\n",
    "\n",
    "# Print equilibrium allocation & prices\n",
    "print_olg_equilibrium(eq)"
   ]
  },
  {
   "cell_type": "markdown",
   "metadata": {},
   "source": [
    "<div class=\"alert alert-info\">\n",
    "<h3> Your turn</h3>\n",
    "\n",
    "You are interested in how the equilibrium prices depend on the cohort size <i>N</i>. Plot the equilibrium prices <i>r</i> and <i>w</i> when varying <i>N</i> over the range of integers from 1 to 10.\n",
    "\n",
    "</div>\n"
   ]
  }
 ],
 "metadata": {
  "kernelspec": {
   "display_name": "FIE463",
   "language": "python",
   "name": "python3"
  },
  "language_info": {
   "codemirror_mode": {
    "name": "ipython",
    "version": 3
   },
   "file_extension": ".py",
   "mimetype": "text/x-python",
   "name": "python",
   "nbconvert_exporter": "python",
   "pygments_lexer": "ipython3",
   "version": "3.12.8"
  }
 },
 "nbformat": 4,
 "nbformat_minor": 2
}
