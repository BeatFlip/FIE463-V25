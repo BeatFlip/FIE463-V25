{
 "cells": [
  {
   "cell_type": "markdown",
   "metadata": {},
   "source": [
    "# Numerical optimization\n",
    "\n",
    "- **Example 1: Consumption & labor supply**\n",
    "\n",
    "  - Analytical solution (special case)\n",
    "  - Numerical solution:\n",
    "    - Grid search\n",
    "    - Minimizer applied to objective function\n",
    "    - Root-finder applied to first-order condition\n",
    "\n",
    "- **Example 2: Consumption-savings choice**\n",
    "\n",
    "  - Analytical solution\n",
    "  - Numerical solution:\n",
    "\n",
    "    - Minimizer applied to objective function\n",
    "    - Root-finder applied to first-order condition (optional exercises)\n"
   ]
  },
  {
   "cell_type": "markdown",
   "metadata": {},
   "source": [
    "## Consumption & labor supply\n",
    "\n",
    "- Preferences:\n",
    "  $$\n",
    "  u(c,h) =\n",
    "  \\underbrace{\\frac{c^{1-\\gamma} - 1}{1-\\gamma}}_{\\text{Utility from consumption}}\n",
    "  -\n",
    "  \\underbrace{\\psi \\frac{h^{1+1/\\theta}}{1+1/\\theta}}_{\\text{Disutility from work}}\n",
    "  $$\n",
    "- Special case for $\\gamma = 1$:\n",
    "  $$\n",
    "  u(c,h) = \\log(c) - \\psi \\frac{h^{1+1/\\theta}}{1+1/\\theta}\n",
    "  $$\n",
    "- Budget constraint:\n",
    "  $$\n",
    "  c = a + w\\cdot h\n",
    "  $$\n",
    "- Choice variables:\n",
    "\n",
    "  - $c$: Consumption\n",
    "  - $h$: Hours worked\n",
    "\n",
    "- Parameters:\n",
    "\n",
    "  - $\\gamma$: Relative risk aversion\n",
    "  - $\\psi$: Weight on disutility of work\n",
    "  - $\\theta$: Labor supply elasticity\n",
    "  - $a$: Initial assets\n",
    "  - $w$: Wage rate\n",
    "\n",
    "- Household problem:\n",
    "  $$\n",
    "  \\begin{aligned}\n",
    "  \\max_{c,~ h} \\enskip&\n",
    "    \\left\\{\\frac{c^{1-\\gamma} - 1}{1-\\gamma} - \\psi \\frac{h^{1+1/\\theta}}{1+1/\\theta} \\right\\}\\\\\n",
    "    \\text{subject to} \\quad  c &= a + w\\cdot h \\\\\n",
    "        c &\\geq 0\\;, h \\geq 0\n",
    "  \\end{aligned}\n",
    "  $$\n"
   ]
  },
  {
   "cell_type": "markdown",
   "metadata": {},
   "source": [
    "#### Plot utility components\n"
   ]
  },
  {
   "cell_type": "code",
   "execution_count": 30,
   "metadata": {},
   "outputs": [
    {
     "data": {
      "text/plain": [
       "Text(0.5, 1.0, 'Working disutility $\\\\psi\\\\frac{h^{1+1/\\\\theta}}{1+1/\\\\theta}$')"
      ]
     },
     "execution_count": 30,
     "metadata": {},
     "output_type": "execute_result"
    },
    {
     "data": {
      "image/png": "[encoded data removed]",
      "text/plain": [
       "<Figure size 800x300 with 2 Axes>"
      ]
     },
     "metadata": {},
     "output_type": "display_data"
    }
   ],
   "source": [
    "import matplotlib.pyplot as plt\n",
    "import numpy as np\n",
    "\n",
    "# Parameters\n",
    "psi = 1\n",
    "theta = 0.5\n",
    "\n",
    "fig, (ax0, ax1) = plt.subplots(1, 2, figsize=(8, 3))\n",
    "xvalues = np.linspace(0.01, 2, 50)\n",
    "# Assume gamma = 1 and hence log utility\n",
    "ax0.plot(xvalues, np.log(xvalues))\n",
    "ax0.set_xlabel(r\"Consumption $c$\")\n",
    "ax0.set_title(r\"Consumption utility $\\frac{c^{1-\\gamma}-1}{1-\\gamma}$\")\n",
    "ax1.plot(xvalues, psi * xvalues ** (1 + 1 / theta) / (1 + 1 / theta))\n",
    "ax1.set_xlabel(r\"Hours worked $h$\")\n",
    "ax1.set_title(r\"Working disutility $\\psi\\frac{h^{1+1/\\theta}}{1+1/\\theta}$\")"
   ]
  },
  {
   "cell_type": "markdown",
   "metadata": {},
   "source": [
    "### Analytical solution\n",
    "\n",
    "- From first-order conditions we get:\n",
    "\n",
    "  $$\n",
    "  \\bigl(a + w\\cdot h\\bigr)^{-\\gamma} = \\psi \\frac{h^{1/\\theta}}{w}\n",
    "  $$\n",
    "\n",
    "- Special case with $a=0$:\n",
    "  $$\n",
    "  \\begin{aligned}\n",
    "  h &= \\left[\\frac{w^{1-\\gamma}}{\\psi}\\right]^{\\frac{1}{1/\\theta + \\gamma}} \\\\\n",
    "  c &= w h\n",
    "  \\end{aligned}\n",
    "  $$\n"
   ]
  },
  {
   "cell_type": "markdown",
   "metadata": {},
   "source": [
    "### Numerical solution with grid search\n",
    "\n",
    "#### Algorithm\n",
    "\n",
    "1.  Define objective function\n",
    "2.  Fix parameters\n",
    "3.  Create candidate grid for $h$\n",
    "4.  Obtain implied $c$ grid from budget constraint\n",
    "5.  Evaluate utility for each point on grid\n",
    "6.  Locate maximum\n"
   ]
  },
  {
   "cell_type": "markdown",
   "metadata": {},
   "source": [
    "##### Part (1): Objective function\n"
   ]
  },
  {
   "cell_type": "markdown",
   "metadata": {},
   "source": [
    "<div class=\"alert alert-info\">\n",
    "<h3> Your turn</h3>\n",
    "\n",
    "Before we can locale the optimum numerically, we need to implement\n",
    "a Python function which returns the utility associated with a choice\n",
    "vector <i>(c, h)</i>.\n",
    "\n",
    "<ul>\n",
    "<li>Implement a function with the signature \n",
    "<p>\n",
    "<tt>util(c, h, gamma, psi, theta)</tt> \n",
    "</p>\n",
    "which evaluates utility \n",
    "using the formula given above.</li>\n",
    "<li>Make sure that your implementation correctly handles the cases \n",
    "γ = 1 and γ ≠ 1.</li>\n",
    "</ul>\n",
    "\n",
    "</div>\n"
   ]
  },
  {
   "cell_type": "code",
   "execution_count": 31,
   "metadata": {},
   "outputs": [],
   "source": [
    "# Import numpy\n",
    "import numpy as np"
   ]
  },
  {
   "cell_type": "code",
   "execution_count": 32,
   "metadata": {},
   "outputs": [],
   "source": [
    "def util(c, h, gamma, psi, theta):\n",
    "    \"\"\"\n",
    "    Compute the utility of a given consumption/labor supply choice.\n",
    "\n",
    "    Parameters\n",
    "    ----------\n",
    "    c : float or array\n",
    "        Consumption level.\n",
    "    h : float or array\n",
    "        Hours worked.\n",
    "    gamma : float\n",
    "        Relative risk aversion parameter.\n",
    "    psi : float\n",
    "        Weight on disutility of labor.\n",
    "    theta : float\n",
    "        Labor supply elasticity.\n",
    "\n",
    "    Returns\n",
    "    -------\n",
    "    u : float or array\n",
    "        Utility value.\n",
    "    \"\"\"\n",
    "    # Consumption utility\n",
    "    if gamma == 1:\n",
    "        # Log utility\n",
    "        u = np.log(c)\n",
    "    else:\n",
    "        # General CRRA utility\n",
    "        u = (c ** (1 - gamma) - 1) / (1 - gamma)\n",
    "\n",
    "    # add disutility of labor\n",
    "    u -= (\n",
    "        psi * h ** (1 + 1 / theta) / (1 + 1 / theta)\n",
    "    )  # -= is the same as u = u - psi * h ** (1 + 1 / theta) / (1 + 1 / theta)\n",
    "    return u"
   ]
  },
  {
   "cell_type": "markdown",
   "metadata": {},
   "source": [
    "##### Part (2): Parameters\n"
   ]
  },
  {
   "cell_type": "code",
   "execution_count": 33,
   "metadata": {},
   "outputs": [],
   "source": [
    "# Parameters\n",
    "a = 0  # initial assets\n",
    "w = 2  # wage rate\n",
    "gamma = 1  # Relative risk aversion\n",
    "psi = 1.5  # weight on disutility of labor\n",
    "theta = 0.5  # labor supply elasticity\n",
    "h = np.linspace(0.1, 24, 100)  # labor supply grid"
   ]
  },
  {
   "cell_type": "markdown",
   "metadata": {},
   "source": [
    "##### Part (3): Create grid for $h$\n"
   ]
  },
  {
   "cell_type": "code",
   "execution_count": 34,
   "metadata": {},
   "outputs": [],
   "source": [
    "# Number of grid points\n",
    "N = 11\n",
    "\n",
    "# Create candidate grid of hours worked\n",
    "h_grid = np.linspace(0.1, 2, N)"
   ]
  },
  {
   "cell_type": "markdown",
   "metadata": {},
   "source": [
    "##### Part (4): Compute grid for $c$\n"
   ]
  },
  {
   "cell_type": "code",
   "execution_count": 35,
   "metadata": {},
   "outputs": [],
   "source": [
    "# Recover consumption from budget constraint\n",
    "c_grid = a + w * h_grid"
   ]
  },
  {
   "cell_type": "markdown",
   "metadata": {},
   "source": [
    "##### Part (5): Evaluate objective\n"
   ]
  },
  {
   "cell_type": "code",
   "execution_count": 36,
   "metadata": {},
   "outputs": [],
   "source": [
    "# Evaluate utility for each consumption/hours choice\n",
    "u_grid = util(c_grid, h_grid, gamma, psi, theta)"
   ]
  },
  {
   "cell_type": "markdown",
   "metadata": {},
   "source": [
    "##### Part (6): Locate maximum\n"
   ]
  },
  {
   "cell_type": "code",
   "execution_count": 37,
   "metadata": {},
   "outputs": [
    {
     "data": {
      "text/plain": [
       "Text(0, 0.5, 'Utility')"
      ]
     },
     "execution_count": 37,
     "metadata": {},
     "output_type": "execute_result"
    },
    {
     "data": {
      "image/png": "[encoded data removed]",
      "text/plain": [
       "<Figure size 640x480 with 1 Axes>"
      ]
     },
     "metadata": {},
     "output_type": "display_data"
    }
   ],
   "source": [
    "import matplotlib.pyplot as plt\n",
    "\n",
    "# Plot utility\n",
    "plt.plot(h_grid, u_grid, marker=\"o\", ms=4)\n",
    "plt.xlabel(r\"Hours worked $h$\")\n",
    "plt.ylabel(\"Utility\")"
   ]
  },
  {
   "cell_type": "code",
   "execution_count": 38,
   "metadata": {},
   "outputs": [
    {
     "name": "stdout",
     "output_type": "stream",
     "text": [
      "Utility is maximized at c=1.72, h=0.86; u_max=0.224\n"
     ]
    }
   ],
   "source": [
    "# Locate index where utility is maximized\n",
    "imax = np.argmax(u_grid)  # Locate the index of the maximum value of u_grid\n",
    "\n",
    "# Recover the maximizing hours and consumption choices\n",
    "h_opt = h_grid[imax]\n",
    "c_opt = c_grid[imax]\n",
    "\n",
    "# Recover the maximized utility level\n",
    "u_max = u_grid[imax]\n",
    "\n",
    "print(f\"Utility is maximized at c={c_opt}, h={h_opt}; u_max={u_max:.3f}\")"
   ]
  },
  {
   "cell_type": "code",
   "execution_count": 39,
   "metadata": {},
   "outputs": [
    {
     "data": {
      "text/plain": [
       "<matplotlib.lines.Line2D at 0x1ce173b71d0>"
      ]
     },
     "execution_count": 39,
     "metadata": {},
     "output_type": "execute_result"
    },
    {
     "data": {
      "image/png": "[encoded data removed]",
      "text/plain": [
       "<Figure size 640x480 with 1 Axes>"
      ]
     },
     "metadata": {},
     "output_type": "display_data"
    }
   ],
   "source": [
    "plt.plot(h_grid, u_grid, marker=\"o\", ms=4)\n",
    "plt.plot([h_opt], [u_max], marker=\"o\", color=\"black\", ms=4)\n",
    "plt.xlabel(r\"Hours worked $h$\")\n",
    "plt.ylabel(\"Utility\")\n",
    "\n",
    "# Add lines to indicate the maximum\n",
    "plt.axhline(u_max, ls=\"--\", color=\"black\", lw=0.5, zorder=-1)\n",
    "plt.axvline(h_opt, ls=\"--\", color=\"black\", lw=0.5, zorder=-1)"
   ]
  },
  {
   "cell_type": "markdown",
   "metadata": {},
   "source": [
    "#### Comparing to the analytical solution\n"
   ]
  },
  {
   "cell_type": "markdown",
   "metadata": {},
   "source": [
    "Anlytical Solution:\n",
    "$$ h = \\left[\\frac{w^{1-\\gamma}}{\\psi}\\right]^{\\frac{1}{1/\\theta + \\gamma}} $$\n"
   ]
  },
  {
   "cell_type": "code",
   "execution_count": 40,
   "metadata": {},
   "outputs": [
    {
     "name": "stdout",
     "output_type": "stream",
     "text": [
      "Exact solution:\n",
      "  c = 1.74716\n",
      "  h = 0.87358\n",
      "Grid solution:\n",
      "  c = 1.72000\n",
      "  h = 0.86000\n"
     ]
    }
   ],
   "source": [
    "# Compute analytical solution using the formulas from above\n",
    "\n",
    "# Analytical (exact) hours worked\n",
    "h_exact = (w ** (1 - gamma) / psi) ** (1 / (gamma + 1 / theta))\n",
    "\n",
    "# Analytical (exact) consumption\n",
    "c_exact = w * h_exact\n",
    "\n",
    "# Print exact vs. grid solution\n",
    "print(f\"Exact solution:\\n  c = {c_exact:.5f}\\n  h = {h_exact:.5f}\")\n",
    "print(f\"Grid solution:\\n  c = {c_opt:.5f}\\n  h = {h_opt:.5f}\")"
   ]
  },
  {
   "cell_type": "markdown",
   "metadata": {},
   "source": [
    "<div class=\"alert alert-info\">\n",
    "<h3> Your turn</h3>\n",
    "\n",
    "Using the code you just wrote, experiment with different numbers of grid points\n",
    "and re-evaluate the optimal consumption and labor supply choices.\n",
    "How many grid points do you approximately need to get a solution\n",
    "that is close to the exact one (with a precision of 3 decimal digits)?\n",
    "\n",
    "</div>\n"
   ]
  },
  {
   "cell_type": "markdown",
   "metadata": {},
   "source": [
    "### Numerical solution using a minimizer\n",
    "\n",
    "- Minimizer implemented in SciPy:\n",
    "  $$\n",
    "  \\min_{x} f(x) \\enskip \\text{subject to} \\enskip a \\leq x \\leq b\n",
    "  $$\n",
    "- Convert this to a maximizer:\n",
    "  $$\n",
    "  \\max_{x} f(x) \\Longleftrightarrow \\min_{x} -f(x)\n",
    "  $$\n"
   ]
  },
  {
   "cell_type": "markdown",
   "metadata": {},
   "source": [
    "#### Algorithm\n",
    "\n",
    "1.  Define objective function for minimizer\n",
    "2.  Set initial bracket or initial guess\n",
    "3.  Run minimizer\n",
    "4.  Inspect result object (for errors, convergence, etc.)\n",
    "5.  Recover optimum and maximized objective function\n"
   ]
  },
  {
   "cell_type": "markdown",
   "metadata": {},
   "source": [
    "##### Part (1): Objective function\n"
   ]
  },
  {
   "cell_type": "code",
   "execution_count": 41,
   "metadata": {},
   "outputs": [],
   "source": [
    "# Objective function: define a modified utility function which only requires h\n",
    "\n",
    "\n",
    "def util_h(gamma, h, psi, theta, a, w):\n",
    "    \"\"\"\n",
    "    Compute utility for given labor choice and parameters.\n",
    "\n",
    "    Parameters\n",
    "    ----------\n",
    "    h : float or array\n",
    "        Hours worked.\n",
    "    gamma : float\n",
    "        Relative risk aversion parameter.\n",
    "    psi : float\n",
    "        Weight on disutility of labor.\n",
    "    theta : float\n",
    "        Labor supply elasticity.\n",
    "    a : float\n",
    "        Initial assets.\n",
    "    w : float\n",
    "        Wage rate.\n",
    "\n",
    "    Returns\n",
    "    -------\n",
    "    u : float or array\n",
    "        Utility value.\n",
    "    \"\"\"\n",
    "    # Recover consumption from the budget constraint\n",
    "    c = a + w * h\n",
    "\n",
    "    # Use our previous implementation of u(c,h) to compute utility.\n",
    "    u = util(c, h, gamma, psi, theta)\n",
    "\n",
    "    return u"
   ]
  },
  {
   "cell_type": "markdown",
   "metadata": {},
   "source": [
    "##### Part (2) + (3): Set up and run minimizer\n"
   ]
  },
  {
   "cell_type": "markdown",
   "metadata": {},
   "source": [
    "Running the minimizer:\n",
    "\n",
    "- Various algorithms implemented in [`scipy.optimize`](https://docs.scipy.org/doc/scipy/reference/optimize.html)\n",
    "- Single choice variable:\n",
    "  [`minimize_scalar()`](https://docs.scipy.org/doc/scipy/reference/generated/scipy.optimize.minimize_scalar.html)\n",
    "  with `Bounded` algorithm.\n",
    "- Pass additional arguments to objective:\n",
    "\n",
    "  1.  Use `lambda` expression; or\n",
    "  2.  Use `args` argument\n"
   ]
  },
  {
   "cell_type": "code",
   "execution_count": 42,
   "metadata": {},
   "outputs": [],
   "source": [
    "from scipy.optimize import minimize_scalar\n",
    "\n",
    "# Set boundaries for minimization\n",
    "# We don't use 0 as the lower bound, since with a=0 that yields -inf utility.\n",
    "bounds = (1.0e-8, 10)\n",
    "\n",
    "# Perform maximization using bounded minimizer\n",
    "res = minimize_scalar(lambda h: -util_h(gamma, h, psi, theta, a, w), bounds=bounds)"
   ]
  },
  {
   "cell_type": "markdown",
   "metadata": {},
   "source": [
    "##### Part (4): Inspect minimizer result\n"
   ]
  },
  {
   "cell_type": "code",
   "execution_count": 43,
   "metadata": {},
   "outputs": [
    {
     "data": {
      "text/plain": [
       " message: Solution found.\n",
       " success: True\n",
       "  status: 0\n",
       "     fun: -0.22465881119053482\n",
       "       x: 0.8735803580131469\n",
       "     nit: 11\n",
       "    nfev: 11"
      ]
     },
     "execution_count": 43,
     "metadata": {},
     "output_type": "execute_result"
    }
   ],
   "source": [
    "# Display attributes of result object\n",
    "res"
   ]
  },
  {
   "cell_type": "markdown",
   "metadata": {},
   "source": [
    "##### Part (5): Recover optimal choices and utility\n"
   ]
  },
  {
   "cell_type": "code",
   "execution_count": 44,
   "metadata": {},
   "outputs": [
    {
     "name": "stdout",
     "output_type": "stream",
     "text": [
      "Utility is maximized at c=1.74716, h=0.87358; u_max=0.22466\n",
      "Utility is maximized at c=1.74716, h=0.87358; u_max=0.22466\n"
     ]
    }
   ],
   "source": [
    "# Store optimal choices\n",
    "\n",
    "# Maximizer is stored in the 'x' attribute\n",
    "h_opt = res.x\n",
    "# Optimal consumption follows from budget constraint\n",
    "c_opt = a + w * h_opt\n",
    "\n",
    "# Maximized utility is the NEGATIVE of the objective function\n",
    "u_max = -res.fun\n",
    "\n",
    "print(f\"Utility is maximized at c={c_opt:.5f}, h={h_opt:.5f}; u_max={u_max:.5f}\")\n",
    "# Exact solution\n",
    "print(\n",
    "    f\"Utility is maximized at c={c_exact:.5f}, h={h_exact:.5f}; u_max={util(c_exact, h_exact, gamma, psi, theta):.5f}\"\n",
    ")"
   ]
  },
  {
   "cell_type": "markdown",
   "metadata": {},
   "source": [
    "### Numerical solution using a root-finder\n",
    "\n",
    "- Operates on first-order condition instead of objective\n",
    "- Rewrite FOC as\n",
    "  $$\n",
    "  f(h) = \\bigl(a + w\\cdot h\\bigr)^{-\\gamma} - \\psi \\frac{h^{1/\\theta}}{w}\n",
    "  $$\n",
    "- Locate $h^*$ such that $f(h^*) = 0$\n",
    "\n",
    "#### Algorithm\n",
    "\n",
    "1.  Implement function $f$ whose root should be located\n",
    "2.  Set initial bracket or initial guess\n",
    "3.  Run root-finder\n",
    "4.  Inspect result object (for errors, convergence, etc.)\n",
    "5.  Recover root (the optimum) and compute maximized objective, if desired\n"
   ]
  },
  {
   "cell_type": "markdown",
   "metadata": {},
   "source": [
    "##### Part (1): Implement $f$\n"
   ]
  },
  {
   "cell_type": "code",
   "execution_count": 45,
   "metadata": {},
   "outputs": [],
   "source": [
    "def foc(h, gamma, psi, theta, a, w):\n",
    "    \"\"\"\n",
    "    Compute the difference LHS - RHS of the first-order condition.\n",
    "\n",
    "    Parameters\n",
    "    ----------\n",
    "    h : float or array\n",
    "        Hours worked.\n",
    "    gamma : float\n",
    "        Relative risk aversion parameter.\n",
    "    psi : float\n",
    "        Weight on disutility of labor.\n",
    "    theta : float\n",
    "        Labor supply elasticity.\n",
    "    a : float\n",
    "        Initial assets.\n",
    "    w : float\n",
    "        Wage rate.\n",
    "\n",
    "    Returns\n",
    "    -------\n",
    "    diff : float\n",
    "        Difference LHS - RHS of the first-order condition.\n",
    "    \"\"\""
   ]
  },
  {
   "cell_type": "markdown",
   "metadata": {},
   "source": [
    "##### Part (2) + (3): Set up and run root-finder\n"
   ]
  },
  {
   "cell_type": "markdown",
   "metadata": {},
   "source": [
    "##### Part (4): Inspect root-finder result\n"
   ]
  },
  {
   "cell_type": "markdown",
   "metadata": {},
   "source": [
    "##### Part (5): Recover optimal choices (and objetive)\n"
   ]
  },
  {
   "cell_type": "markdown",
   "metadata": {},
   "source": [
    "<div class=\"alert alert-info\">\n",
    "<h3> Your turn</h3>\n",
    "\n",
    "Experiment with additional root-finding algorithms implemented in\n",
    "<a href=\"https://docs.scipy.org/doc/scipy/reference/generated/scipy.optimize.root_scalar.html\"><tt>\n",
    "root_scalar()</tt></a>:\n",
    "\n",
    "<ol>\n",
    "    <li>Use <tt>method='bisect'</tt> to select the \n",
    "    <a href=\"https://en.wikipedia.org/wiki/Bisection_method\">bisection method</a>\n",
    "    which is the most basic root-finding algorithm. Inspect the result object\n",
    "    to see how many iterations this method requires compared to the default.</li>\n",
    "    <li>Use <tt>method='newton'</tt> to select \n",
    "    <a href=\"https://en.wikipedia.org/wiki/Newton%27s_method\">Newton's method</a>,\n",
    "    a root-finding algorithm which uses the function derivative.\n",
    "    Newton's method does not support a starting bracket but instead requires\n",
    "    an initial guess for the root which you need to specify using \n",
    "    the <tt>x0</tt> argument to <tt>root_scalar()</tt>.\n",
    "    Experiment with the staring values of 0.5 and 10<sup>-8</sup>\n",
    "    and note the number of iterations required compared to the default <tt>'brentq'</tt>\n",
    "    algorithm.\n",
    "\n",
    "<ol>\n",
    "\n",
    "</div>\n"
   ]
  },
  {
   "cell_type": "markdown",
   "metadata": {},
   "source": [
    "### Labor supply as a function of wealth\n",
    "\n",
    "- How does optimal labor supply change as we vary initial assets $a$?\n",
    "- Implement `solve_minimizer()` below to return the optimum for given parameters\n"
   ]
  },
  {
   "cell_type": "code",
   "execution_count": 46,
   "metadata": {},
   "outputs": [],
   "source": [
    "# Grid for initial assets\n",
    "a_grid = np.linspace(0, 10, 51)\n",
    "\n",
    "# Parameters\n",
    "w = 2  # wage rate\n",
    "gamma = 2  # Relative risk aversion\n",
    "psi = 1.5  # weight on disutility of labor\n",
    "theta = 0.5  # labor supply elasticity"
   ]
  },
  {
   "cell_type": "code",
   "execution_count": 47,
   "metadata": {},
   "outputs": [],
   "source": [
    "def solve_minimizer(gamma, psi, theta, a, w):\n",
    "    \"\"\"\n",
    "    Solve for optimal hours for a given set of parameters.\n",
    "    \"\"\""
   ]
  },
  {
   "cell_type": "code",
   "execution_count": 48,
   "metadata": {},
   "outputs": [],
   "source": [
    "# Allocate array to store optimal hours for each asset level\n",
    "h_opt_grid = np.empty_like(a_grid)\n",
    "\n",
    "# Iterate over asset levels and solve for optimal hours for each\n",
    "for i, a in enumerate(a_grid):\n",
    "    h_opt_grid[i] = solve_minimizer(gamma, psi, theta, a, w)"
   ]
  },
  {
   "cell_type": "code",
   "execution_count": 49,
   "metadata": {},
   "outputs": [],
   "source": [
    "# Recover optimal consumption from budget constraint\n",
    "c_opt_grid = a_grid + w * h_opt_grid"
   ]
  },
  {
   "cell_type": "code",
   "execution_count": 50,
   "metadata": {},
   "outputs": [
    {
     "data": {
      "text/plain": [
       "Text(0.5, 0, 'Assets $a$')"
      ]
     },
     "execution_count": 50,
     "metadata": {},
     "output_type": "execute_result"
    },
    {
     "data": {
      "image/png": "[encoded data removed]",
      "text/plain": [
       "<Figure size 800x300 with 2 Axes>"
      ]
     },
     "metadata": {},
     "output_type": "display_data"
    }
   ],
   "source": [
    "import matplotlib.pyplot as plt\n",
    "\n",
    "fig, (ax0, ax1) = plt.subplots(1, 2, figsize=(8, 3))\n",
    "\n",
    "# Plot optimal consumption vs. assets\n",
    "ax0.plot(a_grid, c_opt_grid)\n",
    "ax0.set_title(\"Optimal consumption $c^*$\")\n",
    "ax0.set_xlabel(\"Assets $a$\")\n",
    "\n",
    "# Plot optimal consumption vs. assets\n",
    "ax1.plot(a_grid, h_opt_grid)\n",
    "ax1.set_title(\"Optimal hours worked $h^*$\")\n",
    "ax1.set_xlabel(\"Assets $a$\")"
   ]
  },
  {
   "cell_type": "markdown",
   "metadata": {},
   "source": [
    "<div class=\"alert alert-info\">\n",
    "<h3> Your turn</h3>\n",
    "\n",
    "Using the optimal consumption and labor supply choices for each asset level,\n",
    "compute the implied utility and plot it against the grid of asset levels.\n",
    "\n",
    "<i>Hint:</i> You can use your implementation of <i>u(c,h)</i>\n",
    "from the beginning of this lecture for this task.\n",
    "\n",
    "</div>\n"
   ]
  },
  {
   "cell_type": "markdown",
   "metadata": {},
   "source": [
    "---\n",
    "\n",
    "## Two-period consumption-savings problem\n",
    "\n",
    "- Household problem:\n",
    "  $$\n",
    "  \\begin{aligned}\n",
    "  \\max_{c_1,~c_2,~a} \\enskip & \\Bigl\\{ u(c_1) + \\beta u(c_2) \\Bigr\\} \\\\\n",
    "  \\text{s.t.} \\quad c_1 + a &= y_1 \\\\\n",
    "                  c_2 &= (1+r)a + y_2 \\\\\n",
    "      c_1 &\\geq 0, ~ c_2 \\geq 0\n",
    "  \\end{aligned}\n",
    "  $$\n",
    "- Flow utility:\n",
    "  $$\n",
    "  u(c) = \\begin{cases}\n",
    "      \\frac{c^{1-\\gamma}}{1-\\gamma} & \\text{if } \\gamma \\neq 1 \\\\\n",
    "      \\log(c) & \\text{if } \\gamma = 1\n",
    "      \\end{cases}\n",
    "  $$\n",
    "- Choice variables:\n",
    "\n",
    "  - $c_1$: Consumption in period 1\n",
    "  - $c_2$: Consumption in period 2\n",
    "  - $a$: Savings in period 1\n",
    "\n",
    "- Parameters:\n",
    "\n",
    "  - $\\beta$: Discount factor\n",
    "  - $\\gamma$: Relative risk aversion\n",
    "  - $y_1$: Period-1 income\n",
    "  - $y_2$: Period-2 income\n",
    "  - $r$: Interest rate\n",
    "\n",
    "- Without restrictions on saving or borrowing, budget constraints can be consolidated to\n",
    "  _lifetime_ budget constraint\n",
    "  $$\n",
    "  \\underbrace{c_1 + \\frac{c_2}{1+r}}_{\\text{PV of consumption}} =\n",
    "  \\underbrace{y_1 + \\frac{y_2}{1+r}}_{\\text{PV of income}} \\equiv Y\n",
    "  $$\n"
   ]
  },
  {
   "cell_type": "markdown",
   "metadata": {},
   "source": [
    "### Analytical solution\n",
    "\n",
    "- Euler equation (EE):\n",
    "  $$\n",
    "  c_1^{-\\gamma} = \\beta (1+r) c_2^{-\\gamma}\n",
    "  $$\n",
    "- Combine EE and lifetime budget constraint:\n",
    "  $$\n",
    "  \\begin{aligned}\n",
    "  c_1 &= \\frac{1}{1 + \\beta^{\\frac{1}{\\gamma}} (1+r)^{\\frac{1}{\\gamma} - 1}} Y \\\\\n",
    "  c_2 & = \\frac{\\bigl[\\beta(1+r)\\bigr]^{\\frac{1}{\\gamma}}}{1 + \\beta^{\\frac{1}{\\gamma}}(1+r)^{\\frac{1}{\\gamma} - 1}} Y\n",
    "  \\end{aligned}\n",
    "  $$\n"
   ]
  },
  {
   "cell_type": "markdown",
   "metadata": {},
   "source": [
    "### Numerical solution using a minimizer\n",
    "\n",
    "- Minimizer implemented in SciPy:\n",
    "  $$\n",
    "  \\min_{x} f(x) \\enskip \\text{subject to} \\enskip a \\leq x \\leq b\n",
    "  $$\n",
    "- Convert this to a maximizer:\n",
    "  $$\n",
    "  \\max_{x} f(x) \\Longleftrightarrow \\min_{x} -f(x)\n",
    "  $$\n",
    "\n",
    "#### Algorithm:\n",
    "\n",
    "1.  Define flow utility function\n",
    "2.  Define function to evaluate lifetime utility (objective)\n",
    "3.  Write function to call minimizer and return optimal choices\n",
    "4.  Fix parameters and call function from step (3)\n",
    "5.  Compare to analytical solution\n"
   ]
  },
  {
   "cell_type": "markdown",
   "metadata": {},
   "source": [
    "##### Step (1): Flow utility\n"
   ]
  },
  {
   "cell_type": "code",
   "execution_count": 51,
   "metadata": {},
   "outputs": [],
   "source": [
    "import numpy as np\n",
    "\n",
    "\n",
    "def util(c, gamma):\n",
    "    \"\"\"\n",
    "    Compute per-period utility for given consumption.\n",
    "\n",
    "    Parameters\n",
    "    ----------\n",
    "    c : float or array\n",
    "        Consumption level.\n",
    "    gamma : float\n",
    "        Relative risk aversion parameter.\n",
    "\n",
    "    Returns\n",
    "    -------\n",
    "    u : float or array\n",
    "        Utility value.\n",
    "    \"\"\"\n",
    "    if gamma == 1:\n",
    "        # Log preferences\n",
    "        u = np.log(c)\n",
    "    else:\n",
    "        # General CRRA preferences\n",
    "        u = c ** (1 - gamma) / (1 - gamma)\n",
    "    return u"
   ]
  },
  {
   "cell_type": "markdown",
   "metadata": {},
   "source": [
    "##### Step (2): Objective function\n"
   ]
  },
  {
   "cell_type": "code",
   "execution_count": 52,
   "metadata": {},
   "outputs": [],
   "source": [
    "def util_life_c1(c1, beta, gamma, y, r):\n",
    "    \"\"\"\n",
    "    Compute lifetime utility of consuming c1, with c2 following from budget\n",
    "    constraint.\n",
    "\n",
    "    Parameters\n",
    "    ----------\n",
    "    c1 : float or array\n",
    "        Period-1 consumption.\n",
    "    beta : float\n",
    "        Discount factor.\n",
    "    gamma : float\n",
    "        Relative risk aversion parameter.\n",
    "    y : float\n",
    "        Present value of lifetime income.\n",
    "    r : float\n",
    "        Interest rate.\n",
    "\n",
    "    Returns\n",
    "    -------\n",
    "    U : float or array\n",
    "        Lifetime utility.\n",
    "    \"\"\"\n",
    "\n",
    "    # Recover c2 from budget constraint\n",
    "    c2 = (1 + r) * (y - c1)\n",
    "\n",
    "    # Evaluate period-1 and period-2 utility\n",
    "    u1 = util(c1, gamma)\n",
    "    u2 = util(c2, gamma)\n",
    "\n",
    "    # Compute lifetime utility\n",
    "    U = u1 + beta * u2\n",
    "\n",
    "    return U"
   ]
  },
  {
   "cell_type": "markdown",
   "metadata": {},
   "source": [
    "##### Step (3): Function to run minimizer\n"
   ]
  },
  {
   "cell_type": "code",
   "execution_count": 58,
   "metadata": {},
   "outputs": [],
   "source": [
    "from scipy.optimize import minimize_scalar\n",
    "\n",
    "\n",
    "def solve_cons_sav(beta, gamma, y1, y2, r):\n",
    "    \"\"\"\n",
    "    Solve consumption-savings problem for given parameters.\n",
    "\n",
    "    Parameters\n",
    "    ----------\n",
    "    beta : float\n",
    "        Discount factor.\n",
    "    gamma : float\n",
    "        Relative risk aversion parameter.\n",
    "    y1 : float\n",
    "        Period-1 income.\n",
    "    y2 : float\n",
    "        Period-2 income.\n",
    "    r : float\n",
    "        Interest rate.\n",
    "\n",
    "    Returns\n",
    "    -------\n",
    "    c1_opt: float\n",
    "        Optimal period-1 consumption\n",
    "    c2_opt: float\n",
    "        Optimal period-2 consumption\n",
    "    u_max : float\n",
    "        Maximized lifetime utility\n",
    "    res : OptimizeResult\n",
    "        Optimization result object\n",
    "    \"\"\"\n",
    "\n",
    "    # Lifetime income\n",
    "    Y = y1 + y2 / (1 + r)\n",
    "\n",
    "    # Bounds for period-1 consumption (require min. consumption of 1e-8)\n",
    "    bounds = (1.0e-8, Y - 1.0e-8)\n",
    "\n",
    "    # Run minimizer, store result object\n",
    "    res = minimize_scalar(lambda x: -util_life_c1(x, beta, gamma, Y, r), bounds=bounds)\n",
    "\n",
    "    # Store optimal period-1 consumption\n",
    "    c1_opt = res.x\n",
    "\n",
    "    # Recover implied optimal period-2 consumption from budget constraint\n",
    "    c2_opt = (1 + r) * (Y - c1_opt)\n",
    "\n",
    "    # Recover maximized lifetime utility\n",
    "    u_max = -res.fun\n",
    "\n",
    "    # Return optimal consumption and the result object\n",
    "    return c1_opt, c2_opt, u_max, res"
   ]
  },
  {
   "cell_type": "markdown",
   "metadata": {},
   "source": [
    "##### Step (4): Fix parameters, run minimizer\n"
   ]
  },
  {
   "cell_type": "code",
   "execution_count": 66,
   "metadata": {},
   "outputs": [
    {
     "data": {
      "text/plain": [
       " message: Solution found.\n",
       " success: True\n",
       "  status: 0\n",
       "     fun: -6.279501240013998e-07\n",
       "       x: 1.0007849386194374\n",
       "     nit: 9\n",
       "    nfev: 9"
      ]
     },
     "execution_count": 66,
     "metadata": {},
     "output_type": "execute_result"
    }
   ],
   "source": [
    "# Parameters\n",
    "\n",
    "beta = 0.96  # discount factor\n",
    "gamma = 1.0  # relative risk aversion (RRA)\n",
    "y1 = 1.0  # period-1 income\n",
    "y2 = 1.0  # period-2 income\n",
    "r = 0.04  # interest rate (4%)\n",
    "\n",
    "c1_opt, c2_opt, u_max, res = solve_cons_sav(beta, gamma, y1, y2, r)\n",
    "\n",
    "res"
   ]
  },
  {
   "cell_type": "markdown",
   "metadata": {},
   "source": [
    "##### Step (5): Compare to analytical solution\n"
   ]
  },
  {
   "cell_type": "code",
   "execution_count": 67,
   "metadata": {},
   "outputs": [
    {
     "name": "stdout",
     "output_type": "stream",
     "text": [
      "Exact solution:\n",
      "  c1 = 1.00078493\n",
      "  c2 = 0.99918367\n"
     ]
    }
   ],
   "source": [
    "# Savings rate out of lifetime income (from analytical solution)\n",
    "s = 1 / (1 + beta ** (1 / gamma) * (1 + r) ** (1 / gamma - 1))\n",
    "\n",
    "# Lifetime income\n",
    "Y = y1 + y2 / (1 + r)\n",
    "\n",
    "# Analytical consumption choices\n",
    "c1_exact = s * Y\n",
    "c2_exact = (beta * (1 + r)) ** (1 / gamma) * c1_exact\n",
    "\n",
    "print(f\"Exact solution:\\n  c1 = {c1_exact:.8f}\\n  c2 = {c2_exact:.8f}\")\n",
    "# print(f'Minimizer solution:\\n  c1 = {c1_opt:.8f}\\n  c2 = {c2_opt:.8f}')"
   ]
  },
  {
   "cell_type": "markdown",
   "metadata": {},
   "source": [
    "### How does optimal consumption depend on the interest rate?\n"
   ]
  },
  {
   "cell_type": "code",
   "execution_count": 68,
   "metadata": {},
   "outputs": [],
   "source": [
    "# Grid for interest rate levels\n",
    "r_grid = np.linspace(0.0, 0.1, 21)\n",
    "\n",
    "# Allocate arrays to store optimal consumption for each r\n",
    "c1_opt_grid = np.empty_like(r_grid)\n",
    "c2_opt_grid = np.empty_like(r_grid)\n",
    "\n",
    "# Iterate over r, store optimal consumption\n",
    "for i, r in enumerate(r_grid):\n",
    "    c1_opt, c2_opt, u_max, res = solve_cons_sav(beta, gamma, y1, y2, r)\n",
    "    c1_opt_grid[i] = c1_opt\n",
    "    c2_opt_grid[i] = c2_opt"
   ]
  },
  {
   "cell_type": "code",
   "execution_count": 69,
   "metadata": {},
   "outputs": [
    {
     "data": {
      "text/plain": [
       "<matplotlib.legend.Legend at 0x1ce199a3620>"
      ]
     },
     "execution_count": 69,
     "metadata": {},
     "output_type": "execute_result"
    },
    {
     "data": {
      "image/png": "[encoded data removed]",
      "text/plain": [
       "<Figure size 640x480 with 1 Axes>"
      ]
     },
     "metadata": {},
     "output_type": "display_data"
    }
   ],
   "source": [
    "import matplotlib.pyplot as plt\n",
    "\n",
    "plt.plot(r_grid, c1_opt_grid, label=r\"$c_1$\")\n",
    "plt.plot(r_grid, c2_opt_grid, ls=\"--\", color=\"black\", label=r\"$c_2$\")\n",
    "plt.xlabel(\"Interest rate $r$\")\n",
    "plt.ylabel(\"Consumption\")\n",
    "plt.title(\"Optimal consumption\")\n",
    "plt.legend()"
   ]
  },
  {
   "cell_type": "markdown",
   "metadata": {},
   "source": [
    "As you can see, period-1 consumption is decreasing in the interest rate. While this is intuitive, you should understand that this is _not_ due to intertemporal substitution in this case since we are using log preferences. In fact, if you inspect the analytical solution for $\\gamma = 1$, you will see that period-1 consumption is independent of the interest rate _for a given_ $Y$. However, in our setting, total lifetime income decreases as the interest rate increases, so period-1 consumption decreases as well.\n",
    "\n",
    "In the following mini-exercise, you are asked to investigate the relationship if there is no income in period 2 and hence lifetime income does not depend on $r$.\n"
   ]
  },
  {
   "cell_type": "markdown",
   "metadata": {},
   "source": [
    "<div class=\"alert alert-info\">\n",
    "<h3> Your turn</h3>\n",
    "\n",
    "Assume that the household is retired in period 2 and therefore does not receive any\n",
    "labor income, y<sub>2</sub> = 0.\n",
    "\n",
    "Recompute the solution, leaving the other parameters unchanged. How does period-1 consumption now depend on the interest rate?\n",
    "\n",
    "</div>\n"
   ]
  },
  {
   "cell_type": "markdown",
   "metadata": {},
   "source": []
  }
 ],
 "metadata": {
  "kernelspec": {
   "display_name": "FIE463",
   "language": "python",
   "name": "python3"
  },
  "language_info": {
   "codemirror_mode": {
    "name": "ipython",
    "version": 3
   },
   "file_extension": ".py",
   "mimetype": "text/x-python",
   "name": "python",
   "nbconvert_exporter": "python",
   "pygments_lexer": "ipython3",
   "version": "3.12.8"
  }
 },
 "nbformat": 4,
 "nbformat_minor": 2
}
